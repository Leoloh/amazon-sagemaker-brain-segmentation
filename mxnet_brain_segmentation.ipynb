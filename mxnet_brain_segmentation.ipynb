{
 "cells": [
  {
   "cell_type": "markdown",
   "metadata": {},
   "source": [
    "## Upload data"
   ]
  },
  {
   "cell_type": "code",
   "execution_count": 216,
   "metadata": {},
   "outputs": [],
   "source": [
    "import sagemaker\n",
    "from sagemaker import get_execution_role\n",
    "import numpy as np\n",
    "from PIL import Image\n",
    "import os\n",
    "import time\n",
    "import matplotlib.pyplot as plt\n",
    "%matplotlib inline\n",
    "\n",
    "sagemaker_session = sagemaker.Session()\n",
    "role = get_execution_role()"
   ]
  },
  {
   "cell_type": "code",
   "execution_count": 217,
   "metadata": {},
   "outputs": [
    {
     "name": "stderr",
     "output_type": "stream",
     "text": [
      "INFO:sagemaker:Created S3 bucket: sagemaker-us-east-1-288000045208\n"
     ]
    }
   ],
   "source": [
    "data_dir = \"/home/ec2-user/SageMaker/efs/data\"\n",
    "data_bucket = sagemaker_session.upload_data(path=os.path.join(data_dir,'brain-segmentation'), key_prefix='brain-segmentation')"
   ]
  },
  {
   "cell_type": "code",
   "execution_count": 177,
   "metadata": {},
   "outputs": [],
   "source": [
    "sample_train_s3 = sagemaker.s3_input(s3_data=os.path.join(data_bucket, \"sample-train\"), distribution='FullyReplicated')\n",
    "sample_validation_s3 = sagemaker.s3_input(s3_data=os.path.join(data_bucket, \"sample-validation\"), distribution='FullyReplicated')\n",
    "train_s3 = sagemaker.s3_input(s3_data=os.path.join(data_bucket, \"train\"), distribution='FullyReplicated')\n",
    "validation_s3 = sagemaker.s3_input(s3_data=os.path.join(data_bucket, \"validation\"), distribution='FullyReplicated')\n",
    "distributed_train_s3 = sagemaker.s3_input(s3_data=os.path.join(data_bucket, \"distributed-training\"), distribution='ShardedByS3Key')"
   ]
  },
  {
   "cell_type": "markdown",
   "metadata": {},
   "source": [
    "## Test Input"
   ]
  },
  {
   "cell_type": "code",
   "execution_count": 178,
   "metadata": {},
   "outputs": [],
   "source": [
    "test_brain = np.array(Image.open(\"test.png\"))[np.newaxis,np.newaxis,:]"
   ]
  },
  {
   "cell_type": "code",
   "execution_count": 179,
   "metadata": {},
   "outputs": [
    {
     "data": {
      "text/plain": [
       "(1, 1, 176, 208)"
      ]
     },
     "execution_count": 179,
     "metadata": {},
     "output_type": "execute_result"
    }
   ],
   "source": [
    "test_brain.shape"
   ]
  },
  {
   "cell_type": "markdown",
   "metadata": {},
   "source": [
    "## Local Mode"
   ]
  },
  {
   "cell_type": "code",
   "execution_count": null,
   "metadata": {
    "scrolled": false
   },
   "outputs": [],
   "source": [
    "!wget https://raw.githubusercontent.com/awslabs/amazon-sagemaker-examples/master/sagemaker-python-sdk/mxnet_gluon_mnist/setup.sh"
   ]
  },
  {
   "cell_type": "code",
   "execution_count": null,
   "metadata": {},
   "outputs": [],
   "source": [
    "!/bin/bash ./setup.sh"
   ]
  },
  {
   "cell_type": "code",
   "execution_count": 218,
   "metadata": {},
   "outputs": [],
   "source": [
    "local_unet_job = 'DEMO-local-unet-job-' + time.strftime(\"%Y-%m-%d-%H-%M-%S\", time.gmtime())"
   ]
  },
  {
   "cell_type": "code",
   "execution_count": 219,
   "metadata": {},
   "outputs": [],
   "source": [
    "from sagemaker.mxnet import MXNet\n",
    "\n",
    "local_estimator = MXNet(entry_point='brain_segmentation.py',\n",
    "                            base_job_name = local_unet_job,\n",
    "                            source_dir = 'source_dir',\n",
    "                            role=role,\n",
    "                            train_instance_count=1, \n",
    "                            train_instance_type='local',\n",
    "                            hyperparameters={\n",
    "                                'learning_rate': 1E-3 * 16,\n",
    "                                'class_weights': [[ 1.35, 17.18,  8.29, 12.42]],\n",
    "                                'network':'unet',\n",
    "                                'batch_size': 8,\n",
    "                                'epochs':1\n",
    "                        })"
   ]
  },
  {
   "cell_type": "code",
   "execution_count": 220,
   "metadata": {
    "scrolled": false
   },
   "outputs": [
    {
     "name": "stderr",
     "output_type": "stream",
     "text": [
      "INFO:sagemaker:Created S3 bucket: sagemaker-us-east-1-288000045208\n",
      "INFO:sagemaker:Creating training-job with name: DEMO-local-unet-job-2018-06-15-00-54-03-2018-06-15-00-54-04-016\n"
     ]
    },
    {
     "name": "stdout",
     "output_type": "stream",
     "text": [
      "Attaching to tmpbhi8mg_algo-1-4BKIN_1\n",
      "\u001b[36malgo-1-4BKIN_1  |\u001b[0m 2018-06-15 00:54:06,316 INFO - root - running container entrypoint\n",
      "\u001b[36malgo-1-4BKIN_1  |\u001b[0m 2018-06-15 00:54:06,317 INFO - root - starting train task\n",
      "\u001b[36malgo-1-4BKIN_1  |\u001b[0m 2018-06-15 00:54:06,325 INFO - container_support.training - Training starting\n",
      "\u001b[36malgo-1-4BKIN_1  |\u001b[0m 2018-06-15 00:54:06,827 INFO - mxnet_container.train - MXNetTrainingEnvironment: {'enable_cloudwatch_metrics': False, 'available_gpus': 0, 'channels': {u'test': {u'ContentType': u'application/octet-stream'}, u'train': {u'ContentType': u'application/octet-stream'}}, '_ps_verbose': 0, 'resource_config': {u'current_host': u'algo-1-4BKIN', u'hosts': [u'algo-1-4BKIN']}, 'user_script_name': u'brain_segmentation.py', 'input_config_dir': '/opt/ml/input/config', 'channel_dirs': {u'test': u'/opt/ml/input/data/test', u'train': u'/opt/ml/input/data/train'}, 'code_dir': '/opt/ml/code', 'output_data_dir': '/opt/ml/output/data/', 'output_dir': '/opt/ml/output', 'model_dir': '/opt/ml/model', 'hyperparameters': {u'sagemaker_program': u'brain_segmentation.py', u'network': u'unet', u'class_weights': [[1.35, 17.18, 8.29, 12.42]], u'learning_rate': 0.016, u'batch_size': 8, u'epochs': 1, u'sagemaker_submit_directory': u's3://sagemaker-us-east-1-288000045208/DEMO-local-unet-job-2018-06-15-00-54-03-2018-06-15-00-54-04-016/source/sourcedir.tar.gz', u'sagemaker_region': u'us-east-1', u'sagemaker_enable_cloudwatch_metrics': False, u'sagemaker_job_name': u'DEMO-local-unet-job-2018-06-15-00-54-03-2018-06-15-00-54-04-016', u'sagemaker_container_log_level': 20}, 'hosts': [u'algo-1-4BKIN'], 'job_name': None, '_ps_port': 8000, 'user_script_archive': u's3://sagemaker-us-east-1-288000045208/DEMO-local-unet-job-2018-06-15-00-54-03-2018-06-15-00-54-04-016/source/sourcedir.tar.gz', '_scheduler_host': u'algo-1-4BKIN', 'sagemaker_region': u'us-east-1', '_scheduler_ip': '172.18.0.3', 'input_dir': '/opt/ml/input', 'user_requirements_file': None, 'current_host': u'algo-1-4BKIN', 'container_log_level': 20, 'available_cpus': 64, 'base_dir': '/opt/ml'}\n",
      "\u001b[36malgo-1-4BKIN_1  |\u001b[0m Downloading s3://sagemaker-us-east-1-288000045208/DEMO-local-unet-job-2018-06-15-00-54-03-2018-06-15-00-54-04-016/source/sourcedir.tar.gz to /tmp/script.tar.gz\n",
      "\u001b[36malgo-1-4BKIN_1  |\u001b[0m 2018-06-15 00:54:06,843 INFO - botocore.vendored.requests.packages.urllib3.connectionpool - Starting new HTTP connection (1): 169.254.169.254\n",
      "\u001b[36malgo-1-4BKIN_1  |\u001b[0m 2018-06-15 00:54:06,846 INFO - botocore.vendored.requests.packages.urllib3.connectionpool - Starting new HTTP connection (1): 169.254.169.254\n",
      "\u001b[36malgo-1-4BKIN_1  |\u001b[0m 2018-06-15 00:54:06,917 INFO - botocore.vendored.requests.packages.urllib3.connectionpool - Starting new HTTPS connection (1): sagemaker-us-east-1-288000045208.s3.amazonaws.com\n",
      "\u001b[36malgo-1-4BKIN_1  |\u001b[0m 2018-06-15 00:54:07,035 INFO - mxnet_container.train - Starting distributed training task\n",
      "\u001b[36malgo-1-4BKIN_1  |\u001b[0m 1.1.0\n",
      "\u001b[36malgo-1-4BKIN_1  |\u001b[0m Sym loaded\n",
      "\u001b[36malgo-1-4BKIN_1  |\u001b[0m Starting fit\n",
      "\u001b[36malgo-1-4BKIN_1  |\u001b[0m MKL Build:20171227\n",
      "\u001b[36malgo-1-4BKIN_1  |\u001b[0m 2018-06-15 00:54:14,719 INFO - root - Epoch[0] Train-avg_dice_coef_metric=0.884984\n",
      "\u001b[36malgo-1-4BKIN_1  |\u001b[0m 2018-06-15 00:54:14,719 INFO - root - Epoch[0] Time cost=7.460\n",
      "\u001b[36malgo-1-4BKIN_1  |\u001b[0m 2018-06-15 00:54:46,463 INFO - root - Epoch[0] Validation-avg_dice_coef_metric=0.967111\n",
      "\u001b[36mtmpbhi8mg_algo-1-4BKIN_1 exited with code 0\n",
      "\u001b[0mAborting on container exit...\n",
      "===== Job Complete =====\n"
     ]
    }
   ],
   "source": [
    "local_estimator.fit({'train':sample_train_s3, 'test':sample_validation_s3})"
   ]
  },
  {
   "cell_type": "code",
   "execution_count": 221,
   "metadata": {},
   "outputs": [],
   "source": [
    "local_unet_endpoint = 'DEMO-local-unet-endpoint-' + time.strftime(\"%Y-%m-%d-%H-%M-%S\", time.gmtime())"
   ]
  },
  {
   "cell_type": "code",
   "execution_count": 222,
   "metadata": {},
   "outputs": [
    {
     "name": "stderr",
     "output_type": "stream",
     "text": [
      "INFO:sagemaker:Creating model with name: DEMO-local-unet-job-2018-06-15-00-54-03-2018-06-15-00-54-04-016\n",
      "INFO:sagemaker:Creating endpoint with name DEMO-local-unet-endpoint-2018-06-15-01-18-37\n"
     ]
    },
    {
     "name": "stdout",
     "output_type": "stream",
     "text": [
      "!"
     ]
    }
   ],
   "source": [
    "local_predictor = local_estimator.deploy(initial_instance_count=1, instance_type='local',\n",
    "                                         endpoint_name=local_unet_endpoint)"
   ]
  },
  {
   "cell_type": "code",
   "execution_count": 223,
   "metadata": {},
   "outputs": [
    {
     "data": {
      "text/plain": [
       "<matplotlib.image.AxesImage at 0x7faf6f5a9d90>"
      ]
     },
     "execution_count": 223,
     "metadata": {},
     "output_type": "execute_result"
    },
    {
     "data": {
      "image/png": "[encoded data removed]",
      "text/plain": [
       "<matplotlib.figure.Figure at 0x7faf57eaab50>"
      ]
     },
     "metadata": {},
     "output_type": "display_data"
    }
   ],
   "source": [
    "response = local_predictor.predict(test_brain.tolist())\n",
    "output = np.argmax(np.array(response), axis=(1))[0].astype(np.uint8)\n",
    "plt.imshow(output)"
   ]
  },
  {
   "cell_type": "markdown",
   "metadata": {},
   "source": [
    "## UNet - 1 Machine"
   ]
  },
  {
   "cell_type": "code",
   "execution_count": 224,
   "metadata": {},
   "outputs": [],
   "source": [
    "unet_single_machine_job = 'DEMO-unet-single-machine-job-' + time.strftime(\"%Y-%m-%d-%H-%M-%S\", time.gmtime())"
   ]
  },
  {
   "cell_type": "code",
   "execution_count": 225,
   "metadata": {
    "scrolled": true
   },
   "outputs": [],
   "source": [
    "unet_single_machine_estimator = MXNet(entry_point='brain_segmentation.py',\n",
    "                                                base_job_name = unet_single_machine_job,\n",
    "                                                source_dir = 'source_dir',\n",
    "                                                role=role,\n",
    "                                                train_instance_count=1, \n",
    "                                                train_instance_type='ml.p3.2xlarge',\n",
    "                                                hyperparameters={\n",
    "                                                    'learning_rate': 1E-3,\n",
    "                                                    'class_weights': [[ 1.35, 17.18,  8.29, 12.42]],\n",
    "                                                    'network':'unet',\n",
    "                                                    'batch_size': 32,\n",
    "                                            })"
   ]
  },
  {
   "cell_type": "code",
   "execution_count": 226,
   "metadata": {
    "scrolled": true
   },
   "outputs": [
    {
     "name": "stderr",
     "output_type": "stream",
     "text": [
      "INFO:sagemaker:Created S3 bucket: sagemaker-us-east-1-288000045208\n",
      "INFO:sagemaker:Creating training-job with name: DEMO-unet-single-machine-job-2018-06-15-2018-06-15-01-18-49-169\n"
     ]
    },
    {
     "name": "stdout",
     "output_type": "stream",
     "text": [
      "..........................\n",
      "\u001b[31m2018-06-15 01:22:58,302 INFO - root - running container entrypoint\u001b[0m\n",
      "\u001b[31m2018-06-15 01:22:58,302 INFO - root - starting train task\u001b[0m\n",
      "\u001b[31m2018-06-15 01:22:58,322 INFO - container_support.training - Training starting\u001b[0m\n",
      "\u001b[31m2018-06-15 01:23:00,666 INFO - mxnet_container.train - MXNetTrainingEnvironment: {'enable_cloudwatch_metrics': False, 'available_gpus': 1, 'channels': {u'test': {u'TrainingInputMode': u'File', u'RecordWrapperType': u'None', u'S3DistributionType': u'FullyReplicated'}, u'train': {u'TrainingInputMode': u'File', u'RecordWrapperType': u'None', u'S3DistributionType': u'FullyReplicated'}}, '_ps_verbose': 0, 'resource_config': {u'current_host': u'algo-1', u'network_interface_name': u'ethwe', u'hosts': [u'algo-1']}, 'user_script_name': u'brain_segmentation.py', 'input_config_dir': '/opt/ml/input/config', 'channel_dirs': {u'test': u'/opt/ml/input/data/test', u'train': u'/opt/ml/input/data/train'}, 'code_dir': '/opt/ml/code', 'output_data_dir': '/opt/ml/output/data/', 'output_dir': '/opt/ml/output', 'model_dir': '/opt/ml/model', 'hyperparameters': {u'sagemaker_program': u'brain_segmentation.py', u'network': u'unet', u'class_weights': [[1.35, 17.18, 8.29, 12.42]], u'learning_rate': 0.001, u'batch_size': 32, u'sagemaker_submit_directory': u's3://sagemaker-us-east-1-288000045208/DEMO-unet-single-machine-job-2018-06-15-2018-06-15-01-18-49-169/source/sourcedir.tar.gz', u'sagemaker_region': u'us-east-1', u'sagemaker_enable_cloudwatch_metrics': False, u'sagemaker_job_name': u'DEMO-unet-single-machine-job-2018-06-15-2018-06-15-01-18-49-169', u'sagemaker_container_log_level': 20}, 'hosts': [u'algo-1'], 'job_name': 'DEMO-unet-single-machine-job-2018-06-15-2018-06-15-01-18-49-169', '_ps_port': 8000, 'user_script_archive': u's3://sagemaker-us-east-1-288000045208/DEMO-unet-single-machine-job-2018-06-15-2018-06-15-01-18-49-169/source/sourcedir.tar.gz', '_scheduler_host': u'algo-1', 'sagemaker_region': u'us-east-1', '_scheduler_ip': '10.32.0.4', 'input_dir': '/opt/ml/input', 'user_requirements_file': None, 'current_host': u'algo-1', 'container_log_level': 20, 'available_cpus': 8, 'base_dir': '/opt/ml'}\u001b[0m\n",
      "\u001b[31mDownloading s3://sagemaker-us-east-1-288000045208/DEMO-unet-single-machine-job-2018-06-15-2018-06-15-01-18-49-169/source/sourcedir.tar.gz to /tmp/script.tar.gz\u001b[0m\n",
      "\u001b[31m2018-06-15 01:23:00,766 INFO - botocore.vendored.requests.packages.urllib3.connectionpool - Starting new HTTP connection (1): 169.254.170.2\u001b[0m\n",
      "\u001b[31m2018-06-15 01:23:00,880 INFO - botocore.vendored.requests.packages.urllib3.connectionpool - Starting new HTTPS connection (1): sagemaker-us-east-1-288000045208.s3.amazonaws.com\u001b[0m\n",
      "\u001b[31m2018-06-15 01:23:01,004 INFO - mxnet_container.train - Starting distributed training task\u001b[0m\n",
      "\u001b[31m1.1.0\u001b[0m\n",
      "\u001b[31mSym loaded\u001b[0m\n",
      "\u001b[31mStarting fit\u001b[0m\n",
      "\u001b[31m[01:23:11] src/operator/nn/./cudnn/./cudnn_algoreg-inl.h:107: Running performance tests to find the best convolution algorithm, this can take a while... (setting env variable MXNET_CUDNN_AUTOTUNE_DEFAULT to 0 to disable)\u001b[0m\n",
      "\u001b[31m[01:23:11] src/operator/nn/./cudnn/./cudnn_algoreg-inl.h:107: Running performance tests to find the best convolution algorithm, this can take a while... (setting env variable MXNET_CUDNN_AUTOTUNE_DEFAULT to 0 to disable)\u001b[0m\n",
      "\u001b[31m2018-06-15 01:23:25,813 INFO - root - Epoch[0] Train-avg_dice_coef_metric=0.471748\u001b[0m\n",
      "\u001b[31m2018-06-15 01:23:25,813 INFO - root - Epoch[0] Time cost=13.106\u001b[0m\n",
      "\u001b[31m2018-06-15 01:23:27,935 INFO - root - Epoch[0] Validation-avg_dice_coef_metric=0.371492\u001b[0m\n",
      "\u001b[31m2018-06-15 01:23:40,982 INFO - root - Epoch[1] Train-avg_dice_coef_metric=0.343973\u001b[0m\n",
      "\u001b[31m2018-06-15 01:23:40,982 INFO - root - Epoch[1] Time cost=13.047\u001b[0m\n",
      "\u001b[31m2018-06-15 01:23:43,267 INFO - root - Epoch[1] Validation-avg_dice_coef_metric=0.336017\u001b[0m\n",
      "\u001b[31m2018-06-15 01:23:56,224 INFO - root - Epoch[2] Train-avg_dice_coef_metric=0.322141\u001b[0m\n",
      "\u001b[31m2018-06-15 01:23:56,224 INFO - root - Epoch[2] Time cost=12.957\u001b[0m\n",
      "\u001b[31m2018-06-15 01:23:58,437 INFO - root - Epoch[2] Validation-avg_dice_coef_metric=0.308839\u001b[0m\n",
      "\u001b[31m2018-06-15 01:24:11,620 INFO - root - Epoch[3] Train-avg_dice_coef_metric=0.296630\u001b[0m\n",
      "\u001b[31m2018-06-15 01:24:11,620 INFO - root - Epoch[3] Time cost=13.183\u001b[0m\n",
      "\u001b[31m2018-06-15 01:24:13,800 INFO - root - Epoch[3] Validation-avg_dice_coef_metric=0.411461\u001b[0m\n",
      "\u001b[31m2018-06-15 01:24:26,805 INFO - root - Epoch[4] Train-avg_dice_coef_metric=0.169744\u001b[0m\n",
      "\u001b[31m2018-06-15 01:24:26,805 INFO - root - Epoch[4] Time cost=13.005\u001b[0m\n",
      "\u001b[31m2018-06-15 01:24:29,072 INFO - root - Epoch[4] Validation-avg_dice_coef_metric=0.153664\u001b[0m\n",
      "\u001b[31m2018-06-15 01:24:42,145 INFO - root - Epoch[5] Train-avg_dice_coef_metric=0.150049\u001b[0m\n",
      "\u001b[31m2018-06-15 01:24:42,145 INFO - root - Epoch[5] Time cost=13.073\u001b[0m\n",
      "\u001b[31m2018-06-15 01:24:44,330 INFO - root - Epoch[5] Validation-avg_dice_coef_metric=0.202943\u001b[0m\n",
      "\u001b[31m2018-06-15 01:24:57,729 INFO - root - Epoch[6] Train-avg_dice_coef_metric=0.142408\u001b[0m\n",
      "\u001b[31m2018-06-15 01:24:57,729 INFO - root - Epoch[6] Time cost=13.398\u001b[0m\n",
      "\u001b[31m2018-06-15 01:25:00,075 INFO - root - Epoch[6] Validation-avg_dice_coef_metric=0.139921\u001b[0m\n",
      "\u001b[31m2018-06-15 01:25:13,208 INFO - root - Epoch[7] Train-avg_dice_coef_metric=0.142661\u001b[0m\n",
      "\u001b[31m2018-06-15 01:25:13,208 INFO - root - Epoch[7] Time cost=13.133\u001b[0m\n",
      "\u001b[31m2018-06-15 01:25:15,418 INFO - root - Epoch[7] Validation-avg_dice_coef_metric=0.335273\u001b[0m\n",
      "\u001b[31m2018-06-15 01:25:28,477 INFO - root - Epoch[8] Train-avg_dice_coef_metric=0.148106\u001b[0m\n",
      "\u001b[31m2018-06-15 01:25:28,477 INFO - root - Epoch[8] Time cost=13.060\u001b[0m\n",
      "\u001b[31m2018-06-15 01:25:30,714 INFO - root - Epoch[8] Validation-avg_dice_coef_metric=0.149512\u001b[0m\n",
      "\u001b[31m2018-06-15 01:25:43,665 INFO - root - Epoch[9] Train-avg_dice_coef_metric=0.146459\u001b[0m\n",
      "\u001b[31m2018-06-15 01:25:43,665 INFO - root - Epoch[9] Time cost=12.951\u001b[0m\n",
      "\u001b[31m2018-06-15 01:25:45,922 INFO - root - Epoch[9] Validation-avg_dice_coef_metric=0.160342\u001b[0m\n",
      "\u001b[31m2018-06-15 01:25:59,088 INFO - root - Epoch[10] Train-avg_dice_coef_metric=0.144290\u001b[0m\n",
      "\u001b[31m2018-06-15 01:25:59,088 INFO - root - Epoch[10] Time cost=13.166\u001b[0m\n",
      "\u001b[31m2018-06-15 01:26:01,310 INFO - root - Epoch[10] Validation-avg_dice_coef_metric=0.140765\u001b[0m\n",
      "\u001b[31m2018-06-15 01:26:14,657 INFO - root - Epoch[11] Train-avg_dice_coef_metric=0.134574\u001b[0m\n",
      "\u001b[31m2018-06-15 01:26:14,657 INFO - root - Epoch[11] Time cost=13.347\u001b[0m\n",
      "\u001b[31m2018-06-15 01:26:16,925 INFO - root - Epoch[11] Validation-avg_dice_coef_metric=0.158484\u001b[0m\n",
      "\u001b[31m2018-06-15 01:26:29,994 INFO - root - Epoch[12] Train-avg_dice_coef_metric=0.134384\u001b[0m\n",
      "\u001b[31m2018-06-15 01:26:29,994 INFO - root - Epoch[12] Time cost=13.069\u001b[0m\n",
      "\u001b[31m2018-06-15 01:26:32,362 INFO - root - Epoch[12] Validation-avg_dice_coef_metric=0.138020\u001b[0m\n",
      "\u001b[31m2018-06-15 01:26:45,382 INFO - root - Epoch[13] Train-avg_dice_coef_metric=0.127936\u001b[0m\n",
      "\u001b[31m2018-06-15 01:26:45,382 INFO - root - Epoch[13] Time cost=13.020\u001b[0m\n",
      "\u001b[31m2018-06-15 01:26:47,669 INFO - root - Epoch[13] Validation-avg_dice_coef_metric=0.136362\u001b[0m\n",
      "\u001b[31m2018-06-15 01:27:00,826 INFO - root - Epoch[14] Train-avg_dice_coef_metric=0.128599\u001b[0m\n",
      "\u001b[31m2018-06-15 01:27:00,826 INFO - root - Epoch[14] Time cost=13.157\u001b[0m\n",
      "\u001b[31m2018-06-15 01:27:03,061 INFO - root - Epoch[14] Validation-avg_dice_coef_metric=0.143564\u001b[0m\n",
      "\u001b[31m2018-06-15 01:27:16,282 INFO - root - Epoch[15] Train-avg_dice_coef_metric=0.130218\u001b[0m\n",
      "\u001b[31m2018-06-15 01:27:16,282 INFO - root - Epoch[15] Time cost=13.221\u001b[0m\n",
      "\u001b[31m2018-06-15 01:27:18,551 INFO - root - Epoch[15] Validation-avg_dice_coef_metric=0.130792\u001b[0m\n",
      "\u001b[31m2018-06-15 01:27:31,615 INFO - root - Epoch[16] Train-avg_dice_coef_metric=0.135130\u001b[0m\n",
      "\u001b[31m2018-06-15 01:27:31,616 INFO - root - Epoch[16] Time cost=13.064\u001b[0m\n",
      "\u001b[31m2018-06-15 01:27:33,904 INFO - root - Epoch[16] Validation-avg_dice_coef_metric=0.131155\u001b[0m\n",
      "\u001b[31m2018-06-15 01:27:46,990 INFO - root - Epoch[17] Train-avg_dice_coef_metric=0.128967\u001b[0m\n",
      "\u001b[31m2018-06-15 01:27:46,991 INFO - root - Epoch[17] Time cost=13.086\u001b[0m\n",
      "\u001b[31m2018-06-15 01:27:49,309 INFO - root - Epoch[17] Validation-avg_dice_coef_metric=0.143825\u001b[0m\n",
      "\u001b[31m2018-06-15 01:28:02,428 INFO - root - Epoch[18] Train-avg_dice_coef_metric=0.126667\u001b[0m\n",
      "\u001b[31m2018-06-15 01:28:02,428 INFO - root - Epoch[18] Time cost=13.119\u001b[0m\n",
      "\u001b[31m2018-06-15 01:28:04,835 INFO - root - Epoch[18] Validation-avg_dice_coef_metric=0.142640\u001b[0m\n"
     ]
    },
    {
     "name": "stdout",
     "output_type": "stream",
     "text": [
      "\u001b[31m2018-06-15 01:28:18,063 INFO - root - Epoch[19] Train-avg_dice_coef_metric=0.123044\u001b[0m\n",
      "\u001b[31m2018-06-15 01:28:18,063 INFO - root - Epoch[19] Time cost=13.228\u001b[0m\n",
      "\u001b[31m2018-06-15 01:28:20,454 INFO - root - Epoch[19] Validation-avg_dice_coef_metric=0.123405\u001b[0m\n",
      "\u001b[31m2018-06-15 01:28:33,613 INFO - root - Epoch[20] Train-avg_dice_coef_metric=0.121005\u001b[0m\n",
      "\u001b[31m2018-06-15 01:28:33,613 INFO - root - Epoch[20] Time cost=13.159\u001b[0m\n",
      "\u001b[31m2018-06-15 01:28:35,846 INFO - root - Epoch[20] Validation-avg_dice_coef_metric=0.129375\u001b[0m\n",
      "\u001b[31m2018-06-15 01:28:48,912 INFO - root - Epoch[21] Train-avg_dice_coef_metric=0.118891\u001b[0m\n",
      "\u001b[31m2018-06-15 01:28:48,912 INFO - root - Epoch[21] Time cost=13.066\u001b[0m\n",
      "\u001b[31m2018-06-15 01:28:51,171 INFO - root - Epoch[21] Validation-avg_dice_coef_metric=0.123663\u001b[0m\n",
      "\u001b[31m2018-06-15 01:29:04,227 INFO - root - Epoch[22] Train-avg_dice_coef_metric=0.117368\u001b[0m\n",
      "\u001b[31m2018-06-15 01:29:04,227 INFO - root - Epoch[22] Time cost=13.056\u001b[0m\n",
      "\u001b[31m2018-06-15 01:29:06,519 INFO - root - Epoch[22] Validation-avg_dice_coef_metric=0.127605\u001b[0m\n",
      "\u001b[31m2018-06-15 01:29:19,694 INFO - root - Epoch[23] Train-avg_dice_coef_metric=0.119599\u001b[0m\n",
      "\u001b[31m2018-06-15 01:29:19,694 INFO - root - Epoch[23] Time cost=13.174\u001b[0m\n",
      "\u001b[31m2018-06-15 01:29:21,977 INFO - root - Epoch[23] Validation-avg_dice_coef_metric=0.123706\u001b[0m\n",
      "\u001b[31m2018-06-15 01:29:35,050 INFO - root - Epoch[24] Train-avg_dice_coef_metric=0.130296\u001b[0m\n",
      "\u001b[31m2018-06-15 01:29:35,051 INFO - root - Epoch[24] Time cost=13.073\u001b[0m\n",
      "\u001b[31m2018-06-15 01:29:37,373 INFO - root - Epoch[24] Validation-avg_dice_coef_metric=0.170968\u001b[0m\n",
      "\u001b[31m2018-06-15 01:29:50,487 INFO - root - Epoch[25] Train-avg_dice_coef_metric=0.124818\u001b[0m\n",
      "\u001b[31m2018-06-15 01:29:50,488 INFO - root - Epoch[25] Time cost=13.115\u001b[0m\n",
      "\u001b[31m2018-06-15 01:29:52,735 INFO - root - Epoch[25] Validation-avg_dice_coef_metric=0.123199\u001b[0m\n",
      "\u001b[31m2018-06-15 01:30:05,824 INFO - root - Epoch[26] Train-avg_dice_coef_metric=0.115810\u001b[0m\n",
      "\u001b[31m2018-06-15 01:30:05,824 INFO - root - Epoch[26] Time cost=13.090\u001b[0m\n",
      "\u001b[31m2018-06-15 01:30:08,138 INFO - root - Epoch[26] Validation-avg_dice_coef_metric=0.121677\u001b[0m\n",
      "\u001b[31m2018-06-15 01:30:21,394 INFO - root - Epoch[27] Train-avg_dice_coef_metric=0.116278\u001b[0m\n",
      "\u001b[31m2018-06-15 01:30:21,394 INFO - root - Epoch[27] Time cost=13.257\u001b[0m\n",
      "\u001b[31m2018-06-15 01:30:23,635 INFO - root - Epoch[27] Validation-avg_dice_coef_metric=0.120038\u001b[0m\n",
      "\u001b[31m2018-06-15 01:30:37,068 INFO - root - Epoch[28] Train-avg_dice_coef_metric=0.111604\u001b[0m\n",
      "\u001b[31m2018-06-15 01:30:37,068 INFO - root - Epoch[28] Time cost=13.433\u001b[0m\n",
      "\u001b[31m2018-06-15 01:30:39,307 INFO - root - Epoch[28] Validation-avg_dice_coef_metric=0.128974\u001b[0m\n",
      "\u001b[31m2018-06-15 01:30:52,393 INFO - root - Epoch[29] Train-avg_dice_coef_metric=0.114620\u001b[0m\n",
      "\u001b[31m2018-06-15 01:30:52,393 INFO - root - Epoch[29] Time cost=13.086\u001b[0m\n",
      "\u001b[31m2018-06-15 01:30:54,786 INFO - root - Epoch[29] Validation-avg_dice_coef_metric=0.124084\u001b[0m\n",
      "\u001b[31m2018-06-15 01:31:07,802 INFO - root - Epoch[30] Train-avg_dice_coef_metric=0.111829\u001b[0m\n",
      "\u001b[31m2018-06-15 01:31:07,802 INFO - root - Epoch[30] Time cost=13.015\u001b[0m\n",
      "\u001b[31m2018-06-15 01:31:10,032 INFO - root - Epoch[30] Validation-avg_dice_coef_metric=0.121039\u001b[0m\n",
      "\u001b[31m2018-06-15 01:31:23,258 INFO - root - Epoch[31] Train-avg_dice_coef_metric=0.116001\u001b[0m\n",
      "\u001b[31m2018-06-15 01:31:23,258 INFO - root - Epoch[31] Time cost=13.225\u001b[0m\n",
      "\u001b[31m2018-06-15 01:31:25,660 INFO - root - Epoch[31] Validation-avg_dice_coef_metric=0.136382\u001b[0m\n",
      "\u001b[31m2018-06-15 01:31:38,826 INFO - root - Epoch[32] Train-avg_dice_coef_metric=0.114713\u001b[0m\n",
      "\u001b[31m2018-06-15 01:31:38,826 INFO - root - Epoch[32] Time cost=13.165\u001b[0m\n",
      "\u001b[31m2018-06-15 01:31:41,075 INFO - root - Epoch[32] Validation-avg_dice_coef_metric=0.115429\u001b[0m\n",
      "\u001b[31m2018-06-15 01:31:54,182 INFO - root - Epoch[33] Train-avg_dice_coef_metric=0.113581\u001b[0m\n",
      "\u001b[31m2018-06-15 01:31:54,182 INFO - root - Epoch[33] Time cost=13.108\u001b[0m\n",
      "\u001b[31m2018-06-15 01:31:56,522 INFO - root - Epoch[33] Validation-avg_dice_coef_metric=0.121662\u001b[0m\n",
      "\u001b[31m2018-06-15 01:32:09,581 INFO - root - Epoch[34] Train-avg_dice_coef_metric=0.122226\u001b[0m\n",
      "\u001b[31m2018-06-15 01:32:09,582 INFO - root - Epoch[34] Time cost=13.059\u001b[0m\n",
      "\u001b[31m2018-06-15 01:32:11,793 INFO - root - Epoch[34] Validation-avg_dice_coef_metric=0.125280\u001b[0m\n",
      "\u001b[31m2018-06-15 01:32:24,957 INFO - root - Epoch[35] Train-avg_dice_coef_metric=0.113140\u001b[0m\n",
      "\u001b[31m2018-06-15 01:32:24,957 INFO - root - Epoch[35] Time cost=13.164\u001b[0m\n",
      "\u001b[31m2018-06-15 01:32:27,211 INFO - root - Epoch[35] Validation-avg_dice_coef_metric=0.115253\u001b[0m\n",
      "\u001b[31m2018-06-15 01:32:40,274 INFO - root - Epoch[36] Train-avg_dice_coef_metric=0.115784\u001b[0m\n",
      "\u001b[31m2018-06-15 01:32:40,274 INFO - root - Epoch[36] Time cost=13.063\u001b[0m\n",
      "\u001b[31m2018-06-15 01:32:42,528 INFO - root - Epoch[36] Validation-avg_dice_coef_metric=0.138577\u001b[0m\n",
      "\u001b[31m2018-06-15 01:32:55,737 INFO - root - Epoch[37] Train-avg_dice_coef_metric=0.116300\u001b[0m\n",
      "\u001b[31m2018-06-15 01:32:55,738 INFO - root - Epoch[37] Time cost=13.209\u001b[0m\n",
      "\u001b[31m2018-06-15 01:32:58,054 INFO - root - Epoch[37] Validation-avg_dice_coef_metric=0.121909\u001b[0m\n",
      "\u001b[31m2018-06-15 01:33:11,155 INFO - root - Epoch[38] Train-avg_dice_coef_metric=0.109309\u001b[0m\n",
      "\u001b[31m2018-06-15 01:33:11,155 INFO - root - Epoch[38] Time cost=13.101\u001b[0m\n",
      "\u001b[31m2018-06-15 01:33:13,422 INFO - root - Epoch[38] Validation-avg_dice_coef_metric=0.117755\u001b[0m\n",
      "\u001b[31m2018-06-15 01:33:26,620 INFO - root - Epoch[39] Train-avg_dice_coef_metric=0.107601\u001b[0m\n",
      "\u001b[31m2018-06-15 01:33:26,620 INFO - root - Epoch[39] Time cost=13.197\u001b[0m\n",
      "\u001b[31m2018-06-15 01:33:28,903 INFO - root - Epoch[39] Validation-avg_dice_coef_metric=0.113742\u001b[0m\n",
      "\u001b[31m2018-06-15 01:33:41,958 INFO - root - Epoch[40] Train-avg_dice_coef_metric=0.106117\u001b[0m\n",
      "\u001b[31m2018-06-15 01:33:41,958 INFO - root - Epoch[40] Time cost=13.054\u001b[0m\n",
      "\u001b[31m2018-06-15 01:33:44,238 INFO - root - Epoch[40] Validation-avg_dice_coef_metric=0.122834\u001b[0m\n",
      "\u001b[31m2018-06-15 01:33:57,305 INFO - root - Epoch[41] Train-avg_dice_coef_metric=0.118598\u001b[0m\n",
      "\u001b[31m2018-06-15 01:33:57,305 INFO - root - Epoch[41] Time cost=13.067\u001b[0m\n",
      "\u001b[31m2018-06-15 01:33:59,584 INFO - root - Epoch[41] Validation-avg_dice_coef_metric=0.121147\u001b[0m\n",
      "\u001b[31m2018-06-15 01:34:12,756 INFO - root - Epoch[42] Train-avg_dice_coef_metric=0.109464\u001b[0m\n",
      "\u001b[31m2018-06-15 01:34:12,756 INFO - root - Epoch[42] Time cost=13.172\u001b[0m\n",
      "\u001b[31m2018-06-15 01:34:15,096 INFO - root - Epoch[42] Validation-avg_dice_coef_metric=0.115105\u001b[0m\n",
      "\u001b[31m2018-06-15 01:34:28,569 INFO - root - Epoch[43] Train-avg_dice_coef_metric=0.105677\u001b[0m\n",
      "\u001b[31m2018-06-15 01:34:28,569 INFO - root - Epoch[43] Time cost=13.473\u001b[0m\n",
      "\u001b[31m2018-06-15 01:34:30,976 INFO - root - Epoch[43] Validation-avg_dice_coef_metric=0.114281\u001b[0m\n",
      "\u001b[31m2018-06-15 01:34:44,079 INFO - root - Epoch[44] Train-avg_dice_coef_metric=0.103219\u001b[0m\n",
      "\u001b[31m2018-06-15 01:34:44,079 INFO - root - Epoch[44] Time cost=13.103\u001b[0m\n",
      "\u001b[31m2018-06-15 01:34:46,405 INFO - root - Epoch[44] Validation-avg_dice_coef_metric=0.119840\u001b[0m\n",
      "\u001b[31m2018-06-15 01:34:59,542 INFO - root - Epoch[45] Train-avg_dice_coef_metric=0.103071\u001b[0m\n",
      "\u001b[31m2018-06-15 01:34:59,542 INFO - root - Epoch[45] Time cost=13.136\u001b[0m\n",
      "\u001b[31m2018-06-15 01:35:01,808 INFO - root - Epoch[45] Validation-avg_dice_coef_metric=0.112837\u001b[0m\n",
      "\u001b[31m2018-06-15 01:35:14,910 INFO - root - Epoch[46] Train-avg_dice_coef_metric=0.106884\u001b[0m\n",
      "\u001b[31m2018-06-15 01:35:14,910 INFO - root - Epoch[46] Time cost=13.101\u001b[0m\n",
      "\u001b[31m2018-06-15 01:35:17,177 INFO - root - Epoch[46] Validation-avg_dice_coef_metric=0.153399\u001b[0m\n",
      "\u001b[31m2018-06-15 01:35:30,414 INFO - root - Epoch[47] Train-avg_dice_coef_metric=0.104565\u001b[0m\n",
      "\u001b[31m2018-06-15 01:35:30,414 INFO - root - Epoch[47] Time cost=13.236\u001b[0m\n",
      "\u001b[31m2018-06-15 01:35:32,714 INFO - root - Epoch[47] Validation-avg_dice_coef_metric=0.112888\u001b[0m\n",
      "\u001b[31m2018-06-15 01:35:45,856 INFO - root - Epoch[48] Train-avg_dice_coef_metric=0.101585\u001b[0m\n",
      "\u001b[31m2018-06-15 01:35:45,856 INFO - root - Epoch[48] Time cost=13.142\u001b[0m\n",
      "\u001b[31m2018-06-15 01:35:48,097 INFO - root - Epoch[48] Validation-avg_dice_coef_metric=0.117424\u001b[0m\n",
      "\u001b[31m2018-06-15 01:36:01,311 INFO - root - Epoch[49] Train-avg_dice_coef_metric=0.105622\u001b[0m\n",
      "\u001b[31m2018-06-15 01:36:01,311 INFO - root - Epoch[49] Time cost=13.213\u001b[0m\n",
      "\u001b[31m2018-06-15 01:36:03,573 INFO - root - Epoch[49] Validation-avg_dice_coef_metric=0.110867\u001b[0m\n"
     ]
    },
    {
     "name": "stdout",
     "output_type": "stream",
     "text": [
      "\u001b[31m2018-06-15 01:36:16,699 INFO - root - Epoch[50] Train-avg_dice_coef_metric=0.104233\u001b[0m\n",
      "\u001b[31m2018-06-15 01:36:16,699 INFO - root - Epoch[50] Time cost=13.126\u001b[0m\n",
      "\u001b[31m2018-06-15 01:36:19,002 INFO - root - Epoch[50] Validation-avg_dice_coef_metric=0.177537\u001b[0m\n",
      "\u001b[31m2018-06-15 01:36:32,274 INFO - root - Epoch[51] Train-avg_dice_coef_metric=0.103856\u001b[0m\n",
      "\u001b[31m2018-06-15 01:36:32,274 INFO - root - Epoch[51] Time cost=13.272\u001b[0m\n",
      "\u001b[31m2018-06-15 01:36:34,575 INFO - root - Epoch[51] Validation-avg_dice_coef_metric=0.114425\u001b[0m\n",
      "\u001b[31m2018-06-15 01:36:47,758 INFO - root - Epoch[52] Train-avg_dice_coef_metric=0.108807\u001b[0m\n",
      "\u001b[31m2018-06-15 01:36:47,759 INFO - root - Epoch[52] Time cost=13.184\u001b[0m\n",
      "\u001b[31m2018-06-15 01:36:50,088 INFO - root - Epoch[52] Validation-avg_dice_coef_metric=0.129261\u001b[0m\n",
      "\u001b[31m2018-06-15 01:37:03,186 INFO - root - Epoch[53] Train-avg_dice_coef_metric=0.106679\u001b[0m\n",
      "\u001b[31m2018-06-15 01:37:03,187 INFO - root - Epoch[53] Time cost=13.098\u001b[0m\n",
      "\u001b[31m2018-06-15 01:37:05,559 INFO - root - Epoch[53] Validation-avg_dice_coef_metric=0.112265\u001b[0m\n",
      "\u001b[31m2018-06-15 01:37:18,647 INFO - root - Epoch[54] Train-avg_dice_coef_metric=0.099644\u001b[0m\n",
      "\u001b[31m2018-06-15 01:37:18,647 INFO - root - Epoch[54] Time cost=13.088\u001b[0m\n",
      "\u001b[31m2018-06-15 01:37:20,892 INFO - root - Epoch[54] Validation-avg_dice_coef_metric=0.118137\u001b[0m\n",
      "\u001b[31m2018-06-15 01:37:34,145 INFO - root - Epoch[55] Train-avg_dice_coef_metric=0.100344\u001b[0m\n",
      "\u001b[31m2018-06-15 01:37:34,145 INFO - root - Epoch[55] Time cost=13.253\u001b[0m\n",
      "\u001b[31m2018-06-15 01:37:36,483 INFO - root - Epoch[55] Validation-avg_dice_coef_metric=0.117983\u001b[0m\n",
      "\u001b[31m2018-06-15 01:37:49,593 INFO - root - Epoch[56] Train-avg_dice_coef_metric=0.098928\u001b[0m\n",
      "\u001b[31m2018-06-15 01:37:49,593 INFO - root - Epoch[56] Time cost=13.110\u001b[0m\n",
      "\u001b[31m2018-06-15 01:37:51,888 INFO - root - Epoch[56] Validation-avg_dice_coef_metric=0.111903\u001b[0m\n",
      "\u001b[31m2018-06-15 01:38:05,117 INFO - root - Epoch[57] Train-avg_dice_coef_metric=0.098351\u001b[0m\n",
      "\u001b[31m2018-06-15 01:38:05,117 INFO - root - Epoch[57] Time cost=13.229\u001b[0m\n",
      "\u001b[31m2018-06-15 01:38:07,372 INFO - root - Epoch[57] Validation-avg_dice_coef_metric=0.117169\u001b[0m\n",
      "\u001b[31m2018-06-15 01:38:20,599 INFO - root - Epoch[58] Train-avg_dice_coef_metric=0.097276\u001b[0m\n",
      "\u001b[31m2018-06-15 01:38:20,600 INFO - root - Epoch[58] Time cost=13.228\u001b[0m\n",
      "\u001b[31m2018-06-15 01:38:22,960 INFO - root - Epoch[58] Validation-avg_dice_coef_metric=0.113549\u001b[0m\n",
      "\u001b[31m2018-06-15 01:38:36,192 INFO - root - Epoch[59] Train-avg_dice_coef_metric=0.097228\u001b[0m\n",
      "\u001b[31m2018-06-15 01:38:36,192 INFO - root - Epoch[59] Time cost=13.232\u001b[0m\n",
      "\u001b[31m2018-06-15 01:38:38,515 INFO - root - Epoch[59] Validation-avg_dice_coef_metric=0.110243\u001b[0m\n",
      "\u001b[31m2018-06-15 01:38:51,652 INFO - root - Epoch[60] Train-avg_dice_coef_metric=0.098304\u001b[0m\n",
      "\u001b[31m2018-06-15 01:38:51,652 INFO - root - Epoch[60] Time cost=13.137\u001b[0m\n",
      "\u001b[31m2018-06-15 01:38:53,926 INFO - root - Epoch[60] Validation-avg_dice_coef_metric=0.112255\u001b[0m\n",
      "\u001b[31m2018-06-15 01:39:06,971 INFO - root - Epoch[61] Train-avg_dice_coef_metric=0.095704\u001b[0m\n",
      "\u001b[31m2018-06-15 01:39:06,972 INFO - root - Epoch[61] Time cost=13.045\u001b[0m\n",
      "\u001b[31m2018-06-15 01:39:09,289 INFO - root - Epoch[61] Validation-avg_dice_coef_metric=0.113474\u001b[0m\n",
      "\u001b[31m2018-06-15 01:39:22,367 INFO - root - Epoch[62] Train-avg_dice_coef_metric=0.094587\u001b[0m\n",
      "\u001b[31m2018-06-15 01:39:22,367 INFO - root - Epoch[62] Time cost=13.078\u001b[0m\n",
      "\u001b[31m2018-06-15 01:39:24,639 INFO - root - Epoch[62] Validation-avg_dice_coef_metric=0.109094\u001b[0m\n",
      "\u001b[31m2018-06-15 01:39:37,869 INFO - root - Epoch[63] Train-avg_dice_coef_metric=0.097325\u001b[0m\n",
      "\u001b[31m2018-06-15 01:39:37,869 INFO - root - Epoch[63] Time cost=13.230\u001b[0m\n",
      "\u001b[31m2018-06-15 01:39:40,315 INFO - root - Epoch[63] Validation-avg_dice_coef_metric=0.110403\u001b[0m\n",
      "\u001b[31m2018-06-15 01:39:53,403 INFO - root - Epoch[64] Train-avg_dice_coef_metric=0.095738\u001b[0m\n",
      "\u001b[31m2018-06-15 01:39:53,403 INFO - root - Epoch[64] Time cost=13.088\u001b[0m\n",
      "\u001b[31m2018-06-15 01:39:55,679 INFO - root - Epoch[64] Validation-avg_dice_coef_metric=0.114928\u001b[0m\n",
      "\u001b[31m2018-06-15 01:40:08,751 INFO - root - Epoch[65] Train-avg_dice_coef_metric=0.096827\u001b[0m\n",
      "\u001b[31m2018-06-15 01:40:08,751 INFO - root - Epoch[65] Time cost=13.072\u001b[0m\n",
      "\u001b[31m2018-06-15 01:40:11,077 INFO - root - Epoch[65] Validation-avg_dice_coef_metric=0.131516\u001b[0m\n",
      "\u001b[31m2018-06-15 01:40:24,053 INFO - root - Epoch[66] Train-avg_dice_coef_metric=0.097548\u001b[0m\n",
      "\u001b[31m2018-06-15 01:40:24,053 INFO - root - Epoch[66] Time cost=12.976\u001b[0m\n",
      "\u001b[31m2018-06-15 01:40:26,349 INFO - root - Epoch[66] Validation-avg_dice_coef_metric=0.142002\u001b[0m\n",
      "\u001b[31m2018-06-15 01:40:39,537 INFO - root - Epoch[67] Train-avg_dice_coef_metric=0.103875\u001b[0m\n",
      "\u001b[31m2018-06-15 01:40:39,537 INFO - root - Epoch[67] Time cost=13.188\u001b[0m\n",
      "\u001b[31m2018-06-15 01:40:41,852 INFO - root - Epoch[67] Validation-avg_dice_coef_metric=0.112541\u001b[0m\n",
      "\u001b[31m2018-06-15 01:40:54,905 INFO - root - Epoch[68] Train-avg_dice_coef_metric=0.095056\u001b[0m\n",
      "\u001b[31m2018-06-15 01:40:54,905 INFO - root - Epoch[68] Time cost=13.052\u001b[0m\n",
      "\u001b[31m2018-06-15 01:40:57,230 INFO - root - Epoch[68] Validation-avg_dice_coef_metric=0.107969\u001b[0m\n",
      "\u001b[31m2018-06-15 01:41:10,296 INFO - root - Epoch[69] Train-avg_dice_coef_metric=0.092853\u001b[0m\n",
      "\u001b[31m2018-06-15 01:41:10,296 INFO - root - Epoch[69] Time cost=13.066\u001b[0m\n",
      "\u001b[31m2018-06-15 01:41:12,649 INFO - root - Epoch[69] Validation-avg_dice_coef_metric=0.106116\u001b[0m\n",
      "\u001b[31m2018-06-15 01:41:25,726 INFO - root - Epoch[70] Train-avg_dice_coef_metric=0.091151\u001b[0m\n",
      "\u001b[31m2018-06-15 01:41:25,726 INFO - root - Epoch[70] Time cost=13.077\u001b[0m\n",
      "\u001b[31m2018-06-15 01:41:27,987 INFO - root - Epoch[70] Validation-avg_dice_coef_metric=0.105275\u001b[0m\n",
      "\u001b[31m2018-06-15 01:41:41,158 INFO - root - Epoch[71] Train-avg_dice_coef_metric=0.090531\u001b[0m\n",
      "\u001b[31m2018-06-15 01:41:41,158 INFO - root - Epoch[71] Time cost=13.171\u001b[0m\n",
      "\u001b[31m2018-06-15 01:41:43,465 INFO - root - Epoch[71] Validation-avg_dice_coef_metric=0.106785\u001b[0m\n",
      "\u001b[31m2018-06-15 01:41:56,566 INFO - root - Epoch[72] Train-avg_dice_coef_metric=0.091335\u001b[0m\n",
      "\u001b[31m2018-06-15 01:41:56,567 INFO - root - Epoch[72] Time cost=13.101\u001b[0m\n",
      "\u001b[31m2018-06-15 01:41:58,887 INFO - root - Epoch[72] Validation-avg_dice_coef_metric=0.125414\u001b[0m\n",
      "\u001b[31m2018-06-15 01:42:12,207 INFO - root - Epoch[73] Train-avg_dice_coef_metric=0.093801\u001b[0m\n",
      "\u001b[31m2018-06-15 01:42:12,207 INFO - root - Epoch[73] Time cost=13.320\u001b[0m\n",
      "\u001b[31m2018-06-15 01:42:14,522 INFO - root - Epoch[73] Validation-avg_dice_coef_metric=0.120734\u001b[0m\n",
      "\u001b[31m2018-06-15 01:42:27,724 INFO - root - Epoch[74] Train-avg_dice_coef_metric=0.095883\u001b[0m\n",
      "\u001b[31m2018-06-15 01:42:27,724 INFO - root - Epoch[74] Time cost=13.202\u001b[0m\n",
      "\u001b[31m2018-06-15 01:42:30,065 INFO - root - Epoch[74] Validation-avg_dice_coef_metric=0.113862\u001b[0m\n",
      "\u001b[31m2018-06-15 01:42:43,347 INFO - root - Epoch[75] Train-avg_dice_coef_metric=0.092274\u001b[0m\n",
      "\u001b[31m2018-06-15 01:42:43,347 INFO - root - Epoch[75] Time cost=13.281\u001b[0m\n",
      "\u001b[31m2018-06-15 01:42:45,690 INFO - root - Epoch[75] Validation-avg_dice_coef_metric=0.119729\u001b[0m\n",
      "\u001b[31m2018-06-15 01:42:58,739 INFO - root - Epoch[76] Train-avg_dice_coef_metric=0.091049\u001b[0m\n",
      "\u001b[31m2018-06-15 01:42:58,739 INFO - root - Epoch[76] Time cost=13.049\u001b[0m\n",
      "\u001b[31m2018-06-15 01:43:01,141 INFO - root - Epoch[76] Validation-avg_dice_coef_metric=0.107999\u001b[0m\n",
      "\u001b[31m2018-06-15 01:43:14,265 INFO - root - Epoch[77] Train-avg_dice_coef_metric=0.094017\u001b[0m\n",
      "\u001b[31m2018-06-15 01:43:14,265 INFO - root - Epoch[77] Time cost=13.124\u001b[0m\n",
      "\u001b[31m2018-06-15 01:43:16,675 INFO - root - Epoch[77] Validation-avg_dice_coef_metric=0.107281\u001b[0m\n",
      "\u001b[31m2018-06-15 01:43:29,753 INFO - root - Epoch[78] Train-avg_dice_coef_metric=0.090364\u001b[0m\n",
      "\u001b[31m2018-06-15 01:43:29,754 INFO - root - Epoch[78] Time cost=13.079\u001b[0m\n",
      "\u001b[31m2018-06-15 01:43:32,052 INFO - root - Epoch[78] Validation-avg_dice_coef_metric=0.108514\u001b[0m\n",
      "\u001b[31m2018-06-15 01:43:45,342 INFO - root - Epoch[79] Train-avg_dice_coef_metric=0.087707\u001b[0m\n",
      "\u001b[31m2018-06-15 01:43:45,342 INFO - root - Epoch[79] Time cost=13.290\u001b[0m\n",
      "\u001b[31m2018-06-15 01:43:47,616 INFO - root - Epoch[79] Validation-avg_dice_coef_metric=0.103798\u001b[0m\n",
      "\u001b[31m2018-06-15 01:44:00,717 INFO - root - Epoch[80] Train-avg_dice_coef_metric=0.087500\u001b[0m\n",
      "\u001b[31m2018-06-15 01:44:00,717 INFO - root - Epoch[80] Time cost=13.101\u001b[0m\n",
      "\u001b[31m2018-06-15 01:44:02,986 INFO - root - Epoch[80] Validation-avg_dice_coef_metric=0.104673\u001b[0m\n"
     ]
    },
    {
     "name": "stdout",
     "output_type": "stream",
     "text": [
      "\u001b[31m2018-06-15 01:44:16,072 INFO - root - Epoch[81] Train-avg_dice_coef_metric=0.086479\u001b[0m\n",
      "\u001b[31m2018-06-15 01:44:16,072 INFO - root - Epoch[81] Time cost=13.086\u001b[0m\n",
      "\u001b[31m2018-06-15 01:44:18,338 INFO - root - Epoch[81] Validation-avg_dice_coef_metric=0.110583\u001b[0m\n",
      "\u001b[31m2018-06-15 01:44:31,446 INFO - root - Epoch[82] Train-avg_dice_coef_metric=0.086853\u001b[0m\n",
      "\u001b[31m2018-06-15 01:44:31,446 INFO - root - Epoch[82] Time cost=13.108\u001b[0m\n",
      "\u001b[31m2018-06-15 01:44:33,773 INFO - root - Epoch[82] Validation-avg_dice_coef_metric=0.105434\u001b[0m\n",
      "\u001b[31m2018-06-15 01:44:47,167 INFO - root - Epoch[83] Train-avg_dice_coef_metric=0.087956\u001b[0m\n",
      "\u001b[31m2018-06-15 01:44:47,167 INFO - root - Epoch[83] Time cost=13.394\u001b[0m\n",
      "\u001b[31m2018-06-15 01:44:49,496 INFO - root - Epoch[83] Validation-avg_dice_coef_metric=0.102309\u001b[0m\n",
      "\u001b[31m2018-06-15 01:45:02,704 INFO - root - Epoch[84] Train-avg_dice_coef_metric=0.086039\u001b[0m\n",
      "\u001b[31m2018-06-15 01:45:02,704 INFO - root - Epoch[84] Time cost=13.208\u001b[0m\n",
      "\u001b[31m2018-06-15 01:45:04,953 INFO - root - Epoch[84] Validation-avg_dice_coef_metric=0.108731\u001b[0m\n",
      "\u001b[31m2018-06-15 01:45:18,377 INFO - root - Epoch[85] Train-avg_dice_coef_metric=0.087194\u001b[0m\n",
      "\u001b[31m2018-06-15 01:45:18,377 INFO - root - Epoch[85] Time cost=13.424\u001b[0m\n",
      "\u001b[31m2018-06-15 01:45:20,682 INFO - root - Epoch[85] Validation-avg_dice_coef_metric=0.105489\u001b[0m\n",
      "\u001b[31m2018-06-15 01:45:33,925 INFO - root - Epoch[86] Train-avg_dice_coef_metric=0.084458\u001b[0m\n",
      "\u001b[31m2018-06-15 01:45:33,925 INFO - root - Epoch[86] Time cost=13.242\u001b[0m\n",
      "\u001b[31m2018-06-15 01:45:36,181 INFO - root - Epoch[86] Validation-avg_dice_coef_metric=0.103067\u001b[0m\n",
      "\u001b[31m2018-06-15 01:45:49,482 INFO - root - Epoch[87] Train-avg_dice_coef_metric=0.082090\u001b[0m\n",
      "\u001b[31m2018-06-15 01:45:49,482 INFO - root - Epoch[87] Time cost=13.301\u001b[0m\n",
      "\u001b[31m2018-06-15 01:45:51,918 INFO - root - Epoch[87] Validation-avg_dice_coef_metric=0.102017\u001b[0m\n",
      "\u001b[31m2018-06-15 01:46:05,016 INFO - root - Epoch[88] Train-avg_dice_coef_metric=0.081094\u001b[0m\n",
      "\u001b[31m2018-06-15 01:46:05,017 INFO - root - Epoch[88] Time cost=13.099\u001b[0m\n",
      "\u001b[31m2018-06-15 01:46:07,264 INFO - root - Epoch[88] Validation-avg_dice_coef_metric=0.100786\u001b[0m\n",
      "\u001b[31m2018-06-15 01:46:20,312 INFO - root - Epoch[89] Train-avg_dice_coef_metric=0.081012\u001b[0m\n",
      "\u001b[31m2018-06-15 01:46:20,312 INFO - root - Epoch[89] Time cost=13.048\u001b[0m\n",
      "\u001b[31m2018-06-15 01:46:22,620 INFO - root - Epoch[89] Validation-avg_dice_coef_metric=0.113449\u001b[0m\n",
      "\u001b[31m2018-06-15 01:46:35,687 INFO - root - Epoch[90] Train-avg_dice_coef_metric=0.088252\u001b[0m\n",
      "\u001b[31m2018-06-15 01:46:35,688 INFO - root - Epoch[90] Time cost=13.067\u001b[0m\n",
      "\u001b[31m2018-06-15 01:46:37,971 INFO - root - Epoch[90] Validation-avg_dice_coef_metric=0.121509\u001b[0m\n",
      "\u001b[31m2018-06-15 01:46:51,194 INFO - root - Epoch[91] Train-avg_dice_coef_metric=0.088391\u001b[0m\n",
      "\u001b[31m2018-06-15 01:46:51,194 INFO - root - Epoch[91] Time cost=13.223\u001b[0m\n",
      "\u001b[31m2018-06-15 01:46:53,575 INFO - root - Epoch[91] Validation-avg_dice_coef_metric=0.108335\u001b[0m\n",
      "\u001b[31m2018-06-15 01:47:06,692 INFO - root - Epoch[92] Train-avg_dice_coef_metric=0.082366\u001b[0m\n",
      "\u001b[31m2018-06-15 01:47:06,692 INFO - root - Epoch[92] Time cost=13.117\u001b[0m\n",
      "\u001b[31m2018-06-15 01:47:09,003 INFO - root - Epoch[92] Validation-avg_dice_coef_metric=0.111642\u001b[0m\n",
      "\u001b[31m2018-06-15 01:47:22,132 INFO - root - Epoch[93] Train-avg_dice_coef_metric=0.080667\u001b[0m\n",
      "\u001b[31m2018-06-15 01:47:22,133 INFO - root - Epoch[93] Time cost=13.130\u001b[0m\n",
      "\u001b[31m2018-06-15 01:47:24,446 INFO - root - Epoch[93] Validation-avg_dice_coef_metric=0.104847\u001b[0m\n",
      "\u001b[31m2018-06-15 01:47:37,540 INFO - root - Epoch[94] Train-avg_dice_coef_metric=0.080780\u001b[0m\n",
      "\u001b[31m2018-06-15 01:47:37,540 INFO - root - Epoch[94] Time cost=13.094\u001b[0m\n",
      "\u001b[31m2018-06-15 01:47:39,831 INFO - root - Epoch[94] Validation-avg_dice_coef_metric=0.099964\u001b[0m\n",
      "\u001b[31m2018-06-15 01:47:53,032 INFO - root - Epoch[95] Train-avg_dice_coef_metric=0.077860\u001b[0m\n",
      "\u001b[31m2018-06-15 01:47:53,032 INFO - root - Epoch[95] Time cost=13.201\u001b[0m\n",
      "\u001b[31m2018-06-15 01:47:55,251 INFO - root - Epoch[95] Validation-avg_dice_coef_metric=0.107686\u001b[0m\n",
      "\u001b[31m2018-06-15 01:48:08,358 INFO - root - Epoch[96] Train-avg_dice_coef_metric=0.077330\u001b[0m\n",
      "\u001b[31m2018-06-15 01:48:08,359 INFO - root - Epoch[96] Time cost=13.108\u001b[0m\n",
      "\u001b[31m2018-06-15 01:48:10,780 INFO - root - Epoch[96] Validation-avg_dice_coef_metric=0.099614\u001b[0m\n",
      "\u001b[31m2018-06-15 01:48:23,841 INFO - root - Epoch[97] Train-avg_dice_coef_metric=0.077057\u001b[0m\n",
      "\u001b[31m2018-06-15 01:48:23,841 INFO - root - Epoch[97] Time cost=13.060\u001b[0m\n",
      "\u001b[31m2018-06-15 01:48:26,176 INFO - root - Epoch[97] Validation-avg_dice_coef_metric=0.101821\u001b[0m\n",
      "\u001b[31m2018-06-15 01:48:39,273 INFO - root - Epoch[98] Train-avg_dice_coef_metric=0.077673\u001b[0m\n",
      "\u001b[31m2018-06-15 01:48:39,273 INFO - root - Epoch[98] Time cost=13.097\u001b[0m\n",
      "\u001b[31m2018-06-15 01:48:41,637 INFO - root - Epoch[98] Validation-avg_dice_coef_metric=0.103743\u001b[0m\n",
      "\u001b[31m2018-06-15 01:48:54,838 INFO - root - Epoch[99] Train-avg_dice_coef_metric=0.077561\u001b[0m\n",
      "\u001b[31m2018-06-15 01:48:54,838 INFO - root - Epoch[99] Time cost=13.201\u001b[0m\n",
      "\u001b[31m2018-06-15 01:48:57,103 INFO - root - Epoch[99] Validation-avg_dice_coef_metric=0.098113\u001b[0m\n",
      "===== Job Complete =====\n",
      "Billable seconds: 1704\n"
     ]
    }
   ],
   "source": [
    "unet_single_machine_estimator.fit({'train':train_s3, 'test':validation_s3})"
   ]
  },
  {
   "cell_type": "markdown",
   "metadata": {},
   "source": [
    "## UNET - Distributed (SYNCHRONOUS)"
   ]
  },
  {
   "cell_type": "code",
   "execution_count": 19,
   "metadata": {},
   "outputs": [],
   "source": [
    "unet_distributed_job = 'DEMO-unet-distributed-job-' + time.strftime(\"%Y-%m-%d-%H-%M-%S\", time.gmtime())"
   ]
  },
  {
   "cell_type": "code",
   "execution_count": 20,
   "metadata": {
    "scrolled": true
   },
   "outputs": [],
   "source": [
    "unet_distributed_estimator = MXNet(entry_point='brain_segmentation.py',\n",
    "                                   base_job_name = unet_distributed_job,\n",
    "                                    source_dir = 'source_dir',\n",
    "                                    role=role,\n",
    "                                    train_instance_count=2, \n",
    "                                    train_instance_type='ml.p3.2xlarge',\n",
    "                                    hyperparameters={\n",
    "                                        'epochs': 50,\n",
    "                                        'learning_rate': 1E-3,\n",
    "                                        'class_weights': [[ 1.35, 17.18,  8.29, 12.42]],\n",
    "                                        'network':'unet',\n",
    "                                        'batch_size': 32,\n",
    "                        })"
   ]
  },
  {
   "cell_type": "code",
   "execution_count": 21,
   "metadata": {
    "scrolled": true
   },
   "outputs": [
    {
     "name": "stderr",
     "output_type": "stream",
     "text": [
      "INFO:sagemaker:Created S3 bucket: sagemaker-us-east-1-288000045208\n",
      "INFO:sagemaker:Creating training-job with name: DEMO-unet-distributed-job-2018-06-03-18-2018-06-03-18-05-57-843\n"
     ]
    },
    {
     "name": "stdout",
     "output_type": "stream",
     "text": [
      ".........................\n",
      "\u001b[32m2018-06-03 18:09:56,888 INFO - root - running container entrypoint\u001b[0m\n",
      "\u001b[32m2018-06-03 18:09:56,889 INFO - root - starting train task\u001b[0m\n",
      "\u001b[32m2018-06-03 18:09:56,909 INFO - container_support.training - Training starting\u001b[0m\n",
      "\u001b[32m2018-06-03 18:09:59,179 INFO - mxnet_container.train - MXNetTrainingEnvironment: {'enable_cloudwatch_metrics': False, 'available_gpus': 1, 'channels': {u'test': {u'TrainingInputMode': u'File', u'RecordWrapperType': u'None', u'S3DistributionType': u'FullyReplicated'}, u'train': {u'TrainingInputMode': u'File', u'RecordWrapperType': u'None', u'S3DistributionType': u'ShardedByS3Key'}}, '_ps_verbose': 0, 'resource_config': {u'current_host': u'algo-2', u'network_interface_name': u'ethwe', u'hosts': [u'algo-1', u'algo-2']}, 'user_script_name': u'brain_segmentation.py', 'input_config_dir': '/opt/ml/input/config', 'channel_dirs': {u'test': u'/opt/ml/input/data/test', u'train': u'/opt/ml/input/data/train'}, 'code_dir': '/opt/ml/code', 'output_data_dir': u'/opt/ml/output/data/algo-2', 'output_dir': '/opt/ml/output', 'model_dir': '/opt/ml/model', 'hyperparameters': {u'sagemaker_program': u'brain_segmentation.py', u'network': u'unet', u'class_weights': [[1.35, 17.18, 8.29, 12.42]], u'learning_rate': 0.001, u'batch_size': 32, u'epochs': 50, u'sagemaker_submit_directory': u's3://sagemaker-us-east-1-288000045208/DEMO-unet-distributed-job-2018-06-03-18-2018-06-03-18-05-57-843/source/sourcedir.tar.gz', u'sagemaker_region': u'us-east-1', u'sagemaker_enable_cloudwatch_metrics': False, u'sagemaker_job_name': u'DEMO-unet-distributed-job-2018-06-03-18-2018-06-03-18-05-57-843', u'sagemaker_container_log_level': 20}, 'hosts': [u'algo-1', u'algo-2'], 'job_name': 'DEMO-unet-distributed-job-2018-06-03-18-2018-06-03-18-05-57-843', '_ps_port': 8000, 'user_script_archive': u's3://sagemaker-us-east-1-288000045208/DEMO-unet-distributed-job-2018-06-03-18-2018-06-03-18-05-57-843/source/sourcedir.tar.gz', '_scheduler_host': u'algo-1', 'sagemaker_region': u'us-east-1', '_scheduler_ip': '10.40.0.3', 'input_dir': '/opt/ml/input', 'user_requirements_file': None, 'current_host': u'algo-2', 'container_log_level': 20, 'available_cpus': 8, 'base_dir': '/opt/ml'}\u001b[0m\n",
      "\u001b[32mDownloading s3://sagemaker-us-east-1-288000045208/DEMO-unet-distributed-job-2018-06-03-18-2018-06-03-18-05-57-843/source/sourcedir.tar.gz to /tmp/script.tar.gz\u001b[0m\n",
      "\u001b[32m2018-06-03 18:09:59,267 INFO - botocore.vendored.requests.packages.urllib3.connectionpool - Starting new HTTP connection (1): 169.254.170.2\u001b[0m\n",
      "\u001b[32m2018-06-03 18:09:59,366 INFO - botocore.vendored.requests.packages.urllib3.connectionpool - Starting new HTTPS connection (1): sagemaker-us-east-1-288000045208.s3.amazonaws.com\u001b[0m\n",
      "\u001b[32m2018-06-03 18:09:59,588 INFO - mxnet_container.train - Starting distributed training task\u001b[0m\n",
      "\u001b[32m1.1.0\u001b[0m\n",
      "\u001b[31m2018-06-03 18:09:57,036 INFO - root - running container entrypoint\u001b[0m\n",
      "\u001b[31m2018-06-03 18:09:57,036 INFO - root - starting train task\u001b[0m\n",
      "\u001b[31m2018-06-03 18:09:57,056 INFO - container_support.training - Training starting\u001b[0m\n",
      "\u001b[31m2018-06-03 18:09:59,352 INFO - mxnet_container.train - MXNetTrainingEnvironment: {'enable_cloudwatch_metrics': False, 'available_gpus': 1, 'channels': {u'test': {u'TrainingInputMode': u'File', u'RecordWrapperType': u'None', u'S3DistributionType': u'FullyReplicated'}, u'train': {u'TrainingInputMode': u'File', u'RecordWrapperType': u'None', u'S3DistributionType': u'ShardedByS3Key'}}, '_ps_verbose': 0, 'resource_config': {u'current_host': u'algo-1', u'network_interface_name': u'ethwe', u'hosts': [u'algo-1', u'algo-2']}, 'user_script_name': u'brain_segmentation.py', 'input_config_dir': '/opt/ml/input/config', 'channel_dirs': {u'test': u'/opt/ml/input/data/test', u'train': u'/opt/ml/input/data/train'}, 'code_dir': '/opt/ml/code', 'output_data_dir': u'/opt/ml/output/data/algo-1', 'output_dir': '/opt/ml/output', 'model_dir': '/opt/ml/model', 'hyperparameters': {u'sagemaker_program': u'brain_segmentation.py', u'network': u'unet', u'class_weights': [[1.35, 17.18, 8.29, 12.42]], u'learning_rate': 0.001, u'batch_size': 32, u'epochs': 50, u'sagemaker_submit_directory': u's3://sagemaker-us-east-1-288000045208/DEMO-unet-distributed-job-2018-06-03-18-2018-06-03-18-05-57-843/source/sourcedir.tar.gz', u'sagemaker_region': u'us-east-1', u'sagemaker_enable_cloudwatch_metrics': False, u'sagemaker_job_name': u'DEMO-unet-distributed-job-2018-06-03-18-2018-06-03-18-05-57-843', u'sagemaker_container_log_level': 20}, 'hosts': [u'algo-1', u'algo-2'], 'job_name': 'DEMO-unet-distributed-job-2018-06-03-18-2018-06-03-18-05-57-843', '_ps_port': 8000, 'user_script_archive': u's3://sagemaker-us-east-1-288000045208/DEMO-unet-distributed-job-2018-06-03-18-2018-06-03-18-05-57-843/source/sourcedir.tar.gz', '_scheduler_host': u'algo-1', 'sagemaker_region': u'us-east-1', '_scheduler_ip': '10.40.0.3', 'input_dir': '/opt/ml/input', 'user_requirements_file': None, 'current_host': u'algo-1', 'container_log_level': 20, 'available_cpus': 8, 'base_dir': '/opt/ml'}\u001b[0m\n",
      "\u001b[31mDownloading s3://sagemaker-us-east-1-288000045208/DEMO-unet-distributed-job-2018-06-03-18-2018-06-03-18-05-57-843/source/sourcedir.tar.gz to /tmp/script.tar.gz\u001b[0m\n",
      "\u001b[31m2018-06-03 18:09:59,436 INFO - botocore.vendored.requests.packages.urllib3.connectionpool - Starting new HTTP connection (1): 169.254.170.2\u001b[0m\n",
      "\u001b[31m2018-06-03 18:09:59,541 INFO - botocore.vendored.requests.packages.urllib3.connectionpool - Starting new HTTPS connection (1): sagemaker-us-east-1-288000045208.s3.amazonaws.com\u001b[0m\n",
      "\u001b[31m2018-06-03 18:09:59,713 INFO - mxnet_container.train - Starting distributed training task\u001b[0m\n",
      "\u001b[31m1.1.0\u001b[0m\n",
      "\u001b[31m[18:10:08] src/operator/nn/./cudnn/./cudnn_algoreg-inl.h:107: Running performance tests to find the best convolution algorithm, this can take a while... (setting env variable MXNET_CUDNN_AUTOTUNE_DEFAULT to 0 to disable)\u001b[0m\n",
      "\u001b[32m[18:10:08] src/operator/nn/./cudnn/./cudnn_algoreg-inl.h:107: Running performance tests to find the best convolution algorithm, this can take a while... (setting env variable MXNET_CUDNN_AUTOTUNE_DEFAULT to 0 to disable)\u001b[0m\n",
      "\u001b[32m[18:10:09] src/operator/nn/./cudnn/./cudnn_algoreg-inl.h:107: Running performance tests to find the best convolution algorithm, this can take a while... (setting env variable MXNET_CUDNN_AUTOTUNE_DEFAULT to 0 to disable)\u001b[0m\n",
      "\u001b[31m[18:10:09] src/operator/nn/./cudnn/./cudnn_algoreg-inl.h:107: Running performance tests to find the best convolution algorithm, this can take a while... (setting env variable MXNET_CUDNN_AUTOTUNE_DEFAULT to 0 to disable)\u001b[0m\n",
      "\u001b[32m2018-06-03 18:10:19,101 INFO - root - Epoch[0] Train-avg_dice_coef_metric=0.536508\u001b[0m\n",
      "\u001b[32m2018-06-03 18:10:19,101 INFO - root - Epoch[0] Time cost=8.239\u001b[0m\n",
      "\u001b[31m2018-06-03 18:10:19,066 INFO - root - Epoch[0] Train-avg_dice_coef_metric=0.539416\u001b[0m\n",
      "\u001b[31m2018-06-03 18:10:19,066 INFO - root - Epoch[0] Time cost=8.241\u001b[0m\n",
      "\u001b[31m2018-06-03 18:10:21,501 INFO - root - Epoch[0] Validation-avg_dice_coef_metric=0.501735\u001b[0m\n",
      "\u001b[32m2018-06-03 18:10:21,543 INFO - root - Epoch[0] Validation-avg_dice_coef_metric=0.484337\u001b[0m\n",
      "\u001b[32m2018-06-03 18:10:29,763 INFO - root - Epoch[1] Train-avg_dice_coef_metric=0.412181\u001b[0m\n",
      "\u001b[32m2018-06-03 18:10:29,764 INFO - root - Epoch[1] Time cost=8.220\u001b[0m\n",
      "\u001b[31m2018-06-03 18:10:29,877 INFO - root - Epoch[1] Train-avg_dice_coef_metric=0.415453\u001b[0m\n",
      "\u001b[31m2018-06-03 18:10:29,877 INFO - root - Epoch[1] Time cost=8.377\u001b[0m\n",
      "\u001b[32m2018-06-03 18:10:32,219 INFO - root - Epoch[1] Validation-avg_dice_coef_metric=0.395437\u001b[0m\n",
      "\u001b[31m2018-06-03 18:10:32,334 INFO - root - Epoch[1] Validation-avg_dice_coef_metric=0.420262\u001b[0m\n",
      "\u001b[32m2018-06-03 18:10:40,335 INFO - root - Epoch[2] Train-avg_dice_coef_metric=0.374641\u001b[0m\n",
      "\u001b[32m2018-06-03 18:10:40,335 INFO - root - Epoch[2] Time cost=8.116\u001b[0m\n",
      "\u001b[31m2018-06-03 18:10:40,460 INFO - root - Epoch[2] Train-avg_dice_coef_metric=0.375168\u001b[0m\n",
      "\u001b[31m2018-06-03 18:10:40,460 INFO - root - Epoch[2] Time cost=8.126\u001b[0m\n",
      "\u001b[32m2018-06-03 18:10:42,870 INFO - root - Epoch[2] Validation-avg_dice_coef_metric=0.387129\u001b[0m\n",
      "\u001b[31m2018-06-03 18:10:42,918 INFO - root - Epoch[2] Validation-avg_dice_coef_metric=0.365165\u001b[0m\n",
      "\u001b[31m2018-06-03 18:10:51,237 INFO - root - Epoch[3] Train-avg_dice_coef_metric=0.361898\u001b[0m\n",
      "\u001b[31m2018-06-03 18:10:51,237 INFO - root - Epoch[3] Time cost=8.319\u001b[0m\n",
      "\u001b[32m2018-06-03 18:10:51,434 INFO - root - Epoch[3] Train-avg_dice_coef_metric=0.358399\u001b[0m\n",
      "\u001b[32m2018-06-03 18:10:51,434 INFO - root - Epoch[3] Time cost=8.564\u001b[0m\n",
      "\u001b[32m2018-06-03 18:10:53,927 INFO - root - Epoch[3] Validation-avg_dice_coef_metric=0.352772\u001b[0m\n",
      "\u001b[31m2018-06-03 18:10:53,714 INFO - root - Epoch[3] Validation-avg_dice_coef_metric=0.362802\u001b[0m\n"
     ]
    },
    {
     "name": "stdout",
     "output_type": "stream",
     "text": [
      "\u001b[32m2018-06-03 18:11:02,227 INFO - root - Epoch[4] Train-avg_dice_coef_metric=0.348321\u001b[0m\n",
      "\u001b[32m2018-06-03 18:11:02,227 INFO - root - Epoch[4] Time cost=8.300\u001b[0m\n",
      "\u001b[31m2018-06-03 18:11:02,045 INFO - root - Epoch[4] Train-avg_dice_coef_metric=0.349021\u001b[0m\n",
      "\u001b[31m2018-06-03 18:11:02,045 INFO - root - Epoch[4] Time cost=8.331\u001b[0m\n",
      "\u001b[31m2018-06-03 18:11:04,495 INFO - root - Epoch[4] Validation-avg_dice_coef_metric=0.343391\u001b[0m\n",
      "\u001b[32m2018-06-03 18:11:04,664 INFO - root - Epoch[4] Validation-avg_dice_coef_metric=0.362441\u001b[0m\n",
      "\u001b[32m2018-06-03 18:11:12,841 INFO - root - Epoch[5] Train-avg_dice_coef_metric=0.342326\u001b[0m\n",
      "\u001b[32m2018-06-03 18:11:12,841 INFO - root - Epoch[5] Time cost=8.177\u001b[0m\n",
      "\u001b[31m2018-06-03 18:11:12,870 INFO - root - Epoch[5] Train-avg_dice_coef_metric=0.340643\u001b[0m\n",
      "\u001b[31m2018-06-03 18:11:12,871 INFO - root - Epoch[5] Time cost=8.375\u001b[0m\n",
      "\u001b[32m2018-06-03 18:11:15,405 INFO - root - Epoch[5] Validation-avg_dice_coef_metric=0.348739\u001b[0m\n",
      "\u001b[31m2018-06-03 18:11:15,406 INFO - root - Epoch[5] Validation-avg_dice_coef_metric=0.332649\u001b[0m\n",
      "\u001b[32m2018-06-03 18:11:23,835 INFO - root - Epoch[6] Train-avg_dice_coef_metric=0.331877\u001b[0m\n",
      "\u001b[32m2018-06-03 18:11:23,835 INFO - root - Epoch[6] Time cost=8.430\u001b[0m\n",
      "\u001b[31m2018-06-03 18:11:23,723 INFO - root - Epoch[6] Train-avg_dice_coef_metric=0.333591\u001b[0m\n",
      "\u001b[31m2018-06-03 18:11:23,723 INFO - root - Epoch[6] Time cost=8.316\u001b[0m\n",
      "\u001b[32m2018-06-03 18:11:26,302 INFO - root - Epoch[6] Validation-avg_dice_coef_metric=0.335947\u001b[0m\n",
      "\u001b[31m2018-06-03 18:11:26,124 INFO - root - Epoch[6] Validation-avg_dice_coef_metric=0.326575\u001b[0m\n",
      "\u001b[31m2018-06-03 18:11:34,589 INFO - root - Epoch[7] Train-avg_dice_coef_metric=0.327129\u001b[0m\n",
      "\u001b[31m2018-06-03 18:11:34,590 INFO - root - Epoch[7] Time cost=8.465\u001b[0m\n",
      "\u001b[32m2018-06-03 18:11:35,110 INFO - root - Epoch[7] Train-avg_dice_coef_metric=0.327848\u001b[0m\n",
      "\u001b[32m2018-06-03 18:11:35,110 INFO - root - Epoch[7] Time cost=8.809\u001b[0m\n",
      "\u001b[32m2018-06-03 18:11:37,535 INFO - root - Epoch[7] Validation-avg_dice_coef_metric=0.331064\u001b[0m\n",
      "\u001b[31m2018-06-03 18:11:37,126 INFO - root - Epoch[7] Validation-avg_dice_coef_metric=0.331968\u001b[0m\n",
      "\u001b[31m2018-06-03 18:11:45,329 INFO - root - Epoch[8] Train-avg_dice_coef_metric=0.325010\u001b[0m\n",
      "\u001b[31m2018-06-03 18:11:45,330 INFO - root - Epoch[8] Time cost=8.204\u001b[0m\n",
      "\u001b[31m2018-06-03 18:11:47,816 INFO - root - Epoch[8] Validation-avg_dice_coef_metric=0.331282\u001b[0m\n",
      "\u001b[32m2018-06-03 18:11:46,024 INFO - root - Epoch[8] Train-avg_dice_coef_metric=0.327228\u001b[0m\n",
      "\u001b[32m2018-06-03 18:11:46,024 INFO - root - Epoch[8] Time cost=8.489\u001b[0m\n",
      "\u001b[32m2018-06-03 18:11:48,656 INFO - root - Epoch[8] Validation-avg_dice_coef_metric=0.322446\u001b[0m\n",
      "\u001b[31m2018-06-03 18:11:56,147 INFO - root - Epoch[9] Train-avg_dice_coef_metric=0.323788\u001b[0m\n",
      "\u001b[31m2018-06-03 18:11:56,147 INFO - root - Epoch[9] Time cost=8.331\u001b[0m\n",
      "\u001b[32m2018-06-03 18:11:56,981 INFO - root - Epoch[9] Train-avg_dice_coef_metric=0.319886\u001b[0m\n",
      "\u001b[32m2018-06-03 18:11:56,981 INFO - root - Epoch[9] Time cost=8.324\u001b[0m\n",
      "\u001b[31m2018-06-03 18:11:58,664 INFO - root - Epoch[9] Validation-avg_dice_coef_metric=0.333308\u001b[0m\n",
      "\u001b[32m2018-06-03 18:11:59,486 INFO - root - Epoch[9] Validation-avg_dice_coef_metric=0.323304\u001b[0m\n",
      "\u001b[31m2018-06-03 18:12:06,829 INFO - root - Epoch[10] Train-avg_dice_coef_metric=0.322043\u001b[0m\n",
      "\u001b[31m2018-06-03 18:12:06,830 INFO - root - Epoch[10] Time cost=8.166\u001b[0m\n",
      "\u001b[32m2018-06-03 18:12:07,890 INFO - root - Epoch[10] Train-avg_dice_coef_metric=0.318090\u001b[0m\n",
      "\u001b[32m2018-06-03 18:12:07,890 INFO - root - Epoch[10] Time cost=8.404\u001b[0m\n",
      "\u001b[31m2018-06-03 18:12:09,361 INFO - root - Epoch[10] Validation-avg_dice_coef_metric=0.330889\u001b[0m\n",
      "\u001b[32m2018-06-03 18:12:10,402 INFO - root - Epoch[10] Validation-avg_dice_coef_metric=0.326939\u001b[0m\n",
      "\u001b[31m2018-06-03 18:12:17,708 INFO - root - Epoch[11] Train-avg_dice_coef_metric=0.317920\u001b[0m\n",
      "\u001b[31m2018-06-03 18:12:17,708 INFO - root - Epoch[11] Time cost=8.347\u001b[0m\n",
      "\u001b[32m2018-06-03 18:12:18,709 INFO - root - Epoch[11] Train-avg_dice_coef_metric=0.316987\u001b[0m\n",
      "\u001b[32m2018-06-03 18:12:18,709 INFO - root - Epoch[11] Time cost=8.308\u001b[0m\n",
      "\u001b[31m2018-06-03 18:12:20,250 INFO - root - Epoch[11] Validation-avg_dice_coef_metric=0.324495\u001b[0m\n",
      "\u001b[32m2018-06-03 18:12:21,183 INFO - root - Epoch[11] Validation-avg_dice_coef_metric=0.316923\u001b[0m\n",
      "\u001b[31m2018-06-03 18:12:28,597 INFO - root - Epoch[12] Train-avg_dice_coef_metric=0.319729\u001b[0m\n",
      "\u001b[31m2018-06-03 18:12:28,597 INFO - root - Epoch[12] Time cost=8.348\u001b[0m\n",
      "\u001b[32m2018-06-03 18:12:29,646 INFO - root - Epoch[12] Train-avg_dice_coef_metric=0.314974\u001b[0m\n",
      "\u001b[32m2018-06-03 18:12:29,647 INFO - root - Epoch[12] Time cost=8.463\u001b[0m\n",
      "\u001b[31m2018-06-03 18:12:31,094 INFO - root - Epoch[12] Validation-avg_dice_coef_metric=0.335154\u001b[0m\n",
      "\u001b[32m2018-06-03 18:12:32,109 INFO - root - Epoch[12] Validation-avg_dice_coef_metric=0.318895\u001b[0m\n",
      "\u001b[31m2018-06-03 18:12:39,231 INFO - root - Epoch[13] Train-avg_dice_coef_metric=0.317267\u001b[0m\n",
      "\u001b[31m2018-06-03 18:12:39,232 INFO - root - Epoch[13] Time cost=8.138\u001b[0m\n",
      "\u001b[32m2018-06-03 18:12:40,270 INFO - root - Epoch[13] Train-avg_dice_coef_metric=0.315477\u001b[0m\n",
      "\u001b[32m2018-06-03 18:12:40,270 INFO - root - Epoch[13] Time cost=8.161\u001b[0m\n",
      "\u001b[31m2018-06-03 18:12:41,747 INFO - root - Epoch[13] Validation-avg_dice_coef_metric=0.336678\u001b[0m\n",
      "\u001b[32m2018-06-03 18:12:42,731 INFO - root - Epoch[13] Validation-avg_dice_coef_metric=0.321252\u001b[0m\n",
      "\u001b[31m2018-06-03 18:12:50,136 INFO - root - Epoch[14] Train-avg_dice_coef_metric=0.313965\u001b[0m\n",
      "\u001b[31m2018-06-03 18:12:50,136 INFO - root - Epoch[14] Time cost=8.389\u001b[0m\n",
      "\u001b[32m2018-06-03 18:12:51,068 INFO - root - Epoch[14] Train-avg_dice_coef_metric=0.307802\u001b[0m\n",
      "\u001b[32m2018-06-03 18:12:51,068 INFO - root - Epoch[14] Time cost=8.337\u001b[0m\n",
      "\u001b[31m2018-06-03 18:12:52,672 INFO - root - Epoch[14] Validation-avg_dice_coef_metric=0.313987\u001b[0m\n",
      "\u001b[32m2018-06-03 18:12:53,512 INFO - root - Epoch[14] Validation-avg_dice_coef_metric=0.316757\u001b[0m\n",
      "\u001b[31m2018-06-03 18:13:01,292 INFO - root - Epoch[15] Train-avg_dice_coef_metric=0.313561\u001b[0m\n",
      "\u001b[31m2018-06-03 18:13:01,292 INFO - root - Epoch[15] Time cost=8.620\u001b[0m\n",
      "\u001b[32m2018-06-03 18:13:01,982 INFO - root - Epoch[15] Train-avg_dice_coef_metric=0.310378\u001b[0m\n",
      "\u001b[32m2018-06-03 18:13:01,982 INFO - root - Epoch[15] Time cost=8.469\u001b[0m\n",
      "\u001b[32m2018-06-03 18:13:04,510 INFO - root - Epoch[15] Validation-avg_dice_coef_metric=0.322049\u001b[0m\n",
      "\u001b[31m2018-06-03 18:13:03,880 INFO - root - Epoch[15] Validation-avg_dice_coef_metric=0.312089\u001b[0m\n",
      "\u001b[32m2018-06-03 18:13:12,634 INFO - root - Epoch[16] Train-avg_dice_coef_metric=0.306232\u001b[0m\n",
      "\u001b[32m2018-06-03 18:13:12,635 INFO - root - Epoch[16] Time cost=8.125\u001b[0m\n",
      "\u001b[31m2018-06-03 18:13:12,119 INFO - root - Epoch[16] Train-avg_dice_coef_metric=0.312616\u001b[0m\n",
      "\u001b[31m2018-06-03 18:13:12,119 INFO - root - Epoch[16] Time cost=8.239\u001b[0m\n",
      "\u001b[31m2018-06-03 18:13:14,596 INFO - root - Epoch[16] Validation-avg_dice_coef_metric=0.318789\u001b[0m\n",
      "\u001b[32m2018-06-03 18:13:15,076 INFO - root - Epoch[16] Validation-avg_dice_coef_metric=0.316259\u001b[0m\n",
      "\u001b[32m2018-06-03 18:13:23,391 INFO - root - Epoch[17] Train-avg_dice_coef_metric=0.305762\u001b[0m\n",
      "\u001b[32m2018-06-03 18:13:23,392 INFO - root - Epoch[17] Time cost=8.315\u001b[0m\n",
      "\u001b[31m2018-06-03 18:13:23,051 INFO - root - Epoch[17] Train-avg_dice_coef_metric=0.307782\u001b[0m\n",
      "\u001b[31m2018-06-03 18:13:23,051 INFO - root - Epoch[17] Time cost=8.454\u001b[0m\n",
      "\u001b[31m2018-06-03 18:13:25,605 INFO - root - Epoch[17] Validation-avg_dice_coef_metric=0.307710\u001b[0m\n",
      "\u001b[32m2018-06-03 18:13:25,990 INFO - root - Epoch[17] Validation-avg_dice_coef_metric=0.312692\u001b[0m\n",
      "\u001b[31m2018-06-03 18:13:33,805 INFO - root - Epoch[18] Train-avg_dice_coef_metric=0.305657\u001b[0m\n",
      "\u001b[31m2018-06-03 18:13:33,805 INFO - root - Epoch[18] Time cost=8.199\u001b[0m\n",
      "\u001b[32m2018-06-03 18:13:34,286 INFO - root - Epoch[18] Train-avg_dice_coef_metric=0.301016\u001b[0m\n",
      "\u001b[32m2018-06-03 18:13:34,286 INFO - root - Epoch[18] Time cost=8.295\u001b[0m\n",
      "\u001b[31m2018-06-03 18:13:36,323 INFO - root - Epoch[18] Validation-avg_dice_coef_metric=0.320160\u001b[0m\n",
      "\u001b[32m2018-06-03 18:13:36,718 INFO - root - Epoch[18] Validation-avg_dice_coef_metric=0.322041\u001b[0m\n",
      "\u001b[31m2018-06-03 18:13:44,771 INFO - root - Epoch[19] Train-avg_dice_coef_metric=0.304370\u001b[0m\n",
      "\u001b[31m2018-06-03 18:13:44,771 INFO - root - Epoch[19] Time cost=8.448\u001b[0m\n",
      "\u001b[32m2018-06-03 18:13:45,108 INFO - root - Epoch[19] Train-avg_dice_coef_metric=0.301618\u001b[0m\n",
      "\u001b[32m2018-06-03 18:13:45,108 INFO - root - Epoch[19] Time cost=8.390\u001b[0m\n",
      "\u001b[31m2018-06-03 18:13:47,363 INFO - root - Epoch[19] Validation-avg_dice_coef_metric=0.309376\u001b[0m\n",
      "\u001b[32m2018-06-03 18:13:47,568 INFO - root - Epoch[19] Validation-avg_dice_coef_metric=0.313853\u001b[0m\n"
     ]
    },
    {
     "name": "stdout",
     "output_type": "stream",
     "text": [
      "\u001b[31m2018-06-03 18:13:55,841 INFO - root - Epoch[20] Train-avg_dice_coef_metric=0.303067\u001b[0m\n",
      "\u001b[31m2018-06-03 18:13:55,841 INFO - root - Epoch[20] Time cost=8.478\u001b[0m\n",
      "\u001b[32m2018-06-03 18:13:55,884 INFO - root - Epoch[20] Train-avg_dice_coef_metric=0.299484\u001b[0m\n",
      "\u001b[32m2018-06-03 18:13:55,884 INFO - root - Epoch[20] Time cost=8.316\u001b[0m\n",
      "\u001b[31m2018-06-03 18:13:58,383 INFO - root - Epoch[20] Validation-avg_dice_coef_metric=0.320477\u001b[0m\n",
      "\u001b[32m2018-06-03 18:13:58,350 INFO - root - Epoch[20] Validation-avg_dice_coef_metric=0.305211\u001b[0m\n",
      "\u001b[31m2018-06-03 18:14:06,577 INFO - root - Epoch[21] Train-avg_dice_coef_metric=0.299738\u001b[0m\n",
      "\u001b[31m2018-06-03 18:14:06,578 INFO - root - Epoch[21] Time cost=8.194\u001b[0m\n",
      "\u001b[32m2018-06-03 18:14:06,508 INFO - root - Epoch[21] Train-avg_dice_coef_metric=0.299941\u001b[0m\n",
      "\u001b[32m2018-06-03 18:14:06,508 INFO - root - Epoch[21] Time cost=8.158\u001b[0m\n",
      "\u001b[32m2018-06-03 18:14:08,994 INFO - root - Epoch[21] Validation-avg_dice_coef_metric=0.310469\u001b[0m\n",
      "\u001b[31m2018-06-03 18:14:09,093 INFO - root - Epoch[21] Validation-avg_dice_coef_metric=0.320817\u001b[0m\n",
      "\u001b[31m2018-06-03 18:14:17,502 INFO - root - Epoch[22] Train-avg_dice_coef_metric=0.296356\u001b[0m\n",
      "\u001b[31m2018-06-03 18:14:17,502 INFO - root - Epoch[22] Time cost=8.409\u001b[0m\n",
      "\u001b[32m2018-06-03 18:14:17,322 INFO - root - Epoch[22] Train-avg_dice_coef_metric=0.291937\u001b[0m\n",
      "\u001b[32m2018-06-03 18:14:17,322 INFO - root - Epoch[22] Time cost=8.328\u001b[0m\n",
      "\u001b[32m2018-06-03 18:14:19,728 INFO - root - Epoch[22] Validation-avg_dice_coef_metric=0.309936\u001b[0m\n",
      "\u001b[31m2018-06-03 18:14:20,091 INFO - root - Epoch[22] Validation-avg_dice_coef_metric=0.298020\u001b[0m\n",
      "\u001b[31m2018-06-03 18:14:28,510 INFO - root - Epoch[23] Train-avg_dice_coef_metric=0.294527\u001b[0m\n",
      "\u001b[31m2018-06-03 18:14:28,511 INFO - root - Epoch[23] Time cost=8.419\u001b[0m\n",
      "\u001b[32m2018-06-03 18:14:28,098 INFO - root - Epoch[23] Train-avg_dice_coef_metric=0.289919\u001b[0m\n",
      "\u001b[32m2018-06-03 18:14:28,098 INFO - root - Epoch[23] Time cost=8.370\u001b[0m\n",
      "\u001b[32m2018-06-03 18:14:30,603 INFO - root - Epoch[23] Validation-avg_dice_coef_metric=0.294528\u001b[0m\n",
      "\u001b[31m2018-06-03 18:14:31,014 INFO - root - Epoch[23] Validation-avg_dice_coef_metric=0.319555\u001b[0m\n",
      "\u001b[32m2018-06-03 18:14:38,754 INFO - root - Epoch[24] Train-avg_dice_coef_metric=0.288574\u001b[0m\n",
      "\u001b[32m2018-06-03 18:14:38,754 INFO - root - Epoch[24] Time cost=8.151\u001b[0m\n",
      "\u001b[31m2018-06-03 18:14:39,421 INFO - root - Epoch[24] Train-avg_dice_coef_metric=0.293010\u001b[0m\n",
      "\u001b[31m2018-06-03 18:14:39,421 INFO - root - Epoch[24] Time cost=8.407\u001b[0m\n",
      "\u001b[31m2018-06-03 18:14:41,973 INFO - root - Epoch[24] Validation-avg_dice_coef_metric=0.302787\u001b[0m\n",
      "\u001b[32m2018-06-03 18:14:41,179 INFO - root - Epoch[24] Validation-avg_dice_coef_metric=0.308570\u001b[0m\n",
      "\u001b[32m2018-06-03 18:14:49,832 INFO - root - Epoch[25] Train-avg_dice_coef_metric=0.287442\u001b[0m\n",
      "\u001b[32m2018-06-03 18:14:49,832 INFO - root - Epoch[25] Time cost=8.653\u001b[0m\n",
      "\u001b[31m2018-06-03 18:14:50,408 INFO - root - Epoch[25] Train-avg_dice_coef_metric=0.289224\u001b[0m\n",
      "\u001b[31m2018-06-03 18:14:50,408 INFO - root - Epoch[25] Time cost=8.434\u001b[0m\n",
      "\u001b[32m2018-06-03 18:14:52,337 INFO - root - Epoch[25] Validation-avg_dice_coef_metric=0.316269\u001b[0m\n",
      "\u001b[31m2018-06-03 18:14:52,929 INFO - root - Epoch[25] Validation-avg_dice_coef_metric=0.302066\u001b[0m\n",
      "\u001b[32m2018-06-03 18:15:00,508 INFO - root - Epoch[26] Train-avg_dice_coef_metric=0.283975\u001b[0m\n",
      "\u001b[32m2018-06-03 18:15:00,509 INFO - root - Epoch[26] Time cost=8.171\u001b[0m\n",
      "\u001b[31m2018-06-03 18:15:01,201 INFO - root - Epoch[26] Train-avg_dice_coef_metric=0.284879\u001b[0m\n",
      "\u001b[31m2018-06-03 18:15:01,201 INFO - root - Epoch[26] Time cost=8.272\u001b[0m\n",
      "\u001b[32m2018-06-03 18:15:03,089 INFO - root - Epoch[26] Validation-avg_dice_coef_metric=0.301458\u001b[0m\n",
      "\u001b[31m2018-06-03 18:15:03,784 INFO - root - Epoch[26] Validation-avg_dice_coef_metric=0.303432\u001b[0m\n",
      "\u001b[32m2018-06-03 18:15:11,489 INFO - root - Epoch[27] Train-avg_dice_coef_metric=0.276613\u001b[0m\n",
      "\u001b[32m2018-06-03 18:15:11,490 INFO - root - Epoch[27] Time cost=8.401\u001b[0m\n",
      "\u001b[31m2018-06-03 18:15:12,201 INFO - root - Epoch[27] Train-avg_dice_coef_metric=0.281315\u001b[0m\n",
      "\u001b[31m2018-06-03 18:15:12,202 INFO - root - Epoch[27] Time cost=8.417\u001b[0m\n",
      "\u001b[32m2018-06-03 18:15:13,944 INFO - root - Epoch[27] Validation-avg_dice_coef_metric=0.306723\u001b[0m\n",
      "\u001b[31m2018-06-03 18:15:14,723 INFO - root - Epoch[27] Validation-avg_dice_coef_metric=0.291899\u001b[0m\n",
      "\u001b[32m2018-06-03 18:15:22,261 INFO - root - Epoch[28] Train-avg_dice_coef_metric=0.276388\u001b[0m\n",
      "\u001b[32m2018-06-03 18:15:22,261 INFO - root - Epoch[28] Time cost=8.317\u001b[0m\n",
      "\u001b[31m2018-06-03 18:15:23,149 INFO - root - Epoch[28] Train-avg_dice_coef_metric=0.278864\u001b[0m\n",
      "\u001b[31m2018-06-03 18:15:23,149 INFO - root - Epoch[28] Time cost=8.426\u001b[0m\n",
      "\u001b[32m2018-06-03 18:15:24,751 INFO - root - Epoch[28] Validation-avg_dice_coef_metric=0.307773\u001b[0m\n",
      "\u001b[31m2018-06-03 18:15:25,716 INFO - root - Epoch[28] Validation-avg_dice_coef_metric=0.296799\u001b[0m\n",
      "\u001b[32m2018-06-03 18:15:32,976 INFO - root - Epoch[29] Train-avg_dice_coef_metric=0.267839\u001b[0m\n",
      "\u001b[32m2018-06-03 18:15:32,977 INFO - root - Epoch[29] Time cost=8.225\u001b[0m\n",
      "\u001b[31m2018-06-03 18:15:33,998 INFO - root - Epoch[29] Train-avg_dice_coef_metric=0.272245\u001b[0m\n",
      "\u001b[31m2018-06-03 18:15:33,998 INFO - root - Epoch[29] Time cost=8.283\u001b[0m\n",
      "\u001b[32m2018-06-03 18:15:35,496 INFO - root - Epoch[29] Validation-avg_dice_coef_metric=0.295286\u001b[0m\n",
      "\u001b[31m2018-06-03 18:15:36,523 INFO - root - Epoch[29] Validation-avg_dice_coef_metric=0.289658\u001b[0m\n",
      "\u001b[32m2018-06-03 18:15:43,928 INFO - root - Epoch[30] Train-avg_dice_coef_metric=0.268219\u001b[0m\n",
      "\u001b[32m2018-06-03 18:15:43,928 INFO - root - Epoch[30] Time cost=8.432\u001b[0m\n",
      "\u001b[31m2018-06-03 18:15:44,897 INFO - root - Epoch[30] Train-avg_dice_coef_metric=0.277412\u001b[0m\n",
      "\u001b[31m2018-06-03 18:15:44,897 INFO - root - Epoch[30] Time cost=8.374\u001b[0m\n",
      "\u001b[32m2018-06-03 18:15:46,477 INFO - root - Epoch[30] Validation-avg_dice_coef_metric=0.287842\u001b[0m\n",
      "\u001b[31m2018-06-03 18:15:47,426 INFO - root - Epoch[30] Validation-avg_dice_coef_metric=0.283688\u001b[0m\n",
      "\u001b[32m2018-06-03 18:15:55,011 INFO - root - Epoch[31] Train-avg_dice_coef_metric=0.269843\u001b[0m\n",
      "\u001b[32m2018-06-03 18:15:55,011 INFO - root - Epoch[31] Time cost=8.534\u001b[0m\n",
      "\u001b[31m2018-06-03 18:15:55,854 INFO - root - Epoch[31] Train-avg_dice_coef_metric=0.266127\u001b[0m\n",
      "\u001b[31m2018-06-03 18:15:55,854 INFO - root - Epoch[31] Time cost=8.428\u001b[0m\n",
      "\u001b[32m2018-06-03 18:15:57,515 INFO - root - Epoch[31] Validation-avg_dice_coef_metric=0.289226\u001b[0m\n",
      "\u001b[31m2018-06-03 18:15:58,482 INFO - root - Epoch[31] Validation-avg_dice_coef_metric=0.290419\u001b[0m\n",
      "\u001b[32m2018-06-03 18:16:05,727 INFO - root - Epoch[32] Train-avg_dice_coef_metric=0.263967\u001b[0m\n",
      "\u001b[32m2018-06-03 18:16:05,727 INFO - root - Epoch[32] Time cost=8.212\u001b[0m\n",
      "\u001b[31m2018-06-03 18:16:06,734 INFO - root - Epoch[32] Train-avg_dice_coef_metric=0.270749\u001b[0m\n",
      "\u001b[31m2018-06-03 18:16:06,734 INFO - root - Epoch[32] Time cost=8.252\u001b[0m\n",
      "\u001b[32m2018-06-03 18:16:08,246 INFO - root - Epoch[32] Validation-avg_dice_coef_metric=0.271937\u001b[0m\n",
      "\u001b[31m2018-06-03 18:16:09,330 INFO - root - Epoch[32] Validation-avg_dice_coef_metric=0.297277\u001b[0m\n",
      "\u001b[32m2018-06-03 18:16:16,563 INFO - root - Epoch[33] Train-avg_dice_coef_metric=0.264270\u001b[0m\n",
      "\u001b[32m2018-06-03 18:16:16,563 INFO - root - Epoch[33] Time cost=8.317\u001b[0m\n",
      "\u001b[31m2018-06-03 18:16:17,796 INFO - root - Epoch[33] Train-avg_dice_coef_metric=0.257814\u001b[0m\n",
      "\u001b[31m2018-06-03 18:16:17,796 INFO - root - Epoch[33] Time cost=8.466\u001b[0m\n",
      "\u001b[32m2018-06-03 18:16:19,063 INFO - root - Epoch[33] Validation-avg_dice_coef_metric=0.292272\u001b[0m\n",
      "\u001b[31m2018-06-03 18:16:20,236 INFO - root - Epoch[33] Validation-avg_dice_coef_metric=0.288897\u001b[0m\n",
      "\u001b[32m2018-06-03 18:16:27,319 INFO - root - Epoch[34] Train-avg_dice_coef_metric=0.260453\u001b[0m\n",
      "\u001b[32m2018-06-03 18:16:27,319 INFO - root - Epoch[34] Time cost=8.256\u001b[0m\n",
      "\u001b[31m2018-06-03 18:16:28,479 INFO - root - Epoch[34] Train-avg_dice_coef_metric=0.263420\u001b[0m\n",
      "\u001b[31m2018-06-03 18:16:28,479 INFO - root - Epoch[34] Time cost=8.242\u001b[0m\n",
      "\u001b[32m2018-06-03 18:16:29,902 INFO - root - Epoch[34] Validation-avg_dice_coef_metric=0.287848\u001b[0m\n",
      "\u001b[31m2018-06-03 18:16:31,030 INFO - root - Epoch[34] Validation-avg_dice_coef_metric=0.267181\u001b[0m\n",
      "\u001b[32m2018-06-03 18:16:38,298 INFO - root - Epoch[35] Train-avg_dice_coef_metric=0.252648\u001b[0m\n",
      "\u001b[32m2018-06-03 18:16:38,298 INFO - root - Epoch[35] Time cost=8.396\u001b[0m\n",
      "\u001b[31m2018-06-03 18:16:39,473 INFO - root - Epoch[35] Train-avg_dice_coef_metric=0.256899\u001b[0m\n",
      "\u001b[31m2018-06-03 18:16:39,474 INFO - root - Epoch[35] Time cost=8.443\u001b[0m\n",
      "\u001b[32m2018-06-03 18:16:40,908 INFO - root - Epoch[35] Validation-avg_dice_coef_metric=0.297597\u001b[0m\n",
      "\u001b[31m2018-06-03 18:16:41,995 INFO - root - Epoch[35] Validation-avg_dice_coef_metric=0.274346\u001b[0m\n"
     ]
    },
    {
     "name": "stdout",
     "output_type": "stream",
     "text": [
      "\u001b[32m2018-06-03 18:16:49,257 INFO - root - Epoch[36] Train-avg_dice_coef_metric=0.251868\u001b[0m\n",
      "\u001b[32m2018-06-03 18:16:49,257 INFO - root - Epoch[36] Time cost=8.349\u001b[0m\n",
      "\u001b[31m2018-06-03 18:16:50,482 INFO - root - Epoch[36] Train-avg_dice_coef_metric=0.262335\u001b[0m\n",
      "\u001b[31m2018-06-03 18:16:50,483 INFO - root - Epoch[36] Time cost=8.487\u001b[0m\n",
      "\u001b[32m2018-06-03 18:16:51,822 INFO - root - Epoch[36] Validation-avg_dice_coef_metric=0.245293\u001b[0m\n",
      "\u001b[31m2018-06-03 18:16:52,985 INFO - root - Epoch[36] Validation-avg_dice_coef_metric=0.278764\u001b[0m\n",
      "\u001b[32m2018-06-03 18:17:00,245 INFO - root - Epoch[37] Train-avg_dice_coef_metric=0.243355\u001b[0m\n",
      "\u001b[32m2018-06-03 18:17:00,246 INFO - root - Epoch[37] Time cost=8.424\u001b[0m\n",
      "\u001b[32m2018-06-03 18:17:02,834 INFO - root - Epoch[37] Validation-avg_dice_coef_metric=0.268945\u001b[0m\n",
      "\u001b[31m2018-06-03 18:17:01,234 INFO - root - Epoch[37] Train-avg_dice_coef_metric=0.261679\u001b[0m\n",
      "\u001b[31m2018-06-03 18:17:01,234 INFO - root - Epoch[37] Time cost=8.249\u001b[0m\n",
      "\u001b[31m2018-06-03 18:17:03,792 INFO - root - Epoch[37] Validation-avg_dice_coef_metric=0.293890\u001b[0m\n",
      "\u001b[32m2018-06-03 18:17:11,663 INFO - root - Epoch[38] Train-avg_dice_coef_metric=0.252470\u001b[0m\n",
      "\u001b[32m2018-06-03 18:17:11,663 INFO - root - Epoch[38] Time cost=8.829\u001b[0m\n",
      "\u001b[31m2018-06-03 18:17:12,511 INFO - root - Epoch[38] Train-avg_dice_coef_metric=0.249108\u001b[0m\n",
      "\u001b[31m2018-06-03 18:17:12,511 INFO - root - Epoch[38] Time cost=8.719\u001b[0m\n",
      "\u001b[32m2018-06-03 18:17:14,364 INFO - root - Epoch[38] Validation-avg_dice_coef_metric=0.276094\u001b[0m\n",
      "\u001b[31m2018-06-03 18:17:15,076 INFO - root - Epoch[38] Validation-avg_dice_coef_metric=0.283616\u001b[0m\n",
      "\u001b[32m2018-06-03 18:17:22,783 INFO - root - Epoch[39] Train-avg_dice_coef_metric=0.244188\u001b[0m\n",
      "\u001b[32m2018-06-03 18:17:22,783 INFO - root - Epoch[39] Time cost=8.419\u001b[0m\n",
      "\u001b[31m2018-06-03 18:17:23,504 INFO - root - Epoch[39] Train-avg_dice_coef_metric=0.257309\u001b[0m\n",
      "\u001b[31m2018-06-03 18:17:23,504 INFO - root - Epoch[39] Time cost=8.427\u001b[0m\n",
      "\u001b[32m2018-06-03 18:17:25,456 INFO - root - Epoch[39] Validation-avg_dice_coef_metric=0.277750\u001b[0m\n",
      "\u001b[31m2018-06-03 18:17:26,088 INFO - root - Epoch[39] Validation-avg_dice_coef_metric=0.281860\u001b[0m\n",
      "\u001b[32m2018-06-03 18:17:33,929 INFO - root - Epoch[40] Train-avg_dice_coef_metric=0.227982\u001b[0m\n",
      "\u001b[32m2018-06-03 18:17:33,929 INFO - root - Epoch[40] Time cost=8.474\u001b[0m\n",
      "\u001b[31m2018-06-03 18:17:34,386 INFO - root - Epoch[40] Train-avg_dice_coef_metric=0.243261\u001b[0m\n",
      "\u001b[31m2018-06-03 18:17:34,386 INFO - root - Epoch[40] Time cost=8.298\u001b[0m\n",
      "\u001b[32m2018-06-03 18:17:36,464 INFO - root - Epoch[40] Validation-avg_dice_coef_metric=0.282010\u001b[0m\n",
      "\u001b[31m2018-06-03 18:17:36,948 INFO - root - Epoch[40] Validation-avg_dice_coef_metric=0.263764\u001b[0m\n",
      "\u001b[32m2018-06-03 18:17:44,893 INFO - root - Epoch[41] Train-avg_dice_coef_metric=0.242805\u001b[0m\n",
      "\u001b[32m2018-06-03 18:17:44,893 INFO - root - Epoch[41] Time cost=8.429\u001b[0m\n",
      "\u001b[31m2018-06-03 18:17:45,375 INFO - root - Epoch[41] Train-avg_dice_coef_metric=0.240206\u001b[0m\n",
      "\u001b[31m2018-06-03 18:17:45,375 INFO - root - Epoch[41] Time cost=8.427\u001b[0m\n",
      "\u001b[32m2018-06-03 18:17:47,431 INFO - root - Epoch[41] Validation-avg_dice_coef_metric=0.282772\u001b[0m\n",
      "\u001b[31m2018-06-03 18:17:47,880 INFO - root - Epoch[41] Validation-avg_dice_coef_metric=0.281409\u001b[0m\n",
      "\u001b[32m2018-06-03 18:17:55,611 INFO - root - Epoch[42] Train-avg_dice_coef_metric=0.235120\u001b[0m\n",
      "\u001b[32m2018-06-03 18:17:55,611 INFO - root - Epoch[42] Time cost=8.180\u001b[0m\n",
      "\u001b[31m2018-06-03 18:17:56,101 INFO - root - Epoch[42] Train-avg_dice_coef_metric=0.238253\u001b[0m\n",
      "\u001b[31m2018-06-03 18:17:56,101 INFO - root - Epoch[42] Time cost=8.221\u001b[0m\n",
      "\u001b[32m2018-06-03 18:17:58,078 INFO - root - Epoch[42] Validation-avg_dice_coef_metric=0.250927\u001b[0m\n",
      "\u001b[31m2018-06-03 18:17:58,675 INFO - root - Epoch[42] Validation-avg_dice_coef_metric=0.280339\u001b[0m\n",
      "\u001b[32m2018-06-03 18:18:06,478 INFO - root - Epoch[43] Train-avg_dice_coef_metric=0.230456\u001b[0m\n",
      "\u001b[32m2018-06-03 18:18:06,478 INFO - root - Epoch[43] Time cost=8.400\u001b[0m\n",
      "\u001b[31m2018-06-03 18:18:07,266 INFO - root - Epoch[43] Train-avg_dice_coef_metric=0.228917\u001b[0m\n",
      "\u001b[31m2018-06-03 18:18:07,267 INFO - root - Epoch[43] Time cost=8.592\u001b[0m\n",
      "\u001b[32m2018-06-03 18:18:08,956 INFO - root - Epoch[43] Validation-avg_dice_coef_metric=0.262292\u001b[0m\n",
      "\u001b[31m2018-06-03 18:18:09,945 INFO - root - Epoch[43] Validation-avg_dice_coef_metric=0.286132\u001b[0m\n",
      "\u001b[32m2018-06-03 18:18:17,427 INFO - root - Epoch[44] Train-avg_dice_coef_metric=0.232009\u001b[0m\n",
      "\u001b[32m2018-06-03 18:18:17,427 INFO - root - Epoch[44] Time cost=8.471\u001b[0m\n",
      "\u001b[31m2018-06-03 18:18:18,406 INFO - root - Epoch[44] Train-avg_dice_coef_metric=0.240684\u001b[0m\n",
      "\u001b[31m2018-06-03 18:18:18,407 INFO - root - Epoch[44] Time cost=8.461\u001b[0m\n",
      "\u001b[32m2018-06-03 18:18:19,961 INFO - root - Epoch[44] Validation-avg_dice_coef_metric=0.272977\u001b[0m\n",
      "\u001b[31m2018-06-03 18:18:20,964 INFO - root - Epoch[44] Validation-avg_dice_coef_metric=0.269019\u001b[0m\n",
      "\u001b[32m2018-06-03 18:18:28,445 INFO - root - Epoch[45] Train-avg_dice_coef_metric=0.238080\u001b[0m\n",
      "\u001b[32m2018-06-03 18:18:28,445 INFO - root - Epoch[45] Time cost=8.484\u001b[0m\n",
      "\u001b[31m2018-06-03 18:18:29,242 INFO - root - Epoch[45] Train-avg_dice_coef_metric=0.232262\u001b[0m\n",
      "\u001b[31m2018-06-03 18:18:29,242 INFO - root - Epoch[45] Time cost=8.277\u001b[0m\n",
      "\u001b[32m2018-06-03 18:18:31,069 INFO - root - Epoch[45] Validation-avg_dice_coef_metric=0.273737\u001b[0m\n",
      "\u001b[31m2018-06-03 18:18:31,837 INFO - root - Epoch[45] Validation-avg_dice_coef_metric=0.247960\u001b[0m\n",
      "\u001b[32m2018-06-03 18:18:39,811 INFO - root - Epoch[46] Train-avg_dice_coef_metric=0.235189\u001b[0m\n",
      "\u001b[32m2018-06-03 18:18:39,811 INFO - root - Epoch[46] Time cost=8.742\u001b[0m\n",
      "\u001b[31m2018-06-03 18:18:40,326 INFO - root - Epoch[46] Train-avg_dice_coef_metric=0.230314\u001b[0m\n",
      "\u001b[31m2018-06-03 18:18:40,326 INFO - root - Epoch[46] Time cost=8.489\u001b[0m\n",
      "\u001b[32m2018-06-03 18:18:42,324 INFO - root - Epoch[46] Validation-avg_dice_coef_metric=0.265329\u001b[0m\n",
      "\u001b[31m2018-06-03 18:18:42,959 INFO - root - Epoch[46] Validation-avg_dice_coef_metric=0.283304\u001b[0m\n",
      "\u001b[32m2018-06-03 18:18:50,827 INFO - root - Epoch[47] Train-avg_dice_coef_metric=0.223556\u001b[0m\n",
      "\u001b[32m2018-06-03 18:18:50,827 INFO - root - Epoch[47] Time cost=8.503\u001b[0m\n",
      "\u001b[31m2018-06-03 18:18:51,389 INFO - root - Epoch[47] Train-avg_dice_coef_metric=0.233216\u001b[0m\n",
      "\u001b[31m2018-06-03 18:18:51,390 INFO - root - Epoch[47] Time cost=8.431\u001b[0m\n",
      "\u001b[32m2018-06-03 18:18:53,448 INFO - root - Epoch[47] Validation-avg_dice_coef_metric=0.264095\u001b[0m\n",
      "\u001b[31m2018-06-03 18:18:53,909 INFO - root - Epoch[47] Validation-avg_dice_coef_metric=0.265257\u001b[0m\n",
      "\u001b[32m2018-06-03 18:19:01,840 INFO - root - Epoch[48] Train-avg_dice_coef_metric=0.230180\u001b[0m\n",
      "\u001b[32m2018-06-03 18:19:01,840 INFO - root - Epoch[48] Time cost=8.392\u001b[0m\n",
      "\u001b[32m2018-06-03 18:19:04,355 INFO - root - Epoch[48] Validation-avg_dice_coef_metric=0.250259\u001b[0m\n",
      "\u001b[31m2018-06-03 18:19:02,123 INFO - root - Epoch[48] Train-avg_dice_coef_metric=0.231726\u001b[0m\n",
      "\u001b[31m2018-06-03 18:19:02,123 INFO - root - Epoch[48] Time cost=8.214\u001b[0m\n",
      "\u001b[31m2018-06-03 18:19:04,692 INFO - root - Epoch[48] Validation-avg_dice_coef_metric=0.263366\u001b[0m\n",
      "\u001b[31m2018-06-03 18:19:13,064 INFO - root - Epoch[49] Train-avg_dice_coef_metric=0.224627\u001b[0m\n",
      "\u001b[31m2018-06-03 18:19:13,064 INFO - root - Epoch[49] Time cost=8.371\u001b[0m\n",
      "\u001b[32m2018-06-03 18:19:12,753 INFO - root - Epoch[49] Train-avg_dice_coef_metric=0.220769\u001b[0m\n",
      "\u001b[32m2018-06-03 18:19:12,754 INFO - root - Epoch[49] Time cost=8.399\u001b[0m\n",
      "\u001b[32m2018-06-03 18:19:15,255 INFO - root - Epoch[49] Validation-avg_dice_coef_metric=0.214474\u001b[0m\n",
      "\u001b[31m2018-06-03 18:19:15,625 INFO - root - Epoch[49] Validation-avg_dice_coef_metric=0.254721\u001b[0m\n",
      "===== Job Complete =====\n",
      "Billable seconds: 1488\n"
     ]
    }
   ],
   "source": [
    "unet_distributed_estimator.fit({'train':distributed_train_s3,\n",
    "                            'test':validation_s3})"
   ]
  },
  {
   "cell_type": "markdown",
   "metadata": {},
   "source": [
    "## Inference Endpoints"
   ]
  },
  {
   "cell_type": "markdown",
   "metadata": {},
   "source": [
    "### Default Endpoint"
   ]
  },
  {
   "cell_type": "code",
   "execution_count": 230,
   "metadata": {},
   "outputs": [],
   "source": [
    "unet_endpoint = 'DEMO-unet-endpoint-' + time.strftime(\"%Y-%m-%d-%H-%M-%S\", time.gmtime())"
   ]
  },
  {
   "cell_type": "code",
   "execution_count": null,
   "metadata": {
    "scrolled": true
   },
   "outputs": [
    {
     "name": "stderr",
     "output_type": "stream",
     "text": [
      "INFO:sagemaker:Creating model with name: DEMO-unet-single-machine-job-2018-06-15-2018-06-15-01-18-49-169\n",
      "INFO:sagemaker:Creating endpoint with name DEMO-unet-endpoint-2018-06-15-02-37-46\n"
     ]
    },
    {
     "name": "stdout",
     "output_type": "stream",
     "text": [
      "-------------------------------------------------"
     ]
    }
   ],
   "source": [
    "unet_predictor = unet_single_machine_estimator.deploy(instance_type='ml.c5.xlarge', initial_instance_count=1,\n",
    "                                                     endpoint_name=unet_endpoint)"
   ]
  },
  {
   "cell_type": "code",
   "execution_count": 236,
   "metadata": {},
   "outputs": [],
   "source": [
    "response = unet_predictor.predict(test_brain.tolist())"
   ]
  },
  {
   "cell_type": "code",
   "execution_count": 237,
   "metadata": {
    "scrolled": true
   },
   "outputs": [
    {
     "data": {
      "text/plain": [
       "<matplotlib.image.AxesImage at 0x7fafc82e5590>"
      ]
     },
     "execution_count": 237,
     "metadata": {},
     "output_type": "execute_result"
    },
    {
     "data": {
      "image/png": "[encoded data removed]",
      "text/plain": [
       "<matplotlib.figure.Figure at 0x7faf745c66d0>"
      ]
     },
     "metadata": {},
     "output_type": "display_data"
    }
   ],
   "source": [
    "output = np.argmax(np.array(response), axis=(1))[0].astype(np.uint8)\n",
    "plt.imshow(output)"
   ]
  },
  {
   "cell_type": "code",
   "execution_count": 235,
   "metadata": {},
   "outputs": [
    {
     "data": {
      "text/plain": [
       "4"
      ]
     },
     "execution_count": 235,
     "metadata": {},
     "output_type": "execute_result"
    }
   ],
   "source": [
    "4"
   ]
  },
  {
   "cell_type": "markdown",
   "metadata": {},
   "source": [
    "### S3 Endpoint"
   ]
  },
  {
   "cell_type": "code",
   "execution_count": 493,
   "metadata": {},
   "outputs": [],
   "source": [
    "unet_s3_endpoint = 'DEMO-unet-s3-endpoint-' + time.strftime(\"%Y-%m-%d-%H-%M-%S\", time.gmtime())"
   ]
  },
  {
   "cell_type": "code",
   "execution_count": 494,
   "metadata": {},
   "outputs": [],
   "source": [
    "unet_single_machine_estimator.entry_point = \"brain_segmentation_s3_transform.py\""
   ]
  },
  {
   "cell_type": "code",
   "execution_count": 495,
   "metadata": {
    "scrolled": false
   },
   "outputs": [
    {
     "name": "stderr",
     "output_type": "stream",
     "text": [
      "INFO:sagemaker:Creating model with name: DEMO-unet-single-machine-job-2018-05-31-2018-05-31-20-08-46-514\n",
      "INFO:sagemaker:Creating endpoint with name DEMO-unet-s3-endpoint-2018-06-02-03-58-46\n"
     ]
    },
    {
     "name": "stdout",
     "output_type": "stream",
     "text": [
      "---------------------------------------------------------------!"
     ]
    }
   ],
   "source": [
    "unet_s3_predictor = unet_single_machine_estimator.deploy(instance_type='ml.c5.xlarge', initial_instance_count=1,\n",
    "                                                     endpoint_name=unet_s3_endpoint)"
   ]
  },
  {
   "cell_type": "code",
   "execution_count": 497,
   "metadata": {},
   "outputs": [],
   "source": [
    "response = unet_s3_predictor.predict([request_body])"
   ]
  },
  {
   "cell_type": "code",
   "execution_count": 498,
   "metadata": {},
   "outputs": [],
   "source": [
    "s3.download_file(Bucket=response['bucket'], Key=response['prefix'], Filename = \"result.png\")"
   ]
  },
  {
   "cell_type": "code",
   "execution_count": 500,
   "metadata": {},
   "outputs": [
    {
     "data": {
      "text/plain": [
       "<matplotlib.image.AxesImage at 0x7fa1940a7650>"
      ]
     },
     "execution_count": 500,
     "metadata": {},
     "output_type": "execute_result"
    },
    {
     "data": {
      "image/png": "[encoded data removed]",
      "text/plain": [
       "<matplotlib.figure.Figure at 0x7fa193e84f50>"
      ]
     },
     "metadata": {},
     "output_type": "display_data"
    }
   ],
   "source": [
    "plt.imshow(np.array(Image.open(\"result.png\")))"
   ]
  },
  {
   "cell_type": "markdown",
   "metadata": {},
   "source": [
    "## ENet - 1 Machine"
   ]
  },
  {
   "cell_type": "code",
   "execution_count": 227,
   "metadata": {},
   "outputs": [],
   "source": [
    "enet_single_machine_job = 'DEMO-enet-single-machine-job-' + time.strftime(\"%Y-%m-%d-%H-%M-%S\", time.gmtime())"
   ]
  },
  {
   "cell_type": "code",
   "execution_count": 228,
   "metadata": {
    "scrolled": true
   },
   "outputs": [],
   "source": [
    "enet_single_machine_estimator = MXNet(entry_point='brain_segmentation.py',\n",
    "                                                base_job_name = enet_single_machine_job,\n",
    "                                                source_dir = 'source_dir',\n",
    "                                                role=role,\n",
    "                                                train_instance_count=1, \n",
    "                                                train_instance_type='ml.p3.2xlarge',\n",
    "                                                hyperparameters={\n",
    "                                                    'learning_rate': 1E-3,\n",
    "                                                    'class_weights': [[ 1.35, 17.18,  8.29, 12.42]],\n",
    "                                                    'network':'enet',\n",
    "                                                    'batch_size': 32,\n",
    "                                            })"
   ]
  },
  {
   "cell_type": "code",
   "execution_count": 229,
   "metadata": {
    "scrolled": true
   },
   "outputs": [
    {
     "name": "stderr",
     "output_type": "stream",
     "text": [
      "INFO:sagemaker:Created S3 bucket: sagemaker-us-east-1-288000045208\n",
      "INFO:sagemaker:Creating training-job with name: DEMO-enet-single-machine-job-2018-06-15-2018-06-15-01-49-51-697\n"
     ]
    },
    {
     "name": "stdout",
     "output_type": "stream",
     "text": [
      "....................................\n",
      "\u001b[31m2018-06-15 01:55:43,888 INFO - root - running container entrypoint\u001b[0m\n",
      "\u001b[31m2018-06-15 01:55:43,889 INFO - root - starting train task\u001b[0m\n",
      "\u001b[31m2018-06-15 01:55:43,909 INFO - container_support.training - Training starting\u001b[0m\n",
      "\u001b[31m2018-06-15 01:55:44,847 INFO - mxnet_container.train - MXNetTrainingEnvironment: {'enable_cloudwatch_metrics': False, 'available_gpus': 1, 'channels': {u'test': {u'TrainingInputMode': u'File', u'RecordWrapperType': u'None', u'S3DistributionType': u'FullyReplicated'}, u'train': {u'TrainingInputMode': u'File', u'RecordWrapperType': u'None', u'S3DistributionType': u'FullyReplicated'}}, '_ps_verbose': 0, 'resource_config': {u'current_host': u'algo-1', u'network_interface_name': u'ethwe', u'hosts': [u'algo-1']}, 'user_script_name': u'brain_segmentation.py', 'input_config_dir': '/opt/ml/input/config', 'channel_dirs': {u'test': u'/opt/ml/input/data/test', u'train': u'/opt/ml/input/data/train'}, 'code_dir': '/opt/ml/code', 'output_data_dir': '/opt/ml/output/data/', 'output_dir': '/opt/ml/output', 'model_dir': '/opt/ml/model', 'hyperparameters': {u'sagemaker_program': u'brain_segmentation.py', u'network': u'enet', u'class_weights': [[1.35, 17.18, 8.29, 12.42]], u'learning_rate': 0.001, u'batch_size': 32, u'sagemaker_submit_directory': u's3://sagemaker-us-east-1-288000045208/DEMO-enet-single-machine-job-2018-06-15-2018-06-15-01-49-51-697/source/sourcedir.tar.gz', u'sagemaker_region': u'us-east-1', u'sagemaker_enable_cloudwatch_metrics': False, u'sagemaker_job_name': u'DEMO-enet-single-machine-job-2018-06-15-2018-06-15-01-49-51-697', u'sagemaker_container_log_level': 20}, 'hosts': [u'algo-1'], 'job_name': 'DEMO-enet-single-machine-job-2018-06-15-2018-06-15-01-49-51-697', '_ps_port': 8000, 'user_script_archive': u's3://sagemaker-us-east-1-288000045208/DEMO-enet-single-machine-job-2018-06-15-2018-06-15-01-49-51-697/source/sourcedir.tar.gz', '_scheduler_host': u'algo-1', 'sagemaker_region': u'us-east-1', '_scheduler_ip': '10.32.0.4', 'input_dir': '/opt/ml/input', 'user_requirements_file': None, 'current_host': u'algo-1', 'container_log_level': 20, 'available_cpus': 8, 'base_dir': '/opt/ml'}\u001b[0m\n",
      "\u001b[31mDownloading s3://sagemaker-us-east-1-288000045208/DEMO-enet-single-machine-job-2018-06-15-2018-06-15-01-49-51-697/source/sourcedir.tar.gz to /tmp/script.tar.gz\u001b[0m\n",
      "\u001b[31m2018-06-15 01:55:44,953 INFO - botocore.vendored.requests.packages.urllib3.connectionpool - Starting new HTTP connection (1): 169.254.170.2\u001b[0m\n",
      "\u001b[31m2018-06-15 01:55:45,055 INFO - botocore.vendored.requests.packages.urllib3.connectionpool - Starting new HTTPS connection (1): sagemaker-us-east-1-288000045208.s3.amazonaws.com\u001b[0m\n",
      "\u001b[31m2018-06-15 01:55:45,177 INFO - mxnet_container.train - Starting distributed training task\u001b[0m\n",
      "\u001b[31m1.1.0\u001b[0m\n",
      "\u001b[31mSym loaded\u001b[0m\n",
      "\u001b[31mStarting fit\u001b[0m\n",
      "\u001b[31m[01:55:55] src/operator/nn/./cudnn/./cudnn_algoreg-inl.h:107: Running performance tests to find the best convolution algorithm, this can take a while... (setting env variable MXNET_CUDNN_AUTOTUNE_DEFAULT to 0 to disable)\u001b[0m\n",
      "\u001b[31m[01:55:55] src/operator/nn/./cudnn/./cudnn_algoreg-inl.h:107: Running performance tests to find the best convolution algorithm, this can take a while... (setting env variable MXNET_CUDNN_AUTOTUNE_DEFAULT to 0 to disable)\u001b[0m\n",
      "\u001b[31m2018-06-15 01:56:05,915 INFO - root - Epoch[0] Train-avg_dice_coef_metric=0.755130\u001b[0m\n",
      "\u001b[31m2018-06-15 01:56:05,915 INFO - root - Epoch[0] Time cost=10.164\u001b[0m\n",
      "\u001b[31m2018-06-15 01:56:07,812 INFO - root - Epoch[0] Validation-avg_dice_coef_metric=0.665292\u001b[0m\n",
      "\u001b[31m2018-06-15 01:56:17,920 INFO - root - Epoch[1] Train-avg_dice_coef_metric=0.566457\u001b[0m\n",
      "\u001b[31m2018-06-15 01:56:17,921 INFO - root - Epoch[1] Time cost=10.108\u001b[0m\n",
      "\u001b[31m2018-06-15 01:56:19,798 INFO - root - Epoch[1] Validation-avg_dice_coef_metric=0.492886\u001b[0m\n",
      "\u001b[31m2018-06-15 01:56:29,600 INFO - root - Epoch[2] Train-avg_dice_coef_metric=0.434810\u001b[0m\n",
      "\u001b[31m2018-06-15 01:56:29,601 INFO - root - Epoch[2] Time cost=9.803\u001b[0m\n",
      "\u001b[31m2018-06-15 01:56:31,527 INFO - root - Epoch[2] Validation-avg_dice_coef_metric=0.412169\u001b[0m\n",
      "\u001b[31m2018-06-15 01:56:41,499 INFO - root - Epoch[3] Train-avg_dice_coef_metric=0.393840\u001b[0m\n",
      "\u001b[31m2018-06-15 01:56:41,500 INFO - root - Epoch[3] Time cost=9.973\u001b[0m\n",
      "\u001b[31m2018-06-15 01:56:43,405 INFO - root - Epoch[3] Validation-avg_dice_coef_metric=0.379960\u001b[0m\n",
      "\u001b[31m2018-06-15 01:56:53,276 INFO - root - Epoch[4] Train-avg_dice_coef_metric=0.354186\u001b[0m\n",
      "\u001b[31m2018-06-15 01:56:53,276 INFO - root - Epoch[4] Time cost=9.871\u001b[0m\n",
      "\u001b[31m2018-06-15 01:56:55,256 INFO - root - Epoch[4] Validation-avg_dice_coef_metric=0.311195\u001b[0m\n",
      "\u001b[31m2018-06-15 01:57:05,170 INFO - root - Epoch[5] Train-avg_dice_coef_metric=0.213790\u001b[0m\n",
      "\u001b[31m2018-06-15 01:57:05,170 INFO - root - Epoch[5] Time cost=9.914\u001b[0m\n",
      "\u001b[31m2018-06-15 01:57:07,188 INFO - root - Epoch[5] Validation-avg_dice_coef_metric=0.210775\u001b[0m\n",
      "\u001b[31m2018-06-15 01:57:17,039 INFO - root - Epoch[6] Train-avg_dice_coef_metric=0.197106\u001b[0m\n",
      "\u001b[31m2018-06-15 01:57:17,039 INFO - root - Epoch[6] Time cost=9.851\u001b[0m\n",
      "\u001b[31m2018-06-15 01:57:18,932 INFO - root - Epoch[6] Validation-avg_dice_coef_metric=0.184280\u001b[0m\n",
      "\u001b[31m2018-06-15 01:57:28,937 INFO - root - Epoch[7] Train-avg_dice_coef_metric=0.188151\u001b[0m\n",
      "\u001b[31m2018-06-15 01:57:28,937 INFO - root - Epoch[7] Time cost=10.005\u001b[0m\n",
      "\u001b[31m2018-06-15 01:57:30,837 INFO - root - Epoch[7] Validation-avg_dice_coef_metric=0.191180\u001b[0m\n",
      "\u001b[31m2018-06-15 01:57:40,716 INFO - root - Epoch[8] Train-avg_dice_coef_metric=0.186186\u001b[0m\n",
      "\u001b[31m2018-06-15 01:57:40,716 INFO - root - Epoch[8] Time cost=9.879\u001b[0m\n",
      "\u001b[31m2018-06-15 01:57:42,687 INFO - root - Epoch[8] Validation-avg_dice_coef_metric=0.203367\u001b[0m\n",
      "\u001b[31m2018-06-15 01:57:52,615 INFO - root - Epoch[9] Train-avg_dice_coef_metric=0.184667\u001b[0m\n",
      "\u001b[31m2018-06-15 01:57:52,615 INFO - root - Epoch[9] Time cost=9.928\u001b[0m\n",
      "\u001b[31m2018-06-15 01:57:54,564 INFO - root - Epoch[9] Validation-avg_dice_coef_metric=0.188001\u001b[0m\n",
      "\u001b[31m2018-06-15 01:58:04,585 INFO - root - Epoch[10] Train-avg_dice_coef_metric=0.181102\u001b[0m\n",
      "\u001b[31m2018-06-15 01:58:04,586 INFO - root - Epoch[10] Time cost=10.021\u001b[0m\n",
      "\u001b[31m2018-06-15 01:58:06,473 INFO - root - Epoch[10] Validation-avg_dice_coef_metric=0.181930\u001b[0m\n",
      "\u001b[31m2018-06-15 01:58:16,523 INFO - root - Epoch[11] Train-avg_dice_coef_metric=0.179270\u001b[0m\n",
      "\u001b[31m2018-06-15 01:58:16,523 INFO - root - Epoch[11] Time cost=10.050\u001b[0m\n",
      "\u001b[31m2018-06-15 01:58:18,486 INFO - root - Epoch[11] Validation-avg_dice_coef_metric=0.174621\u001b[0m\n",
      "\u001b[31m2018-06-15 01:58:28,403 INFO - root - Epoch[12] Train-avg_dice_coef_metric=0.174742\u001b[0m\n",
      "\u001b[31m2018-06-15 01:58:28,403 INFO - root - Epoch[12] Time cost=9.917\u001b[0m\n",
      "\u001b[31m2018-06-15 01:58:30,303 INFO - root - Epoch[12] Validation-avg_dice_coef_metric=0.179820\u001b[0m\n",
      "\u001b[31m2018-06-15 01:58:40,220 INFO - root - Epoch[13] Train-avg_dice_coef_metric=0.178099\u001b[0m\n",
      "\u001b[31m2018-06-15 01:58:40,220 INFO - root - Epoch[13] Time cost=9.916\u001b[0m\n",
      "\u001b[31m2018-06-15 01:58:42,187 INFO - root - Epoch[13] Validation-avg_dice_coef_metric=0.179126\u001b[0m\n",
      "\u001b[31m2018-06-15 01:58:52,111 INFO - root - Epoch[14] Train-avg_dice_coef_metric=0.177312\u001b[0m\n",
      "\u001b[31m2018-06-15 01:58:52,111 INFO - root - Epoch[14] Time cost=9.924\u001b[0m\n",
      "\u001b[31m2018-06-15 01:58:54,084 INFO - root - Epoch[14] Validation-avg_dice_coef_metric=0.178961\u001b[0m\n",
      "\u001b[31m2018-06-15 01:59:04,308 INFO - root - Epoch[15] Train-avg_dice_coef_metric=0.174637\u001b[0m\n",
      "\u001b[31m2018-06-15 01:59:04,309 INFO - root - Epoch[15] Time cost=10.224\u001b[0m\n",
      "\u001b[31m2018-06-15 01:59:06,212 INFO - root - Epoch[15] Validation-avg_dice_coef_metric=0.171474\u001b[0m\n",
      "\u001b[31m2018-06-15 01:59:16,207 INFO - root - Epoch[16] Train-avg_dice_coef_metric=0.174621\u001b[0m\n",
      "\u001b[31m2018-06-15 01:59:16,207 INFO - root - Epoch[16] Time cost=9.995\u001b[0m\n",
      "\u001b[31m2018-06-15 01:59:18,148 INFO - root - Epoch[16] Validation-avg_dice_coef_metric=0.178105\u001b[0m\n",
      "\u001b[31m2018-06-15 01:59:28,145 INFO - root - Epoch[17] Train-avg_dice_coef_metric=0.175071\u001b[0m\n",
      "\u001b[31m2018-06-15 01:59:28,146 INFO - root - Epoch[17] Time cost=9.998\u001b[0m\n",
      "\u001b[31m2018-06-15 01:59:30,063 INFO - root - Epoch[17] Validation-avg_dice_coef_metric=0.199526\u001b[0m\n",
      "\u001b[31m2018-06-15 01:59:40,013 INFO - root - Epoch[18] Train-avg_dice_coef_metric=0.169655\u001b[0m\n",
      "\u001b[31m2018-06-15 01:59:40,013 INFO - root - Epoch[18] Time cost=9.949\u001b[0m\n",
      "\u001b[31m2018-06-15 01:59:41,966 INFO - root - Epoch[18] Validation-avg_dice_coef_metric=0.176553\u001b[0m\n"
     ]
    },
    {
     "name": "stdout",
     "output_type": "stream",
     "text": [
      "\u001b[31m2018-06-15 01:59:52,046 INFO - root - Epoch[19] Train-avg_dice_coef_metric=0.172250\u001b[0m\n",
      "\u001b[31m2018-06-15 01:59:52,046 INFO - root - Epoch[19] Time cost=10.080\u001b[0m\n",
      "\u001b[31m2018-06-15 01:59:54,065 INFO - root - Epoch[19] Validation-avg_dice_coef_metric=0.180918\u001b[0m\n",
      "\u001b[31m2018-06-15 02:00:04,293 INFO - root - Epoch[20] Train-avg_dice_coef_metric=0.172102\u001b[0m\n",
      "\u001b[31m2018-06-15 02:00:04,293 INFO - root - Epoch[20] Time cost=10.228\u001b[0m\n",
      "\u001b[31m2018-06-15 02:00:06,240 INFO - root - Epoch[20] Validation-avg_dice_coef_metric=0.170995\u001b[0m\n",
      "\u001b[31m2018-06-15 02:00:16,329 INFO - root - Epoch[21] Train-avg_dice_coef_metric=0.171932\u001b[0m\n",
      "\u001b[31m2018-06-15 02:00:16,330 INFO - root - Epoch[21] Time cost=10.090\u001b[0m\n",
      "\u001b[31m2018-06-15 02:00:18,260 INFO - root - Epoch[21] Validation-avg_dice_coef_metric=0.183940\u001b[0m\n",
      "\u001b[31m2018-06-15 02:00:28,119 INFO - root - Epoch[22] Train-avg_dice_coef_metric=0.163925\u001b[0m\n",
      "\u001b[31m2018-06-15 02:00:28,119 INFO - root - Epoch[22] Time cost=9.859\u001b[0m\n",
      "\u001b[31m2018-06-15 02:00:30,075 INFO - root - Epoch[22] Validation-avg_dice_coef_metric=0.170168\u001b[0m\n",
      "\u001b[31m2018-06-15 02:00:40,256 INFO - root - Epoch[23] Train-avg_dice_coef_metric=0.162770\u001b[0m\n",
      "\u001b[31m2018-06-15 02:00:40,256 INFO - root - Epoch[23] Time cost=10.182\u001b[0m\n",
      "\u001b[31m2018-06-15 02:00:42,218 INFO - root - Epoch[23] Validation-avg_dice_coef_metric=0.150324\u001b[0m\n",
      "\u001b[31m2018-06-15 02:00:52,159 INFO - root - Epoch[24] Train-avg_dice_coef_metric=0.146906\u001b[0m\n",
      "\u001b[31m2018-06-15 02:00:52,159 INFO - root - Epoch[24] Time cost=9.941\u001b[0m\n",
      "\u001b[31m2018-06-15 02:00:54,146 INFO - root - Epoch[24] Validation-avg_dice_coef_metric=0.150910\u001b[0m\n",
      "\u001b[31m2018-06-15 02:01:04,123 INFO - root - Epoch[25] Train-avg_dice_coef_metric=0.143648\u001b[0m\n",
      "\u001b[31m2018-06-15 02:01:04,123 INFO - root - Epoch[25] Time cost=9.977\u001b[0m\n",
      "\u001b[31m2018-06-15 02:01:06,060 INFO - root - Epoch[25] Validation-avg_dice_coef_metric=0.168822\u001b[0m\n",
      "\u001b[31m2018-06-15 02:01:15,983 INFO - root - Epoch[26] Train-avg_dice_coef_metric=0.147584\u001b[0m\n",
      "\u001b[31m2018-06-15 02:01:15,984 INFO - root - Epoch[26] Time cost=9.923\u001b[0m\n",
      "\u001b[31m2018-06-15 02:01:17,888 INFO - root - Epoch[26] Validation-avg_dice_coef_metric=0.157558\u001b[0m\n",
      "\u001b[31m2018-06-15 02:01:27,984 INFO - root - Epoch[27] Train-avg_dice_coef_metric=0.142060\u001b[0m\n",
      "\u001b[31m2018-06-15 02:01:27,984 INFO - root - Epoch[27] Time cost=10.095\u001b[0m\n",
      "\u001b[31m2018-06-15 02:01:29,945 INFO - root - Epoch[27] Validation-avg_dice_coef_metric=0.154261\u001b[0m\n",
      "\u001b[31m2018-06-15 02:01:39,934 INFO - root - Epoch[28] Train-avg_dice_coef_metric=0.142830\u001b[0m\n",
      "\u001b[31m2018-06-15 02:01:39,934 INFO - root - Epoch[28] Time cost=9.989\u001b[0m\n",
      "\u001b[31m2018-06-15 02:01:41,830 INFO - root - Epoch[28] Validation-avg_dice_coef_metric=0.147957\u001b[0m\n",
      "\u001b[31m2018-06-15 02:01:51,788 INFO - root - Epoch[29] Train-avg_dice_coef_metric=0.136999\u001b[0m\n",
      "\u001b[31m2018-06-15 02:01:51,788 INFO - root - Epoch[29] Time cost=9.958\u001b[0m\n",
      "\u001b[31m2018-06-15 02:01:53,730 INFO - root - Epoch[29] Validation-avg_dice_coef_metric=0.152805\u001b[0m\n",
      "\u001b[31m2018-06-15 02:02:03,738 INFO - root - Epoch[30] Train-avg_dice_coef_metric=0.141829\u001b[0m\n",
      "\u001b[31m2018-06-15 02:02:03,739 INFO - root - Epoch[30] Time cost=10.008\u001b[0m\n",
      "\u001b[31m2018-06-15 02:02:05,730 INFO - root - Epoch[30] Validation-avg_dice_coef_metric=0.145562\u001b[0m\n",
      "\u001b[31m2018-06-15 02:02:15,870 INFO - root - Epoch[31] Train-avg_dice_coef_metric=0.146998\u001b[0m\n",
      "\u001b[31m2018-06-15 02:02:15,870 INFO - root - Epoch[31] Time cost=10.140\u001b[0m\n",
      "\u001b[31m2018-06-15 02:02:17,819 INFO - root - Epoch[31] Validation-avg_dice_coef_metric=0.155537\u001b[0m\n",
      "\u001b[31m2018-06-15 02:02:27,786 INFO - root - Epoch[32] Train-avg_dice_coef_metric=0.137965\u001b[0m\n",
      "\u001b[31m2018-06-15 02:02:27,786 INFO - root - Epoch[32] Time cost=9.967\u001b[0m\n",
      "\u001b[31m2018-06-15 02:02:29,764 INFO - root - Epoch[32] Validation-avg_dice_coef_metric=0.140972\u001b[0m\n",
      "\u001b[31m2018-06-15 02:02:39,914 INFO - root - Epoch[33] Train-avg_dice_coef_metric=0.134197\u001b[0m\n",
      "\u001b[31m2018-06-15 02:02:39,914 INFO - root - Epoch[33] Time cost=10.150\u001b[0m\n",
      "\u001b[31m2018-06-15 02:02:41,895 INFO - root - Epoch[33] Validation-avg_dice_coef_metric=0.141425\u001b[0m\n",
      "\u001b[31m2018-06-15 02:02:51,993 INFO - root - Epoch[34] Train-avg_dice_coef_metric=0.134991\u001b[0m\n",
      "\u001b[31m2018-06-15 02:02:51,993 INFO - root - Epoch[34] Time cost=10.098\u001b[0m\n",
      "\u001b[31m2018-06-15 02:02:53,983 INFO - root - Epoch[34] Validation-avg_dice_coef_metric=0.141539\u001b[0m\n",
      "\u001b[31m2018-06-15 02:03:04,135 INFO - root - Epoch[35] Train-avg_dice_coef_metric=0.134633\u001b[0m\n",
      "\u001b[31m2018-06-15 02:03:04,135 INFO - root - Epoch[35] Time cost=10.152\u001b[0m\n",
      "\u001b[31m2018-06-15 02:03:06,085 INFO - root - Epoch[35] Validation-avg_dice_coef_metric=0.145665\u001b[0m\n",
      "\u001b[31m2018-06-15 02:03:16,045 INFO - root - Epoch[36] Train-avg_dice_coef_metric=0.134960\u001b[0m\n",
      "\u001b[31m2018-06-15 02:03:16,045 INFO - root - Epoch[36] Time cost=9.960\u001b[0m\n",
      "\u001b[31m2018-06-15 02:03:18,039 INFO - root - Epoch[36] Validation-avg_dice_coef_metric=0.143496\u001b[0m\n",
      "\u001b[31m2018-06-15 02:03:28,045 INFO - root - Epoch[37] Train-avg_dice_coef_metric=0.136896\u001b[0m\n",
      "\u001b[31m2018-06-15 02:03:28,046 INFO - root - Epoch[37] Time cost=10.006\u001b[0m\n",
      "\u001b[31m2018-06-15 02:03:30,036 INFO - root - Epoch[37] Validation-avg_dice_coef_metric=0.140483\u001b[0m\n",
      "\u001b[31m2018-06-15 02:03:39,981 INFO - root - Epoch[38] Train-avg_dice_coef_metric=0.132157\u001b[0m\n",
      "\u001b[31m2018-06-15 02:03:39,981 INFO - root - Epoch[38] Time cost=9.945\u001b[0m\n",
      "\u001b[31m2018-06-15 02:03:41,993 INFO - root - Epoch[38] Validation-avg_dice_coef_metric=0.136130\u001b[0m\n",
      "\u001b[31m2018-06-15 02:03:52,120 INFO - root - Epoch[39] Train-avg_dice_coef_metric=0.131290\u001b[0m\n",
      "\u001b[31m2018-06-15 02:03:52,120 INFO - root - Epoch[39] Time cost=10.127\u001b[0m\n",
      "\u001b[31m2018-06-15 02:03:54,113 INFO - root - Epoch[39] Validation-avg_dice_coef_metric=0.140488\u001b[0m\n",
      "\u001b[31m2018-06-15 02:04:04,218 INFO - root - Epoch[40] Train-avg_dice_coef_metric=0.136405\u001b[0m\n",
      "\u001b[31m2018-06-15 02:04:04,218 INFO - root - Epoch[40] Time cost=10.104\u001b[0m\n",
      "\u001b[31m2018-06-15 02:04:06,231 INFO - root - Epoch[40] Validation-avg_dice_coef_metric=0.147607\u001b[0m\n",
      "\u001b[31m2018-06-15 02:04:16,217 INFO - root - Epoch[41] Train-avg_dice_coef_metric=0.135408\u001b[0m\n",
      "\u001b[31m2018-06-15 02:04:16,217 INFO - root - Epoch[41] Time cost=9.986\u001b[0m\n",
      "\u001b[31m2018-06-15 02:04:18,286 INFO - root - Epoch[41] Validation-avg_dice_coef_metric=0.141385\u001b[0m\n",
      "\u001b[31m2018-06-15 02:04:28,192 INFO - root - Epoch[42] Train-avg_dice_coef_metric=0.133376\u001b[0m\n",
      "\u001b[31m2018-06-15 02:04:28,192 INFO - root - Epoch[42] Time cost=9.906\u001b[0m\n",
      "\u001b[31m2018-06-15 02:04:30,151 INFO - root - Epoch[42] Validation-avg_dice_coef_metric=0.147005\u001b[0m\n",
      "\u001b[31m2018-06-15 02:04:40,261 INFO - root - Epoch[43] Train-avg_dice_coef_metric=0.142365\u001b[0m\n",
      "\u001b[31m2018-06-15 02:04:40,261 INFO - root - Epoch[43] Time cost=10.110\u001b[0m\n",
      "\u001b[31m2018-06-15 02:04:42,306 INFO - root - Epoch[43] Validation-avg_dice_coef_metric=0.147091\u001b[0m\n",
      "\u001b[31m2018-06-15 02:04:52,179 INFO - root - Epoch[44] Train-avg_dice_coef_metric=0.131244\u001b[0m\n",
      "\u001b[31m2018-06-15 02:04:52,179 INFO - root - Epoch[44] Time cost=9.873\u001b[0m\n",
      "\u001b[31m2018-06-15 02:04:54,139 INFO - root - Epoch[44] Validation-avg_dice_coef_metric=0.137467\u001b[0m\n",
      "\u001b[31m2018-06-15 02:05:04,150 INFO - root - Epoch[45] Train-avg_dice_coef_metric=0.129425\u001b[0m\n",
      "\u001b[31m2018-06-15 02:05:04,150 INFO - root - Epoch[45] Time cost=10.011\u001b[0m\n",
      "\u001b[31m2018-06-15 02:05:06,173 INFO - root - Epoch[45] Validation-avg_dice_coef_metric=0.139234\u001b[0m\n",
      "\u001b[31m2018-06-15 02:05:16,286 INFO - root - Epoch[46] Train-avg_dice_coef_metric=0.127469\u001b[0m\n",
      "\u001b[31m2018-06-15 02:05:16,286 INFO - root - Epoch[46] Time cost=10.113\u001b[0m\n",
      "\u001b[31m2018-06-15 02:05:18,313 INFO - root - Epoch[46] Validation-avg_dice_coef_metric=0.132937\u001b[0m\n",
      "\u001b[31m2018-06-15 02:05:28,484 INFO - root - Epoch[47] Train-avg_dice_coef_metric=0.126632\u001b[0m\n",
      "\u001b[31m2018-06-15 02:05:28,485 INFO - root - Epoch[47] Time cost=10.171\u001b[0m\n",
      "\u001b[31m2018-06-15 02:05:30,464 INFO - root - Epoch[47] Validation-avg_dice_coef_metric=0.136025\u001b[0m\n",
      "\u001b[31m2018-06-15 02:05:40,499 INFO - root - Epoch[48] Train-avg_dice_coef_metric=0.125448\u001b[0m\n",
      "\u001b[31m2018-06-15 02:05:40,500 INFO - root - Epoch[48] Time cost=10.035\u001b[0m\n",
      "\u001b[31m2018-06-15 02:05:42,534 INFO - root - Epoch[48] Validation-avg_dice_coef_metric=0.135487\u001b[0m\n",
      "\u001b[31m2018-06-15 02:05:52,567 INFO - root - Epoch[49] Train-avg_dice_coef_metric=0.128551\u001b[0m\n",
      "\u001b[31m2018-06-15 02:05:52,567 INFO - root - Epoch[49] Time cost=10.033\u001b[0m\n",
      "\u001b[31m2018-06-15 02:05:54,546 INFO - root - Epoch[49] Validation-avg_dice_coef_metric=0.135904\u001b[0m\n"
     ]
    },
    {
     "name": "stdout",
     "output_type": "stream",
     "text": [
      "\u001b[31m2018-06-15 02:06:04,615 INFO - root - Epoch[50] Train-avg_dice_coef_metric=0.130713\u001b[0m\n",
      "\u001b[31m2018-06-15 02:06:04,616 INFO - root - Epoch[50] Time cost=10.069\u001b[0m\n",
      "\u001b[31m2018-06-15 02:06:06,639 INFO - root - Epoch[50] Validation-avg_dice_coef_metric=0.134765\u001b[0m\n",
      "\u001b[31m2018-06-15 02:06:16,917 INFO - root - Epoch[51] Train-avg_dice_coef_metric=0.131437\u001b[0m\n",
      "\u001b[31m2018-06-15 02:06:16,917 INFO - root - Epoch[51] Time cost=10.278\u001b[0m\n",
      "\u001b[31m2018-06-15 02:06:18,856 INFO - root - Epoch[51] Validation-avg_dice_coef_metric=0.134026\u001b[0m\n",
      "\u001b[31m2018-06-15 02:06:28,816 INFO - root - Epoch[52] Train-avg_dice_coef_metric=0.125851\u001b[0m\n",
      "\u001b[31m2018-06-15 02:06:28,816 INFO - root - Epoch[52] Time cost=9.960\u001b[0m\n",
      "\u001b[31m2018-06-15 02:06:30,825 INFO - root - Epoch[52] Validation-avg_dice_coef_metric=0.138076\u001b[0m\n",
      "\u001b[31m2018-06-15 02:06:40,728 INFO - root - Epoch[53] Train-avg_dice_coef_metric=0.125798\u001b[0m\n",
      "\u001b[31m2018-06-15 02:06:40,728 INFO - root - Epoch[53] Time cost=9.902\u001b[0m\n",
      "\u001b[31m2018-06-15 02:06:42,736 INFO - root - Epoch[53] Validation-avg_dice_coef_metric=0.155527\u001b[0m\n",
      "\u001b[31m2018-06-15 02:06:52,690 INFO - root - Epoch[54] Train-avg_dice_coef_metric=0.129662\u001b[0m\n",
      "\u001b[31m2018-06-15 02:06:52,690 INFO - root - Epoch[54] Time cost=9.954\u001b[0m\n",
      "\u001b[31m2018-06-15 02:06:54,695 INFO - root - Epoch[54] Validation-avg_dice_coef_metric=0.138570\u001b[0m\n",
      "\u001b[31m2018-06-15 02:07:04,805 INFO - root - Epoch[55] Train-avg_dice_coef_metric=0.124628\u001b[0m\n",
      "\u001b[31m2018-06-15 02:07:04,805 INFO - root - Epoch[55] Time cost=10.110\u001b[0m\n",
      "\u001b[31m2018-06-15 02:07:06,845 INFO - root - Epoch[55] Validation-avg_dice_coef_metric=0.131029\u001b[0m\n",
      "\u001b[31m2018-06-15 02:07:16,967 INFO - root - Epoch[56] Train-avg_dice_coef_metric=0.124198\u001b[0m\n",
      "\u001b[31m2018-06-15 02:07:16,967 INFO - root - Epoch[56] Time cost=10.122\u001b[0m\n",
      "\u001b[31m2018-06-15 02:07:18,907 INFO - root - Epoch[56] Validation-avg_dice_coef_metric=0.136575\u001b[0m\n",
      "\u001b[31m2018-06-15 02:07:28,918 INFO - root - Epoch[57] Train-avg_dice_coef_metric=0.124016\u001b[0m\n",
      "\u001b[31m2018-06-15 02:07:28,918 INFO - root - Epoch[57] Time cost=10.010\u001b[0m\n",
      "\u001b[31m2018-06-15 02:07:30,946 INFO - root - Epoch[57] Validation-avg_dice_coef_metric=0.131102\u001b[0m\n",
      "\u001b[31m2018-06-15 02:07:40,863 INFO - root - Epoch[58] Train-avg_dice_coef_metric=0.122023\u001b[0m\n",
      "\u001b[31m2018-06-15 02:07:40,863 INFO - root - Epoch[58] Time cost=9.916\u001b[0m\n",
      "\u001b[31m2018-06-15 02:07:42,919 INFO - root - Epoch[58] Validation-avg_dice_coef_metric=0.132465\u001b[0m\n",
      "\u001b[31m2018-06-15 02:07:53,053 INFO - root - Epoch[59] Train-avg_dice_coef_metric=0.124625\u001b[0m\n",
      "\u001b[31m2018-06-15 02:07:53,053 INFO - root - Epoch[59] Time cost=10.134\u001b[0m\n",
      "\u001b[31m2018-06-15 02:07:55,068 INFO - root - Epoch[59] Validation-avg_dice_coef_metric=0.133856\u001b[0m\n",
      "\u001b[31m2018-06-15 02:08:05,040 INFO - root - Epoch[60] Train-avg_dice_coef_metric=0.121570\u001b[0m\n",
      "\u001b[31m2018-06-15 02:08:05,040 INFO - root - Epoch[60] Time cost=9.972\u001b[0m\n",
      "\u001b[31m2018-06-15 02:08:07,070 INFO - root - Epoch[60] Validation-avg_dice_coef_metric=0.131105\u001b[0m\n",
      "\u001b[31m2018-06-15 02:08:17,060 INFO - root - Epoch[61] Train-avg_dice_coef_metric=0.121776\u001b[0m\n",
      "\u001b[31m2018-06-15 02:08:17,060 INFO - root - Epoch[61] Time cost=9.990\u001b[0m\n",
      "\u001b[31m2018-06-15 02:08:19,101 INFO - root - Epoch[61] Validation-avg_dice_coef_metric=0.136885\u001b[0m\n",
      "\u001b[31m2018-06-15 02:08:29,168 INFO - root - Epoch[62] Train-avg_dice_coef_metric=0.131862\u001b[0m\n",
      "\u001b[31m2018-06-15 02:08:29,168 INFO - root - Epoch[62] Time cost=10.067\u001b[0m\n",
      "\u001b[31m2018-06-15 02:08:31,187 INFO - root - Epoch[62] Validation-avg_dice_coef_metric=0.134523\u001b[0m\n",
      "\u001b[31m2018-06-15 02:08:41,475 INFO - root - Epoch[63] Train-avg_dice_coef_metric=0.123882\u001b[0m\n",
      "\u001b[31m2018-06-15 02:08:41,475 INFO - root - Epoch[63] Time cost=10.287\u001b[0m\n",
      "\u001b[31m2018-06-15 02:08:43,449 INFO - root - Epoch[63] Validation-avg_dice_coef_metric=0.134124\u001b[0m\n",
      "\u001b[31m2018-06-15 02:08:53,454 INFO - root - Epoch[64] Train-avg_dice_coef_metric=0.120526\u001b[0m\n",
      "\u001b[31m2018-06-15 02:08:53,454 INFO - root - Epoch[64] Time cost=10.005\u001b[0m\n",
      "\u001b[31m2018-06-15 02:08:55,453 INFO - root - Epoch[64] Validation-avg_dice_coef_metric=0.129163\u001b[0m\n",
      "\u001b[31m2018-06-15 02:09:05,424 INFO - root - Epoch[65] Train-avg_dice_coef_metric=0.118393\u001b[0m\n",
      "\u001b[31m2018-06-15 02:09:05,425 INFO - root - Epoch[65] Time cost=9.971\u001b[0m\n",
      "\u001b[31m2018-06-15 02:09:07,424 INFO - root - Epoch[65] Validation-avg_dice_coef_metric=0.133828\u001b[0m\n",
      "\u001b[31m2018-06-15 02:09:17,496 INFO - root - Epoch[66] Train-avg_dice_coef_metric=0.122054\u001b[0m\n",
      "\u001b[31m2018-06-15 02:09:17,496 INFO - root - Epoch[66] Time cost=10.071\u001b[0m\n",
      "\u001b[31m2018-06-15 02:09:19,500 INFO - root - Epoch[66] Validation-avg_dice_coef_metric=0.136431\u001b[0m\n",
      "\u001b[31m2018-06-15 02:09:29,764 INFO - root - Epoch[67] Train-avg_dice_coef_metric=0.119658\u001b[0m\n",
      "\u001b[31m2018-06-15 02:09:29,764 INFO - root - Epoch[67] Time cost=10.264\u001b[0m\n",
      "\u001b[31m2018-06-15 02:09:31,712 INFO - root - Epoch[67] Validation-avg_dice_coef_metric=0.130987\u001b[0m\n",
      "\u001b[31m2018-06-15 02:09:41,888 INFO - root - Epoch[68] Train-avg_dice_coef_metric=0.121978\u001b[0m\n",
      "\u001b[31m2018-06-15 02:09:41,888 INFO - root - Epoch[68] Time cost=10.176\u001b[0m\n",
      "\u001b[31m2018-06-15 02:09:43,957 INFO - root - Epoch[68] Validation-avg_dice_coef_metric=0.133323\u001b[0m\n",
      "\u001b[31m2018-06-15 02:09:54,070 INFO - root - Epoch[69] Train-avg_dice_coef_metric=0.132967\u001b[0m\n",
      "\u001b[31m2018-06-15 02:09:54,070 INFO - root - Epoch[69] Time cost=10.113\u001b[0m\n",
      "\u001b[31m2018-06-15 02:09:56,069 INFO - root - Epoch[69] Validation-avg_dice_coef_metric=0.136398\u001b[0m\n",
      "\u001b[31m2018-06-15 02:10:06,157 INFO - root - Epoch[70] Train-avg_dice_coef_metric=0.129073\u001b[0m\n",
      "\u001b[31m2018-06-15 02:10:06,157 INFO - root - Epoch[70] Time cost=10.088\u001b[0m\n",
      "\u001b[31m2018-06-15 02:10:08,169 INFO - root - Epoch[70] Validation-avg_dice_coef_metric=0.137985\u001b[0m\n",
      "\u001b[31m2018-06-15 02:10:18,378 INFO - root - Epoch[71] Train-avg_dice_coef_metric=0.122662\u001b[0m\n",
      "\u001b[31m2018-06-15 02:10:18,378 INFO - root - Epoch[71] Time cost=10.209\u001b[0m\n",
      "\u001b[31m2018-06-15 02:10:20,321 INFO - root - Epoch[71] Validation-avg_dice_coef_metric=0.131589\u001b[0m\n",
      "\u001b[31m2018-06-15 02:10:30,341 INFO - root - Epoch[72] Train-avg_dice_coef_metric=0.121977\u001b[0m\n",
      "\u001b[31m2018-06-15 02:10:30,341 INFO - root - Epoch[72] Time cost=10.019\u001b[0m\n",
      "\u001b[31m2018-06-15 02:10:32,346 INFO - root - Epoch[72] Validation-avg_dice_coef_metric=0.130307\u001b[0m\n",
      "\u001b[31m2018-06-15 02:10:42,370 INFO - root - Epoch[73] Train-avg_dice_coef_metric=0.126824\u001b[0m\n",
      "\u001b[31m2018-06-15 02:10:42,370 INFO - root - Epoch[73] Time cost=10.024\u001b[0m\n",
      "\u001b[31m2018-06-15 02:10:44,351 INFO - root - Epoch[73] Validation-avg_dice_coef_metric=0.150283\u001b[0m\n",
      "\u001b[31m2018-06-15 02:10:54,478 INFO - root - Epoch[74] Train-avg_dice_coef_metric=0.121127\u001b[0m\n",
      "\u001b[31m2018-06-15 02:10:54,479 INFO - root - Epoch[74] Time cost=10.127\u001b[0m\n",
      "\u001b[31m2018-06-15 02:10:56,504 INFO - root - Epoch[74] Validation-avg_dice_coef_metric=0.131708\u001b[0m\n",
      "\u001b[31m2018-06-15 02:11:06,616 INFO - root - Epoch[75] Train-avg_dice_coef_metric=0.117812\u001b[0m\n",
      "\u001b[31m2018-06-15 02:11:06,616 INFO - root - Epoch[75] Time cost=10.112\u001b[0m\n",
      "\u001b[31m2018-06-15 02:11:08,672 INFO - root - Epoch[75] Validation-avg_dice_coef_metric=0.129077\u001b[0m\n",
      "\u001b[31m2018-06-15 02:11:18,802 INFO - root - Epoch[76] Train-avg_dice_coef_metric=0.118676\u001b[0m\n",
      "\u001b[31m2018-06-15 02:11:18,802 INFO - root - Epoch[76] Time cost=10.129\u001b[0m\n",
      "\u001b[31m2018-06-15 02:11:20,798 INFO - root - Epoch[76] Validation-avg_dice_coef_metric=0.139252\u001b[0m\n",
      "\u001b[31m2018-06-15 02:11:30,908 INFO - root - Epoch[77] Train-avg_dice_coef_metric=0.122951\u001b[0m\n",
      "\u001b[31m2018-06-15 02:11:30,908 INFO - root - Epoch[77] Time cost=10.109\u001b[0m\n",
      "\u001b[31m2018-06-15 02:11:32,918 INFO - root - Epoch[77] Validation-avg_dice_coef_metric=0.129346\u001b[0m\n",
      "\u001b[31m2018-06-15 02:11:43,004 INFO - root - Epoch[78] Train-avg_dice_coef_metric=0.117988\u001b[0m\n",
      "\u001b[31m2018-06-15 02:11:43,004 INFO - root - Epoch[78] Time cost=10.086\u001b[0m\n",
      "\u001b[31m2018-06-15 02:11:45,151 INFO - root - Epoch[78] Validation-avg_dice_coef_metric=0.156711\u001b[0m\n",
      "\u001b[31m2018-06-15 02:11:55,303 INFO - root - Epoch[79] Train-avg_dice_coef_metric=0.116133\u001b[0m\n",
      "\u001b[31m2018-06-15 02:11:55,303 INFO - root - Epoch[79] Time cost=10.152\u001b[0m\n",
      "\u001b[31m2018-06-15 02:11:57,334 INFO - root - Epoch[79] Validation-avg_dice_coef_metric=0.128849\u001b[0m\n",
      "\u001b[31m2018-06-15 02:12:07,379 INFO - root - Epoch[80] Train-avg_dice_coef_metric=0.115953\u001b[0m\n",
      "\u001b[31m2018-06-15 02:12:07,380 INFO - root - Epoch[80] Time cost=10.046\u001b[0m\n",
      "\u001b[31m2018-06-15 02:12:09,449 INFO - root - Epoch[80] Validation-avg_dice_coef_metric=0.131002\u001b[0m\n"
     ]
    },
    {
     "name": "stdout",
     "output_type": "stream",
     "text": [
      "\u001b[31m2018-06-15 02:12:19,431 INFO - root - Epoch[81] Train-avg_dice_coef_metric=0.117714\u001b[0m\n",
      "\u001b[31m2018-06-15 02:12:19,431 INFO - root - Epoch[81] Time cost=9.982\u001b[0m\n",
      "\u001b[31m2018-06-15 02:12:21,432 INFO - root - Epoch[81] Validation-avg_dice_coef_metric=0.129787\u001b[0m\n",
      "\u001b[31m2018-06-15 02:12:31,584 INFO - root - Epoch[82] Train-avg_dice_coef_metric=0.117315\u001b[0m\n",
      "\u001b[31m2018-06-15 02:12:31,584 INFO - root - Epoch[82] Time cost=10.152\u001b[0m\n",
      "\u001b[31m2018-06-15 02:12:33,674 INFO - root - Epoch[82] Validation-avg_dice_coef_metric=0.127229\u001b[0m\n",
      "\u001b[31m2018-06-15 02:12:44,003 INFO - root - Epoch[83] Train-avg_dice_coef_metric=0.113855\u001b[0m\n",
      "\u001b[31m2018-06-15 02:12:44,004 INFO - root - Epoch[83] Time cost=10.330\u001b[0m\n",
      "\u001b[31m2018-06-15 02:12:46,085 INFO - root - Epoch[83] Validation-avg_dice_coef_metric=0.127801\u001b[0m\n",
      "\u001b[31m2018-06-15 02:12:56,113 INFO - root - Epoch[84] Train-avg_dice_coef_metric=0.114203\u001b[0m\n",
      "\u001b[31m2018-06-15 02:12:56,113 INFO - root - Epoch[84] Time cost=10.028\u001b[0m\n",
      "\u001b[31m2018-06-15 02:12:58,085 INFO - root - Epoch[84] Validation-avg_dice_coef_metric=0.125369\u001b[0m\n",
      "\u001b[31m2018-06-15 02:13:08,271 INFO - root - Epoch[85] Train-avg_dice_coef_metric=0.118368\u001b[0m\n",
      "\u001b[31m2018-06-15 02:13:08,272 INFO - root - Epoch[85] Time cost=10.186\u001b[0m\n",
      "\u001b[31m2018-06-15 02:13:10,330 INFO - root - Epoch[85] Validation-avg_dice_coef_metric=0.132271\u001b[0m\n",
      "\u001b[31m2018-06-15 02:13:20,558 INFO - root - Epoch[86] Train-avg_dice_coef_metric=0.124130\u001b[0m\n",
      "\u001b[31m2018-06-15 02:13:20,558 INFO - root - Epoch[86] Time cost=10.228\u001b[0m\n",
      "\u001b[31m2018-06-15 02:13:22,570 INFO - root - Epoch[86] Validation-avg_dice_coef_metric=0.128614\u001b[0m\n",
      "\u001b[31m2018-06-15 02:13:32,854 INFO - root - Epoch[87] Train-avg_dice_coef_metric=0.114628\u001b[0m\n",
      "\u001b[31m2018-06-15 02:13:32,855 INFO - root - Epoch[87] Time cost=10.284\u001b[0m\n",
      "\u001b[31m2018-06-15 02:13:34,840 INFO - root - Epoch[87] Validation-avg_dice_coef_metric=0.128491\u001b[0m\n",
      "\u001b[31m2018-06-15 02:13:44,920 INFO - root - Epoch[88] Train-avg_dice_coef_metric=0.113187\u001b[0m\n",
      "\u001b[31m2018-06-15 02:13:44,920 INFO - root - Epoch[88] Time cost=10.080\u001b[0m\n",
      "\u001b[31m2018-06-15 02:13:47,054 INFO - root - Epoch[88] Validation-avg_dice_coef_metric=0.126784\u001b[0m\n",
      "\u001b[31m2018-06-15 02:13:57,116 INFO - root - Epoch[89] Train-avg_dice_coef_metric=0.113008\u001b[0m\n",
      "\u001b[31m2018-06-15 02:13:57,116 INFO - root - Epoch[89] Time cost=10.061\u001b[0m\n",
      "\u001b[31m2018-06-15 02:13:59,148 INFO - root - Epoch[89] Validation-avg_dice_coef_metric=0.128877\u001b[0m\n",
      "\u001b[31m2018-06-15 02:14:09,303 INFO - root - Epoch[90] Train-avg_dice_coef_metric=0.113239\u001b[0m\n",
      "\u001b[31m2018-06-15 02:14:09,303 INFO - root - Epoch[90] Time cost=10.155\u001b[0m\n",
      "\u001b[31m2018-06-15 02:14:11,281 INFO - root - Epoch[90] Validation-avg_dice_coef_metric=0.124725\u001b[0m\n",
      "\u001b[31m2018-06-15 02:14:21,421 INFO - root - Epoch[91] Train-avg_dice_coef_metric=0.111989\u001b[0m\n",
      "\u001b[31m2018-06-15 02:14:21,421 INFO - root - Epoch[91] Time cost=10.140\u001b[0m\n",
      "\u001b[31m2018-06-15 02:14:23,457 INFO - root - Epoch[91] Validation-avg_dice_coef_metric=0.125987\u001b[0m\n",
      "\u001b[31m2018-06-15 02:14:33,485 INFO - root - Epoch[92] Train-avg_dice_coef_metric=0.113578\u001b[0m\n",
      "\u001b[31m2018-06-15 02:14:33,485 INFO - root - Epoch[92] Time cost=10.028\u001b[0m\n",
      "\u001b[31m2018-06-15 02:14:35,523 INFO - root - Epoch[92] Validation-avg_dice_coef_metric=0.131098\u001b[0m\n",
      "\u001b[31m2018-06-15 02:14:45,609 INFO - root - Epoch[93] Train-avg_dice_coef_metric=0.112072\u001b[0m\n",
      "\u001b[31m2018-06-15 02:14:45,609 INFO - root - Epoch[93] Time cost=10.086\u001b[0m\n",
      "\u001b[31m2018-06-15 02:14:47,606 INFO - root - Epoch[93] Validation-avg_dice_coef_metric=0.139247\u001b[0m\n",
      "\u001b[31m2018-06-15 02:14:57,643 INFO - root - Epoch[94] Train-avg_dice_coef_metric=0.112166\u001b[0m\n",
      "\u001b[31m2018-06-15 02:14:57,643 INFO - root - Epoch[94] Time cost=10.037\u001b[0m\n",
      "\u001b[31m2018-06-15 02:14:59,643 INFO - root - Epoch[94] Validation-avg_dice_coef_metric=0.126864\u001b[0m\n",
      "\u001b[31m2018-06-15 02:15:09,819 INFO - root - Epoch[95] Train-avg_dice_coef_metric=0.111770\u001b[0m\n",
      "\u001b[31m2018-06-15 02:15:09,819 INFO - root - Epoch[95] Time cost=10.176\u001b[0m\n",
      "\u001b[31m2018-06-15 02:15:11,806 INFO - root - Epoch[95] Validation-avg_dice_coef_metric=0.126092\u001b[0m\n",
      "\u001b[31m2018-06-15 02:15:21,939 INFO - root - Epoch[96] Train-avg_dice_coef_metric=0.112322\u001b[0m\n",
      "\u001b[31m2018-06-15 02:15:21,940 INFO - root - Epoch[96] Time cost=10.133\u001b[0m\n",
      "\u001b[31m2018-06-15 02:15:23,941 INFO - root - Epoch[96] Validation-avg_dice_coef_metric=0.135696\u001b[0m\n",
      "\u001b[31m2018-06-15 02:15:34,071 INFO - root - Epoch[97] Train-avg_dice_coef_metric=0.110550\u001b[0m\n",
      "\u001b[31m2018-06-15 02:15:34,072 INFO - root - Epoch[97] Time cost=10.130\u001b[0m\n",
      "\u001b[31m2018-06-15 02:15:36,091 INFO - root - Epoch[97] Validation-avg_dice_coef_metric=0.125063\u001b[0m\n",
      "\u001b[31m2018-06-15 02:15:46,223 INFO - root - Epoch[98] Train-avg_dice_coef_metric=0.110017\u001b[0m\n",
      "\u001b[31m2018-06-15 02:15:46,223 INFO - root - Epoch[98] Time cost=10.132\u001b[0m\n",
      "\u001b[31m2018-06-15 02:15:48,349 INFO - root - Epoch[98] Validation-avg_dice_coef_metric=0.121697\u001b[0m\n",
      "\u001b[31m2018-06-15 02:15:58,485 INFO - root - Epoch[99] Train-avg_dice_coef_metric=0.108486\u001b[0m\n",
      "\u001b[31m2018-06-15 02:15:58,485 INFO - root - Epoch[99] Time cost=10.136\u001b[0m\n",
      "\u001b[31m2018-06-15 02:16:00,522 INFO - root - Epoch[99] Validation-avg_dice_coef_metric=0.126442\u001b[0m\n",
      "===== Job Complete =====\n",
      "Billable seconds: 1350\n"
     ]
    }
   ],
   "source": [
    "enet_single_machine_estimator.fit({'train':train_s3, 'test':validation_s3})"
   ]
  },
  {
   "cell_type": "markdown",
   "metadata": {},
   "source": [
    "## mxnet 0.11"
   ]
  },
  {
   "cell_type": "code",
   "execution_count": 147,
   "metadata": {},
   "outputs": [],
   "source": [
    "enet_eleven_job = 'DEMO-enet-eleven-job-' + time.strftime(\"%Y-%m-%d-%H-%M-%S\", time.gmtime())"
   ]
  },
  {
   "cell_type": "code",
   "execution_count": 148,
   "metadata": {
    "scrolled": true
   },
   "outputs": [],
   "source": [
    "enet_eleven_estimator = MXNet(entry_point='brain_segmentation.py',\n",
    "                                                base_job_name = enet_eleven_job,\n",
    "                                                source_dir = 'source_dir',\n",
    "                                                role=role,\n",
    "                                                train_instance_count=1, \n",
    "                                                train_instance_type='ml.p3.2xlarge',\n",
    "                                                hyperparameters={\n",
    "                                                    'learning_rate': 1E-3,\n",
    "                                                    'class_weights': [[ 1.35, 17.18,  8.29, 12.42]],\n",
    "                                                    'network':'enet',\n",
    "                                                    'batch_size': 32,\n",
    "                                            })"
   ]
  },
  {
   "cell_type": "code",
   "execution_count": 149,
   "metadata": {},
   "outputs": [],
   "source": [
    "region = sagemaker_session.boto_session.region_name\n",
    "enet_eleven_estimator.train_image = lambda:'780728360657.dkr.ecr.{}.amazonaws.com/sagemaker-mxnet-py2-gpu:1.0'.format(region)"
   ]
  },
  {
   "cell_type": "code",
   "execution_count": 150,
   "metadata": {
    "scrolled": true
   },
   "outputs": [
    {
     "name": "stderr",
     "output_type": "stream",
     "text": [
      "INFO:sagemaker:Created S3 bucket: sagemaker-us-east-1-288000045208\n",
      "INFO:sagemaker:Creating training-job with name: DEMO-enet-eleven-job-2018-06-04-04-49-0-2018-06-04-04-49-07-097\n"
     ]
    },
    {
     "name": "stdout",
     "output_type": "stream",
     "text": [
      ".......................\n",
      "\u001b[31mexecuting startup script (first run)\u001b[0m\n",
      "\u001b[31m2018-06-04 04:52:51,585 INFO - root - running container entrypoint\u001b[0m\n",
      "\u001b[31m2018-06-04 04:52:51,585 INFO - root - starting train task\u001b[0m\n",
      "\u001b[31m2018-06-04 04:52:52,675 INFO - mxnet_container.train - MXNetTrainingEnvironment: {'enable_cloudwatch_metrics': False, 'available_gpus': 1, 'channels': {u'test': {u'TrainingInputMode': u'File', u'RecordWrapperType': u'None', u'S3DistributionType': u'FullyReplicated'}, u'train': {u'TrainingInputMode': u'File', u'RecordWrapperType': u'None', u'S3DistributionType': u'FullyReplicated'}}, '_ps_verbose': 0, 'resource_config': {u'current_host': u'algo-1', u'network_interface_name': u'ethwe', u'hosts': [u'algo-1']}, 'user_script_name': u'brain_segmentation.py', 'input_config_dir': '/opt/ml/input/config', 'channel_dirs': {u'test': u'/opt/ml/input/data/test', u'train': u'/opt/ml/input/data/train'}, 'code_dir': '/opt/ml/code', 'output_data_dir': '/opt/ml/output/data/', 'output_dir': '/opt/ml/output', 'model_dir': '/opt/ml/model', 'hyperparameters': {u'sagemaker_program': u'brain_segmentation.py', u'network': u'enet', u'class_weights': [[1.35, 17.18, 8.29, 12.42]], u'learning_rate': 0.001, u'batch_size': 32, u'sagemaker_submit_directory': u's3://sagemaker-us-east-1-288000045208/DEMO-enet-eleven-job-2018-06-04-04-49-0-2018-06-04-04-49-07-097/source/sourcedir.tar.gz', u'sagemaker_region': u'us-east-1', u'sagemaker_enable_cloudwatch_metrics': False, u'sagemaker_job_name': u'DEMO-enet-eleven-job-2018-06-04-04-49-0-2018-06-04-04-49-07-097', u'sagemaker_container_log_level': 20}, 'hosts': [u'algo-1'], '_ps_port': 8000, 'user_script_archive': u's3://sagemaker-us-east-1-288000045208/DEMO-enet-eleven-job-2018-06-04-04-49-0-2018-06-04-04-49-07-097/source/sourcedir.tar.gz', '_scheduler_host': u'algo-1', 'sagemaker_region': u'us-east-1', 'input_dir': '/opt/ml/input', '_scheduler_ip': '10.32.0.4', 'current_host': u'algo-1', 'container_log_level': 20, 'available_cpus': 8, 'base_dir': '/opt/ml'}\u001b[0m\n",
      "\u001b[31mDownloading s3://sagemaker-us-east-1-288000045208/DEMO-enet-eleven-job-2018-06-04-04-49-0-2018-06-04-04-49-07-097/source/sourcedir.tar.gz to /tmp/script.tar.gz\u001b[0m\n",
      "\u001b[31m2018-06-04 04:52:52,772 INFO - botocore.vendored.requests.packages.urllib3.connectionpool - Starting new HTTP connection (1): 169.254.170.2\u001b[0m\n",
      "\u001b[31m2018-06-04 04:52:52,886 INFO - botocore.vendored.requests.packages.urllib3.connectionpool - Starting new HTTPS connection (1): s3.amazonaws.com\u001b[0m\n",
      "\u001b[31m2018-06-04 04:52:53,004 INFO - mxnet_container.train - Starting distributed training task\u001b[0m\n",
      "\u001b[31m0.11.0\u001b[0m\n",
      "\u001b[31mSym loaded\u001b[0m\n",
      "\u001b[31mStarting fit\u001b[0m\n",
      "\u001b[31m[04:53:04] src/operator/././cudnn_algoreg-inl.h:112: Running performance tests to find the best convolution algorithm, this can take a while... (setting env variable MXNET_CUDNN_AUTOTUNE_DEFAULT to 0 to disable)\u001b[0m\n",
      "\u001b[31m2018-06-04 04:53:14,561 INFO - root - Epoch[0] Train-avg_dice_coef_metric=0.666603\u001b[0m\n",
      "\u001b[31m2018-06-04 04:53:14,561 INFO - root - Epoch[0] Time cost=9.102\u001b[0m\n",
      "\u001b[31m2018-06-04 04:53:16,878 INFO - root - Epoch[0] Validation-avg_dice_coef_metric=0.596692\u001b[0m\n",
      "\u001b[31m2018-06-04 04:53:25,826 INFO - root - Epoch[1] Train-avg_dice_coef_metric=0.543214\u001b[0m\n",
      "\u001b[31m2018-06-04 04:53:25,826 INFO - root - Epoch[1] Time cost=8.948\u001b[0m\n",
      "\u001b[31m2018-06-04 04:53:28,128 INFO - root - Epoch[1] Validation-avg_dice_coef_metric=0.492699\u001b[0m\n",
      "\u001b[31m2018-06-04 04:53:37,009 INFO - root - Epoch[2] Train-avg_dice_coef_metric=0.464380\u001b[0m\n",
      "\u001b[31m2018-06-04 04:53:37,009 INFO - root - Epoch[2] Time cost=8.881\u001b[0m\n",
      "\u001b[31m2018-06-04 04:53:39,298 INFO - root - Epoch[2] Validation-avg_dice_coef_metric=0.431340\u001b[0m\n",
      "\u001b[31m2018-06-04 04:53:48,455 INFO - root - Epoch[3] Train-avg_dice_coef_metric=0.417013\u001b[0m\n",
      "\u001b[31m2018-06-04 04:53:48,456 INFO - root - Epoch[3] Time cost=9.158\u001b[0m\n",
      "\u001b[31m2018-06-04 04:53:50,734 INFO - root - Epoch[3] Validation-avg_dice_coef_metric=0.410079\u001b[0m\n",
      "\u001b[31m2018-06-04 04:53:59,734 INFO - root - Epoch[4] Train-avg_dice_coef_metric=0.388270\u001b[0m\n",
      "\u001b[31m2018-06-04 04:53:59,734 INFO - root - Epoch[4] Time cost=9.000\u001b[0m\n",
      "\u001b[31m2018-06-04 04:54:02,051 INFO - root - Epoch[4] Validation-avg_dice_coef_metric=0.378835\u001b[0m\n",
      "\u001b[31m2018-06-04 04:54:10,937 INFO - root - Epoch[5] Train-avg_dice_coef_metric=0.371599\u001b[0m\n",
      "\u001b[31m2018-06-04 04:54:10,937 INFO - root - Epoch[5] Time cost=8.886\u001b[0m\n",
      "\u001b[31m2018-06-04 04:54:13,235 INFO - root - Epoch[5] Validation-avg_dice_coef_metric=0.368048\u001b[0m\n",
      "\u001b[31m2018-06-04 04:54:22,037 INFO - root - Epoch[6] Train-avg_dice_coef_metric=0.359267\u001b[0m\n",
      "\u001b[31m2018-06-04 04:54:22,037 INFO - root - Epoch[6] Time cost=8.802\u001b[0m\n",
      "\u001b[31m2018-06-04 04:54:24,340 INFO - root - Epoch[6] Validation-avg_dice_coef_metric=0.362681\u001b[0m\n",
      "\u001b[31m2018-06-04 04:54:33,523 INFO - root - Epoch[7] Train-avg_dice_coef_metric=0.352552\u001b[0m\n",
      "\u001b[31m2018-06-04 04:54:33,523 INFO - root - Epoch[7] Time cost=9.183\u001b[0m\n",
      "\u001b[31m2018-06-04 04:54:35,829 INFO - root - Epoch[7] Validation-avg_dice_coef_metric=0.349609\u001b[0m\n",
      "\u001b[31m2018-06-04 04:54:44,865 INFO - root - Epoch[8] Train-avg_dice_coef_metric=0.345879\u001b[0m\n",
      "\u001b[31m2018-06-04 04:54:44,865 INFO - root - Epoch[8] Time cost=9.036\u001b[0m\n",
      "\u001b[31m2018-06-04 04:54:47,157 INFO - root - Epoch[8] Validation-avg_dice_coef_metric=0.348529\u001b[0m\n",
      "\u001b[31m2018-06-04 04:54:55,924 INFO - root - Epoch[9] Train-avg_dice_coef_metric=0.339054\u001b[0m\n",
      "\u001b[31m2018-06-04 04:54:55,924 INFO - root - Epoch[9] Time cost=8.767\u001b[0m\n",
      "\u001b[31m2018-06-04 04:54:58,225 INFO - root - Epoch[9] Validation-avg_dice_coef_metric=0.337308\u001b[0m\n",
      "\u001b[31m2018-06-04 04:55:07,161 INFO - root - Epoch[10] Train-avg_dice_coef_metric=0.337132\u001b[0m\n",
      "\u001b[31m2018-06-04 04:55:07,161 INFO - root - Epoch[10] Time cost=8.936\u001b[0m\n",
      "\u001b[31m2018-06-04 04:55:09,480 INFO - root - Epoch[10] Validation-avg_dice_coef_metric=0.337879\u001b[0m\n",
      "\u001b[31m2018-06-04 04:55:18,502 INFO - root - Epoch[11] Train-avg_dice_coef_metric=0.332485\u001b[0m\n",
      "\u001b[31m2018-06-04 04:55:18,502 INFO - root - Epoch[11] Time cost=9.022\u001b[0m\n",
      "\u001b[31m2018-06-04 04:55:20,813 INFO - root - Epoch[11] Validation-avg_dice_coef_metric=0.338996\u001b[0m\n",
      "\u001b[31m2018-06-04 04:55:29,817 INFO - root - Epoch[12] Train-avg_dice_coef_metric=0.329378\u001b[0m\n",
      "\u001b[31m2018-06-04 04:55:29,817 INFO - root - Epoch[12] Time cost=9.004\u001b[0m\n",
      "\u001b[31m2018-06-04 04:55:32,106 INFO - root - Epoch[12] Validation-avg_dice_coef_metric=0.336810\u001b[0m\n",
      "\u001b[31m2018-06-04 04:55:40,810 INFO - root - Epoch[13] Train-avg_dice_coef_metric=0.327734\u001b[0m\n",
      "\u001b[31m2018-06-04 04:55:40,810 INFO - root - Epoch[13] Time cost=8.704\u001b[0m\n",
      "\u001b[31m2018-06-04 04:55:43,108 INFO - root - Epoch[13] Validation-avg_dice_coef_metric=0.332242\u001b[0m\n",
      "\u001b[31m2018-06-04 04:55:52,033 INFO - root - Epoch[14] Train-avg_dice_coef_metric=0.324287\u001b[0m\n",
      "\u001b[31m2018-06-04 04:55:52,033 INFO - root - Epoch[14] Time cost=8.925\u001b[0m\n",
      "\u001b[31m2018-06-04 04:55:54,356 INFO - root - Epoch[14] Validation-avg_dice_coef_metric=0.326480\u001b[0m\n",
      "\u001b[31m2018-06-04 04:56:03,508 INFO - root - Epoch[15] Train-avg_dice_coef_metric=0.322011\u001b[0m\n",
      "\u001b[31m2018-06-04 04:56:03,508 INFO - root - Epoch[15] Time cost=9.152\u001b[0m\n",
      "\u001b[31m2018-06-04 04:56:05,797 INFO - root - Epoch[15] Validation-avg_dice_coef_metric=0.323371\u001b[0m\n",
      "\u001b[31m2018-06-04 04:56:14,802 INFO - root - Epoch[16] Train-avg_dice_coef_metric=0.319142\u001b[0m\n",
      "\u001b[31m2018-06-04 04:56:14,802 INFO - root - Epoch[16] Time cost=9.005\u001b[0m\n",
      "\u001b[31m2018-06-04 04:56:17,106 INFO - root - Epoch[16] Validation-avg_dice_coef_metric=0.320842\u001b[0m\n",
      "\u001b[31m2018-06-04 04:56:25,992 INFO - root - Epoch[17] Train-avg_dice_coef_metric=0.317015\u001b[0m\n",
      "\u001b[31m2018-06-04 04:56:25,992 INFO - root - Epoch[17] Time cost=8.886\u001b[0m\n",
      "\u001b[31m2018-06-04 04:56:28,292 INFO - root - Epoch[17] Validation-avg_dice_coef_metric=0.317882\u001b[0m\n",
      "\u001b[31m2018-06-04 04:56:37,307 INFO - root - Epoch[18] Train-avg_dice_coef_metric=0.311506\u001b[0m\n",
      "\u001b[31m2018-06-04 04:56:37,307 INFO - root - Epoch[18] Time cost=9.015\u001b[0m\n",
      "\u001b[31m2018-06-04 04:56:39,604 INFO - root - Epoch[18] Validation-avg_dice_coef_metric=0.316070\u001b[0m\n",
      "\u001b[31m2018-06-04 04:56:48,649 INFO - root - Epoch[19] Train-avg_dice_coef_metric=0.310521\u001b[0m\n",
      "\u001b[31m2018-06-04 04:56:48,649 INFO - root - Epoch[19] Time cost=9.045\u001b[0m\n",
      "\u001b[31m2018-06-04 04:56:50,953 INFO - root - Epoch[19] Validation-avg_dice_coef_metric=0.310650\u001b[0m\n",
      "\u001b[31m2018-06-04 04:56:59,823 INFO - root - Epoch[20] Train-avg_dice_coef_metric=0.307046\u001b[0m\n",
      "\u001b[31m2018-06-04 04:56:59,823 INFO - root - Epoch[20] Time cost=8.869\u001b[0m\n",
      "\u001b[31m2018-06-04 04:57:02,125 INFO - root - Epoch[20] Validation-avg_dice_coef_metric=0.308826\u001b[0m\n"
     ]
    },
    {
     "name": "stdout",
     "output_type": "stream",
     "text": [
      "\u001b[31m2018-06-04 04:57:10,913 INFO - root - Epoch[21] Train-avg_dice_coef_metric=0.304270\u001b[0m\n",
      "\u001b[31m2018-06-04 04:57:10,913 INFO - root - Epoch[21] Time cost=8.789\u001b[0m\n",
      "\u001b[31m2018-06-04 04:57:13,229 INFO - root - Epoch[21] Validation-avg_dice_coef_metric=0.310643\u001b[0m\n",
      "\u001b[31m2018-06-04 04:57:22,073 INFO - root - Epoch[22] Train-avg_dice_coef_metric=0.299768\u001b[0m\n",
      "\u001b[31m2018-06-04 04:57:22,073 INFO - root - Epoch[22] Time cost=8.844\u001b[0m\n",
      "\u001b[31m2018-06-04 04:57:24,374 INFO - root - Epoch[22] Validation-avg_dice_coef_metric=0.305673\u001b[0m\n",
      "\u001b[31m2018-06-04 04:57:33,400 INFO - root - Epoch[23] Train-avg_dice_coef_metric=0.298148\u001b[0m\n",
      "\u001b[31m2018-06-04 04:57:33,401 INFO - root - Epoch[23] Time cost=9.027\u001b[0m\n",
      "\u001b[31m2018-06-04 04:57:35,684 INFO - root - Epoch[23] Validation-avg_dice_coef_metric=0.298992\u001b[0m\n",
      "\u001b[31m2018-06-04 04:57:44,567 INFO - root - Epoch[24] Train-avg_dice_coef_metric=0.295296\u001b[0m\n",
      "\u001b[31m2018-06-04 04:57:44,567 INFO - root - Epoch[24] Time cost=8.883\u001b[0m\n",
      "\u001b[31m2018-06-04 04:57:46,862 INFO - root - Epoch[24] Validation-avg_dice_coef_metric=0.312386\u001b[0m\n",
      "\u001b[31m2018-06-04 04:57:55,638 INFO - root - Epoch[25] Train-avg_dice_coef_metric=0.291346\u001b[0m\n",
      "\u001b[31m2018-06-04 04:57:55,638 INFO - root - Epoch[25] Time cost=8.776\u001b[0m\n",
      "\u001b[31m2018-06-04 04:57:57,932 INFO - root - Epoch[25] Validation-avg_dice_coef_metric=0.297321\u001b[0m\n",
      "\u001b[31m2018-06-04 04:58:07,089 INFO - root - Epoch[26] Train-avg_dice_coef_metric=0.290598\u001b[0m\n",
      "\u001b[31m2018-06-04 04:58:07,089 INFO - root - Epoch[26] Time cost=9.156\u001b[0m\n",
      "\u001b[31m2018-06-04 04:58:09,396 INFO - root - Epoch[26] Validation-avg_dice_coef_metric=0.290901\u001b[0m\n",
      "\u001b[31m2018-06-04 04:58:18,492 INFO - root - Epoch[27] Train-avg_dice_coef_metric=0.289683\u001b[0m\n",
      "\u001b[31m2018-06-04 04:58:18,492 INFO - root - Epoch[27] Time cost=9.096\u001b[0m\n",
      "\u001b[31m2018-06-04 04:58:20,838 INFO - root - Epoch[27] Validation-avg_dice_coef_metric=0.304472\u001b[0m\n",
      "\u001b[31m2018-06-04 04:58:29,660 INFO - root - Epoch[28] Train-avg_dice_coef_metric=0.287599\u001b[0m\n",
      "\u001b[31m2018-06-04 04:58:29,660 INFO - root - Epoch[28] Time cost=8.822\u001b[0m\n",
      "\u001b[31m2018-06-04 04:58:31,949 INFO - root - Epoch[28] Validation-avg_dice_coef_metric=0.300212\u001b[0m\n",
      "\u001b[31m2018-06-04 04:58:40,939 INFO - root - Epoch[29] Train-avg_dice_coef_metric=0.284609\u001b[0m\n",
      "\u001b[31m2018-06-04 04:58:40,939 INFO - root - Epoch[29] Time cost=8.990\u001b[0m\n",
      "\u001b[31m2018-06-04 04:58:43,228 INFO - root - Epoch[29] Validation-avg_dice_coef_metric=0.289754\u001b[0m\n",
      "\u001b[31m2018-06-04 04:58:52,202 INFO - root - Epoch[30] Train-avg_dice_coef_metric=0.278916\u001b[0m\n",
      "\u001b[31m2018-06-04 04:58:52,202 INFO - root - Epoch[30] Time cost=8.974\u001b[0m\n",
      "\u001b[31m2018-06-04 04:58:54,513 INFO - root - Epoch[30] Validation-avg_dice_coef_metric=0.292016\u001b[0m\n",
      "\u001b[31m2018-06-04 04:59:03,553 INFO - root - Epoch[31] Train-avg_dice_coef_metric=0.278822\u001b[0m\n",
      "\u001b[31m2018-06-04 04:59:03,553 INFO - root - Epoch[31] Time cost=9.040\u001b[0m\n",
      "\u001b[31m2018-06-04 04:59:05,856 INFO - root - Epoch[31] Validation-avg_dice_coef_metric=0.275347\u001b[0m\n",
      "\u001b[31m2018-06-04 04:59:14,947 INFO - root - Epoch[32] Train-avg_dice_coef_metric=0.280980\u001b[0m\n",
      "\u001b[31m2018-06-04 04:59:14,947 INFO - root - Epoch[32] Time cost=9.091\u001b[0m\n",
      "\u001b[31m2018-06-04 04:59:17,244 INFO - root - Epoch[32] Validation-avg_dice_coef_metric=0.298646\u001b[0m\n",
      "\u001b[31m2018-06-04 04:59:26,164 INFO - root - Epoch[33] Train-avg_dice_coef_metric=0.277404\u001b[0m\n",
      "\u001b[31m2018-06-04 04:59:26,164 INFO - root - Epoch[33] Time cost=8.919\u001b[0m\n",
      "\u001b[31m2018-06-04 04:59:28,461 INFO - root - Epoch[33] Validation-avg_dice_coef_metric=0.267843\u001b[0m\n",
      "\u001b[31m2018-06-04 04:59:37,250 INFO - root - Epoch[34] Train-avg_dice_coef_metric=0.271822\u001b[0m\n",
      "\u001b[31m2018-06-04 04:59:37,251 INFO - root - Epoch[34] Time cost=8.790\u001b[0m\n",
      "\u001b[31m2018-06-04 04:59:39,527 INFO - root - Epoch[34] Validation-avg_dice_coef_metric=0.308886\u001b[0m\n",
      "\u001b[31m2018-06-04 04:59:48,592 INFO - root - Epoch[35] Train-avg_dice_coef_metric=0.269424\u001b[0m\n",
      "\u001b[31m2018-06-04 04:59:48,592 INFO - root - Epoch[35] Time cost=9.065\u001b[0m\n",
      "\u001b[31m2018-06-04 04:59:50,889 INFO - root - Epoch[35] Validation-avg_dice_coef_metric=0.281909\u001b[0m\n",
      "\u001b[31m2018-06-04 04:59:59,894 INFO - root - Epoch[36] Train-avg_dice_coef_metric=0.272058\u001b[0m\n",
      "\u001b[31m2018-06-04 04:59:59,894 INFO - root - Epoch[36] Time cost=9.005\u001b[0m\n",
      "\u001b[31m2018-06-04 05:00:02,245 INFO - root - Epoch[36] Validation-avg_dice_coef_metric=0.272329\u001b[0m\n",
      "\u001b[31m2018-06-04 05:00:11,487 INFO - root - Epoch[37] Train-avg_dice_coef_metric=0.269747\u001b[0m\n",
      "\u001b[31m2018-06-04 05:00:11,487 INFO - root - Epoch[37] Time cost=9.242\u001b[0m\n",
      "\u001b[31m2018-06-04 05:00:13,836 INFO - root - Epoch[37] Validation-avg_dice_coef_metric=0.268587\u001b[0m\n",
      "\u001b[31m2018-06-04 05:00:22,626 INFO - root - Epoch[38] Train-avg_dice_coef_metric=0.269388\u001b[0m\n",
      "\u001b[31m2018-06-04 05:00:22,626 INFO - root - Epoch[38] Time cost=8.790\u001b[0m\n",
      "\u001b[31m2018-06-04 05:00:24,930 INFO - root - Epoch[38] Validation-avg_dice_coef_metric=0.264302\u001b[0m\n",
      "\u001b[31m2018-06-04 05:00:34,035 INFO - root - Epoch[39] Train-avg_dice_coef_metric=0.264606\u001b[0m\n",
      "\u001b[31m2018-06-04 05:00:34,035 INFO - root - Epoch[39] Time cost=9.105\u001b[0m\n",
      "\u001b[31m2018-06-04 05:00:36,334 INFO - root - Epoch[39] Validation-avg_dice_coef_metric=0.279519\u001b[0m\n",
      "\u001b[31m2018-06-04 05:00:45,299 INFO - root - Epoch[40] Train-avg_dice_coef_metric=0.262166\u001b[0m\n",
      "\u001b[31m2018-06-04 05:00:45,299 INFO - root - Epoch[40] Time cost=8.965\u001b[0m\n",
      "\u001b[31m2018-06-04 05:00:47,602 INFO - root - Epoch[40] Validation-avg_dice_coef_metric=0.282709\u001b[0m\n",
      "\u001b[31m2018-06-04 05:00:56,620 INFO - root - Epoch[41] Train-avg_dice_coef_metric=0.262200\u001b[0m\n",
      "\u001b[31m2018-06-04 05:00:56,621 INFO - root - Epoch[41] Time cost=9.018\u001b[0m\n",
      "\u001b[31m2018-06-04 05:00:58,918 INFO - root - Epoch[41] Validation-avg_dice_coef_metric=0.278476\u001b[0m\n",
      "\u001b[31m2018-06-04 05:01:07,891 INFO - root - Epoch[42] Train-avg_dice_coef_metric=0.258888\u001b[0m\n",
      "\u001b[31m2018-06-04 05:01:07,891 INFO - root - Epoch[42] Time cost=8.972\u001b[0m\n",
      "\u001b[31m2018-06-04 05:01:10,181 INFO - root - Epoch[42] Validation-avg_dice_coef_metric=0.249551\u001b[0m\n",
      "\u001b[31m2018-06-04 05:01:19,212 INFO - root - Epoch[43] Train-avg_dice_coef_metric=0.259158\u001b[0m\n",
      "\u001b[31m2018-06-04 05:01:19,212 INFO - root - Epoch[43] Time cost=9.031\u001b[0m\n",
      "\u001b[31m2018-06-04 05:01:21,544 INFO - root - Epoch[43] Validation-avg_dice_coef_metric=0.276207\u001b[0m\n",
      "\u001b[31m2018-06-04 05:01:30,512 INFO - root - Epoch[44] Train-avg_dice_coef_metric=0.258722\u001b[0m\n",
      "\u001b[31m2018-06-04 05:01:30,512 INFO - root - Epoch[44] Time cost=8.968\u001b[0m\n",
      "\u001b[31m2018-06-04 05:01:32,803 INFO - root - Epoch[44] Validation-avg_dice_coef_metric=0.254622\u001b[0m\n",
      "\u001b[31m2018-06-04 05:01:41,691 INFO - root - Epoch[45] Train-avg_dice_coef_metric=0.256373\u001b[0m\n",
      "\u001b[31m2018-06-04 05:01:41,691 INFO - root - Epoch[45] Time cost=8.888\u001b[0m\n",
      "\u001b[31m2018-06-04 05:01:44,011 INFO - root - Epoch[45] Validation-avg_dice_coef_metric=0.245689\u001b[0m\n",
      "\u001b[31m2018-06-04 05:01:52,960 INFO - root - Epoch[46] Train-avg_dice_coef_metric=0.256190\u001b[0m\n",
      "\u001b[31m2018-06-04 05:01:52,961 INFO - root - Epoch[46] Time cost=8.949\u001b[0m\n",
      "\u001b[31m2018-06-04 05:01:55,267 INFO - root - Epoch[46] Validation-avg_dice_coef_metric=0.270149\u001b[0m\n",
      "\u001b[31m2018-06-04 05:02:04,338 INFO - root - Epoch[47] Train-avg_dice_coef_metric=0.253660\u001b[0m\n",
      "\u001b[31m2018-06-04 05:02:04,338 INFO - root - Epoch[47] Time cost=9.071\u001b[0m\n",
      "\u001b[31m2018-06-04 05:02:06,610 INFO - root - Epoch[47] Validation-avg_dice_coef_metric=0.297686\u001b[0m\n",
      "\u001b[31m2018-06-04 05:02:15,530 INFO - root - Epoch[48] Train-avg_dice_coef_metric=0.254824\u001b[0m\n",
      "\u001b[31m2018-06-04 05:02:15,530 INFO - root - Epoch[48] Time cost=8.920\u001b[0m\n",
      "\u001b[31m2018-06-04 05:02:17,805 INFO - root - Epoch[48] Validation-avg_dice_coef_metric=0.280021\u001b[0m\n",
      "\u001b[31m2018-06-04 05:02:26,721 INFO - root - Epoch[49] Train-avg_dice_coef_metric=0.250423\u001b[0m\n",
      "\u001b[31m2018-06-04 05:02:26,721 INFO - root - Epoch[49] Time cost=8.916\u001b[0m\n",
      "\u001b[31m2018-06-04 05:02:29,025 INFO - root - Epoch[49] Validation-avg_dice_coef_metric=0.247433\u001b[0m\n",
      "\u001b[31m2018-06-04 05:02:37,908 INFO - root - Epoch[50] Train-avg_dice_coef_metric=0.249622\u001b[0m\n",
      "\u001b[31m2018-06-04 05:02:37,908 INFO - root - Epoch[50] Time cost=8.883\u001b[0m\n",
      "\u001b[31m2018-06-04 05:02:40,225 INFO - root - Epoch[50] Validation-avg_dice_coef_metric=0.240476\u001b[0m\n",
      "\u001b[31m2018-06-04 05:02:49,251 INFO - root - Epoch[51] Train-avg_dice_coef_metric=0.247761\u001b[0m\n",
      "\u001b[31m2018-06-04 05:02:49,251 INFO - root - Epoch[51] Time cost=9.026\u001b[0m\n",
      "\u001b[31m2018-06-04 05:02:51,538 INFO - root - Epoch[51] Validation-avg_dice_coef_metric=0.277532\u001b[0m\n",
      "\u001b[31m2018-06-04 05:03:00,730 INFO - root - Epoch[52] Train-avg_dice_coef_metric=0.244659\u001b[0m\n",
      "\u001b[31m2018-06-04 05:03:00,731 INFO - root - Epoch[52] Time cost=9.193\u001b[0m\n",
      "\u001b[31m2018-06-04 05:03:03,058 INFO - root - Epoch[52] Validation-avg_dice_coef_metric=0.249239\u001b[0m\n"
     ]
    },
    {
     "name": "stdout",
     "output_type": "stream",
     "text": [
      "\u001b[31m2018-06-04 05:03:12,053 INFO - root - Epoch[53] Train-avg_dice_coef_metric=0.244655\u001b[0m\n",
      "\u001b[31m2018-06-04 05:03:12,053 INFO - root - Epoch[53] Time cost=8.995\u001b[0m\n",
      "\u001b[31m2018-06-04 05:03:14,326 INFO - root - Epoch[53] Validation-avg_dice_coef_metric=0.290085\u001b[0m\n",
      "\u001b[31m2018-06-04 05:03:23,379 INFO - root - Epoch[54] Train-avg_dice_coef_metric=0.244724\u001b[0m\n",
      "\u001b[31m2018-06-04 05:03:23,380 INFO - root - Epoch[54] Time cost=9.053\u001b[0m\n",
      "\u001b[31m2018-06-04 05:03:25,666 INFO - root - Epoch[54] Validation-avg_dice_coef_metric=0.249492\u001b[0m\n",
      "\u001b[31m2018-06-04 05:03:34,700 INFO - root - Epoch[55] Train-avg_dice_coef_metric=0.250986\u001b[0m\n",
      "\u001b[31m2018-06-04 05:03:34,700 INFO - root - Epoch[55] Time cost=9.034\u001b[0m\n",
      "\u001b[31m2018-06-04 05:03:36,989 INFO - root - Epoch[55] Validation-avg_dice_coef_metric=0.266141\u001b[0m\n",
      "\u001b[31m2018-06-04 05:03:45,843 INFO - root - Epoch[56] Train-avg_dice_coef_metric=0.244764\u001b[0m\n",
      "\u001b[31m2018-06-04 05:03:45,843 INFO - root - Epoch[56] Time cost=8.854\u001b[0m\n",
      "\u001b[31m2018-06-04 05:03:48,126 INFO - root - Epoch[56] Validation-avg_dice_coef_metric=0.270541\u001b[0m\n",
      "\u001b[31m2018-06-04 05:03:56,985 INFO - root - Epoch[57] Train-avg_dice_coef_metric=0.241743\u001b[0m\n",
      "\u001b[31m2018-06-04 05:03:56,986 INFO - root - Epoch[57] Time cost=8.859\u001b[0m\n",
      "\u001b[31m2018-06-04 05:03:59,285 INFO - root - Epoch[57] Validation-avg_dice_coef_metric=0.255991\u001b[0m\n",
      "\u001b[31m2018-06-04 05:04:08,092 INFO - root - Epoch[58] Train-avg_dice_coef_metric=0.240767\u001b[0m\n",
      "\u001b[31m2018-06-04 05:04:08,092 INFO - root - Epoch[58] Time cost=8.807\u001b[0m\n",
      "\u001b[31m2018-06-04 05:04:10,392 INFO - root - Epoch[58] Validation-avg_dice_coef_metric=0.245786\u001b[0m\n",
      "\u001b[31m2018-06-04 05:04:19,515 INFO - root - Epoch[59] Train-avg_dice_coef_metric=0.241928\u001b[0m\n",
      "\u001b[31m2018-06-04 05:04:19,515 INFO - root - Epoch[59] Time cost=9.123\u001b[0m\n",
      "\u001b[31m2018-06-04 05:04:21,814 INFO - root - Epoch[59] Validation-avg_dice_coef_metric=0.252943\u001b[0m\n",
      "\u001b[31m2018-06-04 05:04:30,733 INFO - root - Epoch[60] Train-avg_dice_coef_metric=0.238373\u001b[0m\n",
      "\u001b[31m2018-06-04 05:04:30,733 INFO - root - Epoch[60] Time cost=8.919\u001b[0m\n",
      "\u001b[31m2018-06-04 05:04:33,028 INFO - root - Epoch[60] Validation-avg_dice_coef_metric=0.244948\u001b[0m\n",
      "\u001b[31m2018-06-04 05:04:41,889 INFO - root - Epoch[61] Train-avg_dice_coef_metric=0.241556\u001b[0m\n",
      "\u001b[31m2018-06-04 05:04:41,889 INFO - root - Epoch[61] Time cost=8.861\u001b[0m\n",
      "\u001b[31m2018-06-04 05:04:44,195 INFO - root - Epoch[61] Validation-avg_dice_coef_metric=0.262661\u001b[0m\n",
      "\u001b[31m2018-06-04 05:04:53,193 INFO - root - Epoch[62] Train-avg_dice_coef_metric=0.233793\u001b[0m\n",
      "\u001b[31m2018-06-04 05:04:53,193 INFO - root - Epoch[62] Time cost=8.998\u001b[0m\n",
      "\u001b[31m2018-06-04 05:04:55,500 INFO - root - Epoch[62] Validation-avg_dice_coef_metric=0.254546\u001b[0m\n",
      "\u001b[31m2018-06-04 05:05:04,548 INFO - root - Epoch[63] Train-avg_dice_coef_metric=0.236263\u001b[0m\n",
      "\u001b[31m2018-06-04 05:05:04,548 INFO - root - Epoch[63] Time cost=9.048\u001b[0m\n",
      "\u001b[31m2018-06-04 05:05:06,858 INFO - root - Epoch[63] Validation-avg_dice_coef_metric=0.238797\u001b[0m\n",
      "\u001b[31m2018-06-04 05:05:15,793 INFO - root - Epoch[64] Train-avg_dice_coef_metric=0.237935\u001b[0m\n",
      "\u001b[31m2018-06-04 05:05:15,793 INFO - root - Epoch[64] Time cost=8.935\u001b[0m\n",
      "\u001b[31m2018-06-04 05:05:18,086 INFO - root - Epoch[64] Validation-avg_dice_coef_metric=0.247905\u001b[0m\n",
      "\u001b[31m2018-06-04 05:05:27,058 INFO - root - Epoch[65] Train-avg_dice_coef_metric=0.233534\u001b[0m\n",
      "\u001b[31m2018-06-04 05:05:27,058 INFO - root - Epoch[65] Time cost=8.971\u001b[0m\n",
      "\u001b[31m2018-06-04 05:05:29,360 INFO - root - Epoch[65] Validation-avg_dice_coef_metric=0.220278\u001b[0m\n",
      "\u001b[31m2018-06-04 05:05:38,425 INFO - root - Epoch[66] Train-avg_dice_coef_metric=0.235706\u001b[0m\n",
      "\u001b[31m2018-06-04 05:05:38,425 INFO - root - Epoch[66] Time cost=9.065\u001b[0m\n",
      "\u001b[31m2018-06-04 05:05:40,721 INFO - root - Epoch[66] Validation-avg_dice_coef_metric=0.239186\u001b[0m\n",
      "\u001b[31m2018-06-04 05:05:49,738 INFO - root - Epoch[67] Train-avg_dice_coef_metric=0.233022\u001b[0m\n",
      "\u001b[31m2018-06-04 05:05:49,738 INFO - root - Epoch[67] Time cost=9.016\u001b[0m\n",
      "\u001b[31m2018-06-04 05:05:52,029 INFO - root - Epoch[67] Validation-avg_dice_coef_metric=0.243224\u001b[0m\n",
      "\u001b[31m2018-06-04 05:06:00,857 INFO - root - Epoch[68] Train-avg_dice_coef_metric=0.232940\u001b[0m\n",
      "\u001b[31m2018-06-04 05:06:00,857 INFO - root - Epoch[68] Time cost=8.828\u001b[0m\n",
      "\u001b[31m2018-06-04 05:06:03,139 INFO - root - Epoch[68] Validation-avg_dice_coef_metric=0.261009\u001b[0m\n",
      "\u001b[31m2018-06-04 05:06:12,037 INFO - root - Epoch[69] Train-avg_dice_coef_metric=0.234646\u001b[0m\n",
      "\u001b[31m2018-06-04 05:06:12,037 INFO - root - Epoch[69] Time cost=8.899\u001b[0m\n",
      "\u001b[31m2018-06-04 05:06:14,342 INFO - root - Epoch[69] Validation-avg_dice_coef_metric=0.216171\u001b[0m\n",
      "\u001b[31m2018-06-04 05:06:23,282 INFO - root - Epoch[70] Train-avg_dice_coef_metric=0.232483\u001b[0m\n",
      "\u001b[31m2018-06-04 05:06:23,282 INFO - root - Epoch[70] Time cost=8.940\u001b[0m\n",
      "\u001b[31m2018-06-04 05:06:25,586 INFO - root - Epoch[70] Validation-avg_dice_coef_metric=0.240252\u001b[0m\n",
      "\u001b[31m2018-06-04 05:06:34,751 INFO - root - Epoch[71] Train-avg_dice_coef_metric=0.228964\u001b[0m\n",
      "\u001b[31m2018-06-04 05:06:34,751 INFO - root - Epoch[71] Time cost=9.165\u001b[0m\n",
      "\u001b[31m2018-06-04 05:06:37,071 INFO - root - Epoch[71] Validation-avg_dice_coef_metric=0.249832\u001b[0m\n",
      "\u001b[31m2018-06-04 05:06:46,257 INFO - root - Epoch[72] Train-avg_dice_coef_metric=0.225039\u001b[0m\n",
      "\u001b[31m2018-06-04 05:06:46,257 INFO - root - Epoch[72] Time cost=9.185\u001b[0m\n",
      "\u001b[31m2018-06-04 05:06:48,558 INFO - root - Epoch[72] Validation-avg_dice_coef_metric=0.228981\u001b[0m\n",
      "\u001b[31m2018-06-04 05:06:57,332 INFO - root - Epoch[73] Train-avg_dice_coef_metric=0.229377\u001b[0m\n",
      "\u001b[31m2018-06-04 05:06:57,332 INFO - root - Epoch[73] Time cost=8.774\u001b[0m\n",
      "\u001b[31m2018-06-04 05:06:59,602 INFO - root - Epoch[73] Validation-avg_dice_coef_metric=0.229588\u001b[0m\n",
      "\u001b[31m2018-06-04 05:07:08,531 INFO - root - Epoch[74] Train-avg_dice_coef_metric=0.228518\u001b[0m\n",
      "\u001b[31m2018-06-04 05:07:08,531 INFO - root - Epoch[74] Time cost=8.929\u001b[0m\n",
      "\u001b[31m2018-06-04 05:07:10,841 INFO - root - Epoch[74] Validation-avg_dice_coef_metric=0.254650\u001b[0m\n",
      "\u001b[31m2018-06-04 05:07:19,842 INFO - root - Epoch[75] Train-avg_dice_coef_metric=0.228797\u001b[0m\n",
      "\u001b[31m2018-06-04 05:07:19,842 INFO - root - Epoch[75] Time cost=9.001\u001b[0m\n",
      "\u001b[31m2018-06-04 05:07:22,118 INFO - root - Epoch[75] Validation-avg_dice_coef_metric=0.245338\u001b[0m\n",
      "\u001b[31m2018-06-04 05:07:31,019 INFO - root - Epoch[76] Train-avg_dice_coef_metric=0.228835\u001b[0m\n",
      "\u001b[31m2018-06-04 05:07:31,019 INFO - root - Epoch[76] Time cost=8.901\u001b[0m\n",
      "\u001b[31m2018-06-04 05:07:33,347 INFO - root - Epoch[76] Validation-avg_dice_coef_metric=0.245320\u001b[0m\n",
      "\u001b[31m2018-06-04 05:07:42,300 INFO - root - Epoch[77] Train-avg_dice_coef_metric=0.226440\u001b[0m\n",
      "\u001b[31m2018-06-04 05:07:42,300 INFO - root - Epoch[77] Time cost=8.953\u001b[0m\n",
      "\u001b[31m2018-06-04 05:07:44,587 INFO - root - Epoch[77] Validation-avg_dice_coef_metric=0.232905\u001b[0m\n",
      "\u001b[31m2018-06-04 05:07:53,614 INFO - root - Epoch[78] Train-avg_dice_coef_metric=0.225017\u001b[0m\n",
      "\u001b[31m2018-06-04 05:07:53,615 INFO - root - Epoch[78] Time cost=9.027\u001b[0m\n",
      "\u001b[31m2018-06-04 05:07:55,931 INFO - root - Epoch[78] Validation-avg_dice_coef_metric=0.256074\u001b[0m\n",
      "\u001b[31m2018-06-04 05:08:04,852 INFO - root - Epoch[79] Train-avg_dice_coef_metric=0.225880\u001b[0m\n",
      "\u001b[31m2018-06-04 05:08:04,852 INFO - root - Epoch[79] Time cost=8.921\u001b[0m\n",
      "\u001b[31m2018-06-04 05:08:07,120 INFO - root - Epoch[79] Validation-avg_dice_coef_metric=0.250998\u001b[0m\n",
      "\u001b[31m2018-06-04 05:08:16,146 INFO - root - Epoch[80] Train-avg_dice_coef_metric=0.220768\u001b[0m\n",
      "\u001b[31m2018-06-04 05:08:16,146 INFO - root - Epoch[80] Time cost=9.026\u001b[0m\n",
      "\u001b[31m2018-06-04 05:08:18,436 INFO - root - Epoch[80] Validation-avg_dice_coef_metric=0.267578\u001b[0m\n",
      "\u001b[31m2018-06-04 05:08:27,290 INFO - root - Epoch[81] Train-avg_dice_coef_metric=0.218870\u001b[0m\n",
      "\u001b[31m2018-06-04 05:08:27,291 INFO - root - Epoch[81] Time cost=8.855\u001b[0m\n",
      "\u001b[31m2018-06-04 05:08:29,583 INFO - root - Epoch[81] Validation-avg_dice_coef_metric=0.202152\u001b[0m\n",
      "\u001b[31m2018-06-04 05:08:38,468 INFO - root - Epoch[82] Train-avg_dice_coef_metric=0.220616\u001b[0m\n",
      "\u001b[31m2018-06-04 05:08:38,468 INFO - root - Epoch[82] Time cost=8.886\u001b[0m\n",
      "\u001b[31m2018-06-04 05:08:40,777 INFO - root - Epoch[82] Validation-avg_dice_coef_metric=0.218715\u001b[0m\n",
      "\u001b[31m2018-06-04 05:08:49,866 INFO - root - Epoch[83] Train-avg_dice_coef_metric=0.217550\u001b[0m\n",
      "\u001b[31m2018-06-04 05:08:49,866 INFO - root - Epoch[83] Time cost=9.089\u001b[0m\n",
      "\u001b[31m2018-06-04 05:08:52,140 INFO - root - Epoch[83] Validation-avg_dice_coef_metric=0.228513\u001b[0m\n",
      "\u001b[31m2018-06-04 05:09:01,184 INFO - root - Epoch[84] Train-avg_dice_coef_metric=0.219357\u001b[0m\n",
      "\u001b[31m2018-06-04 05:09:01,184 INFO - root - Epoch[84] Time cost=9.043\u001b[0m\n",
      "\u001b[31m2018-06-04 05:09:03,502 INFO - root - Epoch[84] Validation-avg_dice_coef_metric=0.239482\u001b[0m\n"
     ]
    },
    {
     "name": "stdout",
     "output_type": "stream",
     "text": [
      "\u001b[31m2018-06-04 05:09:12,550 INFO - root - Epoch[85] Train-avg_dice_coef_metric=0.218253\u001b[0m\n",
      "\u001b[31m2018-06-04 05:09:12,550 INFO - root - Epoch[85] Time cost=9.048\u001b[0m\n",
      "\u001b[31m2018-06-04 05:09:14,865 INFO - root - Epoch[85] Validation-avg_dice_coef_metric=0.233243\u001b[0m\n",
      "\u001b[31m2018-06-04 05:09:23,809 INFO - root - Epoch[86] Train-avg_dice_coef_metric=0.216462\u001b[0m\n",
      "\u001b[31m2018-06-04 05:09:23,810 INFO - root - Epoch[86] Time cost=8.945\u001b[0m\n",
      "\u001b[31m2018-06-04 05:09:26,107 INFO - root - Epoch[86] Validation-avg_dice_coef_metric=0.227813\u001b[0m\n",
      "\u001b[31m2018-06-04 05:09:35,035 INFO - root - Epoch[87] Train-avg_dice_coef_metric=0.211800\u001b[0m\n",
      "\u001b[31m2018-06-04 05:09:35,035 INFO - root - Epoch[87] Time cost=8.928\u001b[0m\n",
      "\u001b[31m2018-06-04 05:09:37,323 INFO - root - Epoch[87] Validation-avg_dice_coef_metric=0.223888\u001b[0m\n",
      "\u001b[31m2018-06-04 05:09:46,275 INFO - root - Epoch[88] Train-avg_dice_coef_metric=0.214226\u001b[0m\n",
      "\u001b[31m2018-06-04 05:09:46,275 INFO - root - Epoch[88] Time cost=8.953\u001b[0m\n",
      "\u001b[31m2018-06-04 05:09:48,610 INFO - root - Epoch[88] Validation-avg_dice_coef_metric=0.244663\u001b[0m\n",
      "\u001b[31m2018-06-04 05:09:57,613 INFO - root - Epoch[89] Train-avg_dice_coef_metric=0.218117\u001b[0m\n",
      "\u001b[31m2018-06-04 05:09:57,613 INFO - root - Epoch[89] Time cost=9.003\u001b[0m\n",
      "\u001b[31m2018-06-04 05:09:59,915 INFO - root - Epoch[89] Validation-avg_dice_coef_metric=0.226074\u001b[0m\n",
      "\u001b[31m2018-06-04 05:10:08,822 INFO - root - Epoch[90] Train-avg_dice_coef_metric=0.218821\u001b[0m\n",
      "\u001b[31m2018-06-04 05:10:08,822 INFO - root - Epoch[90] Time cost=8.907\u001b[0m\n",
      "\u001b[31m2018-06-04 05:10:11,131 INFO - root - Epoch[90] Validation-avg_dice_coef_metric=0.250241\u001b[0m\n",
      "\u001b[31m2018-06-04 05:10:20,241 INFO - root - Epoch[91] Train-avg_dice_coef_metric=0.211320\u001b[0m\n",
      "\u001b[31m2018-06-04 05:10:20,241 INFO - root - Epoch[91] Time cost=9.110\u001b[0m\n",
      "\u001b[31m2018-06-04 05:10:22,533 INFO - root - Epoch[91] Validation-avg_dice_coef_metric=0.234923\u001b[0m\n",
      "\u001b[31m2018-06-04 05:10:31,401 INFO - root - Epoch[92] Train-avg_dice_coef_metric=0.213643\u001b[0m\n",
      "\u001b[31m2018-06-04 05:10:31,401 INFO - root - Epoch[92] Time cost=8.868\u001b[0m\n",
      "\u001b[31m2018-06-04 05:10:33,681 INFO - root - Epoch[92] Validation-avg_dice_coef_metric=0.228120\u001b[0m\n",
      "\u001b[31m2018-06-04 05:10:42,492 INFO - root - Epoch[93] Train-avg_dice_coef_metric=0.212059\u001b[0m\n",
      "\u001b[31m2018-06-04 05:10:42,492 INFO - root - Epoch[93] Time cost=8.810\u001b[0m\n",
      "\u001b[31m2018-06-04 05:10:44,782 INFO - root - Epoch[93] Validation-avg_dice_coef_metric=0.240508\u001b[0m\n",
      "\u001b[31m2018-06-04 05:10:53,676 INFO - root - Epoch[94] Train-avg_dice_coef_metric=0.213226\u001b[0m\n",
      "\u001b[31m2018-06-04 05:10:53,676 INFO - root - Epoch[94] Time cost=8.894\u001b[0m\n",
      "\u001b[31m2018-06-04 05:10:55,982 INFO - root - Epoch[94] Validation-avg_dice_coef_metric=0.240977\u001b[0m\n",
      "\u001b[31m2018-06-04 05:11:04,988 INFO - root - Epoch[95] Train-avg_dice_coef_metric=0.211157\u001b[0m\n",
      "\u001b[31m2018-06-04 05:11:04,988 INFO - root - Epoch[95] Time cost=9.006\u001b[0m\n",
      "\u001b[31m2018-06-04 05:11:07,287 INFO - root - Epoch[95] Validation-avg_dice_coef_metric=0.212363\u001b[0m\n",
      "\u001b[31m2018-06-04 05:11:16,296 INFO - root - Epoch[96] Train-avg_dice_coef_metric=0.210508\u001b[0m\n",
      "\u001b[31m2018-06-04 05:11:16,296 INFO - root - Epoch[96] Time cost=9.009\u001b[0m\n",
      "\u001b[31m2018-06-04 05:11:18,591 INFO - root - Epoch[96] Validation-avg_dice_coef_metric=0.208364\u001b[0m\n",
      "\u001b[31m2018-06-04 05:11:27,579 INFO - root - Epoch[97] Train-avg_dice_coef_metric=0.209684\u001b[0m\n",
      "\u001b[31m2018-06-04 05:11:27,579 INFO - root - Epoch[97] Time cost=8.988\u001b[0m\n",
      "\u001b[31m2018-06-04 05:11:29,899 INFO - root - Epoch[97] Validation-avg_dice_coef_metric=0.224234\u001b[0m\n",
      "\u001b[31m2018-06-04 05:11:38,825 INFO - root - Epoch[98] Train-avg_dice_coef_metric=0.208653\u001b[0m\n",
      "\u001b[31m2018-06-04 05:11:38,825 INFO - root - Epoch[98] Time cost=8.926\u001b[0m\n",
      "\u001b[31m2018-06-04 05:11:41,139 INFO - root - Epoch[98] Validation-avg_dice_coef_metric=0.226522\u001b[0m\n",
      "\u001b[31m2018-06-04 05:11:50,286 INFO - root - Epoch[99] Train-avg_dice_coef_metric=0.207086\u001b[0m\n",
      "\u001b[31m2018-06-04 05:11:50,286 INFO - root - Epoch[99] Time cost=9.147\u001b[0m\n",
      "\u001b[31m2018-06-04 05:11:52,582 INFO - root - Epoch[99] Validation-avg_dice_coef_metric=0.210384\u001b[0m\n",
      "===== Job Complete =====\n",
      "Billable seconds: 1281\n"
     ]
    }
   ],
   "source": [
    "enet_eleven_estimator.fit({'train':train_s3, 'test':validation_s3})"
   ]
  },
  {
   "cell_type": "code",
   "execution_count": 151,
   "metadata": {},
   "outputs": [
    {
     "data": {
      "text/plain": [
       "u's3://sagemaker-us-east-1-288000045208/DEMO-enet-eleven-job-2018-06-04-04-49-0-2018-06-04-04-49-07-097/output/model.tar.gz'"
      ]
     },
     "execution_count": 151,
     "metadata": {},
     "output_type": "execute_result"
    }
   ],
   "source": [
    "enet_eleven_estimator.model_data"
   ]
  },
  {
   "cell_type": "markdown",
   "metadata": {},
   "source": [
    "## Greengrass"
   ]
  },
  {
   "cell_type": "markdown",
   "metadata": {},
   "source": [
    "* Follow instructions to set up ggc on rpi. \n",
    "* Then follow ML instructions, put MXNet in device.\n",
    "* Replace with your own model path from above\n",
    "* Replace zip package with one I will provide HERE\n",
    "* Continue instructions\n",
    "* Choose \"Sagemaker model\" instead doing ML resource selection\n",
    "* Continue steps to Deploy\n",
    "* add boot commands"
   ]
  }
 ],
 "metadata": {
  "kernelspec": {
   "display_name": "conda_mxnet_p27",
   "language": "python",
   "name": "conda_mxnet_p27"
  },
  "language_info": {
   "codemirror_mode": {
    "name": "ipython",
    "version": 2
   },
   "file_extension": ".py",
   "mimetype": "text/x-python",
   "name": "python",
   "nbconvert_exporter": "python",
   "pygments_lexer": "ipython2",
   "version": "2.7.14"
  }
 },
 "nbformat": 4,
 "nbformat_minor": 2
}
