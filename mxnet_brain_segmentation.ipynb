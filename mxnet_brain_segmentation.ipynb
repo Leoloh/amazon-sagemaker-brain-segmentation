{
 "cells": [
  {
   "cell_type": "markdown",
   "metadata": {},
   "source": [
    "## Upload data"
   ]
  },
  {
   "cell_type": "code",
   "execution_count": 175,
   "metadata": {},
   "outputs": [],
   "source": [
    "import sagemaker\n",
    "from sagemaker import get_execution_role\n",
    "import numpy as np\n",
    "from PIL import Image\n",
    "import os\n",
    "import time\n",
    "import matplotlib.pyplot as plt\n",
    "%matplotlib inline\n",
    "\n",
    "sagemaker_session = sagemaker.Session()\n",
    "\n",
    "role = get_execution_role()"
   ]
  },
  {
   "cell_type": "code",
   "execution_count": 176,
   "metadata": {},
   "outputs": [
    {
     "name": "stderr",
     "output_type": "stream",
     "text": [
      "INFO:sagemaker:Created S3 bucket: sagemaker-us-east-1-288000045208\n"
     ]
    }
   ],
   "source": [
    "data_dir = \"/home/ec2-user/SageMaker/efs/data\"\n",
    "data_bucket = sagemaker_session.upload_data(path=os.path.join(data_dir,'brain-segmentation'), key_prefix='brain-segmentation')"
   ]
  },
  {
   "cell_type": "code",
   "execution_count": 177,
   "metadata": {},
   "outputs": [],
   "source": [
    "sample_train_s3 = sagemaker.s3_input(s3_data=os.path.join(data_bucket, \"sample-train\"), distribution='FullyReplicated')\n",
    "sample_validation_s3 = sagemaker.s3_input(s3_data=os.path.join(data_bucket, \"sample-validation\"), distribution='FullyReplicated')\n",
    "train_s3 = sagemaker.s3_input(s3_data=os.path.join(data_bucket, \"train\"), distribution='FullyReplicated')\n",
    "validation_s3 = sagemaker.s3_input(s3_data=os.path.join(data_bucket, \"validation\"), distribution='FullyReplicated')\n",
    "distributed_train_s3 = sagemaker.s3_input(s3_data=os.path.join(data_bucket, \"distributed-training\"), distribution='ShardedByS3Key')"
   ]
  },
  {
   "cell_type": "markdown",
   "metadata": {},
   "source": [
    "## Test Input"
   ]
  },
  {
   "cell_type": "code",
   "execution_count": 178,
   "metadata": {},
   "outputs": [],
   "source": [
    "test_brain = np.array(Image.open(\"test.png\"))[np.newaxis,np.newaxis,:]"
   ]
  },
  {
   "cell_type": "code",
   "execution_count": 179,
   "metadata": {},
   "outputs": [
    {
     "data": {
      "text/plain": [
       "(1, 1, 176, 208)"
      ]
     },
     "execution_count": 179,
     "metadata": {},
     "output_type": "execute_result"
    }
   ],
   "source": [
    "test_brain.shape"
   ]
  },
  {
   "cell_type": "markdown",
   "metadata": {},
   "source": [
    "## Local Mode"
   ]
  },
  {
   "cell_type": "code",
   "execution_count": null,
   "metadata": {
    "scrolled": false
   },
   "outputs": [],
   "source": [
    "!wget https://raw.githubusercontent.com/awslabs/amazon-sagemaker-examples/master/sagemaker-python-sdk/mxnet_gluon_mnist/setup.sh"
   ]
  },
  {
   "cell_type": "code",
   "execution_count": null,
   "metadata": {},
   "outputs": [],
   "source": [
    "!/bin/bash ./setup.sh"
   ]
  },
  {
   "cell_type": "code",
   "execution_count": 191,
   "metadata": {},
   "outputs": [],
   "source": [
    "local_unet_job = 'DEMO-local-unet-job-' + time.strftime(\"%Y-%m-%d-%H-%M-%S\", time.gmtime())"
   ]
  },
  {
   "cell_type": "code",
   "execution_count": 201,
   "metadata": {},
   "outputs": [],
   "source": [
    "from sagemaker.mxnet import MXNet\n",
    "\n",
    "local_estimator = MXNet(entry_point='brain_segmentation.py',\n",
    "                            base_job_name = local_unet_job,\n",
    "                            source_dir = 'source_dir',\n",
    "                            role=role,\n",
    "                            train_instance_count=1, \n",
    "                            train_instance_type='local',\n",
    "                            hyperparameters={\n",
    "                                'learning_rate': 1E-3 * 16,\n",
    "                                'class_weights': [[ 1.35, 17.18,  8.29, 12.42]],\n",
    "                                'network':'unet',\n",
    "                                'batch_size': 8,\n",
    "                                'epochs':1\n",
    "                        })"
   ]
  },
  {
   "cell_type": "code",
   "execution_count": 203,
   "metadata": {
    "scrolled": false
   },
   "outputs": [
    {
     "name": "stderr",
     "output_type": "stream",
     "text": [
      "INFO:sagemaker:Creating training-job with name: DEMO-local-unet-job-2018-06-11-20-51-54-2018-06-11-21-07-28-572\n"
     ]
    },
    {
     "name": "stdout",
     "output_type": "stream",
     "text": [
      "Attaching to tmpzhtpxt_algo-1-GJSOZ_1\n",
      "\u001b[36malgo-1-GJSOZ_1  |\u001b[0m 2018-06-11 21:07:30,101 INFO - root - running container entrypoint\n",
      "\u001b[36malgo-1-GJSOZ_1  |\u001b[0m 2018-06-11 21:07:30,101 INFO - root - starting train task\n",
      "\u001b[36malgo-1-GJSOZ_1  |\u001b[0m 2018-06-11 21:07:30,109 INFO - container_support.training - Training starting\n",
      "\u001b[36malgo-1-GJSOZ_1  |\u001b[0m 2018-06-11 21:07:30,574 INFO - mxnet_container.train - MXNetTrainingEnvironment: {'enable_cloudwatch_metrics': False, 'available_gpus': 0, 'channels': {u'test': {u'ContentType': u'application/octet-stream'}, u'train': {u'ContentType': u'application/octet-stream'}}, '_ps_verbose': 0, 'resource_config': {u'current_host': u'algo-1-GJSOZ', u'hosts': [u'algo-1-GJSOZ']}, 'user_script_name': u'brain_segmentation.py', 'input_config_dir': '/opt/ml/input/config', 'channel_dirs': {u'test': u'/opt/ml/input/data/test', u'train': u'/opt/ml/input/data/train'}, 'code_dir': '/opt/ml/code', 'output_data_dir': '/opt/ml/output/data/', 'output_dir': '/opt/ml/output', 'model_dir': '/opt/ml/model', 'hyperparameters': {u'sagemaker_program': u'brain_segmentation.py', u'network': u'unet', u'class_weights': [[1.35, 17.18, 8.29, 12.42]], u'learning_rate': 0.016, u'batch_size': 8, u'epochs': 1, u'sagemaker_submit_directory': u's3://sagemaker-us-east-1-288000045208/DEMO-local-unet-job-2018-06-11-20-51-54-2018-06-11-21-07-28-572/source/sourcedir.tar.gz', u'sagemaker_region': u'us-east-1', u'sagemaker_enable_cloudwatch_metrics': False, u'sagemaker_job_name': u'DEMO-local-unet-job-2018-06-11-20-51-54-2018-06-11-21-07-28-572', u'sagemaker_container_log_level': 20}, 'hosts': [u'algo-1-GJSOZ'], 'job_name': None, '_ps_port': 8000, 'user_script_archive': u's3://sagemaker-us-east-1-288000045208/DEMO-local-unet-job-2018-06-11-20-51-54-2018-06-11-21-07-28-572/source/sourcedir.tar.gz', '_scheduler_host': u'algo-1-GJSOZ', 'sagemaker_region': u'us-east-1', '_scheduler_ip': '172.18.0.3', 'input_dir': '/opt/ml/input', 'user_requirements_file': None, 'current_host': u'algo-1-GJSOZ', 'container_log_level': 20, 'available_cpus': 64, 'base_dir': '/opt/ml'}\n",
      "\u001b[36malgo-1-GJSOZ_1  |\u001b[0m Downloading s3://sagemaker-us-east-1-288000045208/DEMO-local-unet-job-2018-06-11-20-51-54-2018-06-11-21-07-28-572/source/sourcedir.tar.gz to /tmp/script.tar.gz\n",
      "\u001b[36malgo-1-GJSOZ_1  |\u001b[0m 2018-06-11 21:07:30,590 INFO - botocore.vendored.requests.packages.urllib3.connectionpool - Starting new HTTP connection (1): 169.254.169.254\n",
      "\u001b[36malgo-1-GJSOZ_1  |\u001b[0m 2018-06-11 21:07:30,594 INFO - botocore.vendored.requests.packages.urllib3.connectionpool - Starting new HTTP connection (1): 169.254.169.254\n",
      "\u001b[36malgo-1-GJSOZ_1  |\u001b[0m 2018-06-11 21:07:30,665 INFO - botocore.vendored.requests.packages.urllib3.connectionpool - Starting new HTTPS connection (1): sagemaker-us-east-1-288000045208.s3.amazonaws.com\n",
      "\u001b[36malgo-1-GJSOZ_1  |\u001b[0m 2018-06-11 21:07:30,885 INFO - mxnet_container.train - Starting distributed training task\n",
      "\u001b[36malgo-1-GJSOZ_1  |\u001b[0m 1.1.0\n",
      "\u001b[36malgo-1-GJSOZ_1  |\u001b[0m Sym loaded\n",
      "\u001b[36malgo-1-GJSOZ_1  |\u001b[0m Starting fit\n",
      "\u001b[36malgo-1-GJSOZ_1  |\u001b[0m MKL Build:20171227\n",
      "\u001b[36malgo-1-GJSOZ_1  |\u001b[0m 2018-06-11 21:07:38,685 INFO - root - Epoch[0] Train-avg_dice_coef_metric=0.853740\n",
      "\u001b[36malgo-1-GJSOZ_1  |\u001b[0m 2018-06-11 21:07:38,686 INFO - root - Epoch[0] Time cost=7.498\n",
      "\u001b[36malgo-1-GJSOZ_1  |\u001b[0m 2018-06-11 21:08:14,727 INFO - root - Epoch[0] Validation-avg_dice_coef_metric=0.499999\n",
      "\u001b[36mtmpzhtpxt_algo-1-GJSOZ_1 exited with code 0\n",
      "\u001b[0mAborting on container exit...\n",
      "===== Job Complete =====\n"
     ]
    }
   ],
   "source": [
    "local_estimator.fit({'train':sample_train_s3, 'test':sample_validation_s3})"
   ]
  },
  {
   "cell_type": "code",
   "execution_count": 204,
   "metadata": {},
   "outputs": [],
   "source": [
    "local_unet_endpoint = 'DEMO-local-unet-endpoint-' + time.strftime(\"%Y-%m-%d-%H-%M-%S\", time.gmtime())"
   ]
  },
  {
   "cell_type": "code",
   "execution_count": 205,
   "metadata": {},
   "outputs": [
    {
     "name": "stderr",
     "output_type": "stream",
     "text": [
      "INFO:sagemaker:Creating model with name: DEMO-local-unet-job-2018-06-11-20-51-54-2018-06-11-21-07-28-572\n",
      "INFO:sagemaker:Creating endpoint with name DEMO-local-unet-endpoint-2018-06-11-21-18-00\n"
     ]
    },
    {
     "name": "stdout",
     "output_type": "stream",
     "text": [
      "!"
     ]
    }
   ],
   "source": [
    "local_predictor = local_estimator.deploy(initial_instance_count=1, instance_type='local',\n",
    "                                         endpoint_name=local_unet_endpoint)"
   ]
  },
  {
   "cell_type": "code",
   "execution_count": 206,
   "metadata": {},
   "outputs": [
    {
     "data": {
      "text/plain": [
       "<matplotlib.image.AxesImage at 0x7faf87a17e90>"
      ]
     },
     "execution_count": 206,
     "metadata": {},
     "output_type": "execute_result"
    },
    {
     "data": {
      "image/png": "[encoded data removed]",
      "text/plain": [
       "<matplotlib.figure.Figure at 0x7faf5753d910>"
      ]
     },
     "metadata": {},
     "output_type": "display_data"
    }
   ],
   "source": [
    "response = local_predictor.predict(test_brain.tolist())\n",
    "output = np.argmax(np.array(response), axis=(1))[0].astype(np.uint8)\n",
    "plt.imshow(output)"
   ]
  },
  {
   "cell_type": "markdown",
   "metadata": {},
   "source": [
    "## UNet - 1 Machine"
   ]
  },
  {
   "cell_type": "code",
   "execution_count": 207,
   "metadata": {},
   "outputs": [],
   "source": [
    "unet_single_machine_job = 'DEMO-unet-single-machine-job-' + time.strftime(\"%Y-%m-%d-%H-%M-%S\", time.gmtime())"
   ]
  },
  {
   "cell_type": "code",
   "execution_count": 208,
   "metadata": {
    "scrolled": true
   },
   "outputs": [],
   "source": [
    "unet_single_machine_estimator = MXNet(entry_point='brain_segmentation.py',\n",
    "                                                base_job_name = unet_single_machine_job,\n",
    "                                                source_dir = 'source_dir',\n",
    "                                                role=role,\n",
    "                                                train_instance_count=1, \n",
    "                                                train_instance_type='ml.p3.2xlarge',\n",
    "                                                hyperparameters={\n",
    "                                                    'learning_rate': 1E-3,\n",
    "                                                    'class_weights': [[ 1.35, 17.18,  8.29, 12.42]],\n",
    "                                                    'network':'unet',\n",
    "                                                    'batch_size': 32,\n",
    "                                            })"
   ]
  },
  {
   "cell_type": "code",
   "execution_count": null,
   "metadata": {
    "scrolled": true
   },
   "outputs": [
    {
     "name": "stderr",
     "output_type": "stream",
     "text": [
      "INFO:sagemaker:Created S3 bucket: sagemaker-us-east-1-288000045208\n",
      "INFO:sagemaker:Creating training-job with name: DEMO-unet-single-machine-job-2018-06-11-2018-06-11-21-18-16-205\n"
     ]
    },
    {
     "name": "stdout",
     "output_type": "stream",
     "text": [
      ".........................\n",
      "\u001b[31m2018-06-11 21:22:11,196 INFO - root - running container entrypoint\u001b[0m\n",
      "\u001b[31m2018-06-11 21:22:11,196 INFO - root - starting train task\u001b[0m\n",
      "\u001b[31m2018-06-11 21:22:11,216 INFO - container_support.training - Training starting\u001b[0m\n",
      "\u001b[31m2018-06-11 21:22:13,553 INFO - mxnet_container.train - MXNetTrainingEnvironment: {'enable_cloudwatch_metrics': False, 'available_gpus': 1, 'channels': {u'test': {u'TrainingInputMode': u'File', u'RecordWrapperType': u'None', u'S3DistributionType': u'FullyReplicated'}, u'train': {u'TrainingInputMode': u'File', u'RecordWrapperType': u'None', u'S3DistributionType': u'FullyReplicated'}}, '_ps_verbose': 0, 'resource_config': {u'current_host': u'algo-1', u'network_interface_name': u'ethwe', u'hosts': [u'algo-1']}, 'user_script_name': u'brain_segmentation.py', 'input_config_dir': '/opt/ml/input/config', 'channel_dirs': {u'test': u'/opt/ml/input/data/test', u'train': u'/opt/ml/input/data/train'}, 'code_dir': '/opt/ml/code', 'output_data_dir': '/opt/ml/output/data/', 'output_dir': '/opt/ml/output', 'model_dir': '/opt/ml/model', 'hyperparameters': {u'sagemaker_program': u'brain_segmentation.py', u'network': u'unet', u'class_weights': [[1.35, 17.18, 8.29, 12.42]], u'learning_rate': 0.001, u'batch_size': 32, u'sagemaker_submit_directory': u's3://sagemaker-us-east-1-288000045208/DEMO-unet-single-machine-job-2018-06-11-2018-06-11-21-18-16-205/source/sourcedir.tar.gz', u'sagemaker_region': u'us-east-1', u'sagemaker_enable_cloudwatch_metrics': False, u'sagemaker_job_name': u'DEMO-unet-single-machine-job-2018-06-11-2018-06-11-21-18-16-205', u'sagemaker_container_log_level': 20}, 'hosts': [u'algo-1'], 'job_name': 'DEMO-unet-single-machine-job-2018-06-11-2018-06-11-21-18-16-205', '_ps_port': 8000, 'user_script_archive': u's3://sagemaker-us-east-1-288000045208/DEMO-unet-single-machine-job-2018-06-11-2018-06-11-21-18-16-205/source/sourcedir.tar.gz', '_scheduler_host': u'algo-1', 'sagemaker_region': u'us-east-1', '_scheduler_ip': '10.32.0.4', 'input_dir': '/opt/ml/input', 'user_requirements_file': None, 'current_host': u'algo-1', 'container_log_level': 20, 'available_cpus': 8, 'base_dir': '/opt/ml'}\u001b[0m\n",
      "\u001b[31mDownloading s3://sagemaker-us-east-1-288000045208/DEMO-unet-single-machine-job-2018-06-11-2018-06-11-21-18-16-205/source/sourcedir.tar.gz to /tmp/script.tar.gz\u001b[0m\n",
      "\u001b[31m2018-06-11 21:22:13,642 INFO - botocore.vendored.requests.packages.urllib3.connectionpool - Starting new HTTP connection (1): 169.254.170.2\u001b[0m\n",
      "\u001b[31m2018-06-11 21:22:13,752 INFO - botocore.vendored.requests.packages.urllib3.connectionpool - Starting new HTTPS connection (1): sagemaker-us-east-1-288000045208.s3.amazonaws.com\u001b[0m\n",
      "\u001b[31m2018-06-11 21:22:13,925 INFO - mxnet_container.train - Starting distributed training task\u001b[0m\n",
      "\u001b[31m1.1.0\u001b[0m\n",
      "\u001b[31mSym loaded\u001b[0m\n",
      "\u001b[31mStarting fit\u001b[0m\n",
      "\u001b[31m[21:22:23] src/operator/nn/./cudnn/./cudnn_algoreg-inl.h:107: Running performance tests to find the best convolution algorithm, this can take a while... (setting env variable MXNET_CUDNN_AUTOTUNE_DEFAULT to 0 to disable)\u001b[0m\n",
      "\u001b[31m[21:22:24] src/operator/nn/./cudnn/./cudnn_algoreg-inl.h:107: Running performance tests to find the best convolution algorithm, this can take a while... (setting env variable MXNET_CUDNN_AUTOTUNE_DEFAULT to 0 to disable)\u001b[0m\n",
      "\u001b[31m2018-06-11 21:22:42,032 INFO - root - Epoch[0] Train-avg_dice_coef_metric=0.380713\u001b[0m\n",
      "\u001b[31m2018-06-11 21:22:42,033 INFO - root - Epoch[0] Time cost=16.128\u001b[0m\n",
      "\u001b[31m2018-06-11 21:22:44,457 INFO - root - Epoch[0] Validation-avg_dice_coef_metric=0.342262\u001b[0m\n",
      "\u001b[31m2018-06-11 21:23:00,265 INFO - root - Epoch[1] Train-avg_dice_coef_metric=0.212408\u001b[0m\n",
      "\u001b[31m2018-06-11 21:23:00,266 INFO - root - Epoch[1] Time cost=15.808\u001b[0m\n",
      "\u001b[31m2018-06-11 21:23:02,664 INFO - root - Epoch[1] Validation-avg_dice_coef_metric=0.189376\u001b[0m\n",
      "\u001b[31m2018-06-11 21:23:18,545 INFO - root - Epoch[2] Train-avg_dice_coef_metric=0.162330\u001b[0m\n",
      "\u001b[31m2018-06-11 21:23:18,545 INFO - root - Epoch[2] Time cost=15.881\u001b[0m\n",
      "\u001b[31m2018-06-11 21:23:20,954 INFO - root - Epoch[2] Validation-avg_dice_coef_metric=0.196720\u001b[0m\n",
      "\u001b[31m2018-06-11 21:23:37,071 INFO - root - Epoch[3] Train-avg_dice_coef_metric=0.165439\u001b[0m\n",
      "\u001b[31m2018-06-11 21:23:37,071 INFO - root - Epoch[3] Time cost=16.117\u001b[0m\n",
      "\u001b[31m2018-06-11 21:23:39,570 INFO - root - Epoch[3] Validation-avg_dice_coef_metric=0.186688\u001b[0m\n",
      "\u001b[31m2018-06-11 21:23:55,417 INFO - root - Epoch[4] Train-avg_dice_coef_metric=0.161505\u001b[0m\n",
      "\u001b[31m2018-06-11 21:23:55,417 INFO - root - Epoch[4] Time cost=15.847\u001b[0m\n",
      "\u001b[31m2018-06-11 21:23:57,805 INFO - root - Epoch[4] Validation-avg_dice_coef_metric=0.145851\u001b[0m\n",
      "\u001b[31m2018-06-11 21:24:13,716 INFO - root - Epoch[5] Train-avg_dice_coef_metric=0.156358\u001b[0m\n",
      "\u001b[31m2018-06-11 21:24:13,716 INFO - root - Epoch[5] Time cost=15.911\u001b[0m\n",
      "\u001b[31m2018-06-11 21:24:16,169 INFO - root - Epoch[5] Validation-avg_dice_coef_metric=0.176873\u001b[0m\n",
      "\u001b[31m2018-06-11 21:24:32,394 INFO - root - Epoch[6] Train-avg_dice_coef_metric=0.158923\u001b[0m\n",
      "\u001b[31m2018-06-11 21:24:32,394 INFO - root - Epoch[6] Time cost=16.225\u001b[0m\n",
      "\u001b[31m2018-06-11 21:24:34,854 INFO - root - Epoch[6] Validation-avg_dice_coef_metric=0.341684\u001b[0m\n",
      "\u001b[31m2018-06-11 21:24:51,015 INFO - root - Epoch[7] Train-avg_dice_coef_metric=0.153567\u001b[0m\n",
      "\u001b[31m2018-06-11 21:24:51,016 INFO - root - Epoch[7] Time cost=16.162\u001b[0m\n",
      "\u001b[31m2018-06-11 21:24:53,504 INFO - root - Epoch[7] Validation-avg_dice_coef_metric=0.161175\u001b[0m\n",
      "\u001b[31m2018-06-11 21:25:09,522 INFO - root - Epoch[8] Train-avg_dice_coef_metric=0.147381\u001b[0m\n",
      "\u001b[31m2018-06-11 21:25:09,522 INFO - root - Epoch[8] Time cost=16.018\u001b[0m\n",
      "\u001b[31m2018-06-11 21:25:11,947 INFO - root - Epoch[8] Validation-avg_dice_coef_metric=0.141126\u001b[0m\n",
      "\u001b[31m2018-06-11 21:25:27,957 INFO - root - Epoch[9] Train-avg_dice_coef_metric=0.149409\u001b[0m\n",
      "\u001b[31m2018-06-11 21:25:27,957 INFO - root - Epoch[9] Time cost=16.011\u001b[0m\n",
      "\u001b[31m2018-06-11 21:25:30,433 INFO - root - Epoch[9] Validation-avg_dice_coef_metric=0.149491\u001b[0m\n",
      "\u001b[31m2018-06-11 21:25:46,446 INFO - root - Epoch[10] Train-avg_dice_coef_metric=0.139055\u001b[0m\n",
      "\u001b[31m2018-06-11 21:25:46,447 INFO - root - Epoch[10] Time cost=16.013\u001b[0m\n",
      "\u001b[31m2018-06-11 21:25:49,061 INFO - root - Epoch[10] Validation-avg_dice_coef_metric=0.133437\u001b[0m\n",
      "\u001b[31m2018-06-11 21:26:05,260 INFO - root - Epoch[11] Train-avg_dice_coef_metric=0.138632\u001b[0m\n",
      "\u001b[31m2018-06-11 21:26:05,261 INFO - root - Epoch[11] Time cost=16.199\u001b[0m\n",
      "\u001b[31m2018-06-11 21:26:07,731 INFO - root - Epoch[11] Validation-avg_dice_coef_metric=0.152336\u001b[0m\n",
      "\u001b[31m2018-06-11 21:26:23,772 INFO - root - Epoch[12] Train-avg_dice_coef_metric=0.141730\u001b[0m\n",
      "\u001b[31m2018-06-11 21:26:23,772 INFO - root - Epoch[12] Time cost=16.041\u001b[0m\n",
      "\u001b[31m2018-06-11 21:26:26,339 INFO - root - Epoch[12] Validation-avg_dice_coef_metric=0.136242\u001b[0m\n",
      "\u001b[31m2018-06-11 21:26:42,369 INFO - root - Epoch[13] Train-avg_dice_coef_metric=0.138384\u001b[0m\n",
      "\u001b[31m2018-06-11 21:26:42,370 INFO - root - Epoch[13] Time cost=16.030\u001b[0m\n",
      "\u001b[31m2018-06-11 21:26:44,891 INFO - root - Epoch[13] Validation-avg_dice_coef_metric=0.206351\u001b[0m\n",
      "\u001b[31m2018-06-11 21:27:01,007 INFO - root - Epoch[14] Train-avg_dice_coef_metric=0.144337\u001b[0m\n",
      "\u001b[31m2018-06-11 21:27:01,008 INFO - root - Epoch[14] Time cost=16.116\u001b[0m\n",
      "\u001b[31m2018-06-11 21:27:03,455 INFO - root - Epoch[14] Validation-avg_dice_coef_metric=0.156417\u001b[0m\n",
      "\u001b[31m2018-06-11 21:27:19,841 INFO - root - Epoch[15] Train-avg_dice_coef_metric=0.135882\u001b[0m\n",
      "\u001b[31m2018-06-11 21:27:19,841 INFO - root - Epoch[15] Time cost=16.386\u001b[0m\n",
      "\u001b[31m2018-06-11 21:27:22,329 INFO - root - Epoch[15] Validation-avg_dice_coef_metric=0.132378\u001b[0m\n"
     ]
    }
   ],
   "source": [
    "unet_single_machine_estimator.fit({'train':train_s3, 'test':validation_s3})"
   ]
  },
  {
   "cell_type": "markdown",
   "metadata": {},
   "source": [
    "## UNET - Distributed (SYNCHRONOUS)"
   ]
  },
  {
   "cell_type": "code",
   "execution_count": 19,
   "metadata": {},
   "outputs": [],
   "source": [
    "unet_distributed_job = 'DEMO-unet-distributed-job-' + time.strftime(\"%Y-%m-%d-%H-%M-%S\", time.gmtime())"
   ]
  },
  {
   "cell_type": "code",
   "execution_count": 20,
   "metadata": {
    "scrolled": true
   },
   "outputs": [],
   "source": [
    "unet_distributed_estimator = MXNet(entry_point='brain_segmentation.py',\n",
    "                                   base_job_name = unet_distributed_job,\n",
    "                                    source_dir = 'source_dir',\n",
    "                                    role=role,\n",
    "                                    train_instance_count=2, \n",
    "                                    train_instance_type='ml.p3.2xlarge',\n",
    "                                    hyperparameters={\n",
    "                                        'epochs': 50,\n",
    "                                        'learning_rate': 1E-3,\n",
    "                                        'class_weights': [[ 1.35, 17.18,  8.29, 12.42]],\n",
    "                                        'network':'unet',\n",
    "                                        'batch_size': 32,\n",
    "                        })"
   ]
  },
  {
   "cell_type": "code",
   "execution_count": 21,
   "metadata": {
    "scrolled": true
   },
   "outputs": [
    {
     "name": "stderr",
     "output_type": "stream",
     "text": [
      "INFO:sagemaker:Created S3 bucket: sagemaker-us-east-1-288000045208\n",
      "INFO:sagemaker:Creating training-job with name: DEMO-unet-distributed-job-2018-06-03-18-2018-06-03-18-05-57-843\n"
     ]
    },
    {
     "name": "stdout",
     "output_type": "stream",
     "text": [
      ".........................\n",
      "\u001b[32m2018-06-03 18:09:56,888 INFO - root - running container entrypoint\u001b[0m\n",
      "\u001b[32m2018-06-03 18:09:56,889 INFO - root - starting train task\u001b[0m\n",
      "\u001b[32m2018-06-03 18:09:56,909 INFO - container_support.training - Training starting\u001b[0m\n",
      "\u001b[32m2018-06-03 18:09:59,179 INFO - mxnet_container.train - MXNetTrainingEnvironment: {'enable_cloudwatch_metrics': False, 'available_gpus': 1, 'channels': {u'test': {u'TrainingInputMode': u'File', u'RecordWrapperType': u'None', u'S3DistributionType': u'FullyReplicated'}, u'train': {u'TrainingInputMode': u'File', u'RecordWrapperType': u'None', u'S3DistributionType': u'ShardedByS3Key'}}, '_ps_verbose': 0, 'resource_config': {u'current_host': u'algo-2', u'network_interface_name': u'ethwe', u'hosts': [u'algo-1', u'algo-2']}, 'user_script_name': u'brain_segmentation.py', 'input_config_dir': '/opt/ml/input/config', 'channel_dirs': {u'test': u'/opt/ml/input/data/test', u'train': u'/opt/ml/input/data/train'}, 'code_dir': '/opt/ml/code', 'output_data_dir': u'/opt/ml/output/data/algo-2', 'output_dir': '/opt/ml/output', 'model_dir': '/opt/ml/model', 'hyperparameters': {u'sagemaker_program': u'brain_segmentation.py', u'network': u'unet', u'class_weights': [[1.35, 17.18, 8.29, 12.42]], u'learning_rate': 0.001, u'batch_size': 32, u'epochs': 50, u'sagemaker_submit_directory': u's3://sagemaker-us-east-1-288000045208/DEMO-unet-distributed-job-2018-06-03-18-2018-06-03-18-05-57-843/source/sourcedir.tar.gz', u'sagemaker_region': u'us-east-1', u'sagemaker_enable_cloudwatch_metrics': False, u'sagemaker_job_name': u'DEMO-unet-distributed-job-2018-06-03-18-2018-06-03-18-05-57-843', u'sagemaker_container_log_level': 20}, 'hosts': [u'algo-1', u'algo-2'], 'job_name': 'DEMO-unet-distributed-job-2018-06-03-18-2018-06-03-18-05-57-843', '_ps_port': 8000, 'user_script_archive': u's3://sagemaker-us-east-1-288000045208/DEMO-unet-distributed-job-2018-06-03-18-2018-06-03-18-05-57-843/source/sourcedir.tar.gz', '_scheduler_host': u'algo-1', 'sagemaker_region': u'us-east-1', '_scheduler_ip': '10.40.0.3', 'input_dir': '/opt/ml/input', 'user_requirements_file': None, 'current_host': u'algo-2', 'container_log_level': 20, 'available_cpus': 8, 'base_dir': '/opt/ml'}\u001b[0m\n",
      "\u001b[32mDownloading s3://sagemaker-us-east-1-288000045208/DEMO-unet-distributed-job-2018-06-03-18-2018-06-03-18-05-57-843/source/sourcedir.tar.gz to /tmp/script.tar.gz\u001b[0m\n",
      "\u001b[32m2018-06-03 18:09:59,267 INFO - botocore.vendored.requests.packages.urllib3.connectionpool - Starting new HTTP connection (1): 169.254.170.2\u001b[0m\n",
      "\u001b[32m2018-06-03 18:09:59,366 INFO - botocore.vendored.requests.packages.urllib3.connectionpool - Starting new HTTPS connection (1): sagemaker-us-east-1-288000045208.s3.amazonaws.com\u001b[0m\n",
      "\u001b[32m2018-06-03 18:09:59,588 INFO - mxnet_container.train - Starting distributed training task\u001b[0m\n",
      "\u001b[32m1.1.0\u001b[0m\n",
      "\u001b[31m2018-06-03 18:09:57,036 INFO - root - running container entrypoint\u001b[0m\n",
      "\u001b[31m2018-06-03 18:09:57,036 INFO - root - starting train task\u001b[0m\n",
      "\u001b[31m2018-06-03 18:09:57,056 INFO - container_support.training - Training starting\u001b[0m\n",
      "\u001b[31m2018-06-03 18:09:59,352 INFO - mxnet_container.train - MXNetTrainingEnvironment: {'enable_cloudwatch_metrics': False, 'available_gpus': 1, 'channels': {u'test': {u'TrainingInputMode': u'File', u'RecordWrapperType': u'None', u'S3DistributionType': u'FullyReplicated'}, u'train': {u'TrainingInputMode': u'File', u'RecordWrapperType': u'None', u'S3DistributionType': u'ShardedByS3Key'}}, '_ps_verbose': 0, 'resource_config': {u'current_host': u'algo-1', u'network_interface_name': u'ethwe', u'hosts': [u'algo-1', u'algo-2']}, 'user_script_name': u'brain_segmentation.py', 'input_config_dir': '/opt/ml/input/config', 'channel_dirs': {u'test': u'/opt/ml/input/data/test', u'train': u'/opt/ml/input/data/train'}, 'code_dir': '/opt/ml/code', 'output_data_dir': u'/opt/ml/output/data/algo-1', 'output_dir': '/opt/ml/output', 'model_dir': '/opt/ml/model', 'hyperparameters': {u'sagemaker_program': u'brain_segmentation.py', u'network': u'unet', u'class_weights': [[1.35, 17.18, 8.29, 12.42]], u'learning_rate': 0.001, u'batch_size': 32, u'epochs': 50, u'sagemaker_submit_directory': u's3://sagemaker-us-east-1-288000045208/DEMO-unet-distributed-job-2018-06-03-18-2018-06-03-18-05-57-843/source/sourcedir.tar.gz', u'sagemaker_region': u'us-east-1', u'sagemaker_enable_cloudwatch_metrics': False, u'sagemaker_job_name': u'DEMO-unet-distributed-job-2018-06-03-18-2018-06-03-18-05-57-843', u'sagemaker_container_log_level': 20}, 'hosts': [u'algo-1', u'algo-2'], 'job_name': 'DEMO-unet-distributed-job-2018-06-03-18-2018-06-03-18-05-57-843', '_ps_port': 8000, 'user_script_archive': u's3://sagemaker-us-east-1-288000045208/DEMO-unet-distributed-job-2018-06-03-18-2018-06-03-18-05-57-843/source/sourcedir.tar.gz', '_scheduler_host': u'algo-1', 'sagemaker_region': u'us-east-1', '_scheduler_ip': '10.40.0.3', 'input_dir': '/opt/ml/input', 'user_requirements_file': None, 'current_host': u'algo-1', 'container_log_level': 20, 'available_cpus': 8, 'base_dir': '/opt/ml'}\u001b[0m\n",
      "\u001b[31mDownloading s3://sagemaker-us-east-1-288000045208/DEMO-unet-distributed-job-2018-06-03-18-2018-06-03-18-05-57-843/source/sourcedir.tar.gz to /tmp/script.tar.gz\u001b[0m\n",
      "\u001b[31m2018-06-03 18:09:59,436 INFO - botocore.vendored.requests.packages.urllib3.connectionpool - Starting new HTTP connection (1): 169.254.170.2\u001b[0m\n",
      "\u001b[31m2018-06-03 18:09:59,541 INFO - botocore.vendored.requests.packages.urllib3.connectionpool - Starting new HTTPS connection (1): sagemaker-us-east-1-288000045208.s3.amazonaws.com\u001b[0m\n",
      "\u001b[31m2018-06-03 18:09:59,713 INFO - mxnet_container.train - Starting distributed training task\u001b[0m\n",
      "\u001b[31m1.1.0\u001b[0m\n",
      "\u001b[31m[18:10:08] src/operator/nn/./cudnn/./cudnn_algoreg-inl.h:107: Running performance tests to find the best convolution algorithm, this can take a while... (setting env variable MXNET_CUDNN_AUTOTUNE_DEFAULT to 0 to disable)\u001b[0m\n",
      "\u001b[32m[18:10:08] src/operator/nn/./cudnn/./cudnn_algoreg-inl.h:107: Running performance tests to find the best convolution algorithm, this can take a while... (setting env variable MXNET_CUDNN_AUTOTUNE_DEFAULT to 0 to disable)\u001b[0m\n",
      "\u001b[32m[18:10:09] src/operator/nn/./cudnn/./cudnn_algoreg-inl.h:107: Running performance tests to find the best convolution algorithm, this can take a while... (setting env variable MXNET_CUDNN_AUTOTUNE_DEFAULT to 0 to disable)\u001b[0m\n",
      "\u001b[31m[18:10:09] src/operator/nn/./cudnn/./cudnn_algoreg-inl.h:107: Running performance tests to find the best convolution algorithm, this can take a while... (setting env variable MXNET_CUDNN_AUTOTUNE_DEFAULT to 0 to disable)\u001b[0m\n",
      "\u001b[32m2018-06-03 18:10:19,101 INFO - root - Epoch[0] Train-avg_dice_coef_metric=0.536508\u001b[0m\n",
      "\u001b[32m2018-06-03 18:10:19,101 INFO - root - Epoch[0] Time cost=8.239\u001b[0m\n",
      "\u001b[31m2018-06-03 18:10:19,066 INFO - root - Epoch[0] Train-avg_dice_coef_metric=0.539416\u001b[0m\n",
      "\u001b[31m2018-06-03 18:10:19,066 INFO - root - Epoch[0] Time cost=8.241\u001b[0m\n",
      "\u001b[31m2018-06-03 18:10:21,501 INFO - root - Epoch[0] Validation-avg_dice_coef_metric=0.501735\u001b[0m\n",
      "\u001b[32m2018-06-03 18:10:21,543 INFO - root - Epoch[0] Validation-avg_dice_coef_metric=0.484337\u001b[0m\n",
      "\u001b[32m2018-06-03 18:10:29,763 INFO - root - Epoch[1] Train-avg_dice_coef_metric=0.412181\u001b[0m\n",
      "\u001b[32m2018-06-03 18:10:29,764 INFO - root - Epoch[1] Time cost=8.220\u001b[0m\n",
      "\u001b[31m2018-06-03 18:10:29,877 INFO - root - Epoch[1] Train-avg_dice_coef_metric=0.415453\u001b[0m\n",
      "\u001b[31m2018-06-03 18:10:29,877 INFO - root - Epoch[1] Time cost=8.377\u001b[0m\n",
      "\u001b[32m2018-06-03 18:10:32,219 INFO - root - Epoch[1] Validation-avg_dice_coef_metric=0.395437\u001b[0m\n",
      "\u001b[31m2018-06-03 18:10:32,334 INFO - root - Epoch[1] Validation-avg_dice_coef_metric=0.420262\u001b[0m\n",
      "\u001b[32m2018-06-03 18:10:40,335 INFO - root - Epoch[2] Train-avg_dice_coef_metric=0.374641\u001b[0m\n",
      "\u001b[32m2018-06-03 18:10:40,335 INFO - root - Epoch[2] Time cost=8.116\u001b[0m\n",
      "\u001b[31m2018-06-03 18:10:40,460 INFO - root - Epoch[2] Train-avg_dice_coef_metric=0.375168\u001b[0m\n",
      "\u001b[31m2018-06-03 18:10:40,460 INFO - root - Epoch[2] Time cost=8.126\u001b[0m\n",
      "\u001b[32m2018-06-03 18:10:42,870 INFO - root - Epoch[2] Validation-avg_dice_coef_metric=0.387129\u001b[0m\n",
      "\u001b[31m2018-06-03 18:10:42,918 INFO - root - Epoch[2] Validation-avg_dice_coef_metric=0.365165\u001b[0m\n",
      "\u001b[31m2018-06-03 18:10:51,237 INFO - root - Epoch[3] Train-avg_dice_coef_metric=0.361898\u001b[0m\n",
      "\u001b[31m2018-06-03 18:10:51,237 INFO - root - Epoch[3] Time cost=8.319\u001b[0m\n",
      "\u001b[32m2018-06-03 18:10:51,434 INFO - root - Epoch[3] Train-avg_dice_coef_metric=0.358399\u001b[0m\n",
      "\u001b[32m2018-06-03 18:10:51,434 INFO - root - Epoch[3] Time cost=8.564\u001b[0m\n",
      "\u001b[32m2018-06-03 18:10:53,927 INFO - root - Epoch[3] Validation-avg_dice_coef_metric=0.352772\u001b[0m\n",
      "\u001b[31m2018-06-03 18:10:53,714 INFO - root - Epoch[3] Validation-avg_dice_coef_metric=0.362802\u001b[0m\n"
     ]
    },
    {
     "name": "stdout",
     "output_type": "stream",
     "text": [
      "\u001b[32m2018-06-03 18:11:02,227 INFO - root - Epoch[4] Train-avg_dice_coef_metric=0.348321\u001b[0m\n",
      "\u001b[32m2018-06-03 18:11:02,227 INFO - root - Epoch[4] Time cost=8.300\u001b[0m\n",
      "\u001b[31m2018-06-03 18:11:02,045 INFO - root - Epoch[4] Train-avg_dice_coef_metric=0.349021\u001b[0m\n",
      "\u001b[31m2018-06-03 18:11:02,045 INFO - root - Epoch[4] Time cost=8.331\u001b[0m\n",
      "\u001b[31m2018-06-03 18:11:04,495 INFO - root - Epoch[4] Validation-avg_dice_coef_metric=0.343391\u001b[0m\n",
      "\u001b[32m2018-06-03 18:11:04,664 INFO - root - Epoch[4] Validation-avg_dice_coef_metric=0.362441\u001b[0m\n",
      "\u001b[32m2018-06-03 18:11:12,841 INFO - root - Epoch[5] Train-avg_dice_coef_metric=0.342326\u001b[0m\n",
      "\u001b[32m2018-06-03 18:11:12,841 INFO - root - Epoch[5] Time cost=8.177\u001b[0m\n",
      "\u001b[31m2018-06-03 18:11:12,870 INFO - root - Epoch[5] Train-avg_dice_coef_metric=0.340643\u001b[0m\n",
      "\u001b[31m2018-06-03 18:11:12,871 INFO - root - Epoch[5] Time cost=8.375\u001b[0m\n",
      "\u001b[32m2018-06-03 18:11:15,405 INFO - root - Epoch[5] Validation-avg_dice_coef_metric=0.348739\u001b[0m\n",
      "\u001b[31m2018-06-03 18:11:15,406 INFO - root - Epoch[5] Validation-avg_dice_coef_metric=0.332649\u001b[0m\n",
      "\u001b[32m2018-06-03 18:11:23,835 INFO - root - Epoch[6] Train-avg_dice_coef_metric=0.331877\u001b[0m\n",
      "\u001b[32m2018-06-03 18:11:23,835 INFO - root - Epoch[6] Time cost=8.430\u001b[0m\n",
      "\u001b[31m2018-06-03 18:11:23,723 INFO - root - Epoch[6] Train-avg_dice_coef_metric=0.333591\u001b[0m\n",
      "\u001b[31m2018-06-03 18:11:23,723 INFO - root - Epoch[6] Time cost=8.316\u001b[0m\n",
      "\u001b[32m2018-06-03 18:11:26,302 INFO - root - Epoch[6] Validation-avg_dice_coef_metric=0.335947\u001b[0m\n",
      "\u001b[31m2018-06-03 18:11:26,124 INFO - root - Epoch[6] Validation-avg_dice_coef_metric=0.326575\u001b[0m\n",
      "\u001b[31m2018-06-03 18:11:34,589 INFO - root - Epoch[7] Train-avg_dice_coef_metric=0.327129\u001b[0m\n",
      "\u001b[31m2018-06-03 18:11:34,590 INFO - root - Epoch[7] Time cost=8.465\u001b[0m\n",
      "\u001b[32m2018-06-03 18:11:35,110 INFO - root - Epoch[7] Train-avg_dice_coef_metric=0.327848\u001b[0m\n",
      "\u001b[32m2018-06-03 18:11:35,110 INFO - root - Epoch[7] Time cost=8.809\u001b[0m\n",
      "\u001b[32m2018-06-03 18:11:37,535 INFO - root - Epoch[7] Validation-avg_dice_coef_metric=0.331064\u001b[0m\n",
      "\u001b[31m2018-06-03 18:11:37,126 INFO - root - Epoch[7] Validation-avg_dice_coef_metric=0.331968\u001b[0m\n",
      "\u001b[31m2018-06-03 18:11:45,329 INFO - root - Epoch[8] Train-avg_dice_coef_metric=0.325010\u001b[0m\n",
      "\u001b[31m2018-06-03 18:11:45,330 INFO - root - Epoch[8] Time cost=8.204\u001b[0m\n",
      "\u001b[31m2018-06-03 18:11:47,816 INFO - root - Epoch[8] Validation-avg_dice_coef_metric=0.331282\u001b[0m\n",
      "\u001b[32m2018-06-03 18:11:46,024 INFO - root - Epoch[8] Train-avg_dice_coef_metric=0.327228\u001b[0m\n",
      "\u001b[32m2018-06-03 18:11:46,024 INFO - root - Epoch[8] Time cost=8.489\u001b[0m\n",
      "\u001b[32m2018-06-03 18:11:48,656 INFO - root - Epoch[8] Validation-avg_dice_coef_metric=0.322446\u001b[0m\n",
      "\u001b[31m2018-06-03 18:11:56,147 INFO - root - Epoch[9] Train-avg_dice_coef_metric=0.323788\u001b[0m\n",
      "\u001b[31m2018-06-03 18:11:56,147 INFO - root - Epoch[9] Time cost=8.331\u001b[0m\n",
      "\u001b[32m2018-06-03 18:11:56,981 INFO - root - Epoch[9] Train-avg_dice_coef_metric=0.319886\u001b[0m\n",
      "\u001b[32m2018-06-03 18:11:56,981 INFO - root - Epoch[9] Time cost=8.324\u001b[0m\n",
      "\u001b[31m2018-06-03 18:11:58,664 INFO - root - Epoch[9] Validation-avg_dice_coef_metric=0.333308\u001b[0m\n",
      "\u001b[32m2018-06-03 18:11:59,486 INFO - root - Epoch[9] Validation-avg_dice_coef_metric=0.323304\u001b[0m\n",
      "\u001b[31m2018-06-03 18:12:06,829 INFO - root - Epoch[10] Train-avg_dice_coef_metric=0.322043\u001b[0m\n",
      "\u001b[31m2018-06-03 18:12:06,830 INFO - root - Epoch[10] Time cost=8.166\u001b[0m\n",
      "\u001b[32m2018-06-03 18:12:07,890 INFO - root - Epoch[10] Train-avg_dice_coef_metric=0.318090\u001b[0m\n",
      "\u001b[32m2018-06-03 18:12:07,890 INFO - root - Epoch[10] Time cost=8.404\u001b[0m\n",
      "\u001b[31m2018-06-03 18:12:09,361 INFO - root - Epoch[10] Validation-avg_dice_coef_metric=0.330889\u001b[0m\n",
      "\u001b[32m2018-06-03 18:12:10,402 INFO - root - Epoch[10] Validation-avg_dice_coef_metric=0.326939\u001b[0m\n",
      "\u001b[31m2018-06-03 18:12:17,708 INFO - root - Epoch[11] Train-avg_dice_coef_metric=0.317920\u001b[0m\n",
      "\u001b[31m2018-06-03 18:12:17,708 INFO - root - Epoch[11] Time cost=8.347\u001b[0m\n",
      "\u001b[32m2018-06-03 18:12:18,709 INFO - root - Epoch[11] Train-avg_dice_coef_metric=0.316987\u001b[0m\n",
      "\u001b[32m2018-06-03 18:12:18,709 INFO - root - Epoch[11] Time cost=8.308\u001b[0m\n",
      "\u001b[31m2018-06-03 18:12:20,250 INFO - root - Epoch[11] Validation-avg_dice_coef_metric=0.324495\u001b[0m\n",
      "\u001b[32m2018-06-03 18:12:21,183 INFO - root - Epoch[11] Validation-avg_dice_coef_metric=0.316923\u001b[0m\n",
      "\u001b[31m2018-06-03 18:12:28,597 INFO - root - Epoch[12] Train-avg_dice_coef_metric=0.319729\u001b[0m\n",
      "\u001b[31m2018-06-03 18:12:28,597 INFO - root - Epoch[12] Time cost=8.348\u001b[0m\n",
      "\u001b[32m2018-06-03 18:12:29,646 INFO - root - Epoch[12] Train-avg_dice_coef_metric=0.314974\u001b[0m\n",
      "\u001b[32m2018-06-03 18:12:29,647 INFO - root - Epoch[12] Time cost=8.463\u001b[0m\n",
      "\u001b[31m2018-06-03 18:12:31,094 INFO - root - Epoch[12] Validation-avg_dice_coef_metric=0.335154\u001b[0m\n",
      "\u001b[32m2018-06-03 18:12:32,109 INFO - root - Epoch[12] Validation-avg_dice_coef_metric=0.318895\u001b[0m\n",
      "\u001b[31m2018-06-03 18:12:39,231 INFO - root - Epoch[13] Train-avg_dice_coef_metric=0.317267\u001b[0m\n",
      "\u001b[31m2018-06-03 18:12:39,232 INFO - root - Epoch[13] Time cost=8.138\u001b[0m\n",
      "\u001b[32m2018-06-03 18:12:40,270 INFO - root - Epoch[13] Train-avg_dice_coef_metric=0.315477\u001b[0m\n",
      "\u001b[32m2018-06-03 18:12:40,270 INFO - root - Epoch[13] Time cost=8.161\u001b[0m\n",
      "\u001b[31m2018-06-03 18:12:41,747 INFO - root - Epoch[13] Validation-avg_dice_coef_metric=0.336678\u001b[0m\n",
      "\u001b[32m2018-06-03 18:12:42,731 INFO - root - Epoch[13] Validation-avg_dice_coef_metric=0.321252\u001b[0m\n",
      "\u001b[31m2018-06-03 18:12:50,136 INFO - root - Epoch[14] Train-avg_dice_coef_metric=0.313965\u001b[0m\n",
      "\u001b[31m2018-06-03 18:12:50,136 INFO - root - Epoch[14] Time cost=8.389\u001b[0m\n",
      "\u001b[32m2018-06-03 18:12:51,068 INFO - root - Epoch[14] Train-avg_dice_coef_metric=0.307802\u001b[0m\n",
      "\u001b[32m2018-06-03 18:12:51,068 INFO - root - Epoch[14] Time cost=8.337\u001b[0m\n",
      "\u001b[31m2018-06-03 18:12:52,672 INFO - root - Epoch[14] Validation-avg_dice_coef_metric=0.313987\u001b[0m\n",
      "\u001b[32m2018-06-03 18:12:53,512 INFO - root - Epoch[14] Validation-avg_dice_coef_metric=0.316757\u001b[0m\n",
      "\u001b[31m2018-06-03 18:13:01,292 INFO - root - Epoch[15] Train-avg_dice_coef_metric=0.313561\u001b[0m\n",
      "\u001b[31m2018-06-03 18:13:01,292 INFO - root - Epoch[15] Time cost=8.620\u001b[0m\n",
      "\u001b[32m2018-06-03 18:13:01,982 INFO - root - Epoch[15] Train-avg_dice_coef_metric=0.310378\u001b[0m\n",
      "\u001b[32m2018-06-03 18:13:01,982 INFO - root - Epoch[15] Time cost=8.469\u001b[0m\n",
      "\u001b[32m2018-06-03 18:13:04,510 INFO - root - Epoch[15] Validation-avg_dice_coef_metric=0.322049\u001b[0m\n",
      "\u001b[31m2018-06-03 18:13:03,880 INFO - root - Epoch[15] Validation-avg_dice_coef_metric=0.312089\u001b[0m\n",
      "\u001b[32m2018-06-03 18:13:12,634 INFO - root - Epoch[16] Train-avg_dice_coef_metric=0.306232\u001b[0m\n",
      "\u001b[32m2018-06-03 18:13:12,635 INFO - root - Epoch[16] Time cost=8.125\u001b[0m\n",
      "\u001b[31m2018-06-03 18:13:12,119 INFO - root - Epoch[16] Train-avg_dice_coef_metric=0.312616\u001b[0m\n",
      "\u001b[31m2018-06-03 18:13:12,119 INFO - root - Epoch[16] Time cost=8.239\u001b[0m\n",
      "\u001b[31m2018-06-03 18:13:14,596 INFO - root - Epoch[16] Validation-avg_dice_coef_metric=0.318789\u001b[0m\n",
      "\u001b[32m2018-06-03 18:13:15,076 INFO - root - Epoch[16] Validation-avg_dice_coef_metric=0.316259\u001b[0m\n",
      "\u001b[32m2018-06-03 18:13:23,391 INFO - root - Epoch[17] Train-avg_dice_coef_metric=0.305762\u001b[0m\n",
      "\u001b[32m2018-06-03 18:13:23,392 INFO - root - Epoch[17] Time cost=8.315\u001b[0m\n",
      "\u001b[31m2018-06-03 18:13:23,051 INFO - root - Epoch[17] Train-avg_dice_coef_metric=0.307782\u001b[0m\n",
      "\u001b[31m2018-06-03 18:13:23,051 INFO - root - Epoch[17] Time cost=8.454\u001b[0m\n",
      "\u001b[31m2018-06-03 18:13:25,605 INFO - root - Epoch[17] Validation-avg_dice_coef_metric=0.307710\u001b[0m\n",
      "\u001b[32m2018-06-03 18:13:25,990 INFO - root - Epoch[17] Validation-avg_dice_coef_metric=0.312692\u001b[0m\n",
      "\u001b[31m2018-06-03 18:13:33,805 INFO - root - Epoch[18] Train-avg_dice_coef_metric=0.305657\u001b[0m\n",
      "\u001b[31m2018-06-03 18:13:33,805 INFO - root - Epoch[18] Time cost=8.199\u001b[0m\n",
      "\u001b[32m2018-06-03 18:13:34,286 INFO - root - Epoch[18] Train-avg_dice_coef_metric=0.301016\u001b[0m\n",
      "\u001b[32m2018-06-03 18:13:34,286 INFO - root - Epoch[18] Time cost=8.295\u001b[0m\n",
      "\u001b[31m2018-06-03 18:13:36,323 INFO - root - Epoch[18] Validation-avg_dice_coef_metric=0.320160\u001b[0m\n",
      "\u001b[32m2018-06-03 18:13:36,718 INFO - root - Epoch[18] Validation-avg_dice_coef_metric=0.322041\u001b[0m\n",
      "\u001b[31m2018-06-03 18:13:44,771 INFO - root - Epoch[19] Train-avg_dice_coef_metric=0.304370\u001b[0m\n",
      "\u001b[31m2018-06-03 18:13:44,771 INFO - root - Epoch[19] Time cost=8.448\u001b[0m\n",
      "\u001b[32m2018-06-03 18:13:45,108 INFO - root - Epoch[19] Train-avg_dice_coef_metric=0.301618\u001b[0m\n",
      "\u001b[32m2018-06-03 18:13:45,108 INFO - root - Epoch[19] Time cost=8.390\u001b[0m\n",
      "\u001b[31m2018-06-03 18:13:47,363 INFO - root - Epoch[19] Validation-avg_dice_coef_metric=0.309376\u001b[0m\n",
      "\u001b[32m2018-06-03 18:13:47,568 INFO - root - Epoch[19] Validation-avg_dice_coef_metric=0.313853\u001b[0m\n"
     ]
    },
    {
     "name": "stdout",
     "output_type": "stream",
     "text": [
      "\u001b[31m2018-06-03 18:13:55,841 INFO - root - Epoch[20] Train-avg_dice_coef_metric=0.303067\u001b[0m\n",
      "\u001b[31m2018-06-03 18:13:55,841 INFO - root - Epoch[20] Time cost=8.478\u001b[0m\n",
      "\u001b[32m2018-06-03 18:13:55,884 INFO - root - Epoch[20] Train-avg_dice_coef_metric=0.299484\u001b[0m\n",
      "\u001b[32m2018-06-03 18:13:55,884 INFO - root - Epoch[20] Time cost=8.316\u001b[0m\n",
      "\u001b[31m2018-06-03 18:13:58,383 INFO - root - Epoch[20] Validation-avg_dice_coef_metric=0.320477\u001b[0m\n",
      "\u001b[32m2018-06-03 18:13:58,350 INFO - root - Epoch[20] Validation-avg_dice_coef_metric=0.305211\u001b[0m\n",
      "\u001b[31m2018-06-03 18:14:06,577 INFO - root - Epoch[21] Train-avg_dice_coef_metric=0.299738\u001b[0m\n",
      "\u001b[31m2018-06-03 18:14:06,578 INFO - root - Epoch[21] Time cost=8.194\u001b[0m\n",
      "\u001b[32m2018-06-03 18:14:06,508 INFO - root - Epoch[21] Train-avg_dice_coef_metric=0.299941\u001b[0m\n",
      "\u001b[32m2018-06-03 18:14:06,508 INFO - root - Epoch[21] Time cost=8.158\u001b[0m\n",
      "\u001b[32m2018-06-03 18:14:08,994 INFO - root - Epoch[21] Validation-avg_dice_coef_metric=0.310469\u001b[0m\n",
      "\u001b[31m2018-06-03 18:14:09,093 INFO - root - Epoch[21] Validation-avg_dice_coef_metric=0.320817\u001b[0m\n",
      "\u001b[31m2018-06-03 18:14:17,502 INFO - root - Epoch[22] Train-avg_dice_coef_metric=0.296356\u001b[0m\n",
      "\u001b[31m2018-06-03 18:14:17,502 INFO - root - Epoch[22] Time cost=8.409\u001b[0m\n",
      "\u001b[32m2018-06-03 18:14:17,322 INFO - root - Epoch[22] Train-avg_dice_coef_metric=0.291937\u001b[0m\n",
      "\u001b[32m2018-06-03 18:14:17,322 INFO - root - Epoch[22] Time cost=8.328\u001b[0m\n",
      "\u001b[32m2018-06-03 18:14:19,728 INFO - root - Epoch[22] Validation-avg_dice_coef_metric=0.309936\u001b[0m\n",
      "\u001b[31m2018-06-03 18:14:20,091 INFO - root - Epoch[22] Validation-avg_dice_coef_metric=0.298020\u001b[0m\n",
      "\u001b[31m2018-06-03 18:14:28,510 INFO - root - Epoch[23] Train-avg_dice_coef_metric=0.294527\u001b[0m\n",
      "\u001b[31m2018-06-03 18:14:28,511 INFO - root - Epoch[23] Time cost=8.419\u001b[0m\n",
      "\u001b[32m2018-06-03 18:14:28,098 INFO - root - Epoch[23] Train-avg_dice_coef_metric=0.289919\u001b[0m\n",
      "\u001b[32m2018-06-03 18:14:28,098 INFO - root - Epoch[23] Time cost=8.370\u001b[0m\n",
      "\u001b[32m2018-06-03 18:14:30,603 INFO - root - Epoch[23] Validation-avg_dice_coef_metric=0.294528\u001b[0m\n",
      "\u001b[31m2018-06-03 18:14:31,014 INFO - root - Epoch[23] Validation-avg_dice_coef_metric=0.319555\u001b[0m\n",
      "\u001b[32m2018-06-03 18:14:38,754 INFO - root - Epoch[24] Train-avg_dice_coef_metric=0.288574\u001b[0m\n",
      "\u001b[32m2018-06-03 18:14:38,754 INFO - root - Epoch[24] Time cost=8.151\u001b[0m\n",
      "\u001b[31m2018-06-03 18:14:39,421 INFO - root - Epoch[24] Train-avg_dice_coef_metric=0.293010\u001b[0m\n",
      "\u001b[31m2018-06-03 18:14:39,421 INFO - root - Epoch[24] Time cost=8.407\u001b[0m\n",
      "\u001b[31m2018-06-03 18:14:41,973 INFO - root - Epoch[24] Validation-avg_dice_coef_metric=0.302787\u001b[0m\n",
      "\u001b[32m2018-06-03 18:14:41,179 INFO - root - Epoch[24] Validation-avg_dice_coef_metric=0.308570\u001b[0m\n",
      "\u001b[32m2018-06-03 18:14:49,832 INFO - root - Epoch[25] Train-avg_dice_coef_metric=0.287442\u001b[0m\n",
      "\u001b[32m2018-06-03 18:14:49,832 INFO - root - Epoch[25] Time cost=8.653\u001b[0m\n",
      "\u001b[31m2018-06-03 18:14:50,408 INFO - root - Epoch[25] Train-avg_dice_coef_metric=0.289224\u001b[0m\n",
      "\u001b[31m2018-06-03 18:14:50,408 INFO - root - Epoch[25] Time cost=8.434\u001b[0m\n",
      "\u001b[32m2018-06-03 18:14:52,337 INFO - root - Epoch[25] Validation-avg_dice_coef_metric=0.316269\u001b[0m\n",
      "\u001b[31m2018-06-03 18:14:52,929 INFO - root - Epoch[25] Validation-avg_dice_coef_metric=0.302066\u001b[0m\n",
      "\u001b[32m2018-06-03 18:15:00,508 INFO - root - Epoch[26] Train-avg_dice_coef_metric=0.283975\u001b[0m\n",
      "\u001b[32m2018-06-03 18:15:00,509 INFO - root - Epoch[26] Time cost=8.171\u001b[0m\n",
      "\u001b[31m2018-06-03 18:15:01,201 INFO - root - Epoch[26] Train-avg_dice_coef_metric=0.284879\u001b[0m\n",
      "\u001b[31m2018-06-03 18:15:01,201 INFO - root - Epoch[26] Time cost=8.272\u001b[0m\n",
      "\u001b[32m2018-06-03 18:15:03,089 INFO - root - Epoch[26] Validation-avg_dice_coef_metric=0.301458\u001b[0m\n",
      "\u001b[31m2018-06-03 18:15:03,784 INFO - root - Epoch[26] Validation-avg_dice_coef_metric=0.303432\u001b[0m\n",
      "\u001b[32m2018-06-03 18:15:11,489 INFO - root - Epoch[27] Train-avg_dice_coef_metric=0.276613\u001b[0m\n",
      "\u001b[32m2018-06-03 18:15:11,490 INFO - root - Epoch[27] Time cost=8.401\u001b[0m\n",
      "\u001b[31m2018-06-03 18:15:12,201 INFO - root - Epoch[27] Train-avg_dice_coef_metric=0.281315\u001b[0m\n",
      "\u001b[31m2018-06-03 18:15:12,202 INFO - root - Epoch[27] Time cost=8.417\u001b[0m\n",
      "\u001b[32m2018-06-03 18:15:13,944 INFO - root - Epoch[27] Validation-avg_dice_coef_metric=0.306723\u001b[0m\n",
      "\u001b[31m2018-06-03 18:15:14,723 INFO - root - Epoch[27] Validation-avg_dice_coef_metric=0.291899\u001b[0m\n",
      "\u001b[32m2018-06-03 18:15:22,261 INFO - root - Epoch[28] Train-avg_dice_coef_metric=0.276388\u001b[0m\n",
      "\u001b[32m2018-06-03 18:15:22,261 INFO - root - Epoch[28] Time cost=8.317\u001b[0m\n",
      "\u001b[31m2018-06-03 18:15:23,149 INFO - root - Epoch[28] Train-avg_dice_coef_metric=0.278864\u001b[0m\n",
      "\u001b[31m2018-06-03 18:15:23,149 INFO - root - Epoch[28] Time cost=8.426\u001b[0m\n",
      "\u001b[32m2018-06-03 18:15:24,751 INFO - root - Epoch[28] Validation-avg_dice_coef_metric=0.307773\u001b[0m\n",
      "\u001b[31m2018-06-03 18:15:25,716 INFO - root - Epoch[28] Validation-avg_dice_coef_metric=0.296799\u001b[0m\n",
      "\u001b[32m2018-06-03 18:15:32,976 INFO - root - Epoch[29] Train-avg_dice_coef_metric=0.267839\u001b[0m\n",
      "\u001b[32m2018-06-03 18:15:32,977 INFO - root - Epoch[29] Time cost=8.225\u001b[0m\n",
      "\u001b[31m2018-06-03 18:15:33,998 INFO - root - Epoch[29] Train-avg_dice_coef_metric=0.272245\u001b[0m\n",
      "\u001b[31m2018-06-03 18:15:33,998 INFO - root - Epoch[29] Time cost=8.283\u001b[0m\n",
      "\u001b[32m2018-06-03 18:15:35,496 INFO - root - Epoch[29] Validation-avg_dice_coef_metric=0.295286\u001b[0m\n",
      "\u001b[31m2018-06-03 18:15:36,523 INFO - root - Epoch[29] Validation-avg_dice_coef_metric=0.289658\u001b[0m\n",
      "\u001b[32m2018-06-03 18:15:43,928 INFO - root - Epoch[30] Train-avg_dice_coef_metric=0.268219\u001b[0m\n",
      "\u001b[32m2018-06-03 18:15:43,928 INFO - root - Epoch[30] Time cost=8.432\u001b[0m\n",
      "\u001b[31m2018-06-03 18:15:44,897 INFO - root - Epoch[30] Train-avg_dice_coef_metric=0.277412\u001b[0m\n",
      "\u001b[31m2018-06-03 18:15:44,897 INFO - root - Epoch[30] Time cost=8.374\u001b[0m\n",
      "\u001b[32m2018-06-03 18:15:46,477 INFO - root - Epoch[30] Validation-avg_dice_coef_metric=0.287842\u001b[0m\n",
      "\u001b[31m2018-06-03 18:15:47,426 INFO - root - Epoch[30] Validation-avg_dice_coef_metric=0.283688\u001b[0m\n",
      "\u001b[32m2018-06-03 18:15:55,011 INFO - root - Epoch[31] Train-avg_dice_coef_metric=0.269843\u001b[0m\n",
      "\u001b[32m2018-06-03 18:15:55,011 INFO - root - Epoch[31] Time cost=8.534\u001b[0m\n",
      "\u001b[31m2018-06-03 18:15:55,854 INFO - root - Epoch[31] Train-avg_dice_coef_metric=0.266127\u001b[0m\n",
      "\u001b[31m2018-06-03 18:15:55,854 INFO - root - Epoch[31] Time cost=8.428\u001b[0m\n",
      "\u001b[32m2018-06-03 18:15:57,515 INFO - root - Epoch[31] Validation-avg_dice_coef_metric=0.289226\u001b[0m\n",
      "\u001b[31m2018-06-03 18:15:58,482 INFO - root - Epoch[31] Validation-avg_dice_coef_metric=0.290419\u001b[0m\n",
      "\u001b[32m2018-06-03 18:16:05,727 INFO - root - Epoch[32] Train-avg_dice_coef_metric=0.263967\u001b[0m\n",
      "\u001b[32m2018-06-03 18:16:05,727 INFO - root - Epoch[32] Time cost=8.212\u001b[0m\n",
      "\u001b[31m2018-06-03 18:16:06,734 INFO - root - Epoch[32] Train-avg_dice_coef_metric=0.270749\u001b[0m\n",
      "\u001b[31m2018-06-03 18:16:06,734 INFO - root - Epoch[32] Time cost=8.252\u001b[0m\n",
      "\u001b[32m2018-06-03 18:16:08,246 INFO - root - Epoch[32] Validation-avg_dice_coef_metric=0.271937\u001b[0m\n",
      "\u001b[31m2018-06-03 18:16:09,330 INFO - root - Epoch[32] Validation-avg_dice_coef_metric=0.297277\u001b[0m\n",
      "\u001b[32m2018-06-03 18:16:16,563 INFO - root - Epoch[33] Train-avg_dice_coef_metric=0.264270\u001b[0m\n",
      "\u001b[32m2018-06-03 18:16:16,563 INFO - root - Epoch[33] Time cost=8.317\u001b[0m\n",
      "\u001b[31m2018-06-03 18:16:17,796 INFO - root - Epoch[33] Train-avg_dice_coef_metric=0.257814\u001b[0m\n",
      "\u001b[31m2018-06-03 18:16:17,796 INFO - root - Epoch[33] Time cost=8.466\u001b[0m\n",
      "\u001b[32m2018-06-03 18:16:19,063 INFO - root - Epoch[33] Validation-avg_dice_coef_metric=0.292272\u001b[0m\n",
      "\u001b[31m2018-06-03 18:16:20,236 INFO - root - Epoch[33] Validation-avg_dice_coef_metric=0.288897\u001b[0m\n",
      "\u001b[32m2018-06-03 18:16:27,319 INFO - root - Epoch[34] Train-avg_dice_coef_metric=0.260453\u001b[0m\n",
      "\u001b[32m2018-06-03 18:16:27,319 INFO - root - Epoch[34] Time cost=8.256\u001b[0m\n",
      "\u001b[31m2018-06-03 18:16:28,479 INFO - root - Epoch[34] Train-avg_dice_coef_metric=0.263420\u001b[0m\n",
      "\u001b[31m2018-06-03 18:16:28,479 INFO - root - Epoch[34] Time cost=8.242\u001b[0m\n",
      "\u001b[32m2018-06-03 18:16:29,902 INFO - root - Epoch[34] Validation-avg_dice_coef_metric=0.287848\u001b[0m\n",
      "\u001b[31m2018-06-03 18:16:31,030 INFO - root - Epoch[34] Validation-avg_dice_coef_metric=0.267181\u001b[0m\n",
      "\u001b[32m2018-06-03 18:16:38,298 INFO - root - Epoch[35] Train-avg_dice_coef_metric=0.252648\u001b[0m\n",
      "\u001b[32m2018-06-03 18:16:38,298 INFO - root - Epoch[35] Time cost=8.396\u001b[0m\n",
      "\u001b[31m2018-06-03 18:16:39,473 INFO - root - Epoch[35] Train-avg_dice_coef_metric=0.256899\u001b[0m\n",
      "\u001b[31m2018-06-03 18:16:39,474 INFO - root - Epoch[35] Time cost=8.443\u001b[0m\n",
      "\u001b[32m2018-06-03 18:16:40,908 INFO - root - Epoch[35] Validation-avg_dice_coef_metric=0.297597\u001b[0m\n",
      "\u001b[31m2018-06-03 18:16:41,995 INFO - root - Epoch[35] Validation-avg_dice_coef_metric=0.274346\u001b[0m\n"
     ]
    },
    {
     "name": "stdout",
     "output_type": "stream",
     "text": [
      "\u001b[32m2018-06-03 18:16:49,257 INFO - root - Epoch[36] Train-avg_dice_coef_metric=0.251868\u001b[0m\n",
      "\u001b[32m2018-06-03 18:16:49,257 INFO - root - Epoch[36] Time cost=8.349\u001b[0m\n",
      "\u001b[31m2018-06-03 18:16:50,482 INFO - root - Epoch[36] Train-avg_dice_coef_metric=0.262335\u001b[0m\n",
      "\u001b[31m2018-06-03 18:16:50,483 INFO - root - Epoch[36] Time cost=8.487\u001b[0m\n",
      "\u001b[32m2018-06-03 18:16:51,822 INFO - root - Epoch[36] Validation-avg_dice_coef_metric=0.245293\u001b[0m\n",
      "\u001b[31m2018-06-03 18:16:52,985 INFO - root - Epoch[36] Validation-avg_dice_coef_metric=0.278764\u001b[0m\n",
      "\u001b[32m2018-06-03 18:17:00,245 INFO - root - Epoch[37] Train-avg_dice_coef_metric=0.243355\u001b[0m\n",
      "\u001b[32m2018-06-03 18:17:00,246 INFO - root - Epoch[37] Time cost=8.424\u001b[0m\n",
      "\u001b[32m2018-06-03 18:17:02,834 INFO - root - Epoch[37] Validation-avg_dice_coef_metric=0.268945\u001b[0m\n",
      "\u001b[31m2018-06-03 18:17:01,234 INFO - root - Epoch[37] Train-avg_dice_coef_metric=0.261679\u001b[0m\n",
      "\u001b[31m2018-06-03 18:17:01,234 INFO - root - Epoch[37] Time cost=8.249\u001b[0m\n",
      "\u001b[31m2018-06-03 18:17:03,792 INFO - root - Epoch[37] Validation-avg_dice_coef_metric=0.293890\u001b[0m\n",
      "\u001b[32m2018-06-03 18:17:11,663 INFO - root - Epoch[38] Train-avg_dice_coef_metric=0.252470\u001b[0m\n",
      "\u001b[32m2018-06-03 18:17:11,663 INFO - root - Epoch[38] Time cost=8.829\u001b[0m\n",
      "\u001b[31m2018-06-03 18:17:12,511 INFO - root - Epoch[38] Train-avg_dice_coef_metric=0.249108\u001b[0m\n",
      "\u001b[31m2018-06-03 18:17:12,511 INFO - root - Epoch[38] Time cost=8.719\u001b[0m\n",
      "\u001b[32m2018-06-03 18:17:14,364 INFO - root - Epoch[38] Validation-avg_dice_coef_metric=0.276094\u001b[0m\n",
      "\u001b[31m2018-06-03 18:17:15,076 INFO - root - Epoch[38] Validation-avg_dice_coef_metric=0.283616\u001b[0m\n",
      "\u001b[32m2018-06-03 18:17:22,783 INFO - root - Epoch[39] Train-avg_dice_coef_metric=0.244188\u001b[0m\n",
      "\u001b[32m2018-06-03 18:17:22,783 INFO - root - Epoch[39] Time cost=8.419\u001b[0m\n",
      "\u001b[31m2018-06-03 18:17:23,504 INFO - root - Epoch[39] Train-avg_dice_coef_metric=0.257309\u001b[0m\n",
      "\u001b[31m2018-06-03 18:17:23,504 INFO - root - Epoch[39] Time cost=8.427\u001b[0m\n",
      "\u001b[32m2018-06-03 18:17:25,456 INFO - root - Epoch[39] Validation-avg_dice_coef_metric=0.277750\u001b[0m\n",
      "\u001b[31m2018-06-03 18:17:26,088 INFO - root - Epoch[39] Validation-avg_dice_coef_metric=0.281860\u001b[0m\n",
      "\u001b[32m2018-06-03 18:17:33,929 INFO - root - Epoch[40] Train-avg_dice_coef_metric=0.227982\u001b[0m\n",
      "\u001b[32m2018-06-03 18:17:33,929 INFO - root - Epoch[40] Time cost=8.474\u001b[0m\n",
      "\u001b[31m2018-06-03 18:17:34,386 INFO - root - Epoch[40] Train-avg_dice_coef_metric=0.243261\u001b[0m\n",
      "\u001b[31m2018-06-03 18:17:34,386 INFO - root - Epoch[40] Time cost=8.298\u001b[0m\n",
      "\u001b[32m2018-06-03 18:17:36,464 INFO - root - Epoch[40] Validation-avg_dice_coef_metric=0.282010\u001b[0m\n",
      "\u001b[31m2018-06-03 18:17:36,948 INFO - root - Epoch[40] Validation-avg_dice_coef_metric=0.263764\u001b[0m\n",
      "\u001b[32m2018-06-03 18:17:44,893 INFO - root - Epoch[41] Train-avg_dice_coef_metric=0.242805\u001b[0m\n",
      "\u001b[32m2018-06-03 18:17:44,893 INFO - root - Epoch[41] Time cost=8.429\u001b[0m\n",
      "\u001b[31m2018-06-03 18:17:45,375 INFO - root - Epoch[41] Train-avg_dice_coef_metric=0.240206\u001b[0m\n",
      "\u001b[31m2018-06-03 18:17:45,375 INFO - root - Epoch[41] Time cost=8.427\u001b[0m\n",
      "\u001b[32m2018-06-03 18:17:47,431 INFO - root - Epoch[41] Validation-avg_dice_coef_metric=0.282772\u001b[0m\n",
      "\u001b[31m2018-06-03 18:17:47,880 INFO - root - Epoch[41] Validation-avg_dice_coef_metric=0.281409\u001b[0m\n",
      "\u001b[32m2018-06-03 18:17:55,611 INFO - root - Epoch[42] Train-avg_dice_coef_metric=0.235120\u001b[0m\n",
      "\u001b[32m2018-06-03 18:17:55,611 INFO - root - Epoch[42] Time cost=8.180\u001b[0m\n",
      "\u001b[31m2018-06-03 18:17:56,101 INFO - root - Epoch[42] Train-avg_dice_coef_metric=0.238253\u001b[0m\n",
      "\u001b[31m2018-06-03 18:17:56,101 INFO - root - Epoch[42] Time cost=8.221\u001b[0m\n",
      "\u001b[32m2018-06-03 18:17:58,078 INFO - root - Epoch[42] Validation-avg_dice_coef_metric=0.250927\u001b[0m\n",
      "\u001b[31m2018-06-03 18:17:58,675 INFO - root - Epoch[42] Validation-avg_dice_coef_metric=0.280339\u001b[0m\n",
      "\u001b[32m2018-06-03 18:18:06,478 INFO - root - Epoch[43] Train-avg_dice_coef_metric=0.230456\u001b[0m\n",
      "\u001b[32m2018-06-03 18:18:06,478 INFO - root - Epoch[43] Time cost=8.400\u001b[0m\n",
      "\u001b[31m2018-06-03 18:18:07,266 INFO - root - Epoch[43] Train-avg_dice_coef_metric=0.228917\u001b[0m\n",
      "\u001b[31m2018-06-03 18:18:07,267 INFO - root - Epoch[43] Time cost=8.592\u001b[0m\n",
      "\u001b[32m2018-06-03 18:18:08,956 INFO - root - Epoch[43] Validation-avg_dice_coef_metric=0.262292\u001b[0m\n",
      "\u001b[31m2018-06-03 18:18:09,945 INFO - root - Epoch[43] Validation-avg_dice_coef_metric=0.286132\u001b[0m\n",
      "\u001b[32m2018-06-03 18:18:17,427 INFO - root - Epoch[44] Train-avg_dice_coef_metric=0.232009\u001b[0m\n",
      "\u001b[32m2018-06-03 18:18:17,427 INFO - root - Epoch[44] Time cost=8.471\u001b[0m\n",
      "\u001b[31m2018-06-03 18:18:18,406 INFO - root - Epoch[44] Train-avg_dice_coef_metric=0.240684\u001b[0m\n",
      "\u001b[31m2018-06-03 18:18:18,407 INFO - root - Epoch[44] Time cost=8.461\u001b[0m\n",
      "\u001b[32m2018-06-03 18:18:19,961 INFO - root - Epoch[44] Validation-avg_dice_coef_metric=0.272977\u001b[0m\n",
      "\u001b[31m2018-06-03 18:18:20,964 INFO - root - Epoch[44] Validation-avg_dice_coef_metric=0.269019\u001b[0m\n",
      "\u001b[32m2018-06-03 18:18:28,445 INFO - root - Epoch[45] Train-avg_dice_coef_metric=0.238080\u001b[0m\n",
      "\u001b[32m2018-06-03 18:18:28,445 INFO - root - Epoch[45] Time cost=8.484\u001b[0m\n",
      "\u001b[31m2018-06-03 18:18:29,242 INFO - root - Epoch[45] Train-avg_dice_coef_metric=0.232262\u001b[0m\n",
      "\u001b[31m2018-06-03 18:18:29,242 INFO - root - Epoch[45] Time cost=8.277\u001b[0m\n",
      "\u001b[32m2018-06-03 18:18:31,069 INFO - root - Epoch[45] Validation-avg_dice_coef_metric=0.273737\u001b[0m\n",
      "\u001b[31m2018-06-03 18:18:31,837 INFO - root - Epoch[45] Validation-avg_dice_coef_metric=0.247960\u001b[0m\n",
      "\u001b[32m2018-06-03 18:18:39,811 INFO - root - Epoch[46] Train-avg_dice_coef_metric=0.235189\u001b[0m\n",
      "\u001b[32m2018-06-03 18:18:39,811 INFO - root - Epoch[46] Time cost=8.742\u001b[0m\n",
      "\u001b[31m2018-06-03 18:18:40,326 INFO - root - Epoch[46] Train-avg_dice_coef_metric=0.230314\u001b[0m\n",
      "\u001b[31m2018-06-03 18:18:40,326 INFO - root - Epoch[46] Time cost=8.489\u001b[0m\n",
      "\u001b[32m2018-06-03 18:18:42,324 INFO - root - Epoch[46] Validation-avg_dice_coef_metric=0.265329\u001b[0m\n",
      "\u001b[31m2018-06-03 18:18:42,959 INFO - root - Epoch[46] Validation-avg_dice_coef_metric=0.283304\u001b[0m\n",
      "\u001b[32m2018-06-03 18:18:50,827 INFO - root - Epoch[47] Train-avg_dice_coef_metric=0.223556\u001b[0m\n",
      "\u001b[32m2018-06-03 18:18:50,827 INFO - root - Epoch[47] Time cost=8.503\u001b[0m\n",
      "\u001b[31m2018-06-03 18:18:51,389 INFO - root - Epoch[47] Train-avg_dice_coef_metric=0.233216\u001b[0m\n",
      "\u001b[31m2018-06-03 18:18:51,390 INFO - root - Epoch[47] Time cost=8.431\u001b[0m\n",
      "\u001b[32m2018-06-03 18:18:53,448 INFO - root - Epoch[47] Validation-avg_dice_coef_metric=0.264095\u001b[0m\n",
      "\u001b[31m2018-06-03 18:18:53,909 INFO - root - Epoch[47] Validation-avg_dice_coef_metric=0.265257\u001b[0m\n",
      "\u001b[32m2018-06-03 18:19:01,840 INFO - root - Epoch[48] Train-avg_dice_coef_metric=0.230180\u001b[0m\n",
      "\u001b[32m2018-06-03 18:19:01,840 INFO - root - Epoch[48] Time cost=8.392\u001b[0m\n",
      "\u001b[32m2018-06-03 18:19:04,355 INFO - root - Epoch[48] Validation-avg_dice_coef_metric=0.250259\u001b[0m\n",
      "\u001b[31m2018-06-03 18:19:02,123 INFO - root - Epoch[48] Train-avg_dice_coef_metric=0.231726\u001b[0m\n",
      "\u001b[31m2018-06-03 18:19:02,123 INFO - root - Epoch[48] Time cost=8.214\u001b[0m\n",
      "\u001b[31m2018-06-03 18:19:04,692 INFO - root - Epoch[48] Validation-avg_dice_coef_metric=0.263366\u001b[0m\n",
      "\u001b[31m2018-06-03 18:19:13,064 INFO - root - Epoch[49] Train-avg_dice_coef_metric=0.224627\u001b[0m\n",
      "\u001b[31m2018-06-03 18:19:13,064 INFO - root - Epoch[49] Time cost=8.371\u001b[0m\n",
      "\u001b[32m2018-06-03 18:19:12,753 INFO - root - Epoch[49] Train-avg_dice_coef_metric=0.220769\u001b[0m\n",
      "\u001b[32m2018-06-03 18:19:12,754 INFO - root - Epoch[49] Time cost=8.399\u001b[0m\n",
      "\u001b[32m2018-06-03 18:19:15,255 INFO - root - Epoch[49] Validation-avg_dice_coef_metric=0.214474\u001b[0m\n",
      "\u001b[31m2018-06-03 18:19:15,625 INFO - root - Epoch[49] Validation-avg_dice_coef_metric=0.254721\u001b[0m\n",
      "===== Job Complete =====\n",
      "Billable seconds: 1488\n"
     ]
    }
   ],
   "source": [
    "unet_distributed_estimator.fit({'train':distributed_train_s3,\n",
    "                            'test':validation_s3})"
   ]
  },
  {
   "cell_type": "markdown",
   "metadata": {},
   "source": [
    "## Inference Endpoints"
   ]
  },
  {
   "cell_type": "markdown",
   "metadata": {},
   "source": [
    "### Default Endpoint"
   ]
  },
  {
   "cell_type": "code",
   "execution_count": 22,
   "metadata": {},
   "outputs": [],
   "source": [
    "unet_endpoint = 'DEMO-unet-endpoint-' + time.strftime(\"%Y-%m-%d-%H-%M-%S\", time.gmtime())"
   ]
  },
  {
   "cell_type": "code",
   "execution_count": 23,
   "metadata": {
    "scrolled": true
   },
   "outputs": [
    {
     "name": "stderr",
     "output_type": "stream",
     "text": [
      "INFO:sagemaker:Creating model with name: DEMO-unet-single-machine-job-2018-06-03-2018-06-03-17-45-33-465\n",
      "INFO:sagemaker:Creating endpoint with name DEMO-unet-endpoint-2018-06-03-18-36-33\n"
     ]
    },
    {
     "name": "stdout",
     "output_type": "stream",
     "text": [
      "--------------------------------------------------!"
     ]
    }
   ],
   "source": [
    "unet_predictor = unet_single_machine_estimator.deploy(instance_type='ml.c5.xlarge', initial_instance_count=1,\n",
    "                                                     endpoint_name=unet_endpoint)"
   ]
  },
  {
   "cell_type": "code",
   "execution_count": 24,
   "metadata": {},
   "outputs": [],
   "source": [
    "response = unet_predictor.predict(test_brain.tolist())"
   ]
  },
  {
   "cell_type": "code",
   "execution_count": 25,
   "metadata": {
    "scrolled": true
   },
   "outputs": [
    {
     "data": {
      "text/plain": [
       "<matplotlib.image.AxesImage at 0x7faff836ae10>"
      ]
     },
     "execution_count": 25,
     "metadata": {},
     "output_type": "execute_result"
    },
    {
     "data": {
      "image/png": "[encoded data removed]",
      "text/plain": [
       "<matplotlib.figure.Figure at 0x7faff82c2890>"
      ]
     },
     "metadata": {},
     "output_type": "display_data"
    }
   ],
   "source": [
    "output = np.argmax(np.array(response), axis=(1))[0].astype(np.uint8)\n",
    "plt.imshow(output)"
   ]
  },
  {
   "cell_type": "markdown",
   "metadata": {},
   "source": [
    "### S3 Endpoint"
   ]
  },
  {
   "cell_type": "code",
   "execution_count": 493,
   "metadata": {},
   "outputs": [],
   "source": [
    "unet_s3_endpoint = 'DEMO-unet-s3-endpoint-' + time.strftime(\"%Y-%m-%d-%H-%M-%S\", time.gmtime())"
   ]
  },
  {
   "cell_type": "code",
   "execution_count": 494,
   "metadata": {},
   "outputs": [],
   "source": [
    "unet_single_machine_estimator.entry_point = \"brain_segmentation_s3_transform.py\""
   ]
  },
  {
   "cell_type": "code",
   "execution_count": 495,
   "metadata": {
    "scrolled": false
   },
   "outputs": [
    {
     "name": "stderr",
     "output_type": "stream",
     "text": [
      "INFO:sagemaker:Creating model with name: DEMO-unet-single-machine-job-2018-05-31-2018-05-31-20-08-46-514\n",
      "INFO:sagemaker:Creating endpoint with name DEMO-unet-s3-endpoint-2018-06-02-03-58-46\n"
     ]
    },
    {
     "name": "stdout",
     "output_type": "stream",
     "text": [
      "---------------------------------------------------------------!"
     ]
    }
   ],
   "source": [
    "unet_s3_predictor = unet_single_machine_estimator.deploy(instance_type='ml.c5.xlarge', initial_instance_count=1,\n",
    "                                                     endpoint_name=unet_s3_endpoint)"
   ]
  },
  {
   "cell_type": "code",
   "execution_count": 497,
   "metadata": {},
   "outputs": [],
   "source": [
    "response = unet_s3_predictor.predict([request_body])"
   ]
  },
  {
   "cell_type": "code",
   "execution_count": 498,
   "metadata": {},
   "outputs": [],
   "source": [
    "s3.download_file(Bucket=response['bucket'], Key=response['prefix'], Filename = \"result.png\")"
   ]
  },
  {
   "cell_type": "code",
   "execution_count": 500,
   "metadata": {},
   "outputs": [
    {
     "data": {
      "text/plain": [
       "<matplotlib.image.AxesImage at 0x7fa1940a7650>"
      ]
     },
     "execution_count": 500,
     "metadata": {},
     "output_type": "execute_result"
    },
    {
     "data": {
      "image/png": "[encoded data removed]",
      "text/plain": [
       "<matplotlib.figure.Figure at 0x7fa193e84f50>"
      ]
     },
     "metadata": {},
     "output_type": "display_data"
    }
   ],
   "source": [
    "plt.imshow(np.array(Image.open(\"result.png\")))"
   ]
  },
  {
   "cell_type": "markdown",
   "metadata": {},
   "source": [
    "## ENet - 1 Machine"
   ]
  },
  {
   "cell_type": "code",
   "execution_count": 77,
   "metadata": {},
   "outputs": [],
   "source": [
    "enet_single_machine_job = 'DEMO-enet-single-machine-job-' + time.strftime(\"%Y-%m-%d-%H-%M-%S\", time.gmtime())"
   ]
  },
  {
   "cell_type": "code",
   "execution_count": 78,
   "metadata": {
    "scrolled": true
   },
   "outputs": [],
   "source": [
    "enet_single_machine_estimator = MXNet(entry_point='brain_segmentation.py',\n",
    "                                                base_job_name = enet_single_machine_job,\n",
    "                                                source_dir = 'source_dir',\n",
    "                                                role=role,\n",
    "                                                train_instance_count=1, \n",
    "                                                train_instance_type='ml.p3.2xlarge',\n",
    "                                                hyperparameters={\n",
    "                                                    'learning_rate': 1E-3,\n",
    "                                                    'class_weights': [[ 1.35, 17.18,  8.29, 12.42]],\n",
    "                                                    'network':'enet',\n",
    "                                                    'batch_size': 32,\n",
    "                                            })"
   ]
  },
  {
   "cell_type": "code",
   "execution_count": 79,
   "metadata": {
    "scrolled": true
   },
   "outputs": [
    {
     "name": "stderr",
     "output_type": "stream",
     "text": [
      "INFO:sagemaker:Created S3 bucket: sagemaker-us-east-1-288000045208\n",
      "INFO:sagemaker:Creating training-job with name: DEMO-enet-single-machine-job-2018-06-04-2018-06-04-02-14-19-681\n"
     ]
    },
    {
     "name": "stdout",
     "output_type": "stream",
     "text": [
      ".......................\n",
      "\u001b[31m2018-06-04 02:18:00,188 INFO - root - running container entrypoint\u001b[0m\n",
      "\u001b[31m2018-06-04 02:18:00,188 INFO - root - starting train task\u001b[0m\n",
      "\u001b[31m2018-06-04 02:18:00,208 INFO - container_support.training - Training starting\u001b[0m\n",
      "\u001b[31m2018-06-04 02:18:02,457 INFO - mxnet_container.train - MXNetTrainingEnvironment: {'enable_cloudwatch_metrics': False, 'available_gpus': 1, 'channels': {u'test': {u'TrainingInputMode': u'File', u'RecordWrapperType': u'None', u'S3DistributionType': u'FullyReplicated'}, u'train': {u'TrainingInputMode': u'File', u'RecordWrapperType': u'None', u'S3DistributionType': u'FullyReplicated'}}, '_ps_verbose': 0, 'resource_config': {u'current_host': u'algo-1', u'network_interface_name': u'ethwe', u'hosts': [u'algo-1']}, 'user_script_name': u'brain_segmentation.py', 'input_config_dir': '/opt/ml/input/config', 'channel_dirs': {u'test': u'/opt/ml/input/data/test', u'train': u'/opt/ml/input/data/train'}, 'code_dir': '/opt/ml/code', 'output_data_dir': '/opt/ml/output/data/', 'output_dir': '/opt/ml/output', 'model_dir': '/opt/ml/model', 'hyperparameters': {u'sagemaker_program': u'brain_segmentation.py', u'network': u'enet', u'class_weights': [[1.35, 17.18, 8.29, 12.42]], u'learning_rate': 0.001, u'batch_size': 32, u'sagemaker_submit_directory': u's3://sagemaker-us-east-1-288000045208/DEMO-enet-single-machine-job-2018-06-04-2018-06-04-02-14-19-681/source/sourcedir.tar.gz', u'sagemaker_region': u'us-east-1', u'sagemaker_enable_cloudwatch_metrics': False, u'sagemaker_job_name': u'DEMO-enet-single-machine-job-2018-06-04-2018-06-04-02-14-19-681', u'sagemaker_container_log_level': 20}, 'hosts': [u'algo-1'], 'job_name': 'DEMO-enet-single-machine-job-2018-06-04-2018-06-04-02-14-19-681', '_ps_port': 8000, 'user_script_archive': u's3://sagemaker-us-east-1-288000045208/DEMO-enet-single-machine-job-2018-06-04-2018-06-04-02-14-19-681/source/sourcedir.tar.gz', '_scheduler_host': u'algo-1', 'sagemaker_region': u'us-east-1', '_scheduler_ip': '10.32.0.4', 'input_dir': '/opt/ml/input', 'user_requirements_file': None, 'current_host': u'algo-1', 'container_log_level': 20, 'available_cpus': 8, 'base_dir': '/opt/ml'}\u001b[0m\n",
      "\u001b[31mDownloading s3://sagemaker-us-east-1-288000045208/DEMO-enet-single-machine-job-2018-06-04-2018-06-04-02-14-19-681/source/sourcedir.tar.gz to /tmp/script.tar.gz\u001b[0m\n",
      "\u001b[31m2018-06-04 02:18:02,570 INFO - botocore.vendored.requests.packages.urllib3.connectionpool - Starting new HTTP connection (1): 169.254.170.2\u001b[0m\n",
      "\u001b[31m2018-06-04 02:18:02,676 INFO - botocore.vendored.requests.packages.urllib3.connectionpool - Starting new HTTPS connection (1): sagemaker-us-east-1-288000045208.s3.amazonaws.com\u001b[0m\n",
      "\u001b[31m2018-06-04 02:18:02,854 INFO - mxnet_container.train - Starting distributed training task\u001b[0m\n",
      "\u001b[31m1.1.0\u001b[0m\n",
      "\u001b[31m[02:18:11] src/operator/nn/./cudnn/./cudnn_algoreg-inl.h:107: Running performance tests to find the best convolution algorithm, this can take a while... (setting env variable MXNET_CUDNN_AUTOTUNE_DEFAULT to 0 to disable)\u001b[0m\n",
      "\u001b[31m[02:18:12] src/operator/nn/./cudnn/./cudnn_algoreg-inl.h:107: Running performance tests to find the best convolution algorithm, this can take a while... (setting env variable MXNET_CUDNN_AUTOTUNE_DEFAULT to 0 to disable)\u001b[0m\n",
      "\u001b[31m2018-06-04 02:18:22,030 INFO - root - Epoch[0] Train-avg_dice_coef_metric=0.722567\u001b[0m\n",
      "\u001b[31m2018-06-04 02:18:22,030 INFO - root - Epoch[0] Time cost=9.781\u001b[0m\n",
      "\u001b[31m2018-06-04 02:18:23,820 INFO - root - Epoch[0] Validation-avg_dice_coef_metric=0.686024\u001b[0m\n",
      "\u001b[31m2018-06-04 02:18:33,112 INFO - root - Epoch[1] Train-avg_dice_coef_metric=0.641686\u001b[0m\n",
      "\u001b[31m2018-06-04 02:18:33,112 INFO - root - Epoch[1] Time cost=9.292\u001b[0m\n",
      "\u001b[31m2018-06-04 02:18:34,983 INFO - root - Epoch[1] Validation-avg_dice_coef_metric=0.586142\u001b[0m\n",
      "\u001b[31m2018-06-04 02:18:44,222 INFO - root - Epoch[2] Train-avg_dice_coef_metric=0.557506\u001b[0m\n",
      "\u001b[31m2018-06-04 02:18:44,223 INFO - root - Epoch[2] Time cost=9.240\u001b[0m\n",
      "\u001b[31m2018-06-04 02:18:45,969 INFO - root - Epoch[2] Validation-avg_dice_coef_metric=0.519715\u001b[0m\n",
      "\u001b[31m2018-06-04 02:18:55,451 INFO - root - Epoch[3] Train-avg_dice_coef_metric=0.489218\u001b[0m\n",
      "\u001b[31m2018-06-04 02:18:55,451 INFO - root - Epoch[3] Time cost=9.482\u001b[0m\n",
      "\u001b[31m2018-06-04 02:18:57,250 INFO - root - Epoch[3] Validation-avg_dice_coef_metric=0.466513\u001b[0m\n",
      "\u001b[31m2018-06-04 02:19:06,703 INFO - root - Epoch[4] Train-avg_dice_coef_metric=0.436644\u001b[0m\n",
      "\u001b[31m2018-06-04 02:19:06,703 INFO - root - Epoch[4] Time cost=9.453\u001b[0m\n",
      "\u001b[31m2018-06-04 02:19:08,563 INFO - root - Epoch[4] Validation-avg_dice_coef_metric=0.432916\u001b[0m\n",
      "\u001b[31m2018-06-04 02:19:17,835 INFO - root - Epoch[5] Train-avg_dice_coef_metric=0.392845\u001b[0m\n",
      "\u001b[31m2018-06-04 02:19:17,835 INFO - root - Epoch[5] Time cost=9.272\u001b[0m\n",
      "\u001b[31m2018-06-04 02:19:19,645 INFO - root - Epoch[5] Validation-avg_dice_coef_metric=0.380995\u001b[0m\n",
      "\u001b[31m2018-06-04 02:19:28,891 INFO - root - Epoch[6] Train-avg_dice_coef_metric=0.365908\u001b[0m\n",
      "\u001b[31m2018-06-04 02:19:28,891 INFO - root - Epoch[6] Time cost=9.246\u001b[0m\n",
      "\u001b[31m2018-06-04 02:19:30,711 INFO - root - Epoch[6] Validation-avg_dice_coef_metric=0.367966\u001b[0m\n",
      "\u001b[31m2018-06-04 02:19:40,100 INFO - root - Epoch[7] Train-avg_dice_coef_metric=0.354012\u001b[0m\n",
      "\u001b[31m2018-06-04 02:19:40,100 INFO - root - Epoch[7] Time cost=9.389\u001b[0m\n",
      "\u001b[31m2018-06-04 02:19:41,971 INFO - root - Epoch[7] Validation-avg_dice_coef_metric=0.349440\u001b[0m\n",
      "\u001b[31m2018-06-04 02:19:51,262 INFO - root - Epoch[8] Train-avg_dice_coef_metric=0.346024\u001b[0m\n",
      "\u001b[31m2018-06-04 02:19:51,262 INFO - root - Epoch[8] Time cost=9.291\u001b[0m\n",
      "\u001b[31m2018-06-04 02:19:53,181 INFO - root - Epoch[8] Validation-avg_dice_coef_metric=0.355086\u001b[0m\n",
      "\u001b[31m2018-06-04 02:20:02,850 INFO - root - Epoch[9] Train-avg_dice_coef_metric=0.341628\u001b[0m\n",
      "\u001b[31m2018-06-04 02:20:02,850 INFO - root - Epoch[9] Time cost=9.669\u001b[0m\n",
      "\u001b[31m2018-06-04 02:20:04,774 INFO - root - Epoch[9] Validation-avg_dice_coef_metric=0.350336\u001b[0m\n",
      "\u001b[31m2018-06-04 02:20:14,108 INFO - root - Epoch[10] Train-avg_dice_coef_metric=0.337638\u001b[0m\n",
      "\u001b[31m2018-06-04 02:20:14,108 INFO - root - Epoch[10] Time cost=9.334\u001b[0m\n",
      "\u001b[31m2018-06-04 02:20:15,924 INFO - root - Epoch[10] Validation-avg_dice_coef_metric=0.347836\u001b[0m\n",
      "\u001b[31m2018-06-04 02:20:25,372 INFO - root - Epoch[11] Train-avg_dice_coef_metric=0.338745\u001b[0m\n",
      "\u001b[31m2018-06-04 02:20:25,372 INFO - root - Epoch[11] Time cost=9.448\u001b[0m\n",
      "\u001b[31m2018-06-04 02:20:27,359 INFO - root - Epoch[11] Validation-avg_dice_coef_metric=0.343510\u001b[0m\n",
      "\u001b[31m2018-06-04 02:20:36,839 INFO - root - Epoch[12] Train-avg_dice_coef_metric=0.339478\u001b[0m\n",
      "\u001b[31m2018-06-04 02:20:36,839 INFO - root - Epoch[12] Time cost=9.481\u001b[0m\n",
      "\u001b[31m2018-06-04 02:20:38,731 INFO - root - Epoch[12] Validation-avg_dice_coef_metric=0.343879\u001b[0m\n",
      "\u001b[31m2018-06-04 02:20:48,061 INFO - root - Epoch[13] Train-avg_dice_coef_metric=0.341081\u001b[0m\n",
      "\u001b[31m2018-06-04 02:20:48,061 INFO - root - Epoch[13] Time cost=9.330\u001b[0m\n",
      "\u001b[31m2018-06-04 02:20:49,954 INFO - root - Epoch[13] Validation-avg_dice_coef_metric=0.342698\u001b[0m\n",
      "\u001b[31m2018-06-04 02:20:59,388 INFO - root - Epoch[14] Train-avg_dice_coef_metric=0.338197\u001b[0m\n",
      "\u001b[31m2018-06-04 02:20:59,389 INFO - root - Epoch[14] Time cost=9.434\u001b[0m\n",
      "\u001b[31m2018-06-04 02:21:01,224 INFO - root - Epoch[14] Validation-avg_dice_coef_metric=0.340380\u001b[0m\n",
      "\u001b[31m2018-06-04 02:21:11,120 INFO - root - Epoch[15] Train-avg_dice_coef_metric=0.337929\u001b[0m\n",
      "\u001b[31m2018-06-04 02:21:11,120 INFO - root - Epoch[15] Time cost=9.896\u001b[0m\n",
      "\u001b[31m2018-06-04 02:21:13,061 INFO - root - Epoch[15] Validation-avg_dice_coef_metric=0.353175\u001b[0m\n",
      "\u001b[31m2018-06-04 02:21:22,533 INFO - root - Epoch[16] Train-avg_dice_coef_metric=0.335773\u001b[0m\n",
      "\u001b[31m2018-06-04 02:21:22,533 INFO - root - Epoch[16] Time cost=9.472\u001b[0m\n",
      "\u001b[31m2018-06-04 02:21:24,286 INFO - root - Epoch[16] Validation-avg_dice_coef_metric=0.332300\u001b[0m\n",
      "\u001b[31m2018-06-04 02:21:33,697 INFO - root - Epoch[17] Train-avg_dice_coef_metric=0.334359\u001b[0m\n",
      "\u001b[31m2018-06-04 02:21:33,697 INFO - root - Epoch[17] Time cost=9.411\u001b[0m\n",
      "\u001b[31m2018-06-04 02:21:35,693 INFO - root - Epoch[17] Validation-avg_dice_coef_metric=0.334649\u001b[0m\n",
      "\u001b[31m2018-06-04 02:21:45,142 INFO - root - Epoch[18] Train-avg_dice_coef_metric=0.330244\u001b[0m\n",
      "\u001b[31m2018-06-04 02:21:45,143 INFO - root - Epoch[18] Time cost=9.450\u001b[0m\n",
      "\u001b[31m2018-06-04 02:21:47,050 INFO - root - Epoch[18] Validation-avg_dice_coef_metric=0.323850\u001b[0m\n"
     ]
    },
    {
     "name": "stdout",
     "output_type": "stream",
     "text": [
      "\u001b[31m2018-06-04 02:21:56,563 INFO - root - Epoch[19] Train-avg_dice_coef_metric=0.328765\u001b[0m\n",
      "\u001b[31m2018-06-04 02:21:56,563 INFO - root - Epoch[19] Time cost=9.513\u001b[0m\n",
      "\u001b[31m2018-06-04 02:21:58,459 INFO - root - Epoch[19] Validation-avg_dice_coef_metric=0.334525\u001b[0m\n",
      "\u001b[31m2018-06-04 02:22:07,848 INFO - root - Epoch[20] Train-avg_dice_coef_metric=0.326914\u001b[0m\n",
      "\u001b[31m2018-06-04 02:22:07,848 INFO - root - Epoch[20] Time cost=9.389\u001b[0m\n",
      "\u001b[31m2018-06-04 02:22:09,767 INFO - root - Epoch[20] Validation-avg_dice_coef_metric=0.328078\u001b[0m\n",
      "\u001b[31m2018-06-04 02:22:19,182 INFO - root - Epoch[21] Train-avg_dice_coef_metric=0.327105\u001b[0m\n",
      "\u001b[31m2018-06-04 02:22:19,183 INFO - root - Epoch[21] Time cost=9.415\u001b[0m\n",
      "\u001b[31m2018-06-04 02:22:21,042 INFO - root - Epoch[21] Validation-avg_dice_coef_metric=0.336212\u001b[0m\n",
      "\u001b[31m2018-06-04 02:22:30,577 INFO - root - Epoch[22] Train-avg_dice_coef_metric=0.327182\u001b[0m\n",
      "\u001b[31m2018-06-04 02:22:30,577 INFO - root - Epoch[22] Time cost=9.536\u001b[0m\n",
      "\u001b[31m2018-06-04 02:22:32,391 INFO - root - Epoch[22] Validation-avg_dice_coef_metric=0.322249\u001b[0m\n",
      "\u001b[31m2018-06-04 02:22:41,954 INFO - root - Epoch[23] Train-avg_dice_coef_metric=0.325476\u001b[0m\n",
      "\u001b[31m2018-06-04 02:22:41,954 INFO - root - Epoch[23] Time cost=9.563\u001b[0m\n",
      "\u001b[31m2018-06-04 02:22:44,000 INFO - root - Epoch[23] Validation-avg_dice_coef_metric=0.329318\u001b[0m\n",
      "\u001b[31m2018-06-04 02:22:53,659 INFO - root - Epoch[24] Train-avg_dice_coef_metric=0.323971\u001b[0m\n",
      "\u001b[31m2018-06-04 02:22:53,659 INFO - root - Epoch[24] Time cost=9.659\u001b[0m\n",
      "\u001b[31m2018-06-04 02:22:55,554 INFO - root - Epoch[24] Validation-avg_dice_coef_metric=0.325511\u001b[0m\n",
      "\u001b[31m2018-06-04 02:23:04,977 INFO - root - Epoch[25] Train-avg_dice_coef_metric=0.324142\u001b[0m\n",
      "\u001b[31m2018-06-04 02:23:04,977 INFO - root - Epoch[25] Time cost=9.423\u001b[0m\n",
      "\u001b[31m2018-06-04 02:23:06,830 INFO - root - Epoch[25] Validation-avg_dice_coef_metric=0.330106\u001b[0m\n",
      "\u001b[31m2018-06-04 02:23:16,218 INFO - root - Epoch[26] Train-avg_dice_coef_metric=0.321608\u001b[0m\n",
      "\u001b[31m2018-06-04 02:23:16,218 INFO - root - Epoch[26] Time cost=9.388\u001b[0m\n",
      "\u001b[31m2018-06-04 02:23:18,117 INFO - root - Epoch[26] Validation-avg_dice_coef_metric=0.329852\u001b[0m\n",
      "\u001b[31m2018-06-04 02:23:27,674 INFO - root - Epoch[27] Train-avg_dice_coef_metric=0.322168\u001b[0m\n",
      "\u001b[31m2018-06-04 02:23:27,675 INFO - root - Epoch[27] Time cost=9.557\u001b[0m\n",
      "\u001b[31m2018-06-04 02:23:29,608 INFO - root - Epoch[27] Validation-avg_dice_coef_metric=0.326069\u001b[0m\n",
      "\u001b[31m2018-06-04 02:23:38,985 INFO - root - Epoch[28] Train-avg_dice_coef_metric=0.322188\u001b[0m\n",
      "\u001b[31m2018-06-04 02:23:38,986 INFO - root - Epoch[28] Time cost=9.378\u001b[0m\n",
      "\u001b[31m2018-06-04 02:23:40,857 INFO - root - Epoch[28] Validation-avg_dice_coef_metric=0.326298\u001b[0m\n",
      "\u001b[31m2018-06-04 02:23:50,298 INFO - root - Epoch[29] Train-avg_dice_coef_metric=0.320803\u001b[0m\n",
      "\u001b[31m2018-06-04 02:23:50,299 INFO - root - Epoch[29] Time cost=9.442\u001b[0m\n",
      "\u001b[31m2018-06-04 02:23:52,140 INFO - root - Epoch[29] Validation-avg_dice_coef_metric=0.324526\u001b[0m\n",
      "\u001b[31m2018-06-04 02:24:01,572 INFO - root - Epoch[30] Train-avg_dice_coef_metric=0.319196\u001b[0m\n",
      "\u001b[31m2018-06-04 02:24:01,572 INFO - root - Epoch[30] Time cost=9.432\u001b[0m\n",
      "\u001b[31m2018-06-04 02:24:03,428 INFO - root - Epoch[30] Validation-avg_dice_coef_metric=0.322773\u001b[0m\n",
      "\u001b[31m2018-06-04 02:24:12,983 INFO - root - Epoch[31] Train-avg_dice_coef_metric=0.319238\u001b[0m\n",
      "\u001b[31m2018-06-04 02:24:12,983 INFO - root - Epoch[31] Time cost=9.555\u001b[0m\n",
      "\u001b[31m2018-06-04 02:24:14,857 INFO - root - Epoch[31] Validation-avg_dice_coef_metric=0.329501\u001b[0m\n",
      "\u001b[31m2018-06-04 02:24:24,208 INFO - root - Epoch[32] Train-avg_dice_coef_metric=0.316164\u001b[0m\n",
      "\u001b[31m2018-06-04 02:24:24,208 INFO - root - Epoch[32] Time cost=9.351\u001b[0m\n",
      "\u001b[31m2018-06-04 02:24:26,086 INFO - root - Epoch[32] Validation-avg_dice_coef_metric=0.322164\u001b[0m\n",
      "\u001b[31m2018-06-04 02:24:35,575 INFO - root - Epoch[33] Train-avg_dice_coef_metric=0.315955\u001b[0m\n",
      "\u001b[31m2018-06-04 02:24:35,576 INFO - root - Epoch[33] Time cost=9.490\u001b[0m\n",
      "\u001b[31m2018-06-04 02:24:37,580 INFO - root - Epoch[33] Validation-avg_dice_coef_metric=0.325321\u001b[0m\n",
      "\u001b[31m2018-06-04 02:24:47,075 INFO - root - Epoch[34] Train-avg_dice_coef_metric=0.316721\u001b[0m\n",
      "\u001b[31m2018-06-04 02:24:47,075 INFO - root - Epoch[34] Time cost=9.495\u001b[0m\n",
      "\u001b[31m2018-06-04 02:24:48,947 INFO - root - Epoch[34] Validation-avg_dice_coef_metric=0.318854\u001b[0m\n",
      "\u001b[31m2018-06-04 02:24:58,552 INFO - root - Epoch[35] Train-avg_dice_coef_metric=0.314761\u001b[0m\n",
      "\u001b[31m2018-06-04 02:24:58,552 INFO - root - Epoch[35] Time cost=9.605\u001b[0m\n",
      "\u001b[31m2018-06-04 02:25:00,463 INFO - root - Epoch[35] Validation-avg_dice_coef_metric=0.323233\u001b[0m\n",
      "\u001b[31m2018-06-04 02:25:10,030 INFO - root - Epoch[36] Train-avg_dice_coef_metric=0.313400\u001b[0m\n",
      "\u001b[31m2018-06-04 02:25:10,030 INFO - root - Epoch[36] Time cost=9.567\u001b[0m\n",
      "\u001b[31m2018-06-04 02:25:11,998 INFO - root - Epoch[36] Validation-avg_dice_coef_metric=0.315532\u001b[0m\n",
      "\u001b[31m2018-06-04 02:25:21,376 INFO - root - Epoch[37] Train-avg_dice_coef_metric=0.312638\u001b[0m\n",
      "\u001b[31m2018-06-04 02:25:21,376 INFO - root - Epoch[37] Time cost=9.378\u001b[0m\n",
      "\u001b[31m2018-06-04 02:25:23,409 INFO - root - Epoch[37] Validation-avg_dice_coef_metric=0.327771\u001b[0m\n",
      "\u001b[31m2018-06-04 02:25:33,294 INFO - root - Epoch[38] Train-avg_dice_coef_metric=0.312805\u001b[0m\n",
      "\u001b[31m2018-06-04 02:25:33,294 INFO - root - Epoch[38] Time cost=9.885\u001b[0m\n",
      "\u001b[31m2018-06-04 02:25:35,349 INFO - root - Epoch[38] Validation-avg_dice_coef_metric=0.318165\u001b[0m\n",
      "\u001b[31m2018-06-04 02:25:44,957 INFO - root - Epoch[39] Train-avg_dice_coef_metric=0.310006\u001b[0m\n",
      "\u001b[31m2018-06-04 02:25:44,957 INFO - root - Epoch[39] Time cost=9.608\u001b[0m\n",
      "\u001b[31m2018-06-04 02:25:46,890 INFO - root - Epoch[39] Validation-avg_dice_coef_metric=0.318073\u001b[0m\n",
      "\u001b[31m2018-06-04 02:25:56,326 INFO - root - Epoch[40] Train-avg_dice_coef_metric=0.310587\u001b[0m\n",
      "\u001b[31m2018-06-04 02:25:56,326 INFO - root - Epoch[40] Time cost=9.436\u001b[0m\n",
      "\u001b[31m2018-06-04 02:25:58,240 INFO - root - Epoch[40] Validation-avg_dice_coef_metric=0.328762\u001b[0m\n",
      "\u001b[31m2018-06-04 02:26:07,928 INFO - root - Epoch[41] Train-avg_dice_coef_metric=0.307188\u001b[0m\n",
      "\u001b[31m2018-06-04 02:26:07,928 INFO - root - Epoch[41] Time cost=9.688\u001b[0m\n",
      "\u001b[31m2018-06-04 02:26:09,847 INFO - root - Epoch[41] Validation-avg_dice_coef_metric=0.311368\u001b[0m\n",
      "\u001b[31m2018-06-04 02:26:19,252 INFO - root - Epoch[42] Train-avg_dice_coef_metric=0.309249\u001b[0m\n",
      "\u001b[31m2018-06-04 02:26:19,252 INFO - root - Epoch[42] Time cost=9.405\u001b[0m\n",
      "\u001b[31m2018-06-04 02:26:21,123 INFO - root - Epoch[42] Validation-avg_dice_coef_metric=0.308515\u001b[0m\n",
      "\u001b[31m2018-06-04 02:26:30,672 INFO - root - Epoch[43] Train-avg_dice_coef_metric=0.307596\u001b[0m\n",
      "\u001b[31m2018-06-04 02:26:30,673 INFO - root - Epoch[43] Time cost=9.550\u001b[0m\n",
      "\u001b[31m2018-06-04 02:26:32,571 INFO - root - Epoch[43] Validation-avg_dice_coef_metric=0.308674\u001b[0m\n",
      "\u001b[31m2018-06-04 02:26:42,022 INFO - root - Epoch[44] Train-avg_dice_coef_metric=0.306529\u001b[0m\n",
      "\u001b[31m2018-06-04 02:26:42,022 INFO - root - Epoch[44] Time cost=9.451\u001b[0m\n",
      "\u001b[31m2018-06-04 02:26:44,046 INFO - root - Epoch[44] Validation-avg_dice_coef_metric=0.308078\u001b[0m\n",
      "\u001b[31m2018-06-04 02:26:53,592 INFO - root - Epoch[45] Train-avg_dice_coef_metric=0.306376\u001b[0m\n",
      "\u001b[31m2018-06-04 02:26:53,592 INFO - root - Epoch[45] Time cost=9.546\u001b[0m\n",
      "\u001b[31m2018-06-04 02:26:55,500 INFO - root - Epoch[45] Validation-avg_dice_coef_metric=0.315675\u001b[0m\n",
      "\u001b[31m2018-06-04 02:27:05,111 INFO - root - Epoch[46] Train-avg_dice_coef_metric=0.306459\u001b[0m\n",
      "\u001b[31m2018-06-04 02:27:05,111 INFO - root - Epoch[46] Time cost=9.611\u001b[0m\n",
      "\u001b[31m2018-06-04 02:27:07,066 INFO - root - Epoch[46] Validation-avg_dice_coef_metric=0.303662\u001b[0m\n",
      "\u001b[31m2018-06-04 02:27:16,617 INFO - root - Epoch[47] Train-avg_dice_coef_metric=0.302374\u001b[0m\n",
      "\u001b[31m2018-06-04 02:27:16,617 INFO - root - Epoch[47] Time cost=9.551\u001b[0m\n",
      "\u001b[31m2018-06-04 02:27:18,483 INFO - root - Epoch[47] Validation-avg_dice_coef_metric=0.318624\u001b[0m\n",
      "\u001b[31m2018-06-04 02:27:27,918 INFO - root - Epoch[48] Train-avg_dice_coef_metric=0.303360\u001b[0m\n",
      "\u001b[31m2018-06-04 02:27:27,918 INFO - root - Epoch[48] Time cost=9.434\u001b[0m\n",
      "\u001b[31m2018-06-04 02:27:29,830 INFO - root - Epoch[48] Validation-avg_dice_coef_metric=0.315944\u001b[0m\n",
      "\u001b[31m2018-06-04 02:27:39,316 INFO - root - Epoch[49] Train-avg_dice_coef_metric=0.302519\u001b[0m\n",
      "\u001b[31m2018-06-04 02:27:39,316 INFO - root - Epoch[49] Time cost=9.486\u001b[0m\n",
      "\u001b[31m2018-06-04 02:27:41,154 INFO - root - Epoch[49] Validation-avg_dice_coef_metric=0.309165\u001b[0m\n",
      "\u001b[31m2018-06-04 02:27:50,512 INFO - root - Epoch[50] Train-avg_dice_coef_metric=0.301819\u001b[0m\n",
      "\u001b[31m2018-06-04 02:27:50,513 INFO - root - Epoch[50] Time cost=9.358\u001b[0m\n",
      "\u001b[31m2018-06-04 02:27:52,536 INFO - root - Epoch[50] Validation-avg_dice_coef_metric=0.312560\u001b[0m\n"
     ]
    },
    {
     "name": "stdout",
     "output_type": "stream",
     "text": [
      "\u001b[31m2018-06-04 02:28:02,126 INFO - root - Epoch[51] Train-avg_dice_coef_metric=0.300764\u001b[0m\n",
      "\u001b[31m2018-06-04 02:28:02,126 INFO - root - Epoch[51] Time cost=9.590\u001b[0m\n",
      "\u001b[31m2018-06-04 02:28:04,037 INFO - root - Epoch[51] Validation-avg_dice_coef_metric=0.299293\u001b[0m\n",
      "\u001b[31m2018-06-04 02:28:13,548 INFO - root - Epoch[52] Train-avg_dice_coef_metric=0.300621\u001b[0m\n",
      "\u001b[31m2018-06-04 02:28:13,549 INFO - root - Epoch[52] Time cost=9.511\u001b[0m\n",
      "\u001b[31m2018-06-04 02:28:15,492 INFO - root - Epoch[52] Validation-avg_dice_coef_metric=0.308881\u001b[0m\n",
      "\u001b[31m2018-06-04 02:28:25,027 INFO - root - Epoch[53] Train-avg_dice_coef_metric=0.299184\u001b[0m\n",
      "\u001b[31m2018-06-04 02:28:25,027 INFO - root - Epoch[53] Time cost=9.534\u001b[0m\n",
      "\u001b[31m2018-06-04 02:28:26,934 INFO - root - Epoch[53] Validation-avg_dice_coef_metric=0.312393\u001b[0m\n",
      "\u001b[31m2018-06-04 02:28:36,406 INFO - root - Epoch[54] Train-avg_dice_coef_metric=0.298235\u001b[0m\n",
      "\u001b[31m2018-06-04 02:28:36,406 INFO - root - Epoch[54] Time cost=9.472\u001b[0m\n",
      "\u001b[31m2018-06-04 02:28:38,312 INFO - root - Epoch[54] Validation-avg_dice_coef_metric=0.305125\u001b[0m\n",
      "\u001b[31m2018-06-04 02:28:47,918 INFO - root - Epoch[55] Train-avg_dice_coef_metric=0.299928\u001b[0m\n",
      "\u001b[31m2018-06-04 02:28:47,919 INFO - root - Epoch[55] Time cost=9.607\u001b[0m\n",
      "\u001b[31m2018-06-04 02:28:49,885 INFO - root - Epoch[55] Validation-avg_dice_coef_metric=0.309604\u001b[0m\n",
      "\u001b[31m2018-06-04 02:28:59,399 INFO - root - Epoch[56] Train-avg_dice_coef_metric=0.299679\u001b[0m\n",
      "\u001b[31m2018-06-04 02:28:59,399 INFO - root - Epoch[56] Time cost=9.514\u001b[0m\n",
      "\u001b[31m2018-06-04 02:29:01,308 INFO - root - Epoch[56] Validation-avg_dice_coef_metric=0.304161\u001b[0m\n",
      "\u001b[31m2018-06-04 02:29:10,763 INFO - root - Epoch[57] Train-avg_dice_coef_metric=0.296710\u001b[0m\n",
      "\u001b[31m2018-06-04 02:29:10,763 INFO - root - Epoch[57] Time cost=9.455\u001b[0m\n",
      "\u001b[31m2018-06-04 02:29:12,686 INFO - root - Epoch[57] Validation-avg_dice_coef_metric=0.310847\u001b[0m\n",
      "\u001b[31m2018-06-04 02:29:22,164 INFO - root - Epoch[58] Train-avg_dice_coef_metric=0.295942\u001b[0m\n",
      "\u001b[31m2018-06-04 02:29:22,164 INFO - root - Epoch[58] Time cost=9.478\u001b[0m\n",
      "\u001b[31m2018-06-04 02:29:24,189 INFO - root - Epoch[58] Validation-avg_dice_coef_metric=0.293510\u001b[0m\n",
      "\u001b[31m2018-06-04 02:29:33,879 INFO - root - Epoch[59] Train-avg_dice_coef_metric=0.294652\u001b[0m\n",
      "\u001b[31m2018-06-04 02:29:33,879 INFO - root - Epoch[59] Time cost=9.690\u001b[0m\n",
      "\u001b[31m2018-06-04 02:29:35,914 INFO - root - Epoch[59] Validation-avg_dice_coef_metric=0.310534\u001b[0m\n",
      "\u001b[31m2018-06-04 02:29:45,358 INFO - root - Epoch[60] Train-avg_dice_coef_metric=0.292214\u001b[0m\n",
      "\u001b[31m2018-06-04 02:29:45,359 INFO - root - Epoch[60] Time cost=9.445\u001b[0m\n",
      "\u001b[31m2018-06-04 02:29:47,311 INFO - root - Epoch[60] Validation-avg_dice_coef_metric=0.306854\u001b[0m\n",
      "\u001b[31m2018-06-04 02:29:56,937 INFO - root - Epoch[61] Train-avg_dice_coef_metric=0.290640\u001b[0m\n",
      "\u001b[31m2018-06-04 02:29:56,937 INFO - root - Epoch[61] Time cost=9.626\u001b[0m\n",
      "\u001b[31m2018-06-04 02:29:58,984 INFO - root - Epoch[61] Validation-avg_dice_coef_metric=0.308936\u001b[0m\n",
      "\u001b[31m2018-06-04 02:30:08,627 INFO - root - Epoch[62] Train-avg_dice_coef_metric=0.290080\u001b[0m\n",
      "\u001b[31m2018-06-04 02:30:08,628 INFO - root - Epoch[62] Time cost=9.643\u001b[0m\n",
      "\u001b[31m2018-06-04 02:30:10,565 INFO - root - Epoch[62] Validation-avg_dice_coef_metric=0.309920\u001b[0m\n",
      "\u001b[31m2018-06-04 02:30:20,153 INFO - root - Epoch[63] Train-avg_dice_coef_metric=0.288595\u001b[0m\n",
      "\u001b[31m2018-06-04 02:30:20,154 INFO - root - Epoch[63] Time cost=9.589\u001b[0m\n",
      "\u001b[31m2018-06-04 02:30:22,223 INFO - root - Epoch[63] Validation-avg_dice_coef_metric=0.299202\u001b[0m\n",
      "\u001b[31m2018-06-04 02:30:31,706 INFO - root - Epoch[64] Train-avg_dice_coef_metric=0.288847\u001b[0m\n",
      "\u001b[31m2018-06-04 02:30:31,707 INFO - root - Epoch[64] Time cost=9.484\u001b[0m\n",
      "\u001b[31m2018-06-04 02:30:33,582 INFO - root - Epoch[64] Validation-avg_dice_coef_metric=0.304013\u001b[0m\n",
      "\u001b[31m2018-06-04 02:30:43,051 INFO - root - Epoch[65] Train-avg_dice_coef_metric=0.290904\u001b[0m\n",
      "\u001b[31m2018-06-04 02:30:43,051 INFO - root - Epoch[65] Time cost=9.469\u001b[0m\n",
      "\u001b[31m2018-06-04 02:30:45,045 INFO - root - Epoch[65] Validation-avg_dice_coef_metric=0.289307\u001b[0m\n",
      "\u001b[31m2018-06-04 02:30:54,432 INFO - root - Epoch[66] Train-avg_dice_coef_metric=0.289810\u001b[0m\n",
      "\u001b[31m2018-06-04 02:30:54,432 INFO - root - Epoch[66] Time cost=9.387\u001b[0m\n",
      "\u001b[31m2018-06-04 02:30:56,404 INFO - root - Epoch[66] Validation-avg_dice_coef_metric=0.300632\u001b[0m\n",
      "\u001b[31m2018-06-04 02:31:06,035 INFO - root - Epoch[67] Train-avg_dice_coef_metric=0.290087\u001b[0m\n",
      "\u001b[31m2018-06-04 02:31:06,035 INFO - root - Epoch[67] Time cost=9.631\u001b[0m\n",
      "\u001b[31m2018-06-04 02:31:07,901 INFO - root - Epoch[67] Validation-avg_dice_coef_metric=0.302679\u001b[0m\n",
      "\u001b[31m2018-06-04 02:31:17,357 INFO - root - Epoch[68] Train-avg_dice_coef_metric=0.288593\u001b[0m\n",
      "\u001b[31m2018-06-04 02:31:17,358 INFO - root - Epoch[68] Time cost=9.457\u001b[0m\n",
      "\u001b[31m2018-06-04 02:31:19,226 INFO - root - Epoch[68] Validation-avg_dice_coef_metric=0.297696\u001b[0m\n",
      "\u001b[31m2018-06-04 02:31:28,824 INFO - root - Epoch[69] Train-avg_dice_coef_metric=0.287223\u001b[0m\n",
      "\u001b[31m2018-06-04 02:31:28,824 INFO - root - Epoch[69] Time cost=9.598\u001b[0m\n",
      "\u001b[31m2018-06-04 02:31:30,776 INFO - root - Epoch[69] Validation-avg_dice_coef_metric=0.308645\u001b[0m\n",
      "\u001b[31m2018-06-04 02:31:40,253 INFO - root - Epoch[70] Train-avg_dice_coef_metric=0.288115\u001b[0m\n",
      "\u001b[31m2018-06-04 02:31:40,254 INFO - root - Epoch[70] Time cost=9.477\u001b[0m\n",
      "\u001b[31m2018-06-04 02:31:42,176 INFO - root - Epoch[70] Validation-avg_dice_coef_metric=0.297923\u001b[0m\n",
      "\u001b[31m2018-06-04 02:31:51,807 INFO - root - Epoch[71] Train-avg_dice_coef_metric=0.288289\u001b[0m\n",
      "\u001b[31m2018-06-04 02:31:51,807 INFO - root - Epoch[71] Time cost=9.632\u001b[0m\n",
      "\u001b[31m2018-06-04 02:31:53,745 INFO - root - Epoch[71] Validation-avg_dice_coef_metric=0.311969\u001b[0m\n",
      "\u001b[31m2018-06-04 02:32:03,384 INFO - root - Epoch[72] Train-avg_dice_coef_metric=0.285338\u001b[0m\n",
      "\u001b[31m2018-06-04 02:32:03,384 INFO - root - Epoch[72] Time cost=9.639\u001b[0m\n",
      "\u001b[31m2018-06-04 02:32:05,245 INFO - root - Epoch[72] Validation-avg_dice_coef_metric=0.275794\u001b[0m\n",
      "\u001b[31m2018-06-04 02:32:14,774 INFO - root - Epoch[73] Train-avg_dice_coef_metric=0.284248\u001b[0m\n",
      "\u001b[31m2018-06-04 02:32:14,774 INFO - root - Epoch[73] Time cost=9.529\u001b[0m\n",
      "\u001b[31m2018-06-04 02:32:16,725 INFO - root - Epoch[73] Validation-avg_dice_coef_metric=0.293032\u001b[0m\n",
      "\u001b[31m2018-06-04 02:32:26,353 INFO - root - Epoch[74] Train-avg_dice_coef_metric=0.286433\u001b[0m\n",
      "\u001b[31m2018-06-04 02:32:26,354 INFO - root - Epoch[74] Time cost=9.628\u001b[0m\n",
      "\u001b[31m2018-06-04 02:32:28,286 INFO - root - Epoch[74] Validation-avg_dice_coef_metric=0.295191\u001b[0m\n",
      "\u001b[31m2018-06-04 02:32:38,065 INFO - root - Epoch[75] Train-avg_dice_coef_metric=0.284805\u001b[0m\n",
      "\u001b[31m2018-06-04 02:32:38,065 INFO - root - Epoch[75] Time cost=9.779\u001b[0m\n",
      "\u001b[31m2018-06-04 02:32:40,005 INFO - root - Epoch[75] Validation-avg_dice_coef_metric=0.292479\u001b[0m\n",
      "\u001b[31m2018-06-04 02:32:49,486 INFO - root - Epoch[76] Train-avg_dice_coef_metric=0.280848\u001b[0m\n",
      "\u001b[31m2018-06-04 02:32:49,487 INFO - root - Epoch[76] Time cost=9.481\u001b[0m\n",
      "\u001b[31m2018-06-04 02:32:51,397 INFO - root - Epoch[76] Validation-avg_dice_coef_metric=0.299961\u001b[0m\n",
      "\u001b[31m2018-06-04 02:33:00,852 INFO - root - Epoch[77] Train-avg_dice_coef_metric=0.280843\u001b[0m\n",
      "\u001b[31m2018-06-04 02:33:00,852 INFO - root - Epoch[77] Time cost=9.455\u001b[0m\n",
      "\u001b[31m2018-06-04 02:33:02,796 INFO - root - Epoch[77] Validation-avg_dice_coef_metric=0.303805\u001b[0m\n",
      "\u001b[31m2018-06-04 02:33:12,415 INFO - root - Epoch[78] Train-avg_dice_coef_metric=0.284694\u001b[0m\n",
      "\u001b[31m2018-06-04 02:33:12,415 INFO - root - Epoch[78] Time cost=9.620\u001b[0m\n",
      "\u001b[31m2018-06-04 02:33:14,346 INFO - root - Epoch[78] Validation-avg_dice_coef_metric=0.289111\u001b[0m\n",
      "\u001b[31m2018-06-04 02:33:23,961 INFO - root - Epoch[79] Train-avg_dice_coef_metric=0.278622\u001b[0m\n",
      "\u001b[31m2018-06-04 02:33:23,961 INFO - root - Epoch[79] Time cost=9.614\u001b[0m\n",
      "\u001b[31m2018-06-04 02:33:25,932 INFO - root - Epoch[79] Validation-avg_dice_coef_metric=0.275041\u001b[0m\n",
      "\u001b[31m2018-06-04 02:33:35,507 INFO - root - Epoch[80] Train-avg_dice_coef_metric=0.275886\u001b[0m\n",
      "\u001b[31m2018-06-04 02:33:35,507 INFO - root - Epoch[80] Time cost=9.574\u001b[0m\n",
      "\u001b[31m2018-06-04 02:33:37,447 INFO - root - Epoch[80] Validation-avg_dice_coef_metric=0.284818\u001b[0m\n",
      "\u001b[31m2018-06-04 02:33:46,888 INFO - root - Epoch[81] Train-avg_dice_coef_metric=0.278569\u001b[0m\n",
      "\u001b[31m2018-06-04 02:33:46,888 INFO - root - Epoch[81] Time cost=9.441\u001b[0m\n",
      "\u001b[31m2018-06-04 02:33:48,754 INFO - root - Epoch[81] Validation-avg_dice_coef_metric=0.290320\u001b[0m\n",
      "\u001b[31m2018-06-04 02:33:58,341 INFO - root - Epoch[82] Train-avg_dice_coef_metric=0.277994\u001b[0m\n",
      "\u001b[31m2018-06-04 02:33:58,342 INFO - root - Epoch[82] Time cost=9.587\u001b[0m\n",
      "\u001b[31m2018-06-04 02:34:00,419 INFO - root - Epoch[82] Validation-avg_dice_coef_metric=0.282304\u001b[0m\n"
     ]
    },
    {
     "name": "stdout",
     "output_type": "stream",
     "text": [
      "\u001b[31m2018-06-04 02:34:10,152 INFO - root - Epoch[83] Train-avg_dice_coef_metric=0.279659\u001b[0m\n",
      "\u001b[31m2018-06-04 02:34:10,152 INFO - root - Epoch[83] Time cost=9.734\u001b[0m\n",
      "\u001b[31m2018-06-04 02:34:12,179 INFO - root - Epoch[83] Validation-avg_dice_coef_metric=0.302183\u001b[0m\n",
      "\u001b[31m2018-06-04 02:34:21,744 INFO - root - Epoch[84] Train-avg_dice_coef_metric=0.277926\u001b[0m\n",
      "\u001b[31m2018-06-04 02:34:21,745 INFO - root - Epoch[84] Time cost=9.565\u001b[0m\n",
      "\u001b[31m2018-06-04 02:34:23,781 INFO - root - Epoch[84] Validation-avg_dice_coef_metric=0.273269\u001b[0m\n",
      "\u001b[31m2018-06-04 02:34:33,465 INFO - root - Epoch[85] Train-avg_dice_coef_metric=0.277165\u001b[0m\n",
      "\u001b[31m2018-06-04 02:34:33,466 INFO - root - Epoch[85] Time cost=9.684\u001b[0m\n",
      "\u001b[31m2018-06-04 02:34:35,380 INFO - root - Epoch[85] Validation-avg_dice_coef_metric=0.275591\u001b[0m\n",
      "\u001b[31m2018-06-04 02:34:45,115 INFO - root - Epoch[86] Train-avg_dice_coef_metric=0.276763\u001b[0m\n",
      "\u001b[31m2018-06-04 02:34:45,116 INFO - root - Epoch[86] Time cost=9.735\u001b[0m\n",
      "\u001b[31m2018-06-04 02:34:47,070 INFO - root - Epoch[86] Validation-avg_dice_coef_metric=0.282257\u001b[0m\n",
      "\u001b[31m2018-06-04 02:34:56,670 INFO - root - Epoch[87] Train-avg_dice_coef_metric=0.275945\u001b[0m\n",
      "\u001b[31m2018-06-04 02:34:56,671 INFO - root - Epoch[87] Time cost=9.600\u001b[0m\n",
      "\u001b[31m2018-06-04 02:34:58,628 INFO - root - Epoch[87] Validation-avg_dice_coef_metric=0.271221\u001b[0m\n",
      "\u001b[31m2018-06-04 02:35:08,106 INFO - root - Epoch[88] Train-avg_dice_coef_metric=0.272355\u001b[0m\n",
      "\u001b[31m2018-06-04 02:35:08,106 INFO - root - Epoch[88] Time cost=9.478\u001b[0m\n",
      "\u001b[31m2018-06-04 02:35:10,001 INFO - root - Epoch[88] Validation-avg_dice_coef_metric=0.267146\u001b[0m\n",
      "\u001b[31m2018-06-04 02:35:19,758 INFO - root - Epoch[89] Train-avg_dice_coef_metric=0.275611\u001b[0m\n",
      "\u001b[31m2018-06-04 02:35:19,758 INFO - root - Epoch[89] Time cost=9.757\u001b[0m\n",
      "\u001b[31m2018-06-04 02:35:21,726 INFO - root - Epoch[89] Validation-avg_dice_coef_metric=0.297055\u001b[0m\n",
      "\u001b[31m2018-06-04 02:35:31,342 INFO - root - Epoch[90] Train-avg_dice_coef_metric=0.273357\u001b[0m\n",
      "\u001b[31m2018-06-04 02:35:31,342 INFO - root - Epoch[90] Time cost=9.616\u001b[0m\n",
      "\u001b[31m2018-06-04 02:35:33,281 INFO - root - Epoch[90] Validation-avg_dice_coef_metric=0.296313\u001b[0m\n",
      "\u001b[31m2018-06-04 02:35:43,009 INFO - root - Epoch[91] Train-avg_dice_coef_metric=0.270451\u001b[0m\n",
      "\u001b[31m2018-06-04 02:35:43,009 INFO - root - Epoch[91] Time cost=9.728\u001b[0m\n",
      "\u001b[31m2018-06-04 02:35:45,075 INFO - root - Epoch[91] Validation-avg_dice_coef_metric=0.292020\u001b[0m\n",
      "\u001b[31m2018-06-04 02:35:54,818 INFO - root - Epoch[92] Train-avg_dice_coef_metric=0.275920\u001b[0m\n",
      "\u001b[31m2018-06-04 02:35:54,818 INFO - root - Epoch[92] Time cost=9.743\u001b[0m\n",
      "\u001b[31m2018-06-04 02:35:56,773 INFO - root - Epoch[92] Validation-avg_dice_coef_metric=0.270656\u001b[0m\n",
      "\u001b[31m2018-06-04 02:36:06,267 INFO - root - Epoch[93] Train-avg_dice_coef_metric=0.274984\u001b[0m\n",
      "\u001b[31m2018-06-04 02:36:06,267 INFO - root - Epoch[93] Time cost=9.494\u001b[0m\n",
      "\u001b[31m2018-06-04 02:36:08,268 INFO - root - Epoch[93] Validation-avg_dice_coef_metric=0.267843\u001b[0m\n",
      "\u001b[31m2018-06-04 02:36:18,075 INFO - root - Epoch[94] Train-avg_dice_coef_metric=0.270800\u001b[0m\n",
      "\u001b[31m2018-06-04 02:36:18,075 INFO - root - Epoch[94] Time cost=9.807\u001b[0m\n",
      "\u001b[31m2018-06-04 02:36:20,121 INFO - root - Epoch[94] Validation-avg_dice_coef_metric=0.284196\u001b[0m\n",
      "\u001b[31m2018-06-04 02:36:29,713 INFO - root - Epoch[95] Train-avg_dice_coef_metric=0.269483\u001b[0m\n",
      "\u001b[31m2018-06-04 02:36:29,714 INFO - root - Epoch[95] Time cost=9.592\u001b[0m\n",
      "\u001b[31m2018-06-04 02:36:31,730 INFO - root - Epoch[95] Validation-avg_dice_coef_metric=0.279508\u001b[0m\n",
      "\u001b[31m2018-06-04 02:36:41,228 INFO - root - Epoch[96] Train-avg_dice_coef_metric=0.273869\u001b[0m\n",
      "\u001b[31m2018-06-04 02:36:41,228 INFO - root - Epoch[96] Time cost=9.497\u001b[0m\n",
      "\u001b[31m2018-06-04 02:36:43,220 INFO - root - Epoch[96] Validation-avg_dice_coef_metric=0.295470\u001b[0m\n",
      "\u001b[31m2018-06-04 02:36:52,727 INFO - root - Epoch[97] Train-avg_dice_coef_metric=0.271219\u001b[0m\n",
      "\u001b[31m2018-06-04 02:36:52,727 INFO - root - Epoch[97] Time cost=9.507\u001b[0m\n",
      "\u001b[31m2018-06-04 02:36:54,743 INFO - root - Epoch[97] Validation-avg_dice_coef_metric=0.294430\u001b[0m\n",
      "\u001b[31m2018-06-04 02:37:04,364 INFO - root - Epoch[98] Train-avg_dice_coef_metric=0.267653\u001b[0m\n",
      "\u001b[31m2018-06-04 02:37:04,364 INFO - root - Epoch[98] Time cost=9.621\u001b[0m\n",
      "\u001b[31m2018-06-04 02:37:06,262 INFO - root - Epoch[98] Validation-avg_dice_coef_metric=0.270782\u001b[0m\n",
      "\u001b[31m2018-06-04 02:37:15,968 INFO - root - Epoch[99] Train-avg_dice_coef_metric=0.268029\u001b[0m\n",
      "\u001b[31m2018-06-04 02:37:15,968 INFO - root - Epoch[99] Time cost=9.706\u001b[0m\n",
      "\u001b[31m2018-06-04 02:37:17,904 INFO - root - Epoch[99] Validation-avg_dice_coef_metric=0.294509\u001b[0m\n",
      "===== Job Complete =====\n",
      "Billable seconds: 1344\n"
     ]
    }
   ],
   "source": [
    "enet_single_machine_estimator.fit({'train':train_s3, 'test':validation_s3})"
   ]
  },
  {
   "cell_type": "markdown",
   "metadata": {},
   "source": [
    "## mxnet 0.11"
   ]
  },
  {
   "cell_type": "code",
   "execution_count": 147,
   "metadata": {},
   "outputs": [],
   "source": [
    "enet_eleven_job = 'DEMO-enet-eleven-job-' + time.strftime(\"%Y-%m-%d-%H-%M-%S\", time.gmtime())"
   ]
  },
  {
   "cell_type": "code",
   "execution_count": 148,
   "metadata": {
    "scrolled": true
   },
   "outputs": [],
   "source": [
    "enet_eleven_estimator = MXNet(entry_point='brain_segmentation.py',\n",
    "                                                base_job_name = enet_eleven_job,\n",
    "                                                source_dir = 'source_dir',\n",
    "                                                role=role,\n",
    "                                                train_instance_count=1, \n",
    "                                                train_instance_type='ml.p3.2xlarge',\n",
    "                                                hyperparameters={\n",
    "                                                    'learning_rate': 1E-3,\n",
    "                                                    'class_weights': [[ 1.35, 17.18,  8.29, 12.42]],\n",
    "                                                    'network':'enet',\n",
    "                                                    'batch_size': 32,\n",
    "                                            })"
   ]
  },
  {
   "cell_type": "code",
   "execution_count": 149,
   "metadata": {},
   "outputs": [],
   "source": [
    "region = sagemaker_session.boto_session.region_name\n",
    "enet_eleven_estimator.train_image = lambda:'780728360657.dkr.ecr.{}.amazonaws.com/sagemaker-mxnet-py2-gpu:1.0'.format(region)"
   ]
  },
  {
   "cell_type": "code",
   "execution_count": 150,
   "metadata": {
    "scrolled": true
   },
   "outputs": [
    {
     "name": "stderr",
     "output_type": "stream",
     "text": [
      "INFO:sagemaker:Created S3 bucket: sagemaker-us-east-1-288000045208\n",
      "INFO:sagemaker:Creating training-job with name: DEMO-enet-eleven-job-2018-06-04-04-49-0-2018-06-04-04-49-07-097\n"
     ]
    },
    {
     "name": "stdout",
     "output_type": "stream",
     "text": [
      ".......................\n",
      "\u001b[31mexecuting startup script (first run)\u001b[0m\n",
      "\u001b[31m2018-06-04 04:52:51,585 INFO - root - running container entrypoint\u001b[0m\n",
      "\u001b[31m2018-06-04 04:52:51,585 INFO - root - starting train task\u001b[0m\n",
      "\u001b[31m2018-06-04 04:52:52,675 INFO - mxnet_container.train - MXNetTrainingEnvironment: {'enable_cloudwatch_metrics': False, 'available_gpus': 1, 'channels': {u'test': {u'TrainingInputMode': u'File', u'RecordWrapperType': u'None', u'S3DistributionType': u'FullyReplicated'}, u'train': {u'TrainingInputMode': u'File', u'RecordWrapperType': u'None', u'S3DistributionType': u'FullyReplicated'}}, '_ps_verbose': 0, 'resource_config': {u'current_host': u'algo-1', u'network_interface_name': u'ethwe', u'hosts': [u'algo-1']}, 'user_script_name': u'brain_segmentation.py', 'input_config_dir': '/opt/ml/input/config', 'channel_dirs': {u'test': u'/opt/ml/input/data/test', u'train': u'/opt/ml/input/data/train'}, 'code_dir': '/opt/ml/code', 'output_data_dir': '/opt/ml/output/data/', 'output_dir': '/opt/ml/output', 'model_dir': '/opt/ml/model', 'hyperparameters': {u'sagemaker_program': u'brain_segmentation.py', u'network': u'enet', u'class_weights': [[1.35, 17.18, 8.29, 12.42]], u'learning_rate': 0.001, u'batch_size': 32, u'sagemaker_submit_directory': u's3://sagemaker-us-east-1-288000045208/DEMO-enet-eleven-job-2018-06-04-04-49-0-2018-06-04-04-49-07-097/source/sourcedir.tar.gz', u'sagemaker_region': u'us-east-1', u'sagemaker_enable_cloudwatch_metrics': False, u'sagemaker_job_name': u'DEMO-enet-eleven-job-2018-06-04-04-49-0-2018-06-04-04-49-07-097', u'sagemaker_container_log_level': 20}, 'hosts': [u'algo-1'], '_ps_port': 8000, 'user_script_archive': u's3://sagemaker-us-east-1-288000045208/DEMO-enet-eleven-job-2018-06-04-04-49-0-2018-06-04-04-49-07-097/source/sourcedir.tar.gz', '_scheduler_host': u'algo-1', 'sagemaker_region': u'us-east-1', 'input_dir': '/opt/ml/input', '_scheduler_ip': '10.32.0.4', 'current_host': u'algo-1', 'container_log_level': 20, 'available_cpus': 8, 'base_dir': '/opt/ml'}\u001b[0m\n",
      "\u001b[31mDownloading s3://sagemaker-us-east-1-288000045208/DEMO-enet-eleven-job-2018-06-04-04-49-0-2018-06-04-04-49-07-097/source/sourcedir.tar.gz to /tmp/script.tar.gz\u001b[0m\n",
      "\u001b[31m2018-06-04 04:52:52,772 INFO - botocore.vendored.requests.packages.urllib3.connectionpool - Starting new HTTP connection (1): 169.254.170.2\u001b[0m\n",
      "\u001b[31m2018-06-04 04:52:52,886 INFO - botocore.vendored.requests.packages.urllib3.connectionpool - Starting new HTTPS connection (1): s3.amazonaws.com\u001b[0m\n",
      "\u001b[31m2018-06-04 04:52:53,004 INFO - mxnet_container.train - Starting distributed training task\u001b[0m\n",
      "\u001b[31m0.11.0\u001b[0m\n",
      "\u001b[31mSym loaded\u001b[0m\n",
      "\u001b[31mStarting fit\u001b[0m\n",
      "\u001b[31m[04:53:04] src/operator/././cudnn_algoreg-inl.h:112: Running performance tests to find the best convolution algorithm, this can take a while... (setting env variable MXNET_CUDNN_AUTOTUNE_DEFAULT to 0 to disable)\u001b[0m\n",
      "\u001b[31m2018-06-04 04:53:14,561 INFO - root - Epoch[0] Train-avg_dice_coef_metric=0.666603\u001b[0m\n",
      "\u001b[31m2018-06-04 04:53:14,561 INFO - root - Epoch[0] Time cost=9.102\u001b[0m\n",
      "\u001b[31m2018-06-04 04:53:16,878 INFO - root - Epoch[0] Validation-avg_dice_coef_metric=0.596692\u001b[0m\n",
      "\u001b[31m2018-06-04 04:53:25,826 INFO - root - Epoch[1] Train-avg_dice_coef_metric=0.543214\u001b[0m\n",
      "\u001b[31m2018-06-04 04:53:25,826 INFO - root - Epoch[1] Time cost=8.948\u001b[0m\n",
      "\u001b[31m2018-06-04 04:53:28,128 INFO - root - Epoch[1] Validation-avg_dice_coef_metric=0.492699\u001b[0m\n",
      "\u001b[31m2018-06-04 04:53:37,009 INFO - root - Epoch[2] Train-avg_dice_coef_metric=0.464380\u001b[0m\n",
      "\u001b[31m2018-06-04 04:53:37,009 INFO - root - Epoch[2] Time cost=8.881\u001b[0m\n",
      "\u001b[31m2018-06-04 04:53:39,298 INFO - root - Epoch[2] Validation-avg_dice_coef_metric=0.431340\u001b[0m\n",
      "\u001b[31m2018-06-04 04:53:48,455 INFO - root - Epoch[3] Train-avg_dice_coef_metric=0.417013\u001b[0m\n",
      "\u001b[31m2018-06-04 04:53:48,456 INFO - root - Epoch[3] Time cost=9.158\u001b[0m\n",
      "\u001b[31m2018-06-04 04:53:50,734 INFO - root - Epoch[3] Validation-avg_dice_coef_metric=0.410079\u001b[0m\n",
      "\u001b[31m2018-06-04 04:53:59,734 INFO - root - Epoch[4] Train-avg_dice_coef_metric=0.388270\u001b[0m\n",
      "\u001b[31m2018-06-04 04:53:59,734 INFO - root - Epoch[4] Time cost=9.000\u001b[0m\n",
      "\u001b[31m2018-06-04 04:54:02,051 INFO - root - Epoch[4] Validation-avg_dice_coef_metric=0.378835\u001b[0m\n",
      "\u001b[31m2018-06-04 04:54:10,937 INFO - root - Epoch[5] Train-avg_dice_coef_metric=0.371599\u001b[0m\n",
      "\u001b[31m2018-06-04 04:54:10,937 INFO - root - Epoch[5] Time cost=8.886\u001b[0m\n",
      "\u001b[31m2018-06-04 04:54:13,235 INFO - root - Epoch[5] Validation-avg_dice_coef_metric=0.368048\u001b[0m\n",
      "\u001b[31m2018-06-04 04:54:22,037 INFO - root - Epoch[6] Train-avg_dice_coef_metric=0.359267\u001b[0m\n",
      "\u001b[31m2018-06-04 04:54:22,037 INFO - root - Epoch[6] Time cost=8.802\u001b[0m\n",
      "\u001b[31m2018-06-04 04:54:24,340 INFO - root - Epoch[6] Validation-avg_dice_coef_metric=0.362681\u001b[0m\n",
      "\u001b[31m2018-06-04 04:54:33,523 INFO - root - Epoch[7] Train-avg_dice_coef_metric=0.352552\u001b[0m\n",
      "\u001b[31m2018-06-04 04:54:33,523 INFO - root - Epoch[7] Time cost=9.183\u001b[0m\n",
      "\u001b[31m2018-06-04 04:54:35,829 INFO - root - Epoch[7] Validation-avg_dice_coef_metric=0.349609\u001b[0m\n",
      "\u001b[31m2018-06-04 04:54:44,865 INFO - root - Epoch[8] Train-avg_dice_coef_metric=0.345879\u001b[0m\n",
      "\u001b[31m2018-06-04 04:54:44,865 INFO - root - Epoch[8] Time cost=9.036\u001b[0m\n",
      "\u001b[31m2018-06-04 04:54:47,157 INFO - root - Epoch[8] Validation-avg_dice_coef_metric=0.348529\u001b[0m\n",
      "\u001b[31m2018-06-04 04:54:55,924 INFO - root - Epoch[9] Train-avg_dice_coef_metric=0.339054\u001b[0m\n",
      "\u001b[31m2018-06-04 04:54:55,924 INFO - root - Epoch[9] Time cost=8.767\u001b[0m\n",
      "\u001b[31m2018-06-04 04:54:58,225 INFO - root - Epoch[9] Validation-avg_dice_coef_metric=0.337308\u001b[0m\n",
      "\u001b[31m2018-06-04 04:55:07,161 INFO - root - Epoch[10] Train-avg_dice_coef_metric=0.337132\u001b[0m\n",
      "\u001b[31m2018-06-04 04:55:07,161 INFO - root - Epoch[10] Time cost=8.936\u001b[0m\n",
      "\u001b[31m2018-06-04 04:55:09,480 INFO - root - Epoch[10] Validation-avg_dice_coef_metric=0.337879\u001b[0m\n",
      "\u001b[31m2018-06-04 04:55:18,502 INFO - root - Epoch[11] Train-avg_dice_coef_metric=0.332485\u001b[0m\n",
      "\u001b[31m2018-06-04 04:55:18,502 INFO - root - Epoch[11] Time cost=9.022\u001b[0m\n",
      "\u001b[31m2018-06-04 04:55:20,813 INFO - root - Epoch[11] Validation-avg_dice_coef_metric=0.338996\u001b[0m\n",
      "\u001b[31m2018-06-04 04:55:29,817 INFO - root - Epoch[12] Train-avg_dice_coef_metric=0.329378\u001b[0m\n",
      "\u001b[31m2018-06-04 04:55:29,817 INFO - root - Epoch[12] Time cost=9.004\u001b[0m\n",
      "\u001b[31m2018-06-04 04:55:32,106 INFO - root - Epoch[12] Validation-avg_dice_coef_metric=0.336810\u001b[0m\n",
      "\u001b[31m2018-06-04 04:55:40,810 INFO - root - Epoch[13] Train-avg_dice_coef_metric=0.327734\u001b[0m\n",
      "\u001b[31m2018-06-04 04:55:40,810 INFO - root - Epoch[13] Time cost=8.704\u001b[0m\n",
      "\u001b[31m2018-06-04 04:55:43,108 INFO - root - Epoch[13] Validation-avg_dice_coef_metric=0.332242\u001b[0m\n",
      "\u001b[31m2018-06-04 04:55:52,033 INFO - root - Epoch[14] Train-avg_dice_coef_metric=0.324287\u001b[0m\n",
      "\u001b[31m2018-06-04 04:55:52,033 INFO - root - Epoch[14] Time cost=8.925\u001b[0m\n",
      "\u001b[31m2018-06-04 04:55:54,356 INFO - root - Epoch[14] Validation-avg_dice_coef_metric=0.326480\u001b[0m\n",
      "\u001b[31m2018-06-04 04:56:03,508 INFO - root - Epoch[15] Train-avg_dice_coef_metric=0.322011\u001b[0m\n",
      "\u001b[31m2018-06-04 04:56:03,508 INFO - root - Epoch[15] Time cost=9.152\u001b[0m\n",
      "\u001b[31m2018-06-04 04:56:05,797 INFO - root - Epoch[15] Validation-avg_dice_coef_metric=0.323371\u001b[0m\n",
      "\u001b[31m2018-06-04 04:56:14,802 INFO - root - Epoch[16] Train-avg_dice_coef_metric=0.319142\u001b[0m\n",
      "\u001b[31m2018-06-04 04:56:14,802 INFO - root - Epoch[16] Time cost=9.005\u001b[0m\n",
      "\u001b[31m2018-06-04 04:56:17,106 INFO - root - Epoch[16] Validation-avg_dice_coef_metric=0.320842\u001b[0m\n",
      "\u001b[31m2018-06-04 04:56:25,992 INFO - root - Epoch[17] Train-avg_dice_coef_metric=0.317015\u001b[0m\n",
      "\u001b[31m2018-06-04 04:56:25,992 INFO - root - Epoch[17] Time cost=8.886\u001b[0m\n",
      "\u001b[31m2018-06-04 04:56:28,292 INFO - root - Epoch[17] Validation-avg_dice_coef_metric=0.317882\u001b[0m\n",
      "\u001b[31m2018-06-04 04:56:37,307 INFO - root - Epoch[18] Train-avg_dice_coef_metric=0.311506\u001b[0m\n",
      "\u001b[31m2018-06-04 04:56:37,307 INFO - root - Epoch[18] Time cost=9.015\u001b[0m\n",
      "\u001b[31m2018-06-04 04:56:39,604 INFO - root - Epoch[18] Validation-avg_dice_coef_metric=0.316070\u001b[0m\n",
      "\u001b[31m2018-06-04 04:56:48,649 INFO - root - Epoch[19] Train-avg_dice_coef_metric=0.310521\u001b[0m\n",
      "\u001b[31m2018-06-04 04:56:48,649 INFO - root - Epoch[19] Time cost=9.045\u001b[0m\n",
      "\u001b[31m2018-06-04 04:56:50,953 INFO - root - Epoch[19] Validation-avg_dice_coef_metric=0.310650\u001b[0m\n",
      "\u001b[31m2018-06-04 04:56:59,823 INFO - root - Epoch[20] Train-avg_dice_coef_metric=0.307046\u001b[0m\n",
      "\u001b[31m2018-06-04 04:56:59,823 INFO - root - Epoch[20] Time cost=8.869\u001b[0m\n",
      "\u001b[31m2018-06-04 04:57:02,125 INFO - root - Epoch[20] Validation-avg_dice_coef_metric=0.308826\u001b[0m\n"
     ]
    },
    {
     "name": "stdout",
     "output_type": "stream",
     "text": [
      "\u001b[31m2018-06-04 04:57:10,913 INFO - root - Epoch[21] Train-avg_dice_coef_metric=0.304270\u001b[0m\n",
      "\u001b[31m2018-06-04 04:57:10,913 INFO - root - Epoch[21] Time cost=8.789\u001b[0m\n",
      "\u001b[31m2018-06-04 04:57:13,229 INFO - root - Epoch[21] Validation-avg_dice_coef_metric=0.310643\u001b[0m\n",
      "\u001b[31m2018-06-04 04:57:22,073 INFO - root - Epoch[22] Train-avg_dice_coef_metric=0.299768\u001b[0m\n",
      "\u001b[31m2018-06-04 04:57:22,073 INFO - root - Epoch[22] Time cost=8.844\u001b[0m\n",
      "\u001b[31m2018-06-04 04:57:24,374 INFO - root - Epoch[22] Validation-avg_dice_coef_metric=0.305673\u001b[0m\n",
      "\u001b[31m2018-06-04 04:57:33,400 INFO - root - Epoch[23] Train-avg_dice_coef_metric=0.298148\u001b[0m\n",
      "\u001b[31m2018-06-04 04:57:33,401 INFO - root - Epoch[23] Time cost=9.027\u001b[0m\n",
      "\u001b[31m2018-06-04 04:57:35,684 INFO - root - Epoch[23] Validation-avg_dice_coef_metric=0.298992\u001b[0m\n",
      "\u001b[31m2018-06-04 04:57:44,567 INFO - root - Epoch[24] Train-avg_dice_coef_metric=0.295296\u001b[0m\n",
      "\u001b[31m2018-06-04 04:57:44,567 INFO - root - Epoch[24] Time cost=8.883\u001b[0m\n",
      "\u001b[31m2018-06-04 04:57:46,862 INFO - root - Epoch[24] Validation-avg_dice_coef_metric=0.312386\u001b[0m\n",
      "\u001b[31m2018-06-04 04:57:55,638 INFO - root - Epoch[25] Train-avg_dice_coef_metric=0.291346\u001b[0m\n",
      "\u001b[31m2018-06-04 04:57:55,638 INFO - root - Epoch[25] Time cost=8.776\u001b[0m\n",
      "\u001b[31m2018-06-04 04:57:57,932 INFO - root - Epoch[25] Validation-avg_dice_coef_metric=0.297321\u001b[0m\n",
      "\u001b[31m2018-06-04 04:58:07,089 INFO - root - Epoch[26] Train-avg_dice_coef_metric=0.290598\u001b[0m\n",
      "\u001b[31m2018-06-04 04:58:07,089 INFO - root - Epoch[26] Time cost=9.156\u001b[0m\n",
      "\u001b[31m2018-06-04 04:58:09,396 INFO - root - Epoch[26] Validation-avg_dice_coef_metric=0.290901\u001b[0m\n",
      "\u001b[31m2018-06-04 04:58:18,492 INFO - root - Epoch[27] Train-avg_dice_coef_metric=0.289683\u001b[0m\n",
      "\u001b[31m2018-06-04 04:58:18,492 INFO - root - Epoch[27] Time cost=9.096\u001b[0m\n",
      "\u001b[31m2018-06-04 04:58:20,838 INFO - root - Epoch[27] Validation-avg_dice_coef_metric=0.304472\u001b[0m\n",
      "\u001b[31m2018-06-04 04:58:29,660 INFO - root - Epoch[28] Train-avg_dice_coef_metric=0.287599\u001b[0m\n",
      "\u001b[31m2018-06-04 04:58:29,660 INFO - root - Epoch[28] Time cost=8.822\u001b[0m\n",
      "\u001b[31m2018-06-04 04:58:31,949 INFO - root - Epoch[28] Validation-avg_dice_coef_metric=0.300212\u001b[0m\n",
      "\u001b[31m2018-06-04 04:58:40,939 INFO - root - Epoch[29] Train-avg_dice_coef_metric=0.284609\u001b[0m\n",
      "\u001b[31m2018-06-04 04:58:40,939 INFO - root - Epoch[29] Time cost=8.990\u001b[0m\n",
      "\u001b[31m2018-06-04 04:58:43,228 INFO - root - Epoch[29] Validation-avg_dice_coef_metric=0.289754\u001b[0m\n",
      "\u001b[31m2018-06-04 04:58:52,202 INFO - root - Epoch[30] Train-avg_dice_coef_metric=0.278916\u001b[0m\n",
      "\u001b[31m2018-06-04 04:58:52,202 INFO - root - Epoch[30] Time cost=8.974\u001b[0m\n",
      "\u001b[31m2018-06-04 04:58:54,513 INFO - root - Epoch[30] Validation-avg_dice_coef_metric=0.292016\u001b[0m\n",
      "\u001b[31m2018-06-04 04:59:03,553 INFO - root - Epoch[31] Train-avg_dice_coef_metric=0.278822\u001b[0m\n",
      "\u001b[31m2018-06-04 04:59:03,553 INFO - root - Epoch[31] Time cost=9.040\u001b[0m\n",
      "\u001b[31m2018-06-04 04:59:05,856 INFO - root - Epoch[31] Validation-avg_dice_coef_metric=0.275347\u001b[0m\n",
      "\u001b[31m2018-06-04 04:59:14,947 INFO - root - Epoch[32] Train-avg_dice_coef_metric=0.280980\u001b[0m\n",
      "\u001b[31m2018-06-04 04:59:14,947 INFO - root - Epoch[32] Time cost=9.091\u001b[0m\n",
      "\u001b[31m2018-06-04 04:59:17,244 INFO - root - Epoch[32] Validation-avg_dice_coef_metric=0.298646\u001b[0m\n",
      "\u001b[31m2018-06-04 04:59:26,164 INFO - root - Epoch[33] Train-avg_dice_coef_metric=0.277404\u001b[0m\n",
      "\u001b[31m2018-06-04 04:59:26,164 INFO - root - Epoch[33] Time cost=8.919\u001b[0m\n",
      "\u001b[31m2018-06-04 04:59:28,461 INFO - root - Epoch[33] Validation-avg_dice_coef_metric=0.267843\u001b[0m\n",
      "\u001b[31m2018-06-04 04:59:37,250 INFO - root - Epoch[34] Train-avg_dice_coef_metric=0.271822\u001b[0m\n",
      "\u001b[31m2018-06-04 04:59:37,251 INFO - root - Epoch[34] Time cost=8.790\u001b[0m\n",
      "\u001b[31m2018-06-04 04:59:39,527 INFO - root - Epoch[34] Validation-avg_dice_coef_metric=0.308886\u001b[0m\n",
      "\u001b[31m2018-06-04 04:59:48,592 INFO - root - Epoch[35] Train-avg_dice_coef_metric=0.269424\u001b[0m\n",
      "\u001b[31m2018-06-04 04:59:48,592 INFO - root - Epoch[35] Time cost=9.065\u001b[0m\n",
      "\u001b[31m2018-06-04 04:59:50,889 INFO - root - Epoch[35] Validation-avg_dice_coef_metric=0.281909\u001b[0m\n",
      "\u001b[31m2018-06-04 04:59:59,894 INFO - root - Epoch[36] Train-avg_dice_coef_metric=0.272058\u001b[0m\n",
      "\u001b[31m2018-06-04 04:59:59,894 INFO - root - Epoch[36] Time cost=9.005\u001b[0m\n",
      "\u001b[31m2018-06-04 05:00:02,245 INFO - root - Epoch[36] Validation-avg_dice_coef_metric=0.272329\u001b[0m\n",
      "\u001b[31m2018-06-04 05:00:11,487 INFO - root - Epoch[37] Train-avg_dice_coef_metric=0.269747\u001b[0m\n",
      "\u001b[31m2018-06-04 05:00:11,487 INFO - root - Epoch[37] Time cost=9.242\u001b[0m\n",
      "\u001b[31m2018-06-04 05:00:13,836 INFO - root - Epoch[37] Validation-avg_dice_coef_metric=0.268587\u001b[0m\n",
      "\u001b[31m2018-06-04 05:00:22,626 INFO - root - Epoch[38] Train-avg_dice_coef_metric=0.269388\u001b[0m\n",
      "\u001b[31m2018-06-04 05:00:22,626 INFO - root - Epoch[38] Time cost=8.790\u001b[0m\n",
      "\u001b[31m2018-06-04 05:00:24,930 INFO - root - Epoch[38] Validation-avg_dice_coef_metric=0.264302\u001b[0m\n",
      "\u001b[31m2018-06-04 05:00:34,035 INFO - root - Epoch[39] Train-avg_dice_coef_metric=0.264606\u001b[0m\n",
      "\u001b[31m2018-06-04 05:00:34,035 INFO - root - Epoch[39] Time cost=9.105\u001b[0m\n",
      "\u001b[31m2018-06-04 05:00:36,334 INFO - root - Epoch[39] Validation-avg_dice_coef_metric=0.279519\u001b[0m\n",
      "\u001b[31m2018-06-04 05:00:45,299 INFO - root - Epoch[40] Train-avg_dice_coef_metric=0.262166\u001b[0m\n",
      "\u001b[31m2018-06-04 05:00:45,299 INFO - root - Epoch[40] Time cost=8.965\u001b[0m\n",
      "\u001b[31m2018-06-04 05:00:47,602 INFO - root - Epoch[40] Validation-avg_dice_coef_metric=0.282709\u001b[0m\n",
      "\u001b[31m2018-06-04 05:00:56,620 INFO - root - Epoch[41] Train-avg_dice_coef_metric=0.262200\u001b[0m\n",
      "\u001b[31m2018-06-04 05:00:56,621 INFO - root - Epoch[41] Time cost=9.018\u001b[0m\n",
      "\u001b[31m2018-06-04 05:00:58,918 INFO - root - Epoch[41] Validation-avg_dice_coef_metric=0.278476\u001b[0m\n",
      "\u001b[31m2018-06-04 05:01:07,891 INFO - root - Epoch[42] Train-avg_dice_coef_metric=0.258888\u001b[0m\n",
      "\u001b[31m2018-06-04 05:01:07,891 INFO - root - Epoch[42] Time cost=8.972\u001b[0m\n",
      "\u001b[31m2018-06-04 05:01:10,181 INFO - root - Epoch[42] Validation-avg_dice_coef_metric=0.249551\u001b[0m\n",
      "\u001b[31m2018-06-04 05:01:19,212 INFO - root - Epoch[43] Train-avg_dice_coef_metric=0.259158\u001b[0m\n",
      "\u001b[31m2018-06-04 05:01:19,212 INFO - root - Epoch[43] Time cost=9.031\u001b[0m\n",
      "\u001b[31m2018-06-04 05:01:21,544 INFO - root - Epoch[43] Validation-avg_dice_coef_metric=0.276207\u001b[0m\n",
      "\u001b[31m2018-06-04 05:01:30,512 INFO - root - Epoch[44] Train-avg_dice_coef_metric=0.258722\u001b[0m\n",
      "\u001b[31m2018-06-04 05:01:30,512 INFO - root - Epoch[44] Time cost=8.968\u001b[0m\n",
      "\u001b[31m2018-06-04 05:01:32,803 INFO - root - Epoch[44] Validation-avg_dice_coef_metric=0.254622\u001b[0m\n",
      "\u001b[31m2018-06-04 05:01:41,691 INFO - root - Epoch[45] Train-avg_dice_coef_metric=0.256373\u001b[0m\n",
      "\u001b[31m2018-06-04 05:01:41,691 INFO - root - Epoch[45] Time cost=8.888\u001b[0m\n",
      "\u001b[31m2018-06-04 05:01:44,011 INFO - root - Epoch[45] Validation-avg_dice_coef_metric=0.245689\u001b[0m\n",
      "\u001b[31m2018-06-04 05:01:52,960 INFO - root - Epoch[46] Train-avg_dice_coef_metric=0.256190\u001b[0m\n",
      "\u001b[31m2018-06-04 05:01:52,961 INFO - root - Epoch[46] Time cost=8.949\u001b[0m\n",
      "\u001b[31m2018-06-04 05:01:55,267 INFO - root - Epoch[46] Validation-avg_dice_coef_metric=0.270149\u001b[0m\n",
      "\u001b[31m2018-06-04 05:02:04,338 INFO - root - Epoch[47] Train-avg_dice_coef_metric=0.253660\u001b[0m\n",
      "\u001b[31m2018-06-04 05:02:04,338 INFO - root - Epoch[47] Time cost=9.071\u001b[0m\n",
      "\u001b[31m2018-06-04 05:02:06,610 INFO - root - Epoch[47] Validation-avg_dice_coef_metric=0.297686\u001b[0m\n",
      "\u001b[31m2018-06-04 05:02:15,530 INFO - root - Epoch[48] Train-avg_dice_coef_metric=0.254824\u001b[0m\n",
      "\u001b[31m2018-06-04 05:02:15,530 INFO - root - Epoch[48] Time cost=8.920\u001b[0m\n",
      "\u001b[31m2018-06-04 05:02:17,805 INFO - root - Epoch[48] Validation-avg_dice_coef_metric=0.280021\u001b[0m\n",
      "\u001b[31m2018-06-04 05:02:26,721 INFO - root - Epoch[49] Train-avg_dice_coef_metric=0.250423\u001b[0m\n",
      "\u001b[31m2018-06-04 05:02:26,721 INFO - root - Epoch[49] Time cost=8.916\u001b[0m\n",
      "\u001b[31m2018-06-04 05:02:29,025 INFO - root - Epoch[49] Validation-avg_dice_coef_metric=0.247433\u001b[0m\n",
      "\u001b[31m2018-06-04 05:02:37,908 INFO - root - Epoch[50] Train-avg_dice_coef_metric=0.249622\u001b[0m\n",
      "\u001b[31m2018-06-04 05:02:37,908 INFO - root - Epoch[50] Time cost=8.883\u001b[0m\n",
      "\u001b[31m2018-06-04 05:02:40,225 INFO - root - Epoch[50] Validation-avg_dice_coef_metric=0.240476\u001b[0m\n",
      "\u001b[31m2018-06-04 05:02:49,251 INFO - root - Epoch[51] Train-avg_dice_coef_metric=0.247761\u001b[0m\n",
      "\u001b[31m2018-06-04 05:02:49,251 INFO - root - Epoch[51] Time cost=9.026\u001b[0m\n",
      "\u001b[31m2018-06-04 05:02:51,538 INFO - root - Epoch[51] Validation-avg_dice_coef_metric=0.277532\u001b[0m\n",
      "\u001b[31m2018-06-04 05:03:00,730 INFO - root - Epoch[52] Train-avg_dice_coef_metric=0.244659\u001b[0m\n",
      "\u001b[31m2018-06-04 05:03:00,731 INFO - root - Epoch[52] Time cost=9.193\u001b[0m\n",
      "\u001b[31m2018-06-04 05:03:03,058 INFO - root - Epoch[52] Validation-avg_dice_coef_metric=0.249239\u001b[0m\n"
     ]
    },
    {
     "name": "stdout",
     "output_type": "stream",
     "text": [
      "\u001b[31m2018-06-04 05:03:12,053 INFO - root - Epoch[53] Train-avg_dice_coef_metric=0.244655\u001b[0m\n",
      "\u001b[31m2018-06-04 05:03:12,053 INFO - root - Epoch[53] Time cost=8.995\u001b[0m\n",
      "\u001b[31m2018-06-04 05:03:14,326 INFO - root - Epoch[53] Validation-avg_dice_coef_metric=0.290085\u001b[0m\n",
      "\u001b[31m2018-06-04 05:03:23,379 INFO - root - Epoch[54] Train-avg_dice_coef_metric=0.244724\u001b[0m\n",
      "\u001b[31m2018-06-04 05:03:23,380 INFO - root - Epoch[54] Time cost=9.053\u001b[0m\n",
      "\u001b[31m2018-06-04 05:03:25,666 INFO - root - Epoch[54] Validation-avg_dice_coef_metric=0.249492\u001b[0m\n",
      "\u001b[31m2018-06-04 05:03:34,700 INFO - root - Epoch[55] Train-avg_dice_coef_metric=0.250986\u001b[0m\n",
      "\u001b[31m2018-06-04 05:03:34,700 INFO - root - Epoch[55] Time cost=9.034\u001b[0m\n",
      "\u001b[31m2018-06-04 05:03:36,989 INFO - root - Epoch[55] Validation-avg_dice_coef_metric=0.266141\u001b[0m\n",
      "\u001b[31m2018-06-04 05:03:45,843 INFO - root - Epoch[56] Train-avg_dice_coef_metric=0.244764\u001b[0m\n",
      "\u001b[31m2018-06-04 05:03:45,843 INFO - root - Epoch[56] Time cost=8.854\u001b[0m\n",
      "\u001b[31m2018-06-04 05:03:48,126 INFO - root - Epoch[56] Validation-avg_dice_coef_metric=0.270541\u001b[0m\n",
      "\u001b[31m2018-06-04 05:03:56,985 INFO - root - Epoch[57] Train-avg_dice_coef_metric=0.241743\u001b[0m\n",
      "\u001b[31m2018-06-04 05:03:56,986 INFO - root - Epoch[57] Time cost=8.859\u001b[0m\n",
      "\u001b[31m2018-06-04 05:03:59,285 INFO - root - Epoch[57] Validation-avg_dice_coef_metric=0.255991\u001b[0m\n",
      "\u001b[31m2018-06-04 05:04:08,092 INFO - root - Epoch[58] Train-avg_dice_coef_metric=0.240767\u001b[0m\n",
      "\u001b[31m2018-06-04 05:04:08,092 INFO - root - Epoch[58] Time cost=8.807\u001b[0m\n",
      "\u001b[31m2018-06-04 05:04:10,392 INFO - root - Epoch[58] Validation-avg_dice_coef_metric=0.245786\u001b[0m\n",
      "\u001b[31m2018-06-04 05:04:19,515 INFO - root - Epoch[59] Train-avg_dice_coef_metric=0.241928\u001b[0m\n",
      "\u001b[31m2018-06-04 05:04:19,515 INFO - root - Epoch[59] Time cost=9.123\u001b[0m\n",
      "\u001b[31m2018-06-04 05:04:21,814 INFO - root - Epoch[59] Validation-avg_dice_coef_metric=0.252943\u001b[0m\n",
      "\u001b[31m2018-06-04 05:04:30,733 INFO - root - Epoch[60] Train-avg_dice_coef_metric=0.238373\u001b[0m\n",
      "\u001b[31m2018-06-04 05:04:30,733 INFO - root - Epoch[60] Time cost=8.919\u001b[0m\n",
      "\u001b[31m2018-06-04 05:04:33,028 INFO - root - Epoch[60] Validation-avg_dice_coef_metric=0.244948\u001b[0m\n",
      "\u001b[31m2018-06-04 05:04:41,889 INFO - root - Epoch[61] Train-avg_dice_coef_metric=0.241556\u001b[0m\n",
      "\u001b[31m2018-06-04 05:04:41,889 INFO - root - Epoch[61] Time cost=8.861\u001b[0m\n",
      "\u001b[31m2018-06-04 05:04:44,195 INFO - root - Epoch[61] Validation-avg_dice_coef_metric=0.262661\u001b[0m\n",
      "\u001b[31m2018-06-04 05:04:53,193 INFO - root - Epoch[62] Train-avg_dice_coef_metric=0.233793\u001b[0m\n",
      "\u001b[31m2018-06-04 05:04:53,193 INFO - root - Epoch[62] Time cost=8.998\u001b[0m\n",
      "\u001b[31m2018-06-04 05:04:55,500 INFO - root - Epoch[62] Validation-avg_dice_coef_metric=0.254546\u001b[0m\n",
      "\u001b[31m2018-06-04 05:05:04,548 INFO - root - Epoch[63] Train-avg_dice_coef_metric=0.236263\u001b[0m\n",
      "\u001b[31m2018-06-04 05:05:04,548 INFO - root - Epoch[63] Time cost=9.048\u001b[0m\n",
      "\u001b[31m2018-06-04 05:05:06,858 INFO - root - Epoch[63] Validation-avg_dice_coef_metric=0.238797\u001b[0m\n",
      "\u001b[31m2018-06-04 05:05:15,793 INFO - root - Epoch[64] Train-avg_dice_coef_metric=0.237935\u001b[0m\n",
      "\u001b[31m2018-06-04 05:05:15,793 INFO - root - Epoch[64] Time cost=8.935\u001b[0m\n",
      "\u001b[31m2018-06-04 05:05:18,086 INFO - root - Epoch[64] Validation-avg_dice_coef_metric=0.247905\u001b[0m\n",
      "\u001b[31m2018-06-04 05:05:27,058 INFO - root - Epoch[65] Train-avg_dice_coef_metric=0.233534\u001b[0m\n",
      "\u001b[31m2018-06-04 05:05:27,058 INFO - root - Epoch[65] Time cost=8.971\u001b[0m\n",
      "\u001b[31m2018-06-04 05:05:29,360 INFO - root - Epoch[65] Validation-avg_dice_coef_metric=0.220278\u001b[0m\n",
      "\u001b[31m2018-06-04 05:05:38,425 INFO - root - Epoch[66] Train-avg_dice_coef_metric=0.235706\u001b[0m\n",
      "\u001b[31m2018-06-04 05:05:38,425 INFO - root - Epoch[66] Time cost=9.065\u001b[0m\n",
      "\u001b[31m2018-06-04 05:05:40,721 INFO - root - Epoch[66] Validation-avg_dice_coef_metric=0.239186\u001b[0m\n",
      "\u001b[31m2018-06-04 05:05:49,738 INFO - root - Epoch[67] Train-avg_dice_coef_metric=0.233022\u001b[0m\n",
      "\u001b[31m2018-06-04 05:05:49,738 INFO - root - Epoch[67] Time cost=9.016\u001b[0m\n",
      "\u001b[31m2018-06-04 05:05:52,029 INFO - root - Epoch[67] Validation-avg_dice_coef_metric=0.243224\u001b[0m\n",
      "\u001b[31m2018-06-04 05:06:00,857 INFO - root - Epoch[68] Train-avg_dice_coef_metric=0.232940\u001b[0m\n",
      "\u001b[31m2018-06-04 05:06:00,857 INFO - root - Epoch[68] Time cost=8.828\u001b[0m\n",
      "\u001b[31m2018-06-04 05:06:03,139 INFO - root - Epoch[68] Validation-avg_dice_coef_metric=0.261009\u001b[0m\n",
      "\u001b[31m2018-06-04 05:06:12,037 INFO - root - Epoch[69] Train-avg_dice_coef_metric=0.234646\u001b[0m\n",
      "\u001b[31m2018-06-04 05:06:12,037 INFO - root - Epoch[69] Time cost=8.899\u001b[0m\n",
      "\u001b[31m2018-06-04 05:06:14,342 INFO - root - Epoch[69] Validation-avg_dice_coef_metric=0.216171\u001b[0m\n",
      "\u001b[31m2018-06-04 05:06:23,282 INFO - root - Epoch[70] Train-avg_dice_coef_metric=0.232483\u001b[0m\n",
      "\u001b[31m2018-06-04 05:06:23,282 INFO - root - Epoch[70] Time cost=8.940\u001b[0m\n",
      "\u001b[31m2018-06-04 05:06:25,586 INFO - root - Epoch[70] Validation-avg_dice_coef_metric=0.240252\u001b[0m\n",
      "\u001b[31m2018-06-04 05:06:34,751 INFO - root - Epoch[71] Train-avg_dice_coef_metric=0.228964\u001b[0m\n",
      "\u001b[31m2018-06-04 05:06:34,751 INFO - root - Epoch[71] Time cost=9.165\u001b[0m\n",
      "\u001b[31m2018-06-04 05:06:37,071 INFO - root - Epoch[71] Validation-avg_dice_coef_metric=0.249832\u001b[0m\n",
      "\u001b[31m2018-06-04 05:06:46,257 INFO - root - Epoch[72] Train-avg_dice_coef_metric=0.225039\u001b[0m\n",
      "\u001b[31m2018-06-04 05:06:46,257 INFO - root - Epoch[72] Time cost=9.185\u001b[0m\n",
      "\u001b[31m2018-06-04 05:06:48,558 INFO - root - Epoch[72] Validation-avg_dice_coef_metric=0.228981\u001b[0m\n",
      "\u001b[31m2018-06-04 05:06:57,332 INFO - root - Epoch[73] Train-avg_dice_coef_metric=0.229377\u001b[0m\n",
      "\u001b[31m2018-06-04 05:06:57,332 INFO - root - Epoch[73] Time cost=8.774\u001b[0m\n",
      "\u001b[31m2018-06-04 05:06:59,602 INFO - root - Epoch[73] Validation-avg_dice_coef_metric=0.229588\u001b[0m\n",
      "\u001b[31m2018-06-04 05:07:08,531 INFO - root - Epoch[74] Train-avg_dice_coef_metric=0.228518\u001b[0m\n",
      "\u001b[31m2018-06-04 05:07:08,531 INFO - root - Epoch[74] Time cost=8.929\u001b[0m\n",
      "\u001b[31m2018-06-04 05:07:10,841 INFO - root - Epoch[74] Validation-avg_dice_coef_metric=0.254650\u001b[0m\n",
      "\u001b[31m2018-06-04 05:07:19,842 INFO - root - Epoch[75] Train-avg_dice_coef_metric=0.228797\u001b[0m\n",
      "\u001b[31m2018-06-04 05:07:19,842 INFO - root - Epoch[75] Time cost=9.001\u001b[0m\n",
      "\u001b[31m2018-06-04 05:07:22,118 INFO - root - Epoch[75] Validation-avg_dice_coef_metric=0.245338\u001b[0m\n",
      "\u001b[31m2018-06-04 05:07:31,019 INFO - root - Epoch[76] Train-avg_dice_coef_metric=0.228835\u001b[0m\n",
      "\u001b[31m2018-06-04 05:07:31,019 INFO - root - Epoch[76] Time cost=8.901\u001b[0m\n",
      "\u001b[31m2018-06-04 05:07:33,347 INFO - root - Epoch[76] Validation-avg_dice_coef_metric=0.245320\u001b[0m\n",
      "\u001b[31m2018-06-04 05:07:42,300 INFO - root - Epoch[77] Train-avg_dice_coef_metric=0.226440\u001b[0m\n",
      "\u001b[31m2018-06-04 05:07:42,300 INFO - root - Epoch[77] Time cost=8.953\u001b[0m\n",
      "\u001b[31m2018-06-04 05:07:44,587 INFO - root - Epoch[77] Validation-avg_dice_coef_metric=0.232905\u001b[0m\n",
      "\u001b[31m2018-06-04 05:07:53,614 INFO - root - Epoch[78] Train-avg_dice_coef_metric=0.225017\u001b[0m\n",
      "\u001b[31m2018-06-04 05:07:53,615 INFO - root - Epoch[78] Time cost=9.027\u001b[0m\n",
      "\u001b[31m2018-06-04 05:07:55,931 INFO - root - Epoch[78] Validation-avg_dice_coef_metric=0.256074\u001b[0m\n",
      "\u001b[31m2018-06-04 05:08:04,852 INFO - root - Epoch[79] Train-avg_dice_coef_metric=0.225880\u001b[0m\n",
      "\u001b[31m2018-06-04 05:08:04,852 INFO - root - Epoch[79] Time cost=8.921\u001b[0m\n",
      "\u001b[31m2018-06-04 05:08:07,120 INFO - root - Epoch[79] Validation-avg_dice_coef_metric=0.250998\u001b[0m\n",
      "\u001b[31m2018-06-04 05:08:16,146 INFO - root - Epoch[80] Train-avg_dice_coef_metric=0.220768\u001b[0m\n",
      "\u001b[31m2018-06-04 05:08:16,146 INFO - root - Epoch[80] Time cost=9.026\u001b[0m\n",
      "\u001b[31m2018-06-04 05:08:18,436 INFO - root - Epoch[80] Validation-avg_dice_coef_metric=0.267578\u001b[0m\n",
      "\u001b[31m2018-06-04 05:08:27,290 INFO - root - Epoch[81] Train-avg_dice_coef_metric=0.218870\u001b[0m\n",
      "\u001b[31m2018-06-04 05:08:27,291 INFO - root - Epoch[81] Time cost=8.855\u001b[0m\n",
      "\u001b[31m2018-06-04 05:08:29,583 INFO - root - Epoch[81] Validation-avg_dice_coef_metric=0.202152\u001b[0m\n",
      "\u001b[31m2018-06-04 05:08:38,468 INFO - root - Epoch[82] Train-avg_dice_coef_metric=0.220616\u001b[0m\n",
      "\u001b[31m2018-06-04 05:08:38,468 INFO - root - Epoch[82] Time cost=8.886\u001b[0m\n",
      "\u001b[31m2018-06-04 05:08:40,777 INFO - root - Epoch[82] Validation-avg_dice_coef_metric=0.218715\u001b[0m\n",
      "\u001b[31m2018-06-04 05:08:49,866 INFO - root - Epoch[83] Train-avg_dice_coef_metric=0.217550\u001b[0m\n",
      "\u001b[31m2018-06-04 05:08:49,866 INFO - root - Epoch[83] Time cost=9.089\u001b[0m\n",
      "\u001b[31m2018-06-04 05:08:52,140 INFO - root - Epoch[83] Validation-avg_dice_coef_metric=0.228513\u001b[0m\n",
      "\u001b[31m2018-06-04 05:09:01,184 INFO - root - Epoch[84] Train-avg_dice_coef_metric=0.219357\u001b[0m\n",
      "\u001b[31m2018-06-04 05:09:01,184 INFO - root - Epoch[84] Time cost=9.043\u001b[0m\n",
      "\u001b[31m2018-06-04 05:09:03,502 INFO - root - Epoch[84] Validation-avg_dice_coef_metric=0.239482\u001b[0m\n"
     ]
    },
    {
     "name": "stdout",
     "output_type": "stream",
     "text": [
      "\u001b[31m2018-06-04 05:09:12,550 INFO - root - Epoch[85] Train-avg_dice_coef_metric=0.218253\u001b[0m\n",
      "\u001b[31m2018-06-04 05:09:12,550 INFO - root - Epoch[85] Time cost=9.048\u001b[0m\n",
      "\u001b[31m2018-06-04 05:09:14,865 INFO - root - Epoch[85] Validation-avg_dice_coef_metric=0.233243\u001b[0m\n",
      "\u001b[31m2018-06-04 05:09:23,809 INFO - root - Epoch[86] Train-avg_dice_coef_metric=0.216462\u001b[0m\n",
      "\u001b[31m2018-06-04 05:09:23,810 INFO - root - Epoch[86] Time cost=8.945\u001b[0m\n",
      "\u001b[31m2018-06-04 05:09:26,107 INFO - root - Epoch[86] Validation-avg_dice_coef_metric=0.227813\u001b[0m\n",
      "\u001b[31m2018-06-04 05:09:35,035 INFO - root - Epoch[87] Train-avg_dice_coef_metric=0.211800\u001b[0m\n",
      "\u001b[31m2018-06-04 05:09:35,035 INFO - root - Epoch[87] Time cost=8.928\u001b[0m\n",
      "\u001b[31m2018-06-04 05:09:37,323 INFO - root - Epoch[87] Validation-avg_dice_coef_metric=0.223888\u001b[0m\n",
      "\u001b[31m2018-06-04 05:09:46,275 INFO - root - Epoch[88] Train-avg_dice_coef_metric=0.214226\u001b[0m\n",
      "\u001b[31m2018-06-04 05:09:46,275 INFO - root - Epoch[88] Time cost=8.953\u001b[0m\n",
      "\u001b[31m2018-06-04 05:09:48,610 INFO - root - Epoch[88] Validation-avg_dice_coef_metric=0.244663\u001b[0m\n",
      "\u001b[31m2018-06-04 05:09:57,613 INFO - root - Epoch[89] Train-avg_dice_coef_metric=0.218117\u001b[0m\n",
      "\u001b[31m2018-06-04 05:09:57,613 INFO - root - Epoch[89] Time cost=9.003\u001b[0m\n",
      "\u001b[31m2018-06-04 05:09:59,915 INFO - root - Epoch[89] Validation-avg_dice_coef_metric=0.226074\u001b[0m\n",
      "\u001b[31m2018-06-04 05:10:08,822 INFO - root - Epoch[90] Train-avg_dice_coef_metric=0.218821\u001b[0m\n",
      "\u001b[31m2018-06-04 05:10:08,822 INFO - root - Epoch[90] Time cost=8.907\u001b[0m\n",
      "\u001b[31m2018-06-04 05:10:11,131 INFO - root - Epoch[90] Validation-avg_dice_coef_metric=0.250241\u001b[0m\n",
      "\u001b[31m2018-06-04 05:10:20,241 INFO - root - Epoch[91] Train-avg_dice_coef_metric=0.211320\u001b[0m\n",
      "\u001b[31m2018-06-04 05:10:20,241 INFO - root - Epoch[91] Time cost=9.110\u001b[0m\n",
      "\u001b[31m2018-06-04 05:10:22,533 INFO - root - Epoch[91] Validation-avg_dice_coef_metric=0.234923\u001b[0m\n",
      "\u001b[31m2018-06-04 05:10:31,401 INFO - root - Epoch[92] Train-avg_dice_coef_metric=0.213643\u001b[0m\n",
      "\u001b[31m2018-06-04 05:10:31,401 INFO - root - Epoch[92] Time cost=8.868\u001b[0m\n",
      "\u001b[31m2018-06-04 05:10:33,681 INFO - root - Epoch[92] Validation-avg_dice_coef_metric=0.228120\u001b[0m\n",
      "\u001b[31m2018-06-04 05:10:42,492 INFO - root - Epoch[93] Train-avg_dice_coef_metric=0.212059\u001b[0m\n",
      "\u001b[31m2018-06-04 05:10:42,492 INFO - root - Epoch[93] Time cost=8.810\u001b[0m\n",
      "\u001b[31m2018-06-04 05:10:44,782 INFO - root - Epoch[93] Validation-avg_dice_coef_metric=0.240508\u001b[0m\n",
      "\u001b[31m2018-06-04 05:10:53,676 INFO - root - Epoch[94] Train-avg_dice_coef_metric=0.213226\u001b[0m\n",
      "\u001b[31m2018-06-04 05:10:53,676 INFO - root - Epoch[94] Time cost=8.894\u001b[0m\n",
      "\u001b[31m2018-06-04 05:10:55,982 INFO - root - Epoch[94] Validation-avg_dice_coef_metric=0.240977\u001b[0m\n",
      "\u001b[31m2018-06-04 05:11:04,988 INFO - root - Epoch[95] Train-avg_dice_coef_metric=0.211157\u001b[0m\n",
      "\u001b[31m2018-06-04 05:11:04,988 INFO - root - Epoch[95] Time cost=9.006\u001b[0m\n",
      "\u001b[31m2018-06-04 05:11:07,287 INFO - root - Epoch[95] Validation-avg_dice_coef_metric=0.212363\u001b[0m\n",
      "\u001b[31m2018-06-04 05:11:16,296 INFO - root - Epoch[96] Train-avg_dice_coef_metric=0.210508\u001b[0m\n",
      "\u001b[31m2018-06-04 05:11:16,296 INFO - root - Epoch[96] Time cost=9.009\u001b[0m\n",
      "\u001b[31m2018-06-04 05:11:18,591 INFO - root - Epoch[96] Validation-avg_dice_coef_metric=0.208364\u001b[0m\n",
      "\u001b[31m2018-06-04 05:11:27,579 INFO - root - Epoch[97] Train-avg_dice_coef_metric=0.209684\u001b[0m\n",
      "\u001b[31m2018-06-04 05:11:27,579 INFO - root - Epoch[97] Time cost=8.988\u001b[0m\n",
      "\u001b[31m2018-06-04 05:11:29,899 INFO - root - Epoch[97] Validation-avg_dice_coef_metric=0.224234\u001b[0m\n",
      "\u001b[31m2018-06-04 05:11:38,825 INFO - root - Epoch[98] Train-avg_dice_coef_metric=0.208653\u001b[0m\n",
      "\u001b[31m2018-06-04 05:11:38,825 INFO - root - Epoch[98] Time cost=8.926\u001b[0m\n",
      "\u001b[31m2018-06-04 05:11:41,139 INFO - root - Epoch[98] Validation-avg_dice_coef_metric=0.226522\u001b[0m\n",
      "\u001b[31m2018-06-04 05:11:50,286 INFO - root - Epoch[99] Train-avg_dice_coef_metric=0.207086\u001b[0m\n",
      "\u001b[31m2018-06-04 05:11:50,286 INFO - root - Epoch[99] Time cost=9.147\u001b[0m\n",
      "\u001b[31m2018-06-04 05:11:52,582 INFO - root - Epoch[99] Validation-avg_dice_coef_metric=0.210384\u001b[0m\n",
      "===== Job Complete =====\n",
      "Billable seconds: 1281\n"
     ]
    }
   ],
   "source": [
    "enet_eleven_estimator.fit({'train':train_s3, 'test':validation_s3})"
   ]
  },
  {
   "cell_type": "code",
   "execution_count": 151,
   "metadata": {},
   "outputs": [
    {
     "data": {
      "text/plain": [
       "u's3://sagemaker-us-east-1-288000045208/DEMO-enet-eleven-job-2018-06-04-04-49-0-2018-06-04-04-49-07-097/output/model.tar.gz'"
      ]
     },
     "execution_count": 151,
     "metadata": {},
     "output_type": "execute_result"
    }
   ],
   "source": [
    "enet_eleven_estimator.model_data"
   ]
  },
  {
   "cell_type": "markdown",
   "metadata": {},
   "source": [
    "## Greengrass"
   ]
  },
  {
   "cell_type": "markdown",
   "metadata": {},
   "source": [
    "* Follow instructions to set up ggc on rpi. \n",
    "* Then follow ML instructions, put MXNet in device.\n",
    "* Replace with your own model path from above\n",
    "* Replace zip package with one I will provide HERE\n",
    "* Continue instructions\n",
    "* Choose \"Sagemaker model\" instead doing ML resource selection\n",
    "* Continue steps to Deploy\n",
    "* add boot commands"
   ]
  }
 ],
 "metadata": {
  "kernelspec": {
   "display_name": "conda_mxnet_p27",
   "language": "python",
   "name": "conda_mxnet_p27"
  },
  "language_info": {
   "codemirror_mode": {
    "name": "ipython",
    "version": 2
   },
   "file_extension": ".py",
   "mimetype": "text/x-python",
   "name": "python",
   "nbconvert_exporter": "python",
   "pygments_lexer": "ipython2",
   "version": "2.7.14"
  }
 },
 "nbformat": 4,
 "nbformat_minor": 2
}
